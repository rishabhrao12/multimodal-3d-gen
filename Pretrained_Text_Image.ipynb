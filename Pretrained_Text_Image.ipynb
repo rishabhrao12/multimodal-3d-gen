{
 "cells": [
  {
   "cell_type": "markdown",
   "metadata": {},
   "source": [
    "# Pretrained Encoders\n",
    "\n",
    "This is a notebook to test the pretrained encoders and see how they perform out of the box, we need to check the quality of their outputs and use technicques like t-SNE and UMAP to check if the embeddings are clustering as expected. If so we can use them directly out of the box."
   ]
  },
  {
   "cell_type": "markdown",
   "metadata": {},
   "source": [
    "## 1. DINO"
   ]
  },
  {
   "cell_type": "code",
   "execution_count": 86,
   "metadata": {},
   "outputs": [],
   "source": [
    "from dataset import Dinov2ImageModalityDataset\n",
    "from torch.utils.data import DataLoader\n",
    "import matplotlib.pyplot as plt\n",
    "import numpy as np"
   ]
  },
  {
   "cell_type": "code",
   "execution_count": 87,
   "metadata": {},
   "outputs": [],
   "source": [
    "dataset_path = \"Data/ShapeNetSem/Datasets/subset_template_200.csv\"\n",
    "image_dir = \"Data/ShapeNetSem/Images/subset_200\"\n",
    "dino_dataset = Dinov2ImageModalityDataset(dataset_path, image_dir)\n",
    "dataloader = DataLoader(dino_dataset, batch_size=8, shuffle=True, num_workers=0)"
   ]
  },
  {
   "cell_type": "code",
   "execution_count": 88,
   "metadata": {},
   "outputs": [
    {
     "name": "stdout",
     "output_type": "stream",
     "text": [
      "Batch size: torch.Size([8, 3, 518, 518])\n",
      "Sample image paths: ('ffcf092f4675bd818e257e5bcc125963', '31fcf965836ab3484212ff51b27f0221', '61fe7cce3cc4b7f2f1783a44a88d6274', 'fc821511ed3090ac2846fa729d90e125', '4afb6dd55a1c4bb659ea5f21debb55d9', '48c8f3176fbe7b37384368499a680cf1', '3d15f0b93dc94909ce92f6b720939174', '90ed47303b284a8e8bd3a6724eacfb54')\n",
      "tensor([ 75,  69, 192,   8,  72, 118,   9,  14])\n"
     ]
    }
   ],
   "source": [
    "# Iterate through DataLoader\n",
    "for batch in dataloader:\n",
    "    idx, image_paths, image_tensors = batch  # Extract image tensors and paths\n",
    "    print(f\"Batch size: {image_tensors.shape}\")  # Expected shape: [8, 3, 224, 224]\n",
    "    print(f\"Sample image paths: {image_paths}\")\n",
    "    print(idx)\n",
    "    break  # Just showing one batch"
   ]
  },
  {
   "cell_type": "code",
   "execution_count": 89,
   "metadata": {},
   "outputs": [],
   "source": [
    "import pandas as pd"
   ]
  },
  {
   "cell_type": "code",
   "execution_count": 90,
   "metadata": {},
   "outputs": [],
   "source": [
    "dataset_path = \"Data/ShapeNetSem/Datasets/subset_template_200.csv\"\n",
    "image_dir = \"Data/ShapeNetSem/Images/subset_200\"\n",
    "dino_dataset = Dinov2ImageModalityDataset(dataset_path, image_dir)\n",
    "dataloader = DataLoader(dino_dataset, batch_size=8, shuffle=True, num_workers=0)"
   ]
  },
  {
   "cell_type": "code",
   "execution_count": 91,
   "metadata": {},
   "outputs": [
    {
     "name": "stdout",
     "output_type": "stream",
     "text": [
      "Dinov2 Loaded Successfully\n"
     ]
    }
   ],
   "source": [
    "import torch\n",
    "from PIL import Image\n",
    "import timm\n",
    "\n",
    "# Load Pretrained DINOv2 Model (Use 'vit_small_patch14_dinov2' for smaller models)\n",
    "model_path = \"PretrainedModels/dinov2_vits14_pretrain.pth\"  # Change to your local path\n",
    "model = timm.create_model(\"vit_small_patch14_dinov2\", pretrained=False)\n",
    "\n",
    "# Load the state dictionary and remove \"mask_token\"\n",
    "checkpoint = torch.load(model_path, map_location=\"cpu\")\n",
    "checkpoint = {k: v for k, v in checkpoint.items() if k != \"mask_token\"}  # Remove unexpected key\n",
    "\n",
    "# Load the modified state dict into the model\n",
    "model.load_state_dict(checkpoint, strict=False)  # strict=False allows minor mismatches\n",
    "model.eval()  # Set model to evaluation mode\n",
    "print('Dinov2 Loaded Successfully')"
   ]
  },
  {
   "cell_type": "code",
   "execution_count": 92,
   "metadata": {},
   "outputs": [
    {
     "name": "stdout",
     "output_type": "stream",
     "text": [
      "Image Path: 26b4c8e753b7dd06a6fd617b2ff5d2d\n",
      "Embedding Shape: torch.Size([1, 384])\n",
      "Embedding Vector: [ 3.2771463e+00  7.3204428e-01  3.4540975e-01 -2.6265020e+00\n",
      " -7.6223135e-01  1.4487228e+00 -2.4464202e+00 -7.6935977e-01\n",
      " -2.2339597e+00 -8.0050230e-02 -3.7161463e-01  8.8754535e-01\n",
      "  4.7706842e+00  1.0852878e+00  2.1162837e+00  1.9615690e+00\n",
      " -2.1609964e+00 -1.6863813e+00  1.7126704e+00 -4.6789956e+00\n",
      "  6.2038569e+00 -2.4939299e+00  8.1460875e-01 -2.6219106e+00\n",
      " -2.9815216e+00 -4.1059089e+00  1.7338355e+00  3.5276411e+00\n",
      "  3.7680969e+00 -1.4947901e+00 -2.4651363e+00  1.8144444e+00\n",
      "  3.2125998e-01 -5.0219595e-01 -3.0231531e+00  3.1424706e+00\n",
      " -1.3231571e+00  4.6948275e-01  1.8991089e+00  4.0456362e+00\n",
      " -1.4451011e+00  2.0422914e+00  2.2484410e+00  2.7931983e+00\n",
      "  3.1051904e-02 -3.1917313e-01 -2.1890783e+00 -2.7368019e+00\n",
      "  1.4163955e+00 -1.7167895e+00 -4.1831341e+00  2.4398804e+00\n",
      "  2.6013696e+00  2.9430735e+00 -1.8108184e+00  8.4120731e+00\n",
      "  1.0076212e+00  3.8799400e+00  3.7516108e+00  1.0158156e+00\n",
      "  1.3681479e+00  1.5043974e+00 -7.0081782e-01 -1.0087862e+00\n",
      " -2.7050745e-01  1.4321148e+00  3.1388633e+00  7.0477867e-01\n",
      "  3.1018746e+00 -3.6662595e+00  7.0865393e-02 -4.6134079e-01\n",
      "  8.1004906e-01  6.5134454e-01 -2.2905011e+00 -5.0162023e-01\n",
      " -8.8405943e+00  1.5455768e+00  1.3126650e+00 -2.9064417e-01\n",
      " -1.3121259e+00  2.1299825e+00  9.8747611e-01 -2.8674061e+00\n",
      " -3.3352890e+00  1.3072324e+00  6.0216188e-01 -2.4305558e+00\n",
      " -3.0472836e+00 -3.5088727e+00  2.0862620e+00 -6.7448258e-01\n",
      " -1.5352032e+00  4.5189590e+00  9.1509664e-01  2.0163877e+00\n",
      " -1.1140814e+00  3.6742337e+00 -2.0649137e+00  2.4741027e-01\n",
      " -2.6885607e+00  8.2310039e-01  1.7864187e+00 -1.2851368e+00\n",
      " -2.7949652e-01  3.9513965e+00 -1.0107799e+00 -2.4835167e+00\n",
      " -1.4178094e+00 -1.9933254e+00 -2.6980097e+00 -9.2938259e-02\n",
      " -1.2641392e+00 -4.7961874e+00  2.3678651e+00 -1.8512501e+00\n",
      " -2.1653442e+00  6.2926996e-01  4.3583587e-03 -4.9272461e+00\n",
      " -2.6798530e+00  4.0516586e+00 -4.7480899e-01 -1.6515329e+00\n",
      "  5.2877216e+00 -2.4736307e+00  1.5347669e+00  1.5915691e+00\n",
      " -2.2923453e+00 -3.0848038e+00  1.0171518e+00 -1.8933271e+00\n",
      " -9.5557356e-01 -2.3663335e+00  2.1605322e+00  2.7330234e+00\n",
      " -6.1201924e-01  5.0391263e-01  2.1993361e+00 -2.8036556e+00\n",
      " -3.8964124e+00  1.9358639e+00 -3.5104339e+00  3.8958263e-01\n",
      " -4.1400278e-01  1.7616051e+00 -9.9821091e-03 -6.9371110e-01\n",
      " -2.6617718e-01 -1.7426274e+00 -2.1386046e+00 -7.4343127e-01\n",
      " -4.9222860e+00  4.0593347e-01 -2.2337081e+00  6.5490156e-01\n",
      "  4.8904014e+00  3.2418690e+00  8.5322583e-01  3.7466836e+00\n",
      "  1.3651564e+00 -2.3188069e+00 -5.0988632e-01  1.1092939e+00\n",
      " -2.4734700e+00  2.6984065e+00 -2.8146796e+00 -5.4519405e+00\n",
      "  6.1334672e+00 -1.3303133e+00 -8.4878892e-02  4.2684603e+00\n",
      "  1.1547235e+00  1.7798079e+00  2.0657983e+00 -5.0710565e-01\n",
      "  6.1235243e-01 -3.7451798e-01  2.6612155e+00  6.2772155e-01\n",
      " -8.4376490e-01 -6.5769881e-01 -2.1898174e+00 -2.3271456e+00\n",
      "  1.3337765e+00  2.9891140e+00  1.3403605e+00  2.6284244e+00\n",
      " -5.3436697e-02 -5.3435564e-02 -2.1860249e+00 -3.2936335e+00\n",
      " -4.1682187e-01  5.5192313e+00  2.5031972e-01  1.6658258e+00\n",
      "  8.9889902e-01 -2.3285058e+00  2.1565514e+00 -2.0084445e+00\n",
      "  2.0784798e+00  1.2604420e+00  2.8480771e+00  1.5976336e+00\n",
      " -2.8275232e+00  1.3284047e+00  5.1025701e-01  5.1594996e+00\n",
      "  1.1061913e+00  1.1152179e+00 -8.9905691e-01 -2.3397074e+00\n",
      " -1.3806626e-01 -5.1517959e+00  3.1239972e+00 -1.8233781e-01\n",
      "  3.1791587e+00 -1.8446512e+00  2.9023147e+00  4.9089117e+00\n",
      "  1.8627692e+00  1.3674780e+00 -2.2735486e+00 -8.7698185e-01\n",
      "  3.9990273e+00 -2.1247444e-01 -1.9894593e+00  1.4894971e-01\n",
      " -3.5439699e+00 -4.7753248e+00 -3.3087800e+00  1.2887135e+00\n",
      "  2.9272599e+00 -1.5467587e+00  3.4119642e-01 -1.9162465e+00\n",
      "  1.2329445e+00  1.3302472e+00 -1.9076327e+00  5.4314485e+00\n",
      " -7.8145468e-01  3.0786591e+00 -2.3003488e+00 -6.2221253e-01\n",
      "  2.3481858e+00 -2.3085307e-01  5.6529534e-01  1.3775523e+00\n",
      "  8.5096133e-01  1.7164757e+00 -4.5601904e-01  1.6479465e+00\n",
      "  1.8150954e-01  1.4750044e+00 -1.5111682e+00  5.2774925e+00\n",
      " -6.9542122e-01 -2.4967005e+00 -4.3122950e+00 -8.4350765e-01\n",
      " -2.1945763e+00  3.2337043e-01  1.7738768e+00  1.0210894e+00\n",
      "  3.6970744e+00 -1.2937987e-01 -2.7230370e+00  1.5870247e+00\n",
      "  6.3479252e+00  5.8719790e-01 -2.8808970e+00 -1.5094160e+00\n",
      "  1.3599494e+00  8.3652198e-01 -1.7666034e+00 -2.0815687e+00\n",
      " -2.7994921e+00  9.2695487e-01  4.2219582e-01  2.3881085e+00\n",
      " -2.1752055e+00 -3.2085407e+00 -2.4717331e+00  7.5376731e-01\n",
      " -4.3499249e-01 -4.0382802e-01 -3.0420959e+00 -2.7929811e+00\n",
      "  2.7111077e-01 -5.4030484e-01  2.3337400e+00 -1.5752494e-01\n",
      "  5.9970647e-01 -5.5924783e+00 -8.4725010e-01 -8.5815376e-01\n",
      "  4.3451136e-01  1.0951083e+00  2.9775155e+00  1.5024095e+00\n",
      " -5.4118481e+00 -1.0509455e+00 -8.2167345e-01 -1.7799754e+00\n",
      " -2.6743326e+00  4.5881491e+00 -2.6923656e+00  4.7756090e+00\n",
      "  2.3751051e+00  1.4219673e+00 -2.2262151e+00 -7.0257381e-02\n",
      " -1.9180779e+00  3.5798168e+00 -1.7928755e+00  1.5318288e+00\n",
      "  3.0940154e+00 -3.4551270e+00 -3.6882215e+00  8.6891359e-01\n",
      " -4.0438480e+00  7.3693663e-01  6.8817991e-01  1.6756411e+00\n",
      "  2.1716757e+00 -2.7957478e+00 -1.3685734e+00 -2.4694405e+00\n",
      "  1.4557550e+00 -3.9042521e+00 -3.4433599e+00 -3.9933910e+00\n",
      "  1.6317301e+00 -2.7911816e+00 -2.7943525e+00 -1.0586760e+00\n",
      " -4.1460109e-01  1.6807039e+00  3.3012867e+00 -1.2021531e+00\n",
      " -2.8904848e+00  6.1433548e-01  5.6688279e-01  2.9027598e+00\n",
      "  1.4783415e+00  7.7462274e-01  7.8871173e-01 -1.2488542e+00\n",
      "  1.9671562e-01 -1.3057637e+00  1.3337748e+00  5.5248779e-01\n",
      "  2.5246561e+00 -8.1765711e-01 -7.2894061e-01 -2.6217864e+00\n",
      " -5.6797071e+00  1.2288922e+00  1.6234028e+00 -4.0574684e+00\n",
      "  1.8350217e+00  7.0050633e-01 -9.7500461e-01 -3.9119520e+00\n",
      " -1.0625552e+00  3.1100351e-01 -2.1197643e+00  2.3735673e+00\n",
      "  1.9686221e+00  4.4173169e+00  4.8803420e+00 -4.7440946e-02\n",
      "  2.0087793e+00  4.8940368e+00  3.8736956e+00  3.8105381e-01\n",
      " -2.1222386e+00  1.0398060e+00 -2.1573966e+00 -1.0402009e+00\n",
      "  1.2186260e+00 -3.9071727e+00 -1.4638285e-01 -7.2141886e-01]\n"
     ]
    }
   ],
   "source": [
    "# Load Dataset\n",
    "dataset_path = \"Data/ShapeNetSem/Datasets/subset_template_200.csv\"\n",
    "image_dir = \"Data/ShapeNetSem/Images/subset_200\"\n",
    "dino_dataset = Dinov2ImageModalityDataset(dataset_path, image_dir)\n",
    "dataloader = DataLoader(dino_dataset, batch_size=1, shuffle=True)\n",
    "\n",
    "# Run Inference\n",
    "device = \"cuda\" if torch.cuda.is_available() else \"cpu\"\n",
    "model.to(device)\n",
    "\n",
    "for idx, image_path, image_tensor in dataloader:\n",
    "    image_tensor = image_tensor.to(device)  # Move to GPU if available\n",
    "\n",
    "    with torch.no_grad():  # Inference mode: no need to calculate gradient as no backprop\n",
    "        embedding = model(image_tensor)  # Get feature vector\n",
    "    \n",
    "    print(f\"Image Path: {image_path[0]}\")\n",
    "    print(f\"Embedding Shape: {embedding.shape}\")  # Expected shape: (1, 384) for ViT-Small\n",
    "    print(f\"Embedding Vector: {embedding.squeeze().cpu().numpy()}\")\n",
    "\n",
    "    break  # Only process one image for demonstration"
   ]
  },
  {
   "cell_type": "code",
   "execution_count": 93,
   "metadata": {},
   "outputs": [],
   "source": [
    "from torch import Tensor\n",
    "# Load Dataset\n",
    "dataset_path = \"Data/ShapeNetSem/Datasets/subset_template_200.csv\"\n",
    "image_dir = \"Data/ShapeNetSem/Images/subset_200\"\n",
    "dino_dataset = Dinov2ImageModalityDataset(dataset_path, image_dir)\n",
    "dataloader = DataLoader(dino_dataset, batch_size=1, shuffle=True)\n",
    "\n",
    "all_embeddings = []\n",
    "all_idx = []\n",
    "all_cats = []\n",
    "data = pd.read_csv(dataset_path)\n",
    "\n",
    "# Run Inference\n",
    "device = \"cuda\" if torch.cuda.is_available() else \"cpu\"\n",
    "model.to(device)\n",
    "\n",
    "for idx, image_path, image_tensor in dataloader:\n",
    "    image_tensor = image_tensor.to(device)  # Move to GPU if available\n",
    "\n",
    "    with torch.no_grad():  # Inference mode: no need to calculate gradient as no backprop\n",
    "        embedding = model(image_tensor)  # Get feature vector (1, 384)\n",
    "    \n",
    "    all_embeddings.append(embedding)\n",
    "    all_idx.append(idx)\n",
    "\n",
    "    all_cats.append(data.loc[int(idx.item()), 'category'])\n"
   ]
  },
  {
   "cell_type": "code",
   "execution_count": 94,
   "metadata": {},
   "outputs": [
    {
     "data": {
      "text/plain": [
       "(200, 200, 200)"
      ]
     },
     "execution_count": 94,
     "metadata": {},
     "output_type": "execute_result"
    }
   ],
   "source": [
    "len(all_embeddings), len(all_idx), len(all_cats)"
   ]
  },
  {
   "cell_type": "code",
   "execution_count": 95,
   "metadata": {},
   "outputs": [],
   "source": [
    "embeddings_t = torch.concat(all_embeddings, dim=0)\n",
    "data_dict = {\n",
    "    \"embedding\": embeddings_t,\n",
    "    \"index\": all_idx,\n",
    "    \"category\": all_cats\n",
    "}\n",
    "\n",
    "save_path = \"Embeddings/Dinov2/subset_template_200.pt\"\n",
    "torch.save(data_dict, save_path)"
   ]
  },
  {
   "cell_type": "code",
   "execution_count": 96,
   "metadata": {},
   "outputs": [],
   "source": [
    "import sklearn"
   ]
  },
  {
   "cell_type": "code",
   "execution_count": 97,
   "metadata": {},
   "outputs": [
    {
     "data": {
      "text/plain": [
       "(200, 384)"
      ]
     },
     "execution_count": 97,
     "metadata": {},
     "output_type": "execute_result"
    }
   ],
   "source": [
    "embeddings_t.numpy().shape"
   ]
  },
  {
   "cell_type": "code",
   "execution_count": 98,
   "metadata": {},
   "outputs": [],
   "source": [
    "from sklearn.decomposition import PCA\n",
    "from sklearn.preprocessing import OneHotEncoder\n",
    "import numpy as np\n",
    "\n",
    "embeddings = embeddings_t.numpy()"
   ]
  },
  {
   "cell_type": "code",
   "execution_count": 99,
   "metadata": {},
   "outputs": [],
   "source": [
    "formatted_categories = []\n",
    "for subcategory in all_cats:\n",
    "    subcategories = subcategory.split(',')\n",
    "    new_subcategories = [s for s in subcategories if '_' not in s]\n",
    "    formatted_categories.append(new_subcategories[0])"
   ]
  },
  {
   "cell_type": "code",
   "execution_count": 100,
   "metadata": {},
   "outputs": [
    {
     "name": "stdout",
     "output_type": "stream",
     "text": [
      "After OHE categories shape: (200, 19)\n",
      "After Argmax labels shape: (200,)\n",
      "Mapping (integer label -> string category): {0: 'Bed', 1: 'Books', 2: 'Camera', 3: 'CeilingFan', 4: 'ChestOfDrawers', 5: 'Couch', 6: 'DrinkingUtensil', 7: 'Fan', 8: 'Faucet', 9: 'MediaStorage', 10: 'PersonStanding', 11: 'PillBottle', 12: 'Plant', 13: 'PottedPlant', 14: 'Showerhead', 15: 'Table', 16: 'Truck', 17: 'USBStick', 18: 'Vase'}\n"
     ]
    }
   ],
   "source": [
    "# Initialize the OneHotEncoder\n",
    "encoder = OneHotEncoder(sparse_output=False)\n",
    "categories = np.array(formatted_categories).reshape(-1, 1)\n",
    "# Fit and transform the data\n",
    "one_hot_encoded = encoder.fit_transform(categories)\n",
    "print(f\"After OHE categories shape: {one_hot_encoded.shape}\")\n",
    "labels = one_hot_encoded.argmax(axis=1)\n",
    "print(f\"After Argmax labels shape: {labels.shape}\")\n",
    "cat_mapping = {i: cat for i, cat in enumerate(encoder.categories_[0])}\n",
    "print(\"Mapping (integer label -> string category):\", cat_mapping)\n"
   ]
  },
  {
   "cell_type": "code",
   "execution_count": 101,
   "metadata": {},
   "outputs": [
    {
     "name": "stdout",
     "output_type": "stream",
     "text": [
      "Before PCA embedding shape: (200, 384)\n",
      "After PCA embedding shape: (200, 50)\n"
     ]
    }
   ],
   "source": [
    "print(f\"Before PCA embedding shape: {embeddings.shape}\")\n",
    "pca = PCA(n_components=50, random_state=42)\n",
    "pca_result = pca.fit_transform(embeddings)\n",
    "print(f\"After PCA embedding shape: {pca_result.shape}\")"
   ]
  },
  {
   "cell_type": "code",
   "execution_count": 102,
   "metadata": {},
   "outputs": [
    {
     "name": "stdout",
     "output_type": "stream",
     "text": [
      "Before TSNE embedding shape: (200, 50)\n",
      "After TSNE embedding shape: (200, 2)\n"
     ]
    }
   ],
   "source": [
    "from sklearn.manifold import TSNE\n",
    "\n",
    "tsne = TSNE(n_components=2, random_state=42)\n",
    "print(f\"Before TSNE embedding shape: {pca_result.shape}\")\n",
    "tsne_result = tsne.fit_transform(pca_result)\n",
    "print(f\"After TSNE embedding shape: {tsne_result.shape}\")"
   ]
  },
  {
   "cell_type": "code",
   "execution_count": 103,
   "metadata": {},
   "outputs": [
    {
     "data": {
      "application/vnd.plotly.v1+json": {
       "config": {
        "plotlyServerURL": "https://plot.ly"
       },
       "data": [
        {
         "customdata": [
          [
           6,
           "DrinkingUtensil"
          ],
          [
           6,
           "DrinkingUtensil"
          ],
          [
           6,
           "DrinkingUtensil"
          ],
          [
           6,
           "DrinkingUtensil"
          ],
          [
           6,
           "DrinkingUtensil"
          ],
          [
           6,
           "DrinkingUtensil"
          ],
          [
           6,
           "DrinkingUtensil"
          ],
          [
           6,
           "DrinkingUtensil"
          ],
          [
           6,
           "DrinkingUtensil"
          ],
          [
           6,
           "DrinkingUtensil"
          ],
          [
           6,
           "DrinkingUtensil"
          ],
          [
           6,
           "DrinkingUtensil"
          ],
          [
           6,
           "DrinkingUtensil"
          ],
          [
           6,
           "DrinkingUtensil"
          ],
          [
           6,
           "DrinkingUtensil"
          ],
          [
           6,
           "DrinkingUtensil"
          ],
          [
           6,
           "DrinkingUtensil"
          ],
          [
           6,
           "DrinkingUtensil"
          ],
          [
           6,
           "DrinkingUtensil"
          ],
          [
           6,
           "DrinkingUtensil"
          ]
         ],
         "hovertemplate": "category=%{customdata[1]}<br>x=%{x}<br>y=%{y}<br>numeric_label=%{customdata[0]}<extra></extra>",
         "legendgroup": "DrinkingUtensil",
         "marker": {
          "color": "#636efa",
          "symbol": "circle"
         },
         "mode": "markers",
         "name": "DrinkingUtensil",
         "orientation": "v",
         "showlegend": true,
         "type": "scatter",
         "x": {
          "bdata": "cf7SP33jBkGfqXk+tv/YP39OXT9W1zY+Eev4QLqhmz81NppAt3JVQPG+CUDJRaBALSy5QKKhCUFDN+k/FaeBP6/QhD/nnkdABjOhQCDEYkA=",
          "dtype": "f4"
         },
         "xaxis": "x",
         "y": {
          "bdata": "ZEgzwSbtscD+QE3Bt9NKwZmFQsGyKzbBfxbIwE0UQ8HlZUjBdV8Pwbn0SMEI7EjB/NeKwOb9ssB5GEDBsFE2wfFJUMFwCzfBNfxDv5fl+cA=",
          "dtype": "f4"
         },
         "yaxis": "y"
        },
        {
         "customdata": [
          [
           15,
           "Table"
          ],
          [
           15,
           "Table"
          ],
          [
           15,
           "Table"
          ],
          [
           15,
           "Table"
          ],
          [
           15,
           "Table"
          ],
          [
           15,
           "Table"
          ],
          [
           15,
           "Table"
          ],
          [
           15,
           "Table"
          ],
          [
           15,
           "Table"
          ],
          [
           15,
           "Table"
          ],
          [
           15,
           "Table"
          ],
          [
           15,
           "Table"
          ],
          [
           15,
           "Table"
          ],
          [
           15,
           "Table"
          ],
          [
           15,
           "Table"
          ],
          [
           15,
           "Table"
          ],
          [
           15,
           "Table"
          ],
          [
           15,
           "Table"
          ],
          [
           15,
           "Table"
          ],
          [
           15,
           "Table"
          ],
          [
           15,
           "Table"
          ],
          [
           15,
           "Table"
          ],
          [
           15,
           "Table"
          ],
          [
           15,
           "Table"
          ],
          [
           15,
           "Table"
          ],
          [
           15,
           "Table"
          ],
          [
           15,
           "Table"
          ],
          [
           15,
           "Table"
          ],
          [
           15,
           "Table"
          ],
          [
           15,
           "Table"
          ]
         ],
         "hovertemplate": "category=%{customdata[1]}<br>x=%{x}<br>y=%{y}<br>numeric_label=%{customdata[0]}<extra></extra>",
         "legendgroup": "Table",
         "marker": {
          "color": "#EF553B",
          "symbol": "circle"
         },
         "mode": "markers",
         "name": "Table",
         "orientation": "v",
         "showlegend": true,
         "type": "scatter",
         "x": {
          "bdata": "oqTcwBAl9MD7y6HAbakEwftpOcD35avA5YgDwfRca0CqS4ZA3mTDwENbAMGhU+bAs+3qwPamE0AXD7rAEHzbwLPbQ8BjGyXAv5KLwGCSzcAQ6LPAHmAMwecMAcGAolDAQcyswEIKZsAnn9/AgM8JQTZd5sCUvuDA",
          "dtype": "f4"
         },
         "xaxis": "x",
         "y": {
          "bdata": "8OC+QHLn4UA+vizAU0kVQc/jpz8oX+7APqbnQOvoikDV0KdAaTI5wJp5/kBQjCC+GRW2vgE4B0CqAra/w4UkP0CposBPg9LAgKUmv7DaxEBGgmi/H+f7QAigIj2VoZfAhmGLwKXUesC/qOdA1huHQFc8EEEJp/NA",
          "dtype": "f4"
         },
         "yaxis": "y"
        },
        {
         "customdata": [
          [
           13,
           "PottedPlant"
          ],
          [
           13,
           "PottedPlant"
          ],
          [
           13,
           "PottedPlant"
          ],
          [
           13,
           "PottedPlant"
          ],
          [
           13,
           "PottedPlant"
          ],
          [
           13,
           "PottedPlant"
          ]
         ],
         "hovertemplate": "category=%{customdata[1]}<br>x=%{x}<br>y=%{y}<br>numeric_label=%{customdata[0]}<extra></extra>",
         "legendgroup": "PottedPlant",
         "marker": {
          "color": "#00cc96",
          "symbol": "circle"
         },
         "mode": "markers",
         "name": "PottedPlant",
         "orientation": "v",
         "showlegend": true,
         "type": "scatter",
         "x": {
          "bdata": "QGlJQUlLYEGKD0ZB7OBlQT/lXUF0PUlB",
          "dtype": "f4"
         },
         "xaxis": "x",
         "y": {
          "bdata": "E7ipwNwAeMDdAonAFN0mwJO4icChPrPA",
          "dtype": "f4"
         },
         "yaxis": "y"
        },
        {
         "customdata": [
          [
           0,
           "Bed"
          ],
          [
           0,
           "Bed"
          ],
          [
           0,
           "Bed"
          ],
          [
           0,
           "Bed"
          ],
          [
           0,
           "Bed"
          ],
          [
           0,
           "Bed"
          ],
          [
           0,
           "Bed"
          ],
          [
           0,
           "Bed"
          ],
          [
           0,
           "Bed"
          ],
          [
           0,
           "Bed"
          ],
          [
           0,
           "Bed"
          ],
          [
           0,
           "Bed"
          ],
          [
           0,
           "Bed"
          ],
          [
           0,
           "Bed"
          ],
          [
           0,
           "Bed"
          ],
          [
           0,
           "Bed"
          ],
          [
           0,
           "Bed"
          ],
          [
           0,
           "Bed"
          ],
          [
           0,
           "Bed"
          ],
          [
           0,
           "Bed"
          ],
          [
           0,
           "Bed"
          ]
         ],
         "hovertemplate": "category=%{customdata[1]}<br>x=%{x}<br>y=%{y}<br>numeric_label=%{customdata[0]}<extra></extra>",
         "legendgroup": "Bed",
         "marker": {
          "color": "#ab63fa",
          "symbol": "circle"
         },
         "mode": "markers",
         "name": "Bed",
         "orientation": "v",
         "showlegend": true,
         "type": "scatter",
         "x": {
          "bdata": "fxZMwRunTsFHDlnAym3iwBeXO8ExyQzBabkdwaFqNMElwyTBj3wOwZErUsEGraFA5TElwb1LE0B1cB7BLTBZwRkEPcGDyFLB14EjweN6UMGbd8rA",
          "dtype": "f4"
         },
         "xaxis": "x",
         "y": {
          "bdata": "1DSvPw/LXz865oxAf0XWPzKSqEAtQ5ZA0KcIQJ/olEAHAnpAWBA4QEvfmT+/8AdBQJedQPzkaEB3npFAKTqyP90EBkD1mRVAU1HBPxCAIkD1uy1A",
          "dtype": "f4"
         },
         "yaxis": "y"
        },
        {
         "customdata": [
          [
           16,
           "Truck"
          ],
          [
           16,
           "Truck"
          ],
          [
           16,
           "Truck"
          ],
          [
           16,
           "Truck"
          ],
          [
           16,
           "Truck"
          ],
          [
           16,
           "Truck"
          ],
          [
           16,
           "Truck"
          ],
          [
           16,
           "Truck"
          ],
          [
           16,
           "Truck"
          ],
          [
           16,
           "Truck"
          ]
         ],
         "hovertemplate": "category=%{customdata[1]}<br>x=%{x}<br>y=%{y}<br>numeric_label=%{customdata[0]}<extra></extra>",
         "legendgroup": "Truck",
         "marker": {
          "color": "#FFA15A",
          "symbol": "circle"
         },
         "mode": "markers",
         "name": "Truck",
         "orientation": "v",
         "showlegend": true,
         "type": "scatter",
         "x": {
          "bdata": "BrFSwHS7FsBw0ctAmswNwO3dK8ByVkvA5/I5wLpNJMC7FIXA3mVtwA==",
          "dtype": "f4"
         },
         "xaxis": "x",
         "y": {
          "bdata": "4CxBQXztaUEFAYpAjgJuQcD6OUHh5FNB2+k+QShcY0Gm3DdBqpI9QQ==",
          "dtype": "f4"
         },
         "yaxis": "y"
        },
        {
         "customdata": [
          [
           5,
           "Couch"
          ],
          [
           5,
           "Couch"
          ],
          [
           5,
           "Couch"
          ],
          [
           5,
           "Couch"
          ],
          [
           5,
           "Couch"
          ],
          [
           5,
           "Couch"
          ],
          [
           5,
           "Couch"
          ],
          [
           5,
           "Couch"
          ],
          [
           5,
           "Couch"
          ],
          [
           5,
           "Couch"
          ]
         ],
         "hovertemplate": "category=%{customdata[1]}<br>x=%{x}<br>y=%{y}<br>numeric_label=%{customdata[0]}<extra></extra>",
         "legendgroup": "Couch",
         "marker": {
          "color": "#19d3f3",
          "symbol": "circle"
         },
         "mode": "markers",
         "name": "Couch",
         "orientation": "v",
         "showlegend": true,
         "type": "scatter",
         "x": {
          "bdata": "KlKcPdefMT8OGknBWn0VwdDBiL/wokTBSy3evf542z++9RrBzHwVwQ==",
          "dtype": "f4"
         },
         "xaxis": "x",
         "y": {
          "bdata": "7bQiQJj42z8ia6dA8eUywJ9CXkAqGMVAetQoQOWyhkDsIyHA965DwA==",
          "dtype": "f4"
         },
         "yaxis": "y"
        },
        {
         "customdata": [
          [
           18,
           "Vase"
          ],
          [
           18,
           "Vase"
          ],
          [
           18,
           "Vase"
          ],
          [
           18,
           "Vase"
          ],
          [
           18,
           "Vase"
          ],
          [
           18,
           "Vase"
          ],
          [
           18,
           "Vase"
          ],
          [
           18,
           "Vase"
          ],
          [
           18,
           "Vase"
          ],
          [
           18,
           "Vase"
          ]
         ],
         "hovertemplate": "category=%{customdata[1]}<br>x=%{x}<br>y=%{y}<br>numeric_label=%{customdata[0]}<extra></extra>",
         "legendgroup": "Vase",
         "marker": {
          "color": "#FF6692",
          "symbol": "circle"
         },
         "mode": "markers",
         "name": "Vase",
         "orientation": "v",
         "showlegend": true,
         "type": "scatter",
         "x": {
          "bdata": "LDsHQTeAhkAV7qJACAh8QFiPpkA2oodAxeO/P8QDX0Do0njA9MbCQA==",
          "dtype": "f4"
         },
         "xaxis": "x",
         "y": {
          "bdata": "hLDNwKO3I8HM9RrBDVkWwUUgGsELEA7BX3oQwSAPG8GzqRzA0P4WwQ==",
          "dtype": "f4"
         },
         "yaxis": "y"
        },
        {
         "customdata": [
          [
           10,
           "PersonStanding"
          ],
          [
           10,
           "PersonStanding"
          ],
          [
           10,
           "PersonStanding"
          ],
          [
           10,
           "PersonStanding"
          ],
          [
           10,
           "PersonStanding"
          ],
          [
           10,
           "PersonStanding"
          ],
          [
           10,
           "PersonStanding"
          ],
          [
           10,
           "PersonStanding"
          ],
          [
           10,
           "PersonStanding"
          ],
          [
           10,
           "PersonStanding"
          ]
         ],
         "hovertemplate": "category=%{customdata[1]}<br>x=%{x}<br>y=%{y}<br>numeric_label=%{customdata[0]}<extra></extra>",
         "legendgroup": "PersonStanding",
         "marker": {
          "color": "#B6E880",
          "symbol": "circle"
         },
         "mode": "markers",
         "name": "PersonStanding",
         "orientation": "v",
         "showlegend": true,
         "type": "scatter",
         "x": {
          "bdata": "Jx45QX+oOEFSPxZBTIlDQWc+FkEis0hB7k0tQbIULUGmK1NBzDlYQQ==",
          "dtype": "f4"
         },
         "xaxis": "x",
         "y": {
          "bdata": "X6MbwXXwGsHMswBByK8nwd2yAEEm1ifBPDc6wZRoOsFGryHBLu4mwQ==",
          "dtype": "f4"
         },
         "yaxis": "y"
        },
        {
         "customdata": [
          [
           12,
           "Plant"
          ],
          [
           12,
           "Plant"
          ],
          [
           12,
           "Plant"
          ],
          [
           12,
           "Plant"
          ]
         ],
         "hovertemplate": "category=%{customdata[1]}<br>x=%{x}<br>y=%{y}<br>numeric_label=%{customdata[0]}<extra></extra>",
         "legendgroup": "Plant",
         "marker": {
          "color": "#FF97FF",
          "symbol": "circle"
         },
         "mode": "markers",
         "name": "Plant",
         "orientation": "v",
         "showlegend": true,
         "type": "scatter",
         "x": {
          "bdata": "jFxkQWO4k0C/bFFBN2ZKvw==",
          "dtype": "f4"
         },
         "xaxis": "x",
         "y": {
          "bdata": "VAJFwNyP7EAB763AVIBCwQ==",
          "dtype": "f4"
         },
         "yaxis": "y"
        },
        {
         "customdata": [
          [
           2,
           "Camera"
          ],
          [
           2,
           "Camera"
          ],
          [
           2,
           "Camera"
          ],
          [
           2,
           "Camera"
          ],
          [
           2,
           "Camera"
          ],
          [
           2,
           "Camera"
          ],
          [
           2,
           "Camera"
          ],
          [
           2,
           "Camera"
          ],
          [
           2,
           "Camera"
          ],
          [
           2,
           "Camera"
          ]
         ],
         "hovertemplate": "category=%{customdata[1]}<br>x=%{x}<br>y=%{y}<br>numeric_label=%{customdata[0]}<extra></extra>",
         "legendgroup": "Camera",
         "marker": {
          "color": "#FECB52",
          "symbol": "circle"
         },
         "mode": "markers",
         "name": "Camera",
         "orientation": "v",
         "showlegend": true,
         "type": "scatter",
         "x": {
          "bdata": "a2mKQDGUpMDIDEpAHSNyQNVJQUAvd01Aff1XQAuMTUAHMmlA7Us2QA==",
          "dtype": "f4"
         },
         "xaxis": "x",
         "y": {
          "bdata": "QYwIQYp0ocCvZhVBwlvDPxDPEb9cqR9A37MsQV+cLsAiVzVBqxYiQQ==",
          "dtype": "f4"
         },
         "yaxis": "y"
        },
        {
         "customdata": [
          [
           1,
           "Books"
          ],
          [
           1,
           "Books"
          ],
          [
           1,
           "Books"
          ],
          [
           1,
           "Books"
          ],
          [
           1,
           "Books"
          ],
          [
           1,
           "Books"
          ],
          [
           1,
           "Books"
          ],
          [
           1,
           "Books"
          ],
          [
           1,
           "Books"
          ],
          [
           1,
           "Books"
          ]
         ],
         "hovertemplate": "category=%{customdata[1]}<br>x=%{x}<br>y=%{y}<br>numeric_label=%{customdata[0]}<extra></extra>",
         "legendgroup": "Books",
         "marker": {
          "color": "#636efa",
          "symbol": "circle"
         },
         "mode": "markers",
         "name": "Books",
         "orientation": "v",
         "showlegend": true,
         "type": "scatter",
         "x": {
          "bdata": "GRRDQEM+nz/qOthAGL7fQK/9OkAlLiy9/o5wQB6NH0BdqO4/ifyOvg==",
          "dtype": "f4"
         },
         "xaxis": "x",
         "y": {
          "bdata": "+4zVQMBJuUBkfwJB2Dj0QKoV7kAoO6hAcRXsQFWImUDE5OdAR3+YQA==",
          "dtype": "f4"
         },
         "yaxis": "y"
        },
        {
         "customdata": [
          [
           3,
           "CeilingFan"
          ],
          [
           3,
           "CeilingFan"
          ],
          [
           3,
           "CeilingFan"
          ],
          [
           3,
           "CeilingFan"
          ],
          [
           3,
           "CeilingFan"
          ],
          [
           3,
           "CeilingFan"
          ],
          [
           3,
           "CeilingFan"
          ],
          [
           3,
           "CeilingFan"
          ],
          [
           3,
           "CeilingFan"
          ]
         ],
         "hovertemplate": "category=%{customdata[1]}<br>x=%{x}<br>y=%{y}<br>numeric_label=%{customdata[0]}<extra></extra>",
         "legendgroup": "CeilingFan",
         "marker": {
          "color": "#EF553B",
          "symbol": "circle"
         },
         "mode": "markers",
         "name": "CeilingFan",
         "orientation": "v",
         "showlegend": true,
         "type": "scatter",
         "x": {
          "bdata": "YKaavpUkbr258gU+3n4tv4z7WT6QJxE/7TNrPyQoDr8NZDk+",
          "dtype": "f4"
         },
         "xaxis": "x",
         "y": {
          "bdata": "nSB8wFF0psBLo5DA+5COwFfykMDmlr+/nlCQwGj9rsA6zlXA",
          "dtype": "f4"
         },
         "yaxis": "y"
        },
        {
         "customdata": [
          [
           8,
           "Faucet"
          ],
          [
           8,
           "Faucet"
          ],
          [
           8,
           "Faucet"
          ],
          [
           8,
           "Faucet"
          ],
          [
           8,
           "Faucet"
          ],
          [
           8,
           "Faucet"
          ],
          [
           8,
           "Faucet"
          ],
          [
           8,
           "Faucet"
          ]
         ],
         "hovertemplate": "category=%{customdata[1]}<br>x=%{x}<br>y=%{y}<br>numeric_label=%{customdata[0]}<extra></extra>",
         "legendgroup": "Faucet",
         "marker": {
          "color": "#00cc96",
          "symbol": "circle"
         },
         "mode": "markers",
         "name": "Faucet",
         "orientation": "v",
         "showlegend": true,
         "type": "scatter",
         "x": {
          "bdata": "6o9fwNVkk0DqKv1AsyuHv4d9kr+qyIi/oUf3QECDqkA=",
          "dtype": "f4"
         },
         "xaxis": "x",
         "y": {
          "bdata": "GjQHv9sqg7vw21k/NuoVwY5HGcEV/xPBgP/xPrGVJT8=",
          "dtype": "f4"
         },
         "yaxis": "y"
        },
        {
         "customdata": [
          [
           4,
           "ChestOfDrawers"
          ],
          [
           4,
           "ChestOfDrawers"
          ],
          [
           4,
           "ChestOfDrawers"
          ],
          [
           4,
           "ChestOfDrawers"
          ],
          [
           4,
           "ChestOfDrawers"
          ],
          [
           4,
           "ChestOfDrawers"
          ],
          [
           4,
           "ChestOfDrawers"
          ],
          [
           4,
           "ChestOfDrawers"
          ],
          [
           4,
           "ChestOfDrawers"
          ]
         ],
         "hovertemplate": "category=%{customdata[1]}<br>x=%{x}<br>y=%{y}<br>numeric_label=%{customdata[0]}<extra></extra>",
         "legendgroup": "ChestOfDrawers",
         "marker": {
          "color": "#ab63fa",
          "symbol": "circle"
         },
         "mode": "markers",
         "name": "ChestOfDrawers",
         "orientation": "v",
         "showlegend": true,
         "type": "scatter",
         "x": {
          "bdata": "nH/RwAGknsDGdwnBGgqqwBjqJcGNZKDACnCwwFm//cD84+vA",
          "dtype": "f4"
         },
         "xaxis": "x",
         "y": {
          "bdata": "5S6SQCuxhT1RJr1A1wGSQAuNr0C/2khA4wltQCQ0kkDdWopA",
          "dtype": "f4"
         },
         "yaxis": "y"
        },
        {
         "customdata": [
          [
           17,
           "USBStick"
          ],
          [
           17,
           "USBStick"
          ],
          [
           17,
           "USBStick"
          ],
          [
           17,
           "USBStick"
          ],
          [
           17,
           "USBStick"
          ],
          [
           17,
           "USBStick"
          ],
          [
           17,
           "USBStick"
          ],
          [
           17,
           "USBStick"
          ],
          [
           17,
           "USBStick"
          ],
          [
           17,
           "USBStick"
          ]
         ],
         "hovertemplate": "category=%{customdata[1]}<br>x=%{x}<br>y=%{y}<br>numeric_label=%{customdata[0]}<extra></extra>",
         "legendgroup": "USBStick",
         "marker": {
          "color": "#FFA15A",
          "symbol": "circle"
         },
         "mode": "markers",
         "name": "USBStick",
         "orientation": "v",
         "showlegend": true,
         "type": "scatter",
         "x": {
          "bdata": "WCvcQHQu10DYJOxA8miHQH8u9ECRXZhAMmK/QEntukBHn6RA7izwQA==",
          "dtype": "f4"
         },
         "xaxis": "x",
         "y": {
          "bdata": "6k2oQDpBnUAato5A8UlUQMkkz0D/eyRAf9HHQMNIr0Cpc6NAvXpMQA==",
          "dtype": "f4"
         },
         "yaxis": "y"
        },
        {
         "customdata": [
          [
           11,
           "PillBottle"
          ],
          [
           11,
           "PillBottle"
          ],
          [
           11,
           "PillBottle"
          ],
          [
           11,
           "PillBottle"
          ],
          [
           11,
           "PillBottle"
          ],
          [
           11,
           "PillBottle"
          ],
          [
           11,
           "PillBottle"
          ],
          [
           11,
           "PillBottle"
          ],
          [
           11,
           "PillBottle"
          ],
          [
           11,
           "PillBottle"
          ]
         ],
         "hovertemplate": "category=%{customdata[1]}<br>x=%{x}<br>y=%{y}<br>numeric_label=%{customdata[0]}<extra></extra>",
         "legendgroup": "PillBottle",
         "marker": {
          "color": "#19d3f3",
          "symbol": "circle"
         },
         "mode": "markers",
         "name": "PillBottle",
         "orientation": "v",
         "showlegend": true,
         "type": "scatter",
         "x": {
          "bdata": "YJGlQIpNpUDd2+VAQx7vQEo+2EBqz/ZA0qfyQFlSvECtsdhAE+KEQA==",
          "dtype": "f4"
         },
         "xaxis": "x",
         "y": {
          "bdata": "uRW6wGRYucA85DLABtdUwGohUcD1spHAJEFewBz9VcAShH3Ak2Q0wA==",
          "dtype": "f4"
         },
         "yaxis": "y"
        },
        {
         "customdata": [
          [
           9,
           "MediaStorage"
          ],
          [
           9,
           "MediaStorage"
          ],
          [
           9,
           "MediaStorage"
          ],
          [
           9,
           "MediaStorage"
          ],
          [
           9,
           "MediaStorage"
          ],
          [
           9,
           "MediaStorage"
          ],
          [
           9,
           "MediaStorage"
          ],
          [
           9,
           "MediaStorage"
          ],
          [
           9,
           "MediaStorage"
          ],
          [
           9,
           "MediaStorage"
          ]
         ],
         "hovertemplate": "category=%{customdata[1]}<br>x=%{x}<br>y=%{y}<br>numeric_label=%{customdata[0]}<extra></extra>",
         "legendgroup": "MediaStorage",
         "marker": {
          "color": "#FF6692",
          "symbol": "circle"
         },
         "mode": "markers",
         "name": "MediaStorage",
         "orientation": "v",
         "showlegend": true,
         "type": "scatter",
         "x": {
          "bdata": "RaULwYL/4sCJx1RAR/6pQPA0hUDQoatAgHmbwEn0CEBIz4DARzeMwA==",
          "dtype": "f4"
         },
         "xaxis": "x",
         "y": {
          "bdata": "U5SyQARaqUAK+YpAzzLoQAHdv0DSsflAlj/NQNI6pUCS31RAB1y2QA==",
          "dtype": "f4"
         },
         "yaxis": "y"
        },
        {
         "customdata": [
          [
           14,
           "Showerhead"
          ],
          [
           14,
           "Showerhead"
          ]
         ],
         "hovertemplate": "category=%{customdata[1]}<br>x=%{x}<br>y=%{y}<br>numeric_label=%{customdata[0]}<extra></extra>",
         "legendgroup": "Showerhead",
         "marker": {
          "color": "#B6E880",
          "symbol": "circle"
         },
         "mode": "markers",
         "name": "Showerhead",
         "orientation": "v",
         "showlegend": true,
         "type": "scatter",
         "x": {
          "bdata": "6mQYQZw3E0E=",
          "dtype": "f4"
         },
         "xaxis": "x",
         "y": {
          "bdata": "w1YXv4M/ib4=",
          "dtype": "f4"
         },
         "yaxis": "y"
        },
        {
         "customdata": [
          [
           7,
           "Fan"
          ]
         ],
         "hovertemplate": "category=%{customdata[1]}<br>x=%{x}<br>y=%{y}<br>numeric_label=%{customdata[0]}<extra></extra>",
         "legendgroup": "Fan",
         "marker": {
          "color": "#FF97FF",
          "symbol": "circle"
         },
         "mode": "markers",
         "name": "Fan",
         "orientation": "v",
         "showlegend": true,
         "type": "scatter",
         "x": {
          "bdata": "LHynvg==",
          "dtype": "f4"
         },
         "xaxis": "x",
         "y": {
          "bdata": "sokzwA==",
          "dtype": "f4"
         },
         "yaxis": "y"
        }
       ],
       "layout": {
        "legend": {
         "title": {
          "text": "category"
         },
         "tracegroupgap": 0
        },
        "template": {
         "data": {
          "bar": [
           {
            "error_x": {
             "color": "#2a3f5f"
            },
            "error_y": {
             "color": "#2a3f5f"
            },
            "marker": {
             "line": {
              "color": "#E5ECF6",
              "width": 0.5
             },
             "pattern": {
              "fillmode": "overlay",
              "size": 10,
              "solidity": 0.2
             }
            },
            "type": "bar"
           }
          ],
          "barpolar": [
           {
            "marker": {
             "line": {
              "color": "#E5ECF6",
              "width": 0.5
             },
             "pattern": {
              "fillmode": "overlay",
              "size": 10,
              "solidity": 0.2
             }
            },
            "type": "barpolar"
           }
          ],
          "carpet": [
           {
            "aaxis": {
             "endlinecolor": "#2a3f5f",
             "gridcolor": "white",
             "linecolor": "white",
             "minorgridcolor": "white",
             "startlinecolor": "#2a3f5f"
            },
            "baxis": {
             "endlinecolor": "#2a3f5f",
             "gridcolor": "white",
             "linecolor": "white",
             "minorgridcolor": "white",
             "startlinecolor": "#2a3f5f"
            },
            "type": "carpet"
           }
          ],
          "choropleth": [
           {
            "colorbar": {
             "outlinewidth": 0,
             "ticks": ""
            },
            "type": "choropleth"
           }
          ],
          "contour": [
           {
            "colorbar": {
             "outlinewidth": 0,
             "ticks": ""
            },
            "colorscale": [
             [
              0,
              "#0d0887"
             ],
             [
              0.1111111111111111,
              "#46039f"
             ],
             [
              0.2222222222222222,
              "#7201a8"
             ],
             [
              0.3333333333333333,
              "#9c179e"
             ],
             [
              0.4444444444444444,
              "#bd3786"
             ],
             [
              0.5555555555555556,
              "#d8576b"
             ],
             [
              0.6666666666666666,
              "#ed7953"
             ],
             [
              0.7777777777777778,
              "#fb9f3a"
             ],
             [
              0.8888888888888888,
              "#fdca26"
             ],
             [
              1,
              "#f0f921"
             ]
            ],
            "type": "contour"
           }
          ],
          "contourcarpet": [
           {
            "colorbar": {
             "outlinewidth": 0,
             "ticks": ""
            },
            "type": "contourcarpet"
           }
          ],
          "heatmap": [
           {
            "colorbar": {
             "outlinewidth": 0,
             "ticks": ""
            },
            "colorscale": [
             [
              0,
              "#0d0887"
             ],
             [
              0.1111111111111111,
              "#46039f"
             ],
             [
              0.2222222222222222,
              "#7201a8"
             ],
             [
              0.3333333333333333,
              "#9c179e"
             ],
             [
              0.4444444444444444,
              "#bd3786"
             ],
             [
              0.5555555555555556,
              "#d8576b"
             ],
             [
              0.6666666666666666,
              "#ed7953"
             ],
             [
              0.7777777777777778,
              "#fb9f3a"
             ],
             [
              0.8888888888888888,
              "#fdca26"
             ],
             [
              1,
              "#f0f921"
             ]
            ],
            "type": "heatmap"
           }
          ],
          "histogram": [
           {
            "marker": {
             "pattern": {
              "fillmode": "overlay",
              "size": 10,
              "solidity": 0.2
             }
            },
            "type": "histogram"
           }
          ],
          "histogram2d": [
           {
            "colorbar": {
             "outlinewidth": 0,
             "ticks": ""
            },
            "colorscale": [
             [
              0,
              "#0d0887"
             ],
             [
              0.1111111111111111,
              "#46039f"
             ],
             [
              0.2222222222222222,
              "#7201a8"
             ],
             [
              0.3333333333333333,
              "#9c179e"
             ],
             [
              0.4444444444444444,
              "#bd3786"
             ],
             [
              0.5555555555555556,
              "#d8576b"
             ],
             [
              0.6666666666666666,
              "#ed7953"
             ],
             [
              0.7777777777777778,
              "#fb9f3a"
             ],
             [
              0.8888888888888888,
              "#fdca26"
             ],
             [
              1,
              "#f0f921"
             ]
            ],
            "type": "histogram2d"
           }
          ],
          "histogram2dcontour": [
           {
            "colorbar": {
             "outlinewidth": 0,
             "ticks": ""
            },
            "colorscale": [
             [
              0,
              "#0d0887"
             ],
             [
              0.1111111111111111,
              "#46039f"
             ],
             [
              0.2222222222222222,
              "#7201a8"
             ],
             [
              0.3333333333333333,
              "#9c179e"
             ],
             [
              0.4444444444444444,
              "#bd3786"
             ],
             [
              0.5555555555555556,
              "#d8576b"
             ],
             [
              0.6666666666666666,
              "#ed7953"
             ],
             [
              0.7777777777777778,
              "#fb9f3a"
             ],
             [
              0.8888888888888888,
              "#fdca26"
             ],
             [
              1,
              "#f0f921"
             ]
            ],
            "type": "histogram2dcontour"
           }
          ],
          "mesh3d": [
           {
            "colorbar": {
             "outlinewidth": 0,
             "ticks": ""
            },
            "type": "mesh3d"
           }
          ],
          "parcoords": [
           {
            "line": {
             "colorbar": {
              "outlinewidth": 0,
              "ticks": ""
             }
            },
            "type": "parcoords"
           }
          ],
          "pie": [
           {
            "automargin": true,
            "type": "pie"
           }
          ],
          "scatter": [
           {
            "fillpattern": {
             "fillmode": "overlay",
             "size": 10,
             "solidity": 0.2
            },
            "type": "scatter"
           }
          ],
          "scatter3d": [
           {
            "line": {
             "colorbar": {
              "outlinewidth": 0,
              "ticks": ""
             }
            },
            "marker": {
             "colorbar": {
              "outlinewidth": 0,
              "ticks": ""
             }
            },
            "type": "scatter3d"
           }
          ],
          "scattercarpet": [
           {
            "marker": {
             "colorbar": {
              "outlinewidth": 0,
              "ticks": ""
             }
            },
            "type": "scattercarpet"
           }
          ],
          "scattergeo": [
           {
            "marker": {
             "colorbar": {
              "outlinewidth": 0,
              "ticks": ""
             }
            },
            "type": "scattergeo"
           }
          ],
          "scattergl": [
           {
            "marker": {
             "colorbar": {
              "outlinewidth": 0,
              "ticks": ""
             }
            },
            "type": "scattergl"
           }
          ],
          "scattermap": [
           {
            "marker": {
             "colorbar": {
              "outlinewidth": 0,
              "ticks": ""
             }
            },
            "type": "scattermap"
           }
          ],
          "scattermapbox": [
           {
            "marker": {
             "colorbar": {
              "outlinewidth": 0,
              "ticks": ""
             }
            },
            "type": "scattermapbox"
           }
          ],
          "scatterpolar": [
           {
            "marker": {
             "colorbar": {
              "outlinewidth": 0,
              "ticks": ""
             }
            },
            "type": "scatterpolar"
           }
          ],
          "scatterpolargl": [
           {
            "marker": {
             "colorbar": {
              "outlinewidth": 0,
              "ticks": ""
             }
            },
            "type": "scatterpolargl"
           }
          ],
          "scatterternary": [
           {
            "marker": {
             "colorbar": {
              "outlinewidth": 0,
              "ticks": ""
             }
            },
            "type": "scatterternary"
           }
          ],
          "surface": [
           {
            "colorbar": {
             "outlinewidth": 0,
             "ticks": ""
            },
            "colorscale": [
             [
              0,
              "#0d0887"
             ],
             [
              0.1111111111111111,
              "#46039f"
             ],
             [
              0.2222222222222222,
              "#7201a8"
             ],
             [
              0.3333333333333333,
              "#9c179e"
             ],
             [
              0.4444444444444444,
              "#bd3786"
             ],
             [
              0.5555555555555556,
              "#d8576b"
             ],
             [
              0.6666666666666666,
              "#ed7953"
             ],
             [
              0.7777777777777778,
              "#fb9f3a"
             ],
             [
              0.8888888888888888,
              "#fdca26"
             ],
             [
              1,
              "#f0f921"
             ]
            ],
            "type": "surface"
           }
          ],
          "table": [
           {
            "cells": {
             "fill": {
              "color": "#EBF0F8"
             },
             "line": {
              "color": "white"
             }
            },
            "header": {
             "fill": {
              "color": "#C8D4E3"
             },
             "line": {
              "color": "white"
             }
            },
            "type": "table"
           }
          ]
         },
         "layout": {
          "annotationdefaults": {
           "arrowcolor": "#2a3f5f",
           "arrowhead": 0,
           "arrowwidth": 1
          },
          "autotypenumbers": "strict",
          "coloraxis": {
           "colorbar": {
            "outlinewidth": 0,
            "ticks": ""
           }
          },
          "colorscale": {
           "diverging": [
            [
             0,
             "#8e0152"
            ],
            [
             0.1,
             "#c51b7d"
            ],
            [
             0.2,
             "#de77ae"
            ],
            [
             0.3,
             "#f1b6da"
            ],
            [
             0.4,
             "#fde0ef"
            ],
            [
             0.5,
             "#f7f7f7"
            ],
            [
             0.6,
             "#e6f5d0"
            ],
            [
             0.7,
             "#b8e186"
            ],
            [
             0.8,
             "#7fbc41"
            ],
            [
             0.9,
             "#4d9221"
            ],
            [
             1,
             "#276419"
            ]
           ],
           "sequential": [
            [
             0,
             "#0d0887"
            ],
            [
             0.1111111111111111,
             "#46039f"
            ],
            [
             0.2222222222222222,
             "#7201a8"
            ],
            [
             0.3333333333333333,
             "#9c179e"
            ],
            [
             0.4444444444444444,
             "#bd3786"
            ],
            [
             0.5555555555555556,
             "#d8576b"
            ],
            [
             0.6666666666666666,
             "#ed7953"
            ],
            [
             0.7777777777777778,
             "#fb9f3a"
            ],
            [
             0.8888888888888888,
             "#fdca26"
            ],
            [
             1,
             "#f0f921"
            ]
           ],
           "sequentialminus": [
            [
             0,
             "#0d0887"
            ],
            [
             0.1111111111111111,
             "#46039f"
            ],
            [
             0.2222222222222222,
             "#7201a8"
            ],
            [
             0.3333333333333333,
             "#9c179e"
            ],
            [
             0.4444444444444444,
             "#bd3786"
            ],
            [
             0.5555555555555556,
             "#d8576b"
            ],
            [
             0.6666666666666666,
             "#ed7953"
            ],
            [
             0.7777777777777778,
             "#fb9f3a"
            ],
            [
             0.8888888888888888,
             "#fdca26"
            ],
            [
             1,
             "#f0f921"
            ]
           ]
          },
          "colorway": [
           "#636efa",
           "#EF553B",
           "#00cc96",
           "#ab63fa",
           "#FFA15A",
           "#19d3f3",
           "#FF6692",
           "#B6E880",
           "#FF97FF",
           "#FECB52"
          ],
          "font": {
           "color": "#2a3f5f"
          },
          "geo": {
           "bgcolor": "white",
           "lakecolor": "white",
           "landcolor": "#E5ECF6",
           "showlakes": true,
           "showland": true,
           "subunitcolor": "white"
          },
          "hoverlabel": {
           "align": "left"
          },
          "hovermode": "closest",
          "mapbox": {
           "style": "light"
          },
          "paper_bgcolor": "white",
          "plot_bgcolor": "#E5ECF6",
          "polar": {
           "angularaxis": {
            "gridcolor": "white",
            "linecolor": "white",
            "ticks": ""
           },
           "bgcolor": "#E5ECF6",
           "radialaxis": {
            "gridcolor": "white",
            "linecolor": "white",
            "ticks": ""
           }
          },
          "scene": {
           "xaxis": {
            "backgroundcolor": "#E5ECF6",
            "gridcolor": "white",
            "gridwidth": 2,
            "linecolor": "white",
            "showbackground": true,
            "ticks": "",
            "zerolinecolor": "white"
           },
           "yaxis": {
            "backgroundcolor": "#E5ECF6",
            "gridcolor": "white",
            "gridwidth": 2,
            "linecolor": "white",
            "showbackground": true,
            "ticks": "",
            "zerolinecolor": "white"
           },
           "zaxis": {
            "backgroundcolor": "#E5ECF6",
            "gridcolor": "white",
            "gridwidth": 2,
            "linecolor": "white",
            "showbackground": true,
            "ticks": "",
            "zerolinecolor": "white"
           }
          },
          "shapedefaults": {
           "line": {
            "color": "#2a3f5f"
           }
          },
          "ternary": {
           "aaxis": {
            "gridcolor": "white",
            "linecolor": "white",
            "ticks": ""
           },
           "baxis": {
            "gridcolor": "white",
            "linecolor": "white",
            "ticks": ""
           },
           "bgcolor": "#E5ECF6",
           "caxis": {
            "gridcolor": "white",
            "linecolor": "white",
            "ticks": ""
           }
          },
          "title": {
           "x": 0.05
          },
          "xaxis": {
           "automargin": true,
           "gridcolor": "white",
           "linecolor": "white",
           "ticks": "",
           "title": {
            "standoff": 15
           },
           "zerolinecolor": "white",
           "zerolinewidth": 2
          },
          "yaxis": {
           "automargin": true,
           "gridcolor": "white",
           "linecolor": "white",
           "ticks": "",
           "title": {
            "standoff": 15
           },
           "zerolinecolor": "white",
           "zerolinewidth": 2
          }
         }
        },
        "title": {
         "text": "Interactive t-SNE Visualization with Category Info"
        },
        "xaxis": {
         "anchor": "y",
         "domain": [
          0,
          1
         ],
         "title": {
          "text": "x"
         }
        },
        "yaxis": {
         "anchor": "x",
         "domain": [
          0,
          1
         ],
         "title": {
          "text": "y"
         }
        }
       }
      }
     },
     "metadata": {},
     "output_type": "display_data"
    }
   ],
   "source": [
    "import plotly.express as px\n",
    "plot_data = pd.DataFrame({\n",
    "    'x': tsne_result[:, 0],\n",
    "    'y': tsne_result[:, 1],\n",
    "    'numeric_label': labels,\n",
    "    'category': [cat_mapping[label] for label in labels]\n",
    "})\n",
    "\n",
    "# Create an interactive scatter plot using Plotly Express\n",
    "fig = px.scatter(\n",
    "    plot_data, x='x', y='y', color='category',\n",
    "    hover_data={'numeric_label': True, 'category': True},\n",
    "    title=\"Interactive t-SNE Visualization with Category Info\"\n",
    ")\n",
    "fig.show()"
   ]
  },
  {
   "cell_type": "markdown",
   "metadata": {},
   "source": [
    "## CLIP"
   ]
  },
  {
   "cell_type": "code",
   "execution_count": 1,
   "metadata": {},
   "outputs": [
    {
     "name": "stderr",
     "output_type": "stream",
     "text": [
      "/Users/rishabhrao/Documents/VSCode/multimodal-3d-gen/venv/lib/python3.9/site-packages/urllib3/__init__.py:35: NotOpenSSLWarning: urllib3 v2 only supports OpenSSL 1.1.1+, currently the 'ssl' module is compiled with 'LibreSSL 2.8.3'. See: https://github.com/urllib3/urllib3/issues/3020\n",
      "  warnings.warn(\n",
      "/Users/rishabhrao/Documents/VSCode/multimodal-3d-gen/venv/lib/python3.9/site-packages/tqdm/auto.py:21: TqdmWarning: IProgress not found. Please update jupyter and ipywidgets. See https://ipywidgets.readthedocs.io/en/stable/user_install.html\n",
      "  from .autonotebook import tqdm as notebook_tqdm\n"
     ]
    }
   ],
   "source": [
    "from dataset import CLIPTextModalityDataset\n",
    "from torch.utils.data import DataLoader\n",
    "import matplotlib.pyplot as plt\n",
    "import numpy as np\n",
    "import torch\n",
    "import open_clip\n",
    "import pandas as pd"
   ]
  },
  {
   "cell_type": "code",
   "execution_count": 2,
   "metadata": {},
   "outputs": [],
   "source": [
    "dataset_path = \"Data/ShapeNetSem/Datasets/subset_template_200.csv\"\n",
    "clip_dataset = CLIPTextModalityDataset(dataset_path)\n",
    "dataloader = DataLoader(clip_dataset, batch_size=8, shuffle=True, num_workers=0)"
   ]
  },
  {
   "cell_type": "code",
   "execution_count": null,
   "metadata": {},
   "outputs": [
    {
     "name": "stderr",
     "output_type": "stream",
     "text": [
      "/Users/rishabhrao/Documents/VSCode/multimodal-3d-gen/venv/lib/python3.9/site-packages/open_clip/factory.py:388: UserWarning: These pretrained weights were trained with QuickGELU activation but the model config does not have that enabled. Consider using a model config with a \"-quickgelu\" suffix or enable with a flag.\n",
      "  warnings.warn(\n"
     ]
    },
    {
     "name": "stdout",
     "output_type": "stream",
     "text": [
      "CLIP model saved to: PretrainedModels/clip_vitl14_pretrain.pth\n"
     ]
    }
   ],
   "source": [
    "\"\"\"\n",
    "# Load CLIP model from OpenCLIP and get its state_dict\n",
    "model_name = \"ViT-L-14\"  # Change this to ViT-L/14 if needed\n",
    "pretrained = \"openai\"  # Choose \"openai\" for the original CLIP weights\n",
    "\n",
    "# Load the model\n",
    "model, _, _ = open_clip.create_model_and_transforms(model_name, pretrained=pretrained)\n",
    "\n",
    "# Save model state_dict\n",
    "save_path = f\"PretrainedModels/clip_vitl14_pretrain.pth\"\n",
    "torch.save(model.state_dict(), save_path)\n",
    "\n",
    "print(f\"CLIP model saved to: {save_path}\")\n",
    "\"\"\""
   ]
  },
  {
   "cell_type": "code",
   "execution_count": 4,
   "metadata": {},
   "outputs": [
    {
     "name": "stdout",
     "output_type": "stream",
     "text": [
      "Text: ('ceiling fan is a fan designed for appliance,ceiling,fan,home,light. It serves the purpose of a device for creating a current of air by movement of a surface or surfaces.', 'bronze meenakari center table is a table, coffee table,cocktail table designed for center table,coffee table,ethnic,meenakari,table. It serves the purpose of a piece of furniture having a smooth flat top that is usually supported by one or more vertical legs; \"it was a sturdy table\", low table where magazines can be placed and coffee or cocktails are served.', 'A bladeless ceiling fan which is commonly known as bladeless,bladeless fan,ceiling fan,circular fan,dyson,dyson fan,fan,fans,modern fan,room fan. It is associated with the following characteristics: fan.\\nA general description of this item is: a device for creating a current of air by movement of a surface or surfaces.', 'The vasque  in sketchup is a vase often used for bowl,escargot,perduccizzi,pot,poterie,pottery,vase,vaso,vasque. It can be described as: an open jar of glass or porcelain used as an ornament or to hold flowers.', 'A coffee table   glass and steel which is commonly known as coffee,coffee table,contemporary,furniture,modern,table. It is associated with the following characteristics: table, coffee table,cocktail table.\\nA general description of this item is: a piece of furniture having a smooth flat top that is usually supported by one or more vertical legs; \"it was a sturdy table\", low table where magazines can be placed and coffee or cocktails are served.', 'A l d pill bottle scaled to size which is commonly known as ibuprofen,pills. It is associated with the following characteristics: pill bottle.\\nA general description of this item is: a small bottle for holding pills.', 'entertainment center console is a wall unit designed for center,console,entertainment,hd,samsung,tv,widescreen. It serves the purpose of a piece of furniture having several units that stands against one wall of a room.', 'tea cup is a container, cup designed for drinking utensils,scenestudio,tea cup. It serves the purpose of any object that can be used to hold things (especially a large metal boxlike object of standardized dimensions that can be loaded from one form of transport to another), a small open container usually used for drinking; usually has a handle; \"he put the cup back in the saucer\"; \"the handle of the cup was missing\".')\n",
      "Text Embedding Shape: torch.Size([8, 768])\n"
     ]
    }
   ],
   "source": [
    "# Load Dataset\n",
    "dataset_path = \"Data/ShapeNetSem/Datasets/subset_template_200.csv\"\n",
    "clip_dataset = CLIPTextModalityDataset(dataset_path)\n",
    "dataloader = DataLoader(clip_dataset, batch_size=8, shuffle=True, num_workers=0)\n",
    "model_name = \"ViT-L-14\"  # Change this to ViT-L/14 if needed\n",
    "pretrained = \"openai\"  \n",
    "save_path = f\"PretrainedModels/clip_vitl14_pretrain.pth\"\n",
    "\n",
    "clip_model = open_clip.create_model(model_name, pretrained=False)\n",
    "\n",
    "# Load saved state dict\n",
    "checkpoint = torch.load(save_path, map_location=\"cpu\")\n",
    "clip_model.load_state_dict(checkpoint)\n",
    "clip_model.eval()\n",
    "\n",
    "# Move model to GPU if available\n",
    "device = \"cuda\" if torch.cuda.is_available() else \"cpu\"\n",
    "clip_model.to(device)\n",
    "\n",
    "# Extract text embeddings\n",
    "for idx, tokenized_text, text_prompt in dataloader:\n",
    "    tokenized_text = tokenized_text.to(device)\n",
    "\n",
    "    with torch.no_grad():\n",
    "        text_embedding = clip_model.encode_text(tokenized_text)\n",
    "\n",
    "    print(f\"Text: {text_prompt}\")\n",
    "    print(f\"Text Embedding Shape: {text_embedding.shape}\")  # Expected: (batch_size, 512 or 768)\n",
    "    break  # Process one batch for testing"
   ]
  },
  {
   "cell_type": "code",
   "execution_count": 5,
   "metadata": {},
   "outputs": [
    {
     "ename": "KeyboardInterrupt",
     "evalue": "",
     "output_type": "error",
     "traceback": [
      "\u001b[0;31m---------------------------------------------------------------------------\u001b[0m",
      "\u001b[0;31mKeyboardInterrupt\u001b[0m                         Traceback (most recent call last)",
      "Cell \u001b[0;32mIn[5], line 14\u001b[0m\n\u001b[1;32m     12\u001b[0m \u001b[38;5;66;03m# Load saved state dict\u001b[39;00m\n\u001b[1;32m     13\u001b[0m checkpoint \u001b[38;5;241m=\u001b[39m torch\u001b[38;5;241m.\u001b[39mload(save_path, map_location\u001b[38;5;241m=\u001b[39m\u001b[38;5;124m\"\u001b[39m\u001b[38;5;124mcpu\u001b[39m\u001b[38;5;124m\"\u001b[39m)\n\u001b[0;32m---> 14\u001b[0m \u001b[43mclip_model\u001b[49m\u001b[38;5;241;43m.\u001b[39;49m\u001b[43mload_state_dict\u001b[49m\u001b[43m(\u001b[49m\u001b[43mcheckpoint\u001b[49m\u001b[43m)\u001b[49m\n\u001b[1;32m     15\u001b[0m clip_model\u001b[38;5;241m.\u001b[39meval()\n\u001b[1;32m     17\u001b[0m \u001b[38;5;66;03m# Move model to GPU if available\u001b[39;00m\n",
      "File \u001b[0;32m~/Documents/VSCode/multimodal-3d-gen/venv/lib/python3.9/site-packages/torch/nn/modules/module.py:2561\u001b[0m, in \u001b[0;36mModule.load_state_dict\u001b[0;34m(self, state_dict, strict, assign)\u001b[0m\n\u001b[1;32m   2554\u001b[0m         out \u001b[38;5;241m=\u001b[39m hook(module, incompatible_keys)\n\u001b[1;32m   2555\u001b[0m         \u001b[38;5;28;01massert\u001b[39;00m out \u001b[38;5;129;01mis\u001b[39;00m \u001b[38;5;28;01mNone\u001b[39;00m, (\n\u001b[1;32m   2556\u001b[0m             \u001b[38;5;124m\"\u001b[39m\u001b[38;5;124mHooks registered with ``register_load_state_dict_post_hook`` are not\u001b[39m\u001b[38;5;124m\"\u001b[39m\n\u001b[1;32m   2557\u001b[0m             \u001b[38;5;124m\"\u001b[39m\u001b[38;5;124mexpected to return new values, if incompatible_keys need to be modified,\u001b[39m\u001b[38;5;124m\"\u001b[39m\n\u001b[1;32m   2558\u001b[0m             \u001b[38;5;124m\"\u001b[39m\u001b[38;5;124mit should be done inplace.\u001b[39m\u001b[38;5;124m\"\u001b[39m\n\u001b[1;32m   2559\u001b[0m         )\n\u001b[0;32m-> 2561\u001b[0m \u001b[43mload\u001b[49m\u001b[43m(\u001b[49m\u001b[38;5;28;43mself\u001b[39;49m\u001b[43m,\u001b[49m\u001b[43m \u001b[49m\u001b[43mstate_dict\u001b[49m\u001b[43m)\u001b[49m\n\u001b[1;32m   2562\u001b[0m \u001b[38;5;28;01mdel\u001b[39;00m load\n\u001b[1;32m   2564\u001b[0m \u001b[38;5;28;01mif\u001b[39;00m strict:\n",
      "File \u001b[0;32m~/Documents/VSCode/multimodal-3d-gen/venv/lib/python3.9/site-packages/torch/nn/modules/module.py:2549\u001b[0m, in \u001b[0;36mModule.load_state_dict.<locals>.load\u001b[0;34m(module, local_state_dict, prefix)\u001b[0m\n\u001b[1;32m   2543\u001b[0m         child_prefix \u001b[38;5;241m=\u001b[39m prefix \u001b[38;5;241m+\u001b[39m name \u001b[38;5;241m+\u001b[39m \u001b[38;5;124m\"\u001b[39m\u001b[38;5;124m.\u001b[39m\u001b[38;5;124m\"\u001b[39m\n\u001b[1;32m   2544\u001b[0m         child_state_dict \u001b[38;5;241m=\u001b[39m {\n\u001b[1;32m   2545\u001b[0m             k: v\n\u001b[1;32m   2546\u001b[0m             \u001b[38;5;28;01mfor\u001b[39;00m k, v \u001b[38;5;129;01min\u001b[39;00m local_state_dict\u001b[38;5;241m.\u001b[39mitems()\n\u001b[1;32m   2547\u001b[0m             \u001b[38;5;28;01mif\u001b[39;00m k\u001b[38;5;241m.\u001b[39mstartswith(child_prefix)\n\u001b[1;32m   2548\u001b[0m         }\n\u001b[0;32m-> 2549\u001b[0m         \u001b[43mload\u001b[49m\u001b[43m(\u001b[49m\u001b[43mchild\u001b[49m\u001b[43m,\u001b[49m\u001b[43m \u001b[49m\u001b[43mchild_state_dict\u001b[49m\u001b[43m,\u001b[49m\u001b[43m \u001b[49m\u001b[43mchild_prefix\u001b[49m\u001b[43m)\u001b[49m  \u001b[38;5;66;03m# noqa: F821\u001b[39;00m\n\u001b[1;32m   2551\u001b[0m \u001b[38;5;66;03m# Note that the hook can modify missing_keys and unexpected_keys.\u001b[39;00m\n\u001b[1;32m   2552\u001b[0m incompatible_keys \u001b[38;5;241m=\u001b[39m _IncompatibleKeys(missing_keys, unexpected_keys)\n",
      "File \u001b[0;32m~/Documents/VSCode/multimodal-3d-gen/venv/lib/python3.9/site-packages/torch/nn/modules/module.py:2549\u001b[0m, in \u001b[0;36mModule.load_state_dict.<locals>.load\u001b[0;34m(module, local_state_dict, prefix)\u001b[0m\n\u001b[1;32m   2543\u001b[0m         child_prefix \u001b[38;5;241m=\u001b[39m prefix \u001b[38;5;241m+\u001b[39m name \u001b[38;5;241m+\u001b[39m \u001b[38;5;124m\"\u001b[39m\u001b[38;5;124m.\u001b[39m\u001b[38;5;124m\"\u001b[39m\n\u001b[1;32m   2544\u001b[0m         child_state_dict \u001b[38;5;241m=\u001b[39m {\n\u001b[1;32m   2545\u001b[0m             k: v\n\u001b[1;32m   2546\u001b[0m             \u001b[38;5;28;01mfor\u001b[39;00m k, v \u001b[38;5;129;01min\u001b[39;00m local_state_dict\u001b[38;5;241m.\u001b[39mitems()\n\u001b[1;32m   2547\u001b[0m             \u001b[38;5;28;01mif\u001b[39;00m k\u001b[38;5;241m.\u001b[39mstartswith(child_prefix)\n\u001b[1;32m   2548\u001b[0m         }\n\u001b[0;32m-> 2549\u001b[0m         \u001b[43mload\u001b[49m\u001b[43m(\u001b[49m\u001b[43mchild\u001b[49m\u001b[43m,\u001b[49m\u001b[43m \u001b[49m\u001b[43mchild_state_dict\u001b[49m\u001b[43m,\u001b[49m\u001b[43m \u001b[49m\u001b[43mchild_prefix\u001b[49m\u001b[43m)\u001b[49m  \u001b[38;5;66;03m# noqa: F821\u001b[39;00m\n\u001b[1;32m   2551\u001b[0m \u001b[38;5;66;03m# Note that the hook can modify missing_keys and unexpected_keys.\u001b[39;00m\n\u001b[1;32m   2552\u001b[0m incompatible_keys \u001b[38;5;241m=\u001b[39m _IncompatibleKeys(missing_keys, unexpected_keys)\n",
      "    \u001b[0;31m[... skipping similar frames: Module.load_state_dict.<locals>.load at line 2549 (1 times)]\u001b[0m\n",
      "File \u001b[0;32m~/Documents/VSCode/multimodal-3d-gen/venv/lib/python3.9/site-packages/torch/nn/modules/module.py:2549\u001b[0m, in \u001b[0;36mModule.load_state_dict.<locals>.load\u001b[0;34m(module, local_state_dict, prefix)\u001b[0m\n\u001b[1;32m   2543\u001b[0m         child_prefix \u001b[38;5;241m=\u001b[39m prefix \u001b[38;5;241m+\u001b[39m name \u001b[38;5;241m+\u001b[39m \u001b[38;5;124m\"\u001b[39m\u001b[38;5;124m.\u001b[39m\u001b[38;5;124m\"\u001b[39m\n\u001b[1;32m   2544\u001b[0m         child_state_dict \u001b[38;5;241m=\u001b[39m {\n\u001b[1;32m   2545\u001b[0m             k: v\n\u001b[1;32m   2546\u001b[0m             \u001b[38;5;28;01mfor\u001b[39;00m k, v \u001b[38;5;129;01min\u001b[39;00m local_state_dict\u001b[38;5;241m.\u001b[39mitems()\n\u001b[1;32m   2547\u001b[0m             \u001b[38;5;28;01mif\u001b[39;00m k\u001b[38;5;241m.\u001b[39mstartswith(child_prefix)\n\u001b[1;32m   2548\u001b[0m         }\n\u001b[0;32m-> 2549\u001b[0m         \u001b[43mload\u001b[49m\u001b[43m(\u001b[49m\u001b[43mchild\u001b[49m\u001b[43m,\u001b[49m\u001b[43m \u001b[49m\u001b[43mchild_state_dict\u001b[49m\u001b[43m,\u001b[49m\u001b[43m \u001b[49m\u001b[43mchild_prefix\u001b[49m\u001b[43m)\u001b[49m  \u001b[38;5;66;03m# noqa: F821\u001b[39;00m\n\u001b[1;32m   2551\u001b[0m \u001b[38;5;66;03m# Note that the hook can modify missing_keys and unexpected_keys.\u001b[39;00m\n\u001b[1;32m   2552\u001b[0m incompatible_keys \u001b[38;5;241m=\u001b[39m _IncompatibleKeys(missing_keys, unexpected_keys)\n",
      "File \u001b[0;32m~/Documents/VSCode/multimodal-3d-gen/venv/lib/python3.9/site-packages/torch/nn/modules/module.py:2532\u001b[0m, in \u001b[0;36mModule.load_state_dict.<locals>.load\u001b[0;34m(module, local_state_dict, prefix)\u001b[0m\n\u001b[1;32m   2530\u001b[0m \u001b[38;5;28;01mif\u001b[39;00m assign:\n\u001b[1;32m   2531\u001b[0m     local_metadata[\u001b[38;5;124m\"\u001b[39m\u001b[38;5;124massign_to_params_buffers\u001b[39m\u001b[38;5;124m\"\u001b[39m] \u001b[38;5;241m=\u001b[39m assign\n\u001b[0;32m-> 2532\u001b[0m \u001b[43mmodule\u001b[49m\u001b[38;5;241;43m.\u001b[39;49m\u001b[43m_load_from_state_dict\u001b[49m\u001b[43m(\u001b[49m\n\u001b[1;32m   2533\u001b[0m \u001b[43m    \u001b[49m\u001b[43mlocal_state_dict\u001b[49m\u001b[43m,\u001b[49m\n\u001b[1;32m   2534\u001b[0m \u001b[43m    \u001b[49m\u001b[43mprefix\u001b[49m\u001b[43m,\u001b[49m\n\u001b[1;32m   2535\u001b[0m \u001b[43m    \u001b[49m\u001b[43mlocal_metadata\u001b[49m\u001b[43m,\u001b[49m\n\u001b[1;32m   2536\u001b[0m \u001b[43m    \u001b[49m\u001b[38;5;28;43;01mTrue\u001b[39;49;00m\u001b[43m,\u001b[49m\n\u001b[1;32m   2537\u001b[0m \u001b[43m    \u001b[49m\u001b[43mmissing_keys\u001b[49m\u001b[43m,\u001b[49m\n\u001b[1;32m   2538\u001b[0m \u001b[43m    \u001b[49m\u001b[43munexpected_keys\u001b[49m\u001b[43m,\u001b[49m\n\u001b[1;32m   2539\u001b[0m \u001b[43m    \u001b[49m\u001b[43merror_msgs\u001b[49m\u001b[43m,\u001b[49m\n\u001b[1;32m   2540\u001b[0m \u001b[43m\u001b[49m\u001b[43m)\u001b[49m\n\u001b[1;32m   2541\u001b[0m \u001b[38;5;28;01mfor\u001b[39;00m name, child \u001b[38;5;129;01min\u001b[39;00m module\u001b[38;5;241m.\u001b[39m_modules\u001b[38;5;241m.\u001b[39mitems():\n\u001b[1;32m   2542\u001b[0m     \u001b[38;5;28;01mif\u001b[39;00m child \u001b[38;5;129;01mis\u001b[39;00m \u001b[38;5;129;01mnot\u001b[39;00m \u001b[38;5;28;01mNone\u001b[39;00m:\n",
      "File \u001b[0;32m~/Documents/VSCode/multimodal-3d-gen/venv/lib/python3.9/site-packages/torch/nn/modules/module.py:2438\u001b[0m, in \u001b[0;36mModule._load_from_state_dict\u001b[0;34m(self, state_dict, prefix, local_metadata, strict, missing_keys, unexpected_keys, error_msgs)\u001b[0m\n\u001b[1;32m   2436\u001b[0m             \u001b[38;5;28msetattr\u001b[39m(\u001b[38;5;28mself\u001b[39m, name, input_param)\n\u001b[1;32m   2437\u001b[0m         \u001b[38;5;28;01melse\u001b[39;00m:\n\u001b[0;32m-> 2438\u001b[0m             \u001b[43mparam\u001b[49m\u001b[38;5;241;43m.\u001b[39;49m\u001b[43mcopy_\u001b[49m\u001b[43m(\u001b[49m\u001b[43minput_param\u001b[49m\u001b[43m)\u001b[49m\n\u001b[1;32m   2439\u001b[0m \u001b[38;5;28;01mexcept\u001b[39;00m \u001b[38;5;167;01mException\u001b[39;00m \u001b[38;5;28;01mas\u001b[39;00m ex:\n\u001b[1;32m   2440\u001b[0m     action \u001b[38;5;241m=\u001b[39m \u001b[38;5;124m\"\u001b[39m\u001b[38;5;124mswapping\u001b[39m\u001b[38;5;124m\"\u001b[39m \u001b[38;5;28;01mif\u001b[39;00m use_swap_tensors \u001b[38;5;28;01melse\u001b[39;00m \u001b[38;5;124m\"\u001b[39m\u001b[38;5;124mcopying\u001b[39m\u001b[38;5;124m\"\u001b[39m\n",
      "\u001b[0;31mKeyboardInterrupt\u001b[0m: "
     ]
    }
   ],
   "source": [
    "from torch import Tensor\n",
    "# Load Dataset\n",
    "dataset_path = \"Data/ShapeNetSem/Datasets/subset_template_200.csv\"\n",
    "clip_dataset = CLIPTextModalityDataset(dataset_path)\n",
    "dataloader = DataLoader(clip_dataset, batch_size=1, shuffle=True, num_workers=0)\n",
    "model_name = \"ViT-L-14\"  # Change this to ViT-L/14 if needed\n",
    "pretrained = \"openai\"  \n",
    "save_path = f\"PretrainedModels/clip_vitl14_pretrain.pth\"\n",
    "\n",
    "clip_model = open_clip.create_model(model_name, pretrained=False)\n",
    "\n",
    "# Load saved state dict\n",
    "checkpoint = torch.load(save_path, map_location=\"cpu\")\n",
    "clip_model.load_state_dict(checkpoint)\n",
    "clip_model.eval()\n",
    "\n",
    "# Move model to GPU if available\n",
    "device = \"cuda\" if torch.cuda.is_available() else \"cpu\"\n",
    "clip_model.to(device)\n",
    "\n",
    "all_embeddings = []\n",
    "all_idx = []\n",
    "all_cats = []\n",
    "data = pd.read_csv(dataset_path)\n",
    "\n",
    "with torch.no_grad():\n",
    "    for idx, tokenized_text, text_prompt in dataloader:\n",
    "        tokenized_text = tokenized_text.to(device)  # Move to GPU if available\n",
    "\n",
    "        embedding = clip_model.encode_text(tokenized_text)  # Get feature vector (1, 384)\n",
    "        \n",
    "        all_embeddings.append(embedding)\n",
    "        all_idx.append(idx)\n",
    "\n",
    "        all_cats.append(data.loc[int(idx.item()), 'category'])\n"
   ]
  },
  {
   "cell_type": "code",
   "execution_count": 10,
   "metadata": {},
   "outputs": [
    {
     "data": {
      "text/plain": [
       "(200, 200, 200)"
      ]
     },
     "execution_count": 10,
     "metadata": {},
     "output_type": "execute_result"
    }
   ],
   "source": [
    "len(all_embeddings), len(all_idx), len(all_cats)"
   ]
  },
  {
   "cell_type": "code",
   "execution_count": 11,
   "metadata": {},
   "outputs": [],
   "source": [
    "embeddings_t = torch.concat(all_embeddings, dim=0)\n",
    "data_dict = {\n",
    "    \"embedding\": embeddings_t,\n",
    "    \"index\": all_idx,\n",
    "    \"category\": all_cats\n",
    "}\n",
    "\n",
    "save_path = \"Embeddings/CLIP/subset_template_200.pt\"\n",
    "torch.save(data_dict, save_path)"
   ]
  },
  {
   "cell_type": "code",
   "execution_count": 12,
   "metadata": {},
   "outputs": [],
   "source": [
    "import sklearn"
   ]
  },
  {
   "cell_type": "code",
   "execution_count": 13,
   "metadata": {},
   "outputs": [
    {
     "data": {
      "text/plain": [
       "(200, 768)"
      ]
     },
     "execution_count": 13,
     "metadata": {},
     "output_type": "execute_result"
    }
   ],
   "source": [
    "embeddings_t.numpy().shape"
   ]
  },
  {
   "cell_type": "code",
   "execution_count": 14,
   "metadata": {},
   "outputs": [],
   "source": [
    "from sklearn.decomposition import PCA\n",
    "from sklearn.preprocessing import OneHotEncoder\n",
    "import numpy as np\n",
    "\n",
    "embeddings = embeddings_t.numpy()"
   ]
  },
  {
   "cell_type": "code",
   "execution_count": 15,
   "metadata": {},
   "outputs": [],
   "source": [
    "formatted_categories = []\n",
    "for subcategory in all_cats:\n",
    "    subcategories = subcategory.split(',')\n",
    "    new_subcategories = [s for s in subcategories if '_' not in s]\n",
    "    formatted_categories.append(new_subcategories[0])"
   ]
  },
  {
   "cell_type": "code",
   "execution_count": 16,
   "metadata": {},
   "outputs": [
    {
     "name": "stdout",
     "output_type": "stream",
     "text": [
      "After OHE categories shape: (200, 19)\n",
      "After Argmax labels shape: (200,)\n",
      "Mapping (integer label -> string category): {0: 'Bed', 1: 'Books', 2: 'Camera', 3: 'CeilingFan', 4: 'ChestOfDrawers', 5: 'Couch', 6: 'DrinkingUtensil', 7: 'Fan', 8: 'Faucet', 9: 'MediaStorage', 10: 'PersonStanding', 11: 'PillBottle', 12: 'Plant', 13: 'PottedPlant', 14: 'Showerhead', 15: 'Table', 16: 'Truck', 17: 'USBStick', 18: 'Vase'}\n"
     ]
    }
   ],
   "source": [
    "# Initialize the OneHotEncoder\n",
    "encoder = OneHotEncoder(sparse_output=False)\n",
    "categories = np.array(formatted_categories).reshape(-1, 1)\n",
    "# Fit and transform the data\n",
    "one_hot_encoded = encoder.fit_transform(categories)\n",
    "print(f\"After OHE categories shape: {one_hot_encoded.shape}\")\n",
    "labels = one_hot_encoded.argmax(axis=1)\n",
    "print(f\"After Argmax labels shape: {labels.shape}\")\n",
    "cat_mapping = {i: cat for i, cat in enumerate(encoder.categories_[0])}\n",
    "print(\"Mapping (integer label -> string category):\", cat_mapping)\n"
   ]
  },
  {
   "cell_type": "code",
   "execution_count": 17,
   "metadata": {},
   "outputs": [
    {
     "name": "stdout",
     "output_type": "stream",
     "text": [
      "Before PCA embedding shape: (200, 768)\n",
      "After PCA embedding shape: (200, 100)\n"
     ]
    }
   ],
   "source": [
    "print(f\"Before PCA embedding shape: {embeddings.shape}\")\n",
    "pca = PCA(n_components=100, random_state=42)\n",
    "pca_result = pca.fit_transform(embeddings)\n",
    "print(f\"After PCA embedding shape: {pca_result.shape}\")"
   ]
  },
  {
   "cell_type": "code",
   "execution_count": 18,
   "metadata": {},
   "outputs": [
    {
     "name": "stdout",
     "output_type": "stream",
     "text": [
      "Before TSNE embedding shape: (200, 100)\n"
     ]
    },
    {
     "name": "stderr",
     "output_type": "stream",
     "text": [
      "/Users/rishabhrao/Documents/VSCode/multimodal-3d-gen/env/lib/python3.9/site-packages/threadpoolctl.py:1214: RuntimeWarning: \n",
      "Found Intel OpenMP ('libiomp') and LLVM OpenMP ('libomp') loaded at\n",
      "the same time. Both libraries are known to be incompatible and this\n",
      "can cause random crashes or deadlocks on Linux when loaded in the\n",
      "same Python program.\n",
      "Using threadpoolctl may cause crashes or deadlocks. For more\n",
      "information and possible workarounds, please see\n",
      "    https://github.com/joblib/threadpoolctl/blob/master/multiple_openmp.md\n",
      "\n",
      "  warnings.warn(msg, RuntimeWarning)\n"
     ]
    },
    {
     "name": "stdout",
     "output_type": "stream",
     "text": [
      "After TSNE embedding shape: (200, 2)\n"
     ]
    }
   ],
   "source": [
    "from sklearn.manifold import TSNE\n",
    "\n",
    "tsne = TSNE(n_components=2, random_state=42)\n",
    "print(f\"Before TSNE embedding shape: {pca_result.shape}\")\n",
    "tsne_result = tsne.fit_transform(pca_result)\n",
    "print(f\"After TSNE embedding shape: {tsne_result.shape}\")"
   ]
  },
  {
   "cell_type": "code",
   "execution_count": 19,
   "metadata": {},
   "outputs": [
    {
     "data": {
      "application/vnd.plotly.v1+json": {
       "config": {
        "plotlyServerURL": "https://plot.ly"
       },
       "data": [
        {
         "customdata": [
          [
           11,
           "PillBottle"
          ],
          [
           11,
           "PillBottle"
          ],
          [
           11,
           "PillBottle"
          ],
          [
           11,
           "PillBottle"
          ],
          [
           11,
           "PillBottle"
          ],
          [
           11,
           "PillBottle"
          ],
          [
           11,
           "PillBottle"
          ],
          [
           11,
           "PillBottle"
          ],
          [
           11,
           "PillBottle"
          ],
          [
           11,
           "PillBottle"
          ]
         ],
         "hovertemplate": "category=%{customdata[1]}<br>x=%{x}<br>y=%{y}<br>numeric_label=%{customdata[0]}<extra></extra>",
         "legendgroup": "PillBottle",
         "marker": {
          "color": "#636efa",
          "symbol": "circle"
         },
         "mode": "markers",
         "name": "PillBottle",
         "orientation": "v",
         "showlegend": true,
         "type": "scatter",
         "x": {
          "bdata": "cOKLwI8Ua8AAzp3AEM9mwBKek8BqwbLACxZTwBnRh8AqgILA8QSCwA==",
          "dtype": "f4"
         },
         "xaxis": "x",
         "y": {
          "bdata": "usHOwLaa4cA/oL/AnjvQwJSf4sAfXtXAVnHfwH7ZqcCtCNPAJK60wA==",
          "dtype": "f4"
         },
         "yaxis": "y"
        },
        {
         "customdata": [
          [
           0,
           "Bed"
          ],
          [
           0,
           "Bed"
          ],
          [
           0,
           "Bed"
          ],
          [
           0,
           "Bed"
          ],
          [
           0,
           "Bed"
          ],
          [
           0,
           "Bed"
          ],
          [
           0,
           "Bed"
          ],
          [
           0,
           "Bed"
          ],
          [
           0,
           "Bed"
          ],
          [
           0,
           "Bed"
          ],
          [
           0,
           "Bed"
          ],
          [
           0,
           "Bed"
          ],
          [
           0,
           "Bed"
          ],
          [
           0,
           "Bed"
          ],
          [
           0,
           "Bed"
          ],
          [
           0,
           "Bed"
          ],
          [
           0,
           "Bed"
          ],
          [
           0,
           "Bed"
          ],
          [
           0,
           "Bed"
          ],
          [
           0,
           "Bed"
          ],
          [
           0,
           "Bed"
          ]
         ],
         "hovertemplate": "category=%{customdata[1]}<br>x=%{x}<br>y=%{y}<br>numeric_label=%{customdata[0]}<extra></extra>",
         "legendgroup": "Bed",
         "marker": {
          "color": "#EF553B",
          "symbol": "circle"
         },
         "mode": "markers",
         "name": "Bed",
         "orientation": "v",
         "showlegend": true,
         "type": "scatter",
         "x": {
          "bdata": "1DwhQZYhx0A5Au1A/IMkQUzFBUHCXx5B+aUZQQ2Y4UD2/yNBKiAxQR+55UAdzuVAJN44QePzCUFq1TtBGDgHQZElJEGB2g9B9kL2QP28GUHCFgVB",
          "dtype": "f4"
         },
         "xaxis": "x",
         "y": {
          "bdata": "kWqKQKBj8EAV2ftAwDB6QGntoEA9FqlAJ1FcQJHVyEAlI+JA843xQHQi3UDO095AcOS7QMG1lECXUbpAg8uCQPgZukD8PcxAqOiyQOPSkUB8aZZA",
          "dtype": "f4"
         },
         "yaxis": "y"
        },
        {
         "customdata": [
          [
           4,
           "ChestOfDrawers"
          ],
          [
           4,
           "ChestOfDrawers"
          ],
          [
           4,
           "ChestOfDrawers"
          ],
          [
           4,
           "ChestOfDrawers"
          ],
          [
           4,
           "ChestOfDrawers"
          ],
          [
           4,
           "ChestOfDrawers"
          ],
          [
           4,
           "ChestOfDrawers"
          ],
          [
           4,
           "ChestOfDrawers"
          ],
          [
           4,
           "ChestOfDrawers"
          ]
         ],
         "hovertemplate": "category=%{customdata[1]}<br>x=%{x}<br>y=%{y}<br>numeric_label=%{customdata[0]}<extra></extra>",
         "legendgroup": "ChestOfDrawers",
         "marker": {
          "color": "#00cc96",
          "symbol": "circle"
         },
         "mode": "markers",
         "name": "ChestOfDrawers",
         "orientation": "v",
         "showlegend": true,
         "type": "scatter",
         "x": {
          "bdata": "FYOhQFMTB0DJBKZAUCd/QICTyEDwEYlA+f6CQNFQgUAT45FA",
          "dtype": "f4"
         },
         "xaxis": "x",
         "y": {
          "bdata": "GM9tQOft2EDq4F5AOO4IQBa6JUDx5TFA/eFVQGv2XUAUy5VA",
          "dtype": "f4"
         },
         "yaxis": "y"
        },
        {
         "customdata": [
          [
           15,
           "Table"
          ],
          [
           15,
           "Table"
          ],
          [
           15,
           "Table"
          ],
          [
           15,
           "Table"
          ],
          [
           15,
           "Table"
          ],
          [
           15,
           "Table"
          ],
          [
           15,
           "Table"
          ],
          [
           15,
           "Table"
          ],
          [
           15,
           "Table"
          ],
          [
           15,
           "Table"
          ],
          [
           15,
           "Table"
          ],
          [
           15,
           "Table"
          ],
          [
           15,
           "Table"
          ],
          [
           15,
           "Table"
          ],
          [
           15,
           "Table"
          ],
          [
           15,
           "Table"
          ],
          [
           15,
           "Table"
          ],
          [
           15,
           "Table"
          ],
          [
           15,
           "Table"
          ],
          [
           15,
           "Table"
          ],
          [
           15,
           "Table"
          ],
          [
           15,
           "Table"
          ],
          [
           15,
           "Table"
          ],
          [
           15,
           "Table"
          ],
          [
           15,
           "Table"
          ],
          [
           15,
           "Table"
          ],
          [
           15,
           "Table"
          ],
          [
           15,
           "Table"
          ],
          [
           15,
           "Table"
          ],
          [
           15,
           "Table"
          ]
         ],
         "hovertemplate": "category=%{customdata[1]}<br>x=%{x}<br>y=%{y}<br>numeric_label=%{customdata[0]}<extra></extra>",
         "legendgroup": "Table",
         "marker": {
          "color": "#ab63fa",
          "symbol": "circle"
         },
         "mode": "markers",
         "name": "Table",
         "orientation": "v",
         "showlegend": true,
         "type": "scatter",
         "x": {
          "bdata": "58yIv0d0CT5zdyw/Z1qmP4fZXb/pCg++vbuCPnmoQL+xvYs/QPVdv7vxJcBLSq6/uQ0avoikAkDy/ou+6hDJv2sybz5GkWW/syBWP4zwK78Q+X8+lroCQL1HZD7zZoe/6DeAv8WQrz/zcZs/rsvyv73TeLsrUAdA",
          "dtype": "f4"
         },
         "xaxis": "x",
         "y": {
          "bdata": "BGWjQFDqQEH1lRBB22tUQMf3wEBXLYJA7mjCQO1I2UBI3TtBr4j8QLO/+kCdasJAdbsNQRfCCEF56RlByp8mQRTwKkErTxxBbrYiQSZfEEH06MJA4JkPQZyVCkHfU8JAlSQyQbVuVkD/G4NAxNDSQA5PJUH4AilB",
          "dtype": "f4"
         },
         "yaxis": "y"
        },
        {
         "customdata": [
          [
           2,
           "Camera"
          ],
          [
           2,
           "Camera"
          ],
          [
           2,
           "Camera"
          ],
          [
           2,
           "Camera"
          ],
          [
           2,
           "Camera"
          ],
          [
           2,
           "Camera"
          ],
          [
           2,
           "Camera"
          ],
          [
           2,
           "Camera"
          ],
          [
           2,
           "Camera"
          ],
          [
           2,
           "Camera"
          ]
         ],
         "hovertemplate": "category=%{customdata[1]}<br>x=%{x}<br>y=%{y}<br>numeric_label=%{customdata[0]}<extra></extra>",
         "legendgroup": "Camera",
         "marker": {
          "color": "#FFA15A",
          "symbol": "circle"
         },
         "mode": "markers",
         "name": "Camera",
         "orientation": "v",
         "showlegend": true,
         "type": "scatter",
         "x": {
          "bdata": "WzJBwUeZM8GRwTDBLnc7wQgqMsFPxUbB7oMUwWoCMsHV9hPBkzgXwQ==",
          "dtype": "f4"
         },
         "xaxis": "x",
         "y": {
          "bdata": "DsKdwOQy6cCUUc/AYFKtwKSTsMA1MYfAHvanwM010sDm1KvAlAyewA==",
          "dtype": "f4"
         },
         "yaxis": "y"
        },
        {
         "customdata": [
          [
           10,
           "PersonStanding"
          ],
          [
           10,
           "PersonStanding"
          ],
          [
           10,
           "PersonStanding"
          ],
          [
           10,
           "PersonStanding"
          ],
          [
           10,
           "PersonStanding"
          ],
          [
           10,
           "PersonStanding"
          ],
          [
           10,
           "PersonStanding"
          ],
          [
           10,
           "PersonStanding"
          ],
          [
           10,
           "PersonStanding"
          ],
          [
           10,
           "PersonStanding"
          ]
         ],
         "hovertemplate": "category=%{customdata[1]}<br>x=%{x}<br>y=%{y}<br>numeric_label=%{customdata[0]}<extra></extra>",
         "legendgroup": "PersonStanding",
         "marker": {
          "color": "#19d3f3",
          "symbol": "circle"
         },
         "mode": "markers",
         "name": "PersonStanding",
         "orientation": "v",
         "showlegend": true,
         "type": "scatter",
         "x": {
          "bdata": "n+Sevro3kb9Ou1bBsgcNwWEGPT4xUDK/9s6Vv3EaQcBFN8G/dqCUvg==",
          "dtype": "f4"
         },
         "xaxis": "x",
         "y": {
          "bdata": "ByNDwc3eH8GmLZDAi9V9P2JuRcGHfDbB6VNUwf9AVMFngUnB9u1CwQ==",
          "dtype": "f4"
         },
         "yaxis": "y"
        },
        {
         "customdata": [
          [
           13,
           "PottedPlant"
          ],
          [
           13,
           "PottedPlant"
          ],
          [
           13,
           "PottedPlant"
          ],
          [
           13,
           "PottedPlant"
          ],
          [
           13,
           "PottedPlant"
          ],
          [
           13,
           "PottedPlant"
          ]
         ],
         "hovertemplate": "category=%{customdata[1]}<br>x=%{x}<br>y=%{y}<br>numeric_label=%{customdata[0]}<extra></extra>",
         "legendgroup": "PottedPlant",
         "marker": {
          "color": "#FF6692",
          "symbol": "circle"
         },
         "mode": "markers",
         "name": "PottedPlant",
         "orientation": "v",
         "showlegend": true,
         "type": "scatter",
         "x": {
          "bdata": "OUSWPhFi6T9v0UnA6c/WPzLZ3j/Jf3w/",
          "dtype": "f4"
         },
         "xaxis": "x",
         "y": {
          "bdata": "2UCzwMBWsMCP/0O/yIfZwGDK38ADM9jA",
          "dtype": "f4"
         },
         "yaxis": "y"
        },
        {
         "customdata": [
          [
           3,
           "CeilingFan"
          ],
          [
           3,
           "CeilingFan"
          ],
          [
           3,
           "CeilingFan"
          ],
          [
           3,
           "CeilingFan"
          ],
          [
           3,
           "CeilingFan"
          ],
          [
           3,
           "CeilingFan"
          ],
          [
           3,
           "CeilingFan"
          ],
          [
           3,
           "CeilingFan"
          ],
          [
           3,
           "CeilingFan"
          ]
         ],
         "hovertemplate": "category=%{customdata[1]}<br>x=%{x}<br>y=%{y}<br>numeric_label=%{customdata[0]}<extra></extra>",
         "legendgroup": "CeilingFan",
         "marker": {
          "color": "#B6E880",
          "symbol": "circle"
         },
         "mode": "markers",
         "name": "CeilingFan",
         "orientation": "v",
         "showlegend": true,
         "type": "scatter",
         "x": {
          "bdata": "ddbtQG6z/UCBKAJBMPj9QEYADUG5eAxBAm78QKyXEEEdLQRB",
          "dtype": "f4"
         },
         "xaxis": "x",
         "y": {
          "bdata": "3Fy2wBWGjMCRB7jAxyiQwF9IucCWTrvAtSfLwAG+4MBLLLXA",
          "dtype": "f4"
         },
         "yaxis": "y"
        },
        {
         "customdata": [
          [
           6,
           "DrinkingUtensil"
          ],
          [
           6,
           "DrinkingUtensil"
          ],
          [
           6,
           "DrinkingUtensil"
          ],
          [
           6,
           "DrinkingUtensil"
          ],
          [
           6,
           "DrinkingUtensil"
          ],
          [
           6,
           "DrinkingUtensil"
          ],
          [
           6,
           "DrinkingUtensil"
          ],
          [
           6,
           "DrinkingUtensil"
          ],
          [
           6,
           "DrinkingUtensil"
          ],
          [
           6,
           "DrinkingUtensil"
          ],
          [
           6,
           "DrinkingUtensil"
          ],
          [
           6,
           "DrinkingUtensil"
          ],
          [
           6,
           "DrinkingUtensil"
          ],
          [
           6,
           "DrinkingUtensil"
          ],
          [
           6,
           "DrinkingUtensil"
          ],
          [
           6,
           "DrinkingUtensil"
          ],
          [
           6,
           "DrinkingUtensil"
          ],
          [
           6,
           "DrinkingUtensil"
          ],
          [
           6,
           "DrinkingUtensil"
          ],
          [
           6,
           "DrinkingUtensil"
          ]
         ],
         "hovertemplate": "category=%{customdata[1]}<br>x=%{x}<br>y=%{y}<br>numeric_label=%{customdata[0]}<extra></extra>",
         "legendgroup": "DrinkingUtensil",
         "marker": {
          "color": "#FF97FF",
          "symbol": "circle"
         },
         "mode": "markers",
         "name": "DrinkingUtensil",
         "orientation": "v",
         "showlegend": true,
         "type": "scatter",
         "x": {
          "bdata": "3l6+wPd+p8DaC8nAH5jYwK7eCcG/m6/ArZrYwOIcvsBLmezAeG7fwChl5cBbGAzBVXfgwByCx8DzGdfAS4nLwFcZ+sDc4gHBfubfwIlwsMA=",
          "dtype": "f4"
         },
         "xaxis": "x",
         "y": {
          "bdata": "s8xJP3CAsD86hAs+NENnPyamm0CmphA/F9FmP1t6pD/r85xAqH6xQAsUl0CqOaJA5O6tQKer5T+kYJ1ApmM2QKteB0AB71BAb5zsP2wK6D8=",
          "dtype": "f4"
         },
         "yaxis": "y"
        },
        {
         "customdata": [
          [
           16,
           "Truck"
          ],
          [
           16,
           "Truck"
          ],
          [
           16,
           "Truck"
          ],
          [
           16,
           "Truck"
          ],
          [
           16,
           "Truck"
          ],
          [
           16,
           "Truck"
          ],
          [
           16,
           "Truck"
          ],
          [
           16,
           "Truck"
          ],
          [
           16,
           "Truck"
          ],
          [
           16,
           "Truck"
          ]
         ],
         "hovertemplate": "category=%{customdata[1]}<br>x=%{x}<br>y=%{y}<br>numeric_label=%{customdata[0]}<extra></extra>",
         "legendgroup": "Truck",
         "marker": {
          "color": "#FECB52",
          "symbol": "circle"
         },
         "mode": "markers",
         "name": "Truck",
         "orientation": "v",
         "showlegend": true,
         "type": "scatter",
         "x": {
          "bdata": "gZxlQY24XEHtcVpBqftKQTCRUkHtGmFBA+11QT+nTUG87WZBo5BdQQ==",
          "dtype": "f4"
         },
         "xaxis": "x",
         "y": {
          "bdata": "dh2Mv4kvkb94eP+/Lq3VvflPgL8CbO49vUi1v7JJP78mnZY+QlyKvw==",
          "dtype": "f4"
         },
         "yaxis": "y"
        },
        {
         "customdata": [
          [
           18,
           "Vase"
          ],
          [
           18,
           "Vase"
          ],
          [
           18,
           "Vase"
          ],
          [
           18,
           "Vase"
          ],
          [
           18,
           "Vase"
          ],
          [
           18,
           "Vase"
          ],
          [
           18,
           "Vase"
          ],
          [
           18,
           "Vase"
          ],
          [
           18,
           "Vase"
          ],
          [
           18,
           "Vase"
          ]
         ],
         "hovertemplate": "category=%{customdata[1]}<br>x=%{x}<br>y=%{y}<br>numeric_label=%{customdata[0]}<extra></extra>",
         "legendgroup": "Vase",
         "marker": {
          "color": "#636efa",
          "symbol": "circle"
         },
         "mode": "markers",
         "name": "Vase",
         "orientation": "v",
         "showlegend": true,
         "type": "scatter",
         "x": {
          "bdata": "6wIWwBO5Z79n8Lu/4+iNvhnxuL7l6I2+3RpTv7IHsL/YlXC/3Zurvw==",
          "dtype": "f4"
         },
         "xaxis": "x",
         "y": {
          "bdata": "Y/YvwGzokMADJHDAaXApwJ2fc8BpcCnAcbN1wIenBcBfhzvAF9dHwA==",
          "dtype": "f4"
         },
         "yaxis": "y"
        },
        {
         "customdata": [
          [
           8,
           "Faucet"
          ],
          [
           8,
           "Faucet"
          ],
          [
           8,
           "Faucet"
          ],
          [
           8,
           "Faucet"
          ],
          [
           8,
           "Faucet"
          ],
          [
           8,
           "Faucet"
          ],
          [
           8,
           "Faucet"
          ],
          [
           8,
           "Faucet"
          ]
         ],
         "hovertemplate": "category=%{customdata[1]}<br>x=%{x}<br>y=%{y}<br>numeric_label=%{customdata[0]}<extra></extra>",
         "legendgroup": "Faucet",
         "marker": {
          "color": "#EF553B",
          "symbol": "circle"
         },
         "mode": "markers",
         "name": "Faucet",
         "orientation": "v",
         "showlegend": true,
         "type": "scatter",
         "x": {
          "bdata": "VSNrwXGRT8HuZEXB2mdMwe9yTcGKQmnBPnNNwci1a8E=",
          "dtype": "f4"
         },
         "xaxis": "x",
         "y": {
          "bdata": "mkAYQIAyyT56ws8/03BJPzkF9z/j2BtAZk4HvwvKHkA=",
          "dtype": "f4"
         },
         "yaxis": "y"
        },
        {
         "customdata": [
          [
           9,
           "MediaStorage"
          ],
          [
           9,
           "MediaStorage"
          ],
          [
           9,
           "MediaStorage"
          ],
          [
           9,
           "MediaStorage"
          ],
          [
           9,
           "MediaStorage"
          ],
          [
           9,
           "MediaStorage"
          ],
          [
           9,
           "MediaStorage"
          ],
          [
           9,
           "MediaStorage"
          ],
          [
           9,
           "MediaStorage"
          ],
          [
           9,
           "MediaStorage"
          ]
         ],
         "hovertemplate": "category=%{customdata[1]}<br>x=%{x}<br>y=%{y}<br>numeric_label=%{customdata[0]}<extra></extra>",
         "legendgroup": "MediaStorage",
         "marker": {
          "color": "#00cc96",
          "symbol": "circle"
         },
         "mode": "markers",
         "name": "MediaStorage",
         "orientation": "v",
         "showlegend": true,
         "type": "scatter",
         "x": {
          "bdata": "Cv9kQA6GjEDOc81AnravQC2d1EDEe5lAktTFQNnkwEAb9CRAuwHPQA==",
          "dtype": "f4"
         },
         "xaxis": "x",
         "y": {
          "bdata": "FSlkPvlvlz6HpDC/i4xtvspYmz794/U/7cFjPfekBb7ys/I/meZQPw==",
          "dtype": "f4"
         },
         "yaxis": "y"
        },
        {
         "customdata": [
          [
           1,
           "Books"
          ],
          [
           1,
           "Books"
          ],
          [
           1,
           "Books"
          ],
          [
           1,
           "Books"
          ],
          [
           1,
           "Books"
          ],
          [
           1,
           "Books"
          ],
          [
           1,
           "Books"
          ],
          [
           1,
           "Books"
          ],
          [
           1,
           "Books"
          ],
          [
           1,
           "Books"
          ]
         ],
         "hovertemplate": "category=%{customdata[1]}<br>x=%{x}<br>y=%{y}<br>numeric_label=%{customdata[0]}<extra></extra>",
         "legendgroup": "Books",
         "marker": {
          "color": "#ab63fa",
          "symbol": "circle"
         },
         "mode": "markers",
         "name": "Books",
         "orientation": "v",
         "showlegend": true,
         "type": "scatter",
         "x": {
          "bdata": "IhCWQNztoEAn/ZRALEypQIpzjkB7G3tAoi+sQMJikkBqRsZA8DFlQA==",
          "dtype": "f4"
         },
         "xaxis": "x",
         "y": {
          "bdata": "sr8owTzjKMGS2zrBx5VEwQpCOMEGBzbBot82wZpgJcEZAT7Bc84nwQ==",
          "dtype": "f4"
         },
         "yaxis": "y"
        },
        {
         "customdata": [
          [
           12,
           "Plant"
          ],
          [
           12,
           "Plant"
          ],
          [
           12,
           "Plant"
          ],
          [
           12,
           "Plant"
          ]
         ],
         "hovertemplate": "category=%{customdata[1]}<br>x=%{x}<br>y=%{y}<br>numeric_label=%{customdata[0]}<extra></extra>",
         "legendgroup": "Plant",
         "marker": {
          "color": "#FFA15A",
          "symbol": "circle"
         },
         "mode": "markers",
         "name": "Plant",
         "orientation": "v",
         "showlegend": true,
         "type": "scatter",
         "x": {
          "bdata": "ookcP+f/R0CtVypAm58YQA==",
          "dtype": "f4"
         },
         "xaxis": "x",
         "y": {
          "bdata": "gWTswGNkocDWGsDAx6rrwA==",
          "dtype": "f4"
         },
         "yaxis": "y"
        },
        {
         "customdata": [
          [
           17,
           "USBStick"
          ],
          [
           17,
           "USBStick"
          ],
          [
           17,
           "USBStick"
          ],
          [
           17,
           "USBStick"
          ],
          [
           17,
           "USBStick"
          ],
          [
           17,
           "USBStick"
          ],
          [
           17,
           "USBStick"
          ],
          [
           17,
           "USBStick"
          ],
          [
           17,
           "USBStick"
          ],
          [
           17,
           "USBStick"
          ]
         ],
         "hovertemplate": "category=%{customdata[1]}<br>x=%{x}<br>y=%{y}<br>numeric_label=%{customdata[0]}<extra></extra>",
         "legendgroup": "USBStick",
         "marker": {
          "color": "#19d3f3",
          "symbol": "circle"
         },
         "mode": "markers",
         "name": "USBStick",
         "orientation": "v",
         "showlegend": true,
         "type": "scatter",
         "x": {
          "bdata": "jDYEwRo61cCr7uXAGrTiwJdt1cBJmAHB4nbkwK4C68DDIgrBGL62wA==",
          "dtype": "f4"
         },
         "xaxis": "x",
         "y": {
          "bdata": "75MZwTAIGMFbMDnBc+sjwVf4KMHnNS3BwEIawet5IcFo8RbBQZwrwQ==",
          "dtype": "f4"
         },
         "yaxis": "y"
        },
        {
         "customdata": [
          [
           5,
           "Couch"
          ],
          [
           5,
           "Couch"
          ],
          [
           5,
           "Couch"
          ],
          [
           5,
           "Couch"
          ],
          [
           5,
           "Couch"
          ],
          [
           5,
           "Couch"
          ],
          [
           5,
           "Couch"
          ],
          [
           5,
           "Couch"
          ],
          [
           5,
           "Couch"
          ],
          [
           5,
           "Couch"
          ]
         ],
         "hovertemplate": "category=%{customdata[1]}<br>x=%{x}<br>y=%{y}<br>numeric_label=%{customdata[0]}<extra></extra>",
         "legendgroup": "Couch",
         "marker": {
          "color": "#FF6692",
          "symbol": "circle"
         },
         "mode": "markers",
         "name": "Couch",
         "orientation": "v",
         "showlegend": true,
         "type": "scatter",
         "x": {
          "bdata": "HAEFQbRq6kCIE+pAhsUBQfFV4UCGVg9B9CEQQeZp/UCrGfBAZL3XQA==",
          "dtype": "f4"
         },
         "xaxis": "x",
         "y": {
          "bdata": "fDBIQRwMRkEpcCxBNfAyQaJ0OEF/2zlBjZo2QTpCPUGELzpB9LFDQQ==",
          "dtype": "f4"
         },
         "yaxis": "y"
        },
        {
         "customdata": [
          [
           14,
           "Showerhead"
          ],
          [
           14,
           "Showerhead"
          ]
         ],
         "hovertemplate": "category=%{customdata[1]}<br>x=%{x}<br>y=%{y}<br>numeric_label=%{customdata[0]}<extra></extra>",
         "legendgroup": "Showerhead",
         "marker": {
          "color": "#B6E880",
          "symbol": "circle"
         },
         "mode": "markers",
         "name": "Showerhead",
         "orientation": "v",
         "showlegend": true,
         "type": "scatter",
         "x": {
          "bdata": "SlBZwTplW8E=",
          "dtype": "f4"
         },
         "xaxis": "x",
         "y": {
          "bdata": "titZPj9zhD8=",
          "dtype": "f4"
         },
         "yaxis": "y"
        },
        {
         "customdata": [
          [
           7,
           "Fan"
          ]
         ],
         "hovertemplate": "category=%{customdata[1]}<br>x=%{x}<br>y=%{y}<br>numeric_label=%{customdata[0]}<extra></extra>",
         "legendgroup": "Fan",
         "marker": {
          "color": "#FF97FF",
          "symbol": "circle"
         },
         "mode": "markers",
         "name": "Fan",
         "orientation": "v",
         "showlegend": true,
         "type": "scatter",
         "x": {
          "bdata": "D6EEQQ==",
          "dtype": "f4"
         },
         "xaxis": "x",
         "y": {
          "bdata": "QKjiwA==",
          "dtype": "f4"
         },
         "yaxis": "y"
        }
       ],
       "layout": {
        "legend": {
         "title": {
          "text": "category"
         },
         "tracegroupgap": 0
        },
        "template": {
         "data": {
          "bar": [
           {
            "error_x": {
             "color": "#2a3f5f"
            },
            "error_y": {
             "color": "#2a3f5f"
            },
            "marker": {
             "line": {
              "color": "#E5ECF6",
              "width": 0.5
             },
             "pattern": {
              "fillmode": "overlay",
              "size": 10,
              "solidity": 0.2
             }
            },
            "type": "bar"
           }
          ],
          "barpolar": [
           {
            "marker": {
             "line": {
              "color": "#E5ECF6",
              "width": 0.5
             },
             "pattern": {
              "fillmode": "overlay",
              "size": 10,
              "solidity": 0.2
             }
            },
            "type": "barpolar"
           }
          ],
          "carpet": [
           {
            "aaxis": {
             "endlinecolor": "#2a3f5f",
             "gridcolor": "white",
             "linecolor": "white",
             "minorgridcolor": "white",
             "startlinecolor": "#2a3f5f"
            },
            "baxis": {
             "endlinecolor": "#2a3f5f",
             "gridcolor": "white",
             "linecolor": "white",
             "minorgridcolor": "white",
             "startlinecolor": "#2a3f5f"
            },
            "type": "carpet"
           }
          ],
          "choropleth": [
           {
            "colorbar": {
             "outlinewidth": 0,
             "ticks": ""
            },
            "type": "choropleth"
           }
          ],
          "contour": [
           {
            "colorbar": {
             "outlinewidth": 0,
             "ticks": ""
            },
            "colorscale": [
             [
              0,
              "#0d0887"
             ],
             [
              0.1111111111111111,
              "#46039f"
             ],
             [
              0.2222222222222222,
              "#7201a8"
             ],
             [
              0.3333333333333333,
              "#9c179e"
             ],
             [
              0.4444444444444444,
              "#bd3786"
             ],
             [
              0.5555555555555556,
              "#d8576b"
             ],
             [
              0.6666666666666666,
              "#ed7953"
             ],
             [
              0.7777777777777778,
              "#fb9f3a"
             ],
             [
              0.8888888888888888,
              "#fdca26"
             ],
             [
              1,
              "#f0f921"
             ]
            ],
            "type": "contour"
           }
          ],
          "contourcarpet": [
           {
            "colorbar": {
             "outlinewidth": 0,
             "ticks": ""
            },
            "type": "contourcarpet"
           }
          ],
          "heatmap": [
           {
            "colorbar": {
             "outlinewidth": 0,
             "ticks": ""
            },
            "colorscale": [
             [
              0,
              "#0d0887"
             ],
             [
              0.1111111111111111,
              "#46039f"
             ],
             [
              0.2222222222222222,
              "#7201a8"
             ],
             [
              0.3333333333333333,
              "#9c179e"
             ],
             [
              0.4444444444444444,
              "#bd3786"
             ],
             [
              0.5555555555555556,
              "#d8576b"
             ],
             [
              0.6666666666666666,
              "#ed7953"
             ],
             [
              0.7777777777777778,
              "#fb9f3a"
             ],
             [
              0.8888888888888888,
              "#fdca26"
             ],
             [
              1,
              "#f0f921"
             ]
            ],
            "type": "heatmap"
           }
          ],
          "histogram": [
           {
            "marker": {
             "pattern": {
              "fillmode": "overlay",
              "size": 10,
              "solidity": 0.2
             }
            },
            "type": "histogram"
           }
          ],
          "histogram2d": [
           {
            "colorbar": {
             "outlinewidth": 0,
             "ticks": ""
            },
            "colorscale": [
             [
              0,
              "#0d0887"
             ],
             [
              0.1111111111111111,
              "#46039f"
             ],
             [
              0.2222222222222222,
              "#7201a8"
             ],
             [
              0.3333333333333333,
              "#9c179e"
             ],
             [
              0.4444444444444444,
              "#bd3786"
             ],
             [
              0.5555555555555556,
              "#d8576b"
             ],
             [
              0.6666666666666666,
              "#ed7953"
             ],
             [
              0.7777777777777778,
              "#fb9f3a"
             ],
             [
              0.8888888888888888,
              "#fdca26"
             ],
             [
              1,
              "#f0f921"
             ]
            ],
            "type": "histogram2d"
           }
          ],
          "histogram2dcontour": [
           {
            "colorbar": {
             "outlinewidth": 0,
             "ticks": ""
            },
            "colorscale": [
             [
              0,
              "#0d0887"
             ],
             [
              0.1111111111111111,
              "#46039f"
             ],
             [
              0.2222222222222222,
              "#7201a8"
             ],
             [
              0.3333333333333333,
              "#9c179e"
             ],
             [
              0.4444444444444444,
              "#bd3786"
             ],
             [
              0.5555555555555556,
              "#d8576b"
             ],
             [
              0.6666666666666666,
              "#ed7953"
             ],
             [
              0.7777777777777778,
              "#fb9f3a"
             ],
             [
              0.8888888888888888,
              "#fdca26"
             ],
             [
              1,
              "#f0f921"
             ]
            ],
            "type": "histogram2dcontour"
           }
          ],
          "mesh3d": [
           {
            "colorbar": {
             "outlinewidth": 0,
             "ticks": ""
            },
            "type": "mesh3d"
           }
          ],
          "parcoords": [
           {
            "line": {
             "colorbar": {
              "outlinewidth": 0,
              "ticks": ""
             }
            },
            "type": "parcoords"
           }
          ],
          "pie": [
           {
            "automargin": true,
            "type": "pie"
           }
          ],
          "scatter": [
           {
            "fillpattern": {
             "fillmode": "overlay",
             "size": 10,
             "solidity": 0.2
            },
            "type": "scatter"
           }
          ],
          "scatter3d": [
           {
            "line": {
             "colorbar": {
              "outlinewidth": 0,
              "ticks": ""
             }
            },
            "marker": {
             "colorbar": {
              "outlinewidth": 0,
              "ticks": ""
             }
            },
            "type": "scatter3d"
           }
          ],
          "scattercarpet": [
           {
            "marker": {
             "colorbar": {
              "outlinewidth": 0,
              "ticks": ""
             }
            },
            "type": "scattercarpet"
           }
          ],
          "scattergeo": [
           {
            "marker": {
             "colorbar": {
              "outlinewidth": 0,
              "ticks": ""
             }
            },
            "type": "scattergeo"
           }
          ],
          "scattergl": [
           {
            "marker": {
             "colorbar": {
              "outlinewidth": 0,
              "ticks": ""
             }
            },
            "type": "scattergl"
           }
          ],
          "scattermap": [
           {
            "marker": {
             "colorbar": {
              "outlinewidth": 0,
              "ticks": ""
             }
            },
            "type": "scattermap"
           }
          ],
          "scattermapbox": [
           {
            "marker": {
             "colorbar": {
              "outlinewidth": 0,
              "ticks": ""
             }
            },
            "type": "scattermapbox"
           }
          ],
          "scatterpolar": [
           {
            "marker": {
             "colorbar": {
              "outlinewidth": 0,
              "ticks": ""
             }
            },
            "type": "scatterpolar"
           }
          ],
          "scatterpolargl": [
           {
            "marker": {
             "colorbar": {
              "outlinewidth": 0,
              "ticks": ""
             }
            },
            "type": "scatterpolargl"
           }
          ],
          "scatterternary": [
           {
            "marker": {
             "colorbar": {
              "outlinewidth": 0,
              "ticks": ""
             }
            },
            "type": "scatterternary"
           }
          ],
          "surface": [
           {
            "colorbar": {
             "outlinewidth": 0,
             "ticks": ""
            },
            "colorscale": [
             [
              0,
              "#0d0887"
             ],
             [
              0.1111111111111111,
              "#46039f"
             ],
             [
              0.2222222222222222,
              "#7201a8"
             ],
             [
              0.3333333333333333,
              "#9c179e"
             ],
             [
              0.4444444444444444,
              "#bd3786"
             ],
             [
              0.5555555555555556,
              "#d8576b"
             ],
             [
              0.6666666666666666,
              "#ed7953"
             ],
             [
              0.7777777777777778,
              "#fb9f3a"
             ],
             [
              0.8888888888888888,
              "#fdca26"
             ],
             [
              1,
              "#f0f921"
             ]
            ],
            "type": "surface"
           }
          ],
          "table": [
           {
            "cells": {
             "fill": {
              "color": "#EBF0F8"
             },
             "line": {
              "color": "white"
             }
            },
            "header": {
             "fill": {
              "color": "#C8D4E3"
             },
             "line": {
              "color": "white"
             }
            },
            "type": "table"
           }
          ]
         },
         "layout": {
          "annotationdefaults": {
           "arrowcolor": "#2a3f5f",
           "arrowhead": 0,
           "arrowwidth": 1
          },
          "autotypenumbers": "strict",
          "coloraxis": {
           "colorbar": {
            "outlinewidth": 0,
            "ticks": ""
           }
          },
          "colorscale": {
           "diverging": [
            [
             0,
             "#8e0152"
            ],
            [
             0.1,
             "#c51b7d"
            ],
            [
             0.2,
             "#de77ae"
            ],
            [
             0.3,
             "#f1b6da"
            ],
            [
             0.4,
             "#fde0ef"
            ],
            [
             0.5,
             "#f7f7f7"
            ],
            [
             0.6,
             "#e6f5d0"
            ],
            [
             0.7,
             "#b8e186"
            ],
            [
             0.8,
             "#7fbc41"
            ],
            [
             0.9,
             "#4d9221"
            ],
            [
             1,
             "#276419"
            ]
           ],
           "sequential": [
            [
             0,
             "#0d0887"
            ],
            [
             0.1111111111111111,
             "#46039f"
            ],
            [
             0.2222222222222222,
             "#7201a8"
            ],
            [
             0.3333333333333333,
             "#9c179e"
            ],
            [
             0.4444444444444444,
             "#bd3786"
            ],
            [
             0.5555555555555556,
             "#d8576b"
            ],
            [
             0.6666666666666666,
             "#ed7953"
            ],
            [
             0.7777777777777778,
             "#fb9f3a"
            ],
            [
             0.8888888888888888,
             "#fdca26"
            ],
            [
             1,
             "#f0f921"
            ]
           ],
           "sequentialminus": [
            [
             0,
             "#0d0887"
            ],
            [
             0.1111111111111111,
             "#46039f"
            ],
            [
             0.2222222222222222,
             "#7201a8"
            ],
            [
             0.3333333333333333,
             "#9c179e"
            ],
            [
             0.4444444444444444,
             "#bd3786"
            ],
            [
             0.5555555555555556,
             "#d8576b"
            ],
            [
             0.6666666666666666,
             "#ed7953"
            ],
            [
             0.7777777777777778,
             "#fb9f3a"
            ],
            [
             0.8888888888888888,
             "#fdca26"
            ],
            [
             1,
             "#f0f921"
            ]
           ]
          },
          "colorway": [
           "#636efa",
           "#EF553B",
           "#00cc96",
           "#ab63fa",
           "#FFA15A",
           "#19d3f3",
           "#FF6692",
           "#B6E880",
           "#FF97FF",
           "#FECB52"
          ],
          "font": {
           "color": "#2a3f5f"
          },
          "geo": {
           "bgcolor": "white",
           "lakecolor": "white",
           "landcolor": "#E5ECF6",
           "showlakes": true,
           "showland": true,
           "subunitcolor": "white"
          },
          "hoverlabel": {
           "align": "left"
          },
          "hovermode": "closest",
          "mapbox": {
           "style": "light"
          },
          "paper_bgcolor": "white",
          "plot_bgcolor": "#E5ECF6",
          "polar": {
           "angularaxis": {
            "gridcolor": "white",
            "linecolor": "white",
            "ticks": ""
           },
           "bgcolor": "#E5ECF6",
           "radialaxis": {
            "gridcolor": "white",
            "linecolor": "white",
            "ticks": ""
           }
          },
          "scene": {
           "xaxis": {
            "backgroundcolor": "#E5ECF6",
            "gridcolor": "white",
            "gridwidth": 2,
            "linecolor": "white",
            "showbackground": true,
            "ticks": "",
            "zerolinecolor": "white"
           },
           "yaxis": {
            "backgroundcolor": "#E5ECF6",
            "gridcolor": "white",
            "gridwidth": 2,
            "linecolor": "white",
            "showbackground": true,
            "ticks": "",
            "zerolinecolor": "white"
           },
           "zaxis": {
            "backgroundcolor": "#E5ECF6",
            "gridcolor": "white",
            "gridwidth": 2,
            "linecolor": "white",
            "showbackground": true,
            "ticks": "",
            "zerolinecolor": "white"
           }
          },
          "shapedefaults": {
           "line": {
            "color": "#2a3f5f"
           }
          },
          "ternary": {
           "aaxis": {
            "gridcolor": "white",
            "linecolor": "white",
            "ticks": ""
           },
           "baxis": {
            "gridcolor": "white",
            "linecolor": "white",
            "ticks": ""
           },
           "bgcolor": "#E5ECF6",
           "caxis": {
            "gridcolor": "white",
            "linecolor": "white",
            "ticks": ""
           }
          },
          "title": {
           "x": 0.05
          },
          "xaxis": {
           "automargin": true,
           "gridcolor": "white",
           "linecolor": "white",
           "ticks": "",
           "title": {
            "standoff": 15
           },
           "zerolinecolor": "white",
           "zerolinewidth": 2
          },
          "yaxis": {
           "automargin": true,
           "gridcolor": "white",
           "linecolor": "white",
           "ticks": "",
           "title": {
            "standoff": 15
           },
           "zerolinecolor": "white",
           "zerolinewidth": 2
          }
         }
        },
        "title": {
         "text": "Interactive t-SNE Visualization with Category Info"
        },
        "xaxis": {
         "anchor": "y",
         "domain": [
          0,
          1
         ],
         "title": {
          "text": "x"
         }
        },
        "yaxis": {
         "anchor": "x",
         "domain": [
          0,
          1
         ],
         "title": {
          "text": "y"
         }
        }
       }
      }
     },
     "metadata": {},
     "output_type": "display_data"
    }
   ],
   "source": [
    "import plotly.express as px\n",
    "plot_data = pd.DataFrame({\n",
    "    'x': tsne_result[:, 0],\n",
    "    'y': tsne_result[:, 1],\n",
    "    'numeric_label': labels,\n",
    "    'category': [cat_mapping[label] for label in labels]\n",
    "})\n",
    "\n",
    "# Create an interactive scatter plot using Plotly Express\n",
    "fig = px.scatter(\n",
    "    plot_data, x='x', y='y', color='category',\n",
    "    hover_data={'numeric_label': True, 'category': True},\n",
    "    title=\"Interactive t-SNE Visualization with Category Info\"\n",
    ")\n",
    "fig.show()"
   ]
  }
 ],
 "metadata": {
  "kernelspec": {
   "display_name": "venv",
   "language": "python",
   "name": "python3"
  },
  "language_info": {
   "codemirror_mode": {
    "name": "ipython",
    "version": 3
   },
   "file_extension": ".py",
   "mimetype": "text/x-python",
   "name": "python",
   "nbconvert_exporter": "python",
   "pygments_lexer": "ipython3",
   "version": "3.9.6"
  }
 },
 "nbformat": 4,
 "nbformat_minor": 2
}
