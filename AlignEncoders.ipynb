{
 "cells": [
  {
   "cell_type": "code",
   "execution_count": 5,
   "metadata": {},
   "outputs": [
    {
     "name": "stderr",
     "output_type": "stream",
     "text": [
      "/Users/rishabhrao/Documents/VSCode/multimodal-3d-gen/env/lib/python3.12/site-packages/tqdm/auto.py:21: TqdmWarning: IProgress not found. Please update jupyter and ipywidgets. See https://ipywidgets.readthedocs.io/en/stable/user_install.html\n",
      "  from .autonotebook import tqdm as notebook_tqdm\n"
     ]
    }
   ],
   "source": [
    "from utils import *\n",
    "from alignment import *"
   ]
  },
  {
   "cell_type": "code",
   "execution_count": 6,
   "metadata": {},
   "outputs": [
    {
     "name": "stdout",
     "output_type": "stream",
     "text": [
      "tensor([198])\n",
      "Tokenized Text: torch.Size([1, 77]), <class 'torch.Tensor'>\n",
      "Image Tensor: torch.Size([1, 3, 518, 518]), <class 'torch.Tensor'>\n",
      "Point Cloud: torch.Size([1, 1024, 3]), <class 'torch.Tensor'>\n"
     ]
    }
   ],
   "source": [
    "dataset_path = \"Data/ShapeNetSem/Datasets/subset_template_200.csv\"\n",
    "image_dir = \"Data/ShapeNetSem/Images/subset_200\"\n",
    "pc_dir = \"Data/ProcessedData/PointClouds\"\n",
    "\n",
    "dataset = AlignedModalityDataset(dataset_path, image_dir, pc_dir)\n",
    "dataloader = DataLoader(dataset, batch_size=1, shuffle=True)\n",
    "\n",
    "for idx, token_text, image_tensor, point_cloud in dataloader:\n",
    "    print(idx)\n",
    "    print(f\"Tokenized Text: {token_text.shape}, {type(token_text)}\")\n",
    "    print(f\"Image Tensor: {image_tensor.shape}, {type(image_tensor)}\")\n",
    "    print(f\"Point Cloud: {point_cloud.shape}, {type(point_cloud)}\")\n",
    "    break"
   ]
  },
  {
   "cell_type": "code",
   "execution_count": 7,
   "metadata": {},
   "outputs": [
    {
     "name": "stdout",
     "output_type": "stream",
     "text": [
      "Dinov2 Loaded Successfully!\n",
      "CLIP Model Loaded Successfully!\n",
      "Point CLIP Model Loaded Successfully!\n",
      "All Models loaded succesfully and set to eval mode\n"
     ]
    }
   ],
   "source": [
    "try:\n",
    "    dinov2_encoder = load_dinov2()\n",
    "    clip_encoder = load_clip()\n",
    "    pclip_encoder = load_point_clip()\n",
    "    dinov2_encoder.eval()\n",
    "    clip_encoder.eval()\n",
    "    pclip_encoder.eval()\n",
    "    print('All Models loaded succesfully and set to eval mode')\n",
    "except:\n",
    "    print('Error in Loading Models')"
   ]
  },
  {
   "cell_type": "code",
   "execution_count": 8,
   "metadata": {},
   "outputs": [
    {
     "name": "stdout",
     "output_type": "stream",
     "text": [
      "Model weights loaded successfully!\n"
     ]
    }
   ],
   "source": [
    "# Initialize the model\n",
    "align_model = AlignEncoder(400)  # Ensure the architecture matches\n",
    "\n",
    "# Load the saved weights\n",
    "checkpoint_path = \"TrainedModels/Baseline/150.pth\"\n",
    "state_dict = torch.load(checkpoint_path, map_location=torch.device('cpu'))  # Load to CPU\n",
    "\n",
    "# Apply the weights to the model\n",
    "align_model.load_state_dict(state_dict)\n",
    "\n",
    "# Set to evaluation mode (if needed)\n",
    "align_model.eval()\n",
    "device = \"cuda\" if torch.cuda.is_available() else \"cpu\"\n",
    "align_model.to(device)\n",
    "\n",
    "print(\"Model weights loaded successfully!\")\n"
   ]
  },
  {
   "cell_type": "markdown",
   "metadata": {},
   "source": [
    "Forward Pass"
   ]
  },
  {
   "cell_type": "code",
   "execution_count": null,
   "metadata": {},
   "outputs": [
    {
     "name": "stdout",
     "output_type": "stream",
     "text": [
      "<class 'torch.Tensor'>\n"
     ]
    }
   ],
   "source": [
    "dataset_path = \"Data/ShapeNetSem/Datasets/subset_template_200.csv\"\n",
    "image_dir = \"Data/ShapeNetSem/Images/subset_200\"\n",
    "pc_dir = \"Data/ProcessedData/PointClouds\"\n",
    "\n",
    "# Set up CLIP preprocessing\n",
    "preprocess = image_transform(\n",
    "    clip_encoder.visual.image_size,  # Correct image size for CLIP\n",
    "    is_train=False  # Ensures we use inference preprocessing\n",
    ")\n",
    "\n",
    "dataset = AlignedModalityDataset(dataset_path, image_dir, pc_dir)\n",
    "dataloader = DataLoader(dataset, batch_size=8, shuffle=True)\n",
    "loss_fn = NTXentLoss(temperature=0.07)\n",
    "\n",
    "with torch.no_grad():\n",
    "    for i, batch in enumerate(dataloader):\n",
    "        idx, tokenized_text, image_tensor, point_cloud = batch\n",
    "        tokenized_text = tokenized_text.to(device) # (B, 77)\n",
    "        image_tensor = image_tensor.to(device) # (B, 3, 518, 518)\n",
    "\n",
    "        point_cloud = point_cloud.to(device) # (B, 1024, 3)\n",
    "\n",
    "        # Assuming point_cloud is a batch of point clouds (shape: [batch_size, N, 3])\n",
    "        batch_size = point_cloud.shape[0]\n",
    "\n",
    "        # Convert each point cloud to a depth map and preprocess it\n",
    "        depth_maps = [preprocess(point_cloud_to_depth_map(point_cloud[i])).unsqueeze(0) for i in range(batch_size)]\n",
    "\n",
    "        # Stack depth maps into a single batch tensor\n",
    "        depth_maps = torch.cat(depth_maps, dim=0).to(device)  # Shape: [batch_size, 3, H, W]\n",
    "\n",
    "        text_emb = clip_encoder.encode_text(tokenized_text) # (B, 768)\n",
    "        img_emb = dinov2_encoder(image_tensor) # (B, 384)\n",
    "        pc_emb = pclip_encoder.encode_image(depth_maps) # (B, 768)\n",
    "        text_proj, img_proj, pc_proj = align_model(text_emb, img_emb, pc_emb)\n",
    "\n",
    "        loss_text_point = loss_fn(text_proj, pc_proj)\n",
    "        loss_text_image = loss_fn(text_proj, img_proj)\n",
    "        loss_image_point = loss_fn(img_proj, pc_proj)\n",
    "\n",
    "        avg_loss = (loss_text_point + loss_text_image + loss_image_point) / 3\n",
    "        \"\"\"\n",
    "        print(\"Input shapes: \", tokenized_text.shape, image_tensor.shape, point_cloud.shape)\n",
    "        print(\"Depth Map Shapes: \", depth_maps.shape)\n",
    "        print(\"Embedding shapes: \", text_emb.shape, img_emb.shape, pc_emb.shape)\n",
    "        print(\"Projection Shapes: \", text_proj.shape, img_proj.shape, pc_proj.shape)\n",
    "        print(\"Loss: \", loss_text_point, loss_text_image, loss_image_point)\n",
    "        print(\"Average Loss: \",avg_loss)\n",
    "        \"\"\"  \n",
    "        break  "
   ]
  },
  {
   "cell_type": "markdown",
   "metadata": {},
   "source": [
    "# Cross Modal Retrieval"
   ]
  },
  {
   "cell_type": "code",
   "execution_count": 37,
   "metadata": {},
   "outputs": [],
   "source": [
    "dataset_path = \"Data/ShapeNetSem/Datasets/subset_template_200.csv\"\n",
    "embed_path = \"Embeddings/ALIGN/subset_template_200.pt\"\n",
    "\n",
    "cmr = CrossModalRetrival(dataset_path, embed_path)"
   ]
  },
  {
   "cell_type": "code",
   "execution_count": 30,
   "metadata": {},
   "outputs": [],
   "source": [
    "dataset_path = \"Data/ShapeNetSem/Datasets/subset_template_200.csv\"\n",
    "image_dir = \"Data/ShapeNetSem/Images/subset_200\"\n",
    "pc_dir = \"Data/ProcessedData/PointClouds\"\n",
    "\n",
    "# Set up CLIP preprocessing\n",
    "preprocess = image_transform(\n",
    "    clip_encoder.visual.image_size,  # Correct image size for CLIP\n",
    "    is_train=False  # Ensures we use inference preprocessing\n",
    ")\n",
    "\n",
    "dataset = AlignedModalityDataset(dataset_path, image_dir, pc_dir)\n",
    "dataloader = DataLoader(dataset, batch_size=1, shuffle=True)\n",
    "\n",
    "with torch.no_grad():\n",
    "    for i, batch in enumerate(dataloader):\n",
    "        idx, tokenized_text, image_tensor, point_cloud = batch\n",
    "        tokenized_text = tokenized_text.to(device) # (B, 77)\n",
    "        image_tensor = image_tensor.to(device) # (B, 3, 518, 518)\n",
    "\n",
    "        point_cloud = point_cloud.to(device) # (B, 1024, 3)\n",
    "\n",
    "        # Assuming point_cloud is a batch of point clouds (shape: [batch_size, N, 3])\n",
    "        batch_size = point_cloud.shape[0]\n",
    "\n",
    "        # Convert each point cloud to a depth map and preprocess it\n",
    "        depth_maps = [preprocess(point_cloud_to_depth_map(point_cloud[i])).unsqueeze(0) for i in range(batch_size)]\n",
    "\n",
    "        # Stack depth maps into a single batch tensor\n",
    "        depth_maps = torch.cat(depth_maps, dim=0).to(device)  # Shape: [batch_size, 3, H, W]\n",
    "\n",
    "        text_emb = clip_encoder.encode_text(tokenized_text) # (B, 768)\n",
    "        img_emb = dinov2_encoder(image_tensor) # (B, 384)\n",
    "        pc_emb = pclip_encoder.encode_image(depth_maps) # (B, 768)\n",
    "        text_proj, img_proj, pc_proj = align_model(text_emb, img_emb, pc_emb)\n",
    "\n",
    "        break  "
   ]
  },
  {
   "cell_type": "code",
   "execution_count": 38,
   "metadata": {},
   "outputs": [
    {
     "data": {
      "text/plain": [
       "[71, 76, 82, 80, 85]"
      ]
     },
     "execution_count": 38,
     "metadata": {},
     "output_type": "execute_result"
    }
   ],
   "source": [
    "idx"
   ]
  },
  {
   "cell_type": "code",
   "execution_count": 39,
   "metadata": {},
   "outputs": [
    {
     "data": {
      "text/html": [
       "<div>\n",
       "<style scoped>\n",
       "    .dataframe tbody tr th:only-of-type {\n",
       "        vertical-align: middle;\n",
       "    }\n",
       "\n",
       "    .dataframe tbody tr th {\n",
       "        vertical-align: top;\n",
       "    }\n",
       "\n",
       "    .dataframe thead th {\n",
       "        text-align: right;\n",
       "    }\n",
       "</style>\n",
       "<table border=\"1\" class=\"dataframe\">\n",
       "  <thead>\n",
       "    <tr style=\"text-align: right;\">\n",
       "      <th></th>\n",
       "      <th>fullId</th>\n",
       "      <th>category</th>\n",
       "      <th>name</th>\n",
       "      <th>tags</th>\n",
       "      <th>synset words</th>\n",
       "      <th>synset gloss</th>\n",
       "      <th>template1_desc</th>\n",
       "      <th>template2_desc</th>\n",
       "      <th>template3_desc</th>\n",
       "    </tr>\n",
       "  </thead>\n",
       "  <tbody>\n",
       "    <tr>\n",
       "      <th>71</th>\n",
       "      <td>eaf341c056c79bec1a2c782fdbf60db6</td>\n",
       "      <td>MediaStorage,TvStand</td>\n",
       "      <td>dresser   entertainment chest</td>\n",
       "      <td>ajberger,bed,bedroom,chest,drawers,dresser,ent...</td>\n",
       "      <td>[nan, 'stand']</td>\n",
       "      <td>[nan, 'a small table for holding articles of v...</td>\n",
       "      <td>A dresser   entertainment chest which is commo...</td>\n",
       "      <td>The dresser   entertainment chest is a stand o...</td>\n",
       "      <td>dresser   entertainment chest is a stand desig...</td>\n",
       "    </tr>\n",
       "    <tr>\n",
       "      <th>76</th>\n",
       "      <td>3cdd2855b459d71199bdf8d5a28e79e9</td>\n",
       "      <td>MediaStorage,TvStand</td>\n",
       "      <td>tv cabinet</td>\n",
       "      <td>cabinet,center,media,stand,television,tv</td>\n",
       "      <td>[nan, 'stand']</td>\n",
       "      <td>[nan, 'a small table for holding articles of v...</td>\n",
       "      <td>A tv cabinet which is commonly known as cabine...</td>\n",
       "      <td>The tv cabinet is a stand often used for cabin...</td>\n",
       "      <td>tv cabinet is a stand designed for cabinet,cen...</td>\n",
       "    </tr>\n",
       "    <tr>\n",
       "      <th>82</th>\n",
       "      <td>aa122afea2dcf725db039d8689a74349</td>\n",
       "      <td>ChestOfDrawers,Nightstand</td>\n",
       "      <td>end table</td>\n",
       "      <td>arts and crafts,cabinet,craftsman,drawer,dynam...</td>\n",
       "      <td>['chest of drawers,chest,bureau,dresser']</td>\n",
       "      <td>['furniture with drawers for keeping clothes']</td>\n",
       "      <td>A end table which is commonly known as arts an...</td>\n",
       "      <td>The end table is a chest of drawers,chest,bure...</td>\n",
       "      <td>end table is a chest of drawers,chest,bureau,d...</td>\n",
       "    </tr>\n",
       "    <tr>\n",
       "      <th>80</th>\n",
       "      <td>1844a4ed0ff7ed38c2474c54a2e772f2</td>\n",
       "      <td>ChestOfDrawers,Nightstand</td>\n",
       "      <td>modern bedside table</td>\n",
       "      <td>bedside table,end table,modern</td>\n",
       "      <td>['chest of drawers,chest,bureau,dresser']</td>\n",
       "      <td>['furniture with drawers for keeping clothes']</td>\n",
       "      <td>A modern bedside table which is commonly known...</td>\n",
       "      <td>The modern bedside table is a chest of drawers...</td>\n",
       "      <td>modern bedside table is a chest of drawers,che...</td>\n",
       "    </tr>\n",
       "    <tr>\n",
       "      <th>85</th>\n",
       "      <td>5360cc2de7dfbc237a8c23d2d40f51b8</td>\n",
       "      <td>ChestOfDrawers,Nightstand</td>\n",
       "      <td>ikea rian table</td>\n",
       "      <td>bedside table,ikea,rian,small table,table</td>\n",
       "      <td>['chest of drawers,chest,bureau,dresser']</td>\n",
       "      <td>['furniture with drawers for keeping clothes']</td>\n",
       "      <td>A ikea rian table which is commonly known as b...</td>\n",
       "      <td>The ikea rian table is a chest of drawers,ches...</td>\n",
       "      <td>ikea rian table is a chest of drawers,chest,bu...</td>\n",
       "    </tr>\n",
       "  </tbody>\n",
       "</table>\n",
       "</div>"
      ],
      "text/plain": [
       "                              fullId                   category  \\\n",
       "71  eaf341c056c79bec1a2c782fdbf60db6       MediaStorage,TvStand   \n",
       "76  3cdd2855b459d71199bdf8d5a28e79e9       MediaStorage,TvStand   \n",
       "82  aa122afea2dcf725db039d8689a74349  ChestOfDrawers,Nightstand   \n",
       "80  1844a4ed0ff7ed38c2474c54a2e772f2  ChestOfDrawers,Nightstand   \n",
       "85  5360cc2de7dfbc237a8c23d2d40f51b8  ChestOfDrawers,Nightstand   \n",
       "\n",
       "                             name  \\\n",
       "71  dresser   entertainment chest   \n",
       "76                     tv cabinet   \n",
       "82                      end table   \n",
       "80           modern bedside table   \n",
       "85                ikea rian table   \n",
       "\n",
       "                                                 tags  \\\n",
       "71  ajberger,bed,bedroom,chest,drawers,dresser,ent...   \n",
       "76           cabinet,center,media,stand,television,tv   \n",
       "82  arts and crafts,cabinet,craftsman,drawer,dynam...   \n",
       "80                     bedside table,end table,modern   \n",
       "85          bedside table,ikea,rian,small table,table   \n",
       "\n",
       "                                 synset words  \\\n",
       "71                             [nan, 'stand']   \n",
       "76                             [nan, 'stand']   \n",
       "82  ['chest of drawers,chest,bureau,dresser']   \n",
       "80  ['chest of drawers,chest,bureau,dresser']   \n",
       "85  ['chest of drawers,chest,bureau,dresser']   \n",
       "\n",
       "                                         synset gloss  \\\n",
       "71  [nan, 'a small table for holding articles of v...   \n",
       "76  [nan, 'a small table for holding articles of v...   \n",
       "82     ['furniture with drawers for keeping clothes']   \n",
       "80     ['furniture with drawers for keeping clothes']   \n",
       "85     ['furniture with drawers for keeping clothes']   \n",
       "\n",
       "                                       template1_desc  \\\n",
       "71  A dresser   entertainment chest which is commo...   \n",
       "76  A tv cabinet which is commonly known as cabine...   \n",
       "82  A end table which is commonly known as arts an...   \n",
       "80  A modern bedside table which is commonly known...   \n",
       "85  A ikea rian table which is commonly known as b...   \n",
       "\n",
       "                                       template2_desc  \\\n",
       "71  The dresser   entertainment chest is a stand o...   \n",
       "76  The tv cabinet is a stand often used for cabin...   \n",
       "82  The end table is a chest of drawers,chest,bure...   \n",
       "80  The modern bedside table is a chest of drawers...   \n",
       "85  The ikea rian table is a chest of drawers,ches...   \n",
       "\n",
       "                                       template3_desc  \n",
       "71  dresser   entertainment chest is a stand desig...  \n",
       "76  tv cabinet is a stand designed for cabinet,cen...  \n",
       "82  end table is a chest of drawers,chest,bureau,d...  \n",
       "80  modern bedside table is a chest of drawers,che...  \n",
       "85  ikea rian table is a chest of drawers,chest,bu...  "
      ]
     },
     "execution_count": 39,
     "metadata": {},
     "output_type": "execute_result"
    }
   ],
   "source": [
    "df = pd.read_csv(dataset_path)\n",
    "df.iloc[idx]"
   ]
  },
  {
   "cell_type": "code",
   "execution_count": 40,
   "metadata": {},
   "outputs": [],
   "source": [
    "cmr.load_embeddings()"
   ]
  },
  {
   "cell_type": "code",
   "execution_count": 41,
   "metadata": {},
   "outputs": [],
   "source": [
    "# retrieve(self, query, query_modality, target_modality, top_k=5)\n",
    "idx, mesh_ids, projs = cmr.retrieve(text_proj, 'text', 'img', 5)"
   ]
  },
  {
   "cell_type": "code",
   "execution_count": 42,
   "metadata": {},
   "outputs": [
    {
     "data": {
      "text/html": [
       "<div>\n",
       "<style scoped>\n",
       "    .dataframe tbody tr th:only-of-type {\n",
       "        vertical-align: middle;\n",
       "    }\n",
       "\n",
       "    .dataframe tbody tr th {\n",
       "        vertical-align: top;\n",
       "    }\n",
       "\n",
       "    .dataframe thead th {\n",
       "        text-align: right;\n",
       "    }\n",
       "</style>\n",
       "<table border=\"1\" class=\"dataframe\">\n",
       "  <thead>\n",
       "    <tr style=\"text-align: right;\">\n",
       "      <th></th>\n",
       "      <th>fullId</th>\n",
       "      <th>category</th>\n",
       "      <th>name</th>\n",
       "      <th>tags</th>\n",
       "      <th>synset words</th>\n",
       "      <th>synset gloss</th>\n",
       "      <th>template1_desc</th>\n",
       "      <th>template2_desc</th>\n",
       "      <th>template3_desc</th>\n",
       "    </tr>\n",
       "  </thead>\n",
       "  <tbody>\n",
       "    <tr>\n",
       "      <th>71</th>\n",
       "      <td>eaf341c056c79bec1a2c782fdbf60db6</td>\n",
       "      <td>MediaStorage,TvStand</td>\n",
       "      <td>dresser   entertainment chest</td>\n",
       "      <td>ajberger,bed,bedroom,chest,drawers,dresser,ent...</td>\n",
       "      <td>[nan, 'stand']</td>\n",
       "      <td>[nan, 'a small table for holding articles of v...</td>\n",
       "      <td>A dresser   entertainment chest which is commo...</td>\n",
       "      <td>The dresser   entertainment chest is a stand o...</td>\n",
       "      <td>dresser   entertainment chest is a stand desig...</td>\n",
       "    </tr>\n",
       "    <tr>\n",
       "      <th>76</th>\n",
       "      <td>3cdd2855b459d71199bdf8d5a28e79e9</td>\n",
       "      <td>MediaStorage,TvStand</td>\n",
       "      <td>tv cabinet</td>\n",
       "      <td>cabinet,center,media,stand,television,tv</td>\n",
       "      <td>[nan, 'stand']</td>\n",
       "      <td>[nan, 'a small table for holding articles of v...</td>\n",
       "      <td>A tv cabinet which is commonly known as cabine...</td>\n",
       "      <td>The tv cabinet is a stand often used for cabin...</td>\n",
       "      <td>tv cabinet is a stand designed for cabinet,cen...</td>\n",
       "    </tr>\n",
       "    <tr>\n",
       "      <th>82</th>\n",
       "      <td>aa122afea2dcf725db039d8689a74349</td>\n",
       "      <td>ChestOfDrawers,Nightstand</td>\n",
       "      <td>end table</td>\n",
       "      <td>arts and crafts,cabinet,craftsman,drawer,dynam...</td>\n",
       "      <td>['chest of drawers,chest,bureau,dresser']</td>\n",
       "      <td>['furniture with drawers for keeping clothes']</td>\n",
       "      <td>A end table which is commonly known as arts an...</td>\n",
       "      <td>The end table is a chest of drawers,chest,bure...</td>\n",
       "      <td>end table is a chest of drawers,chest,bureau,d...</td>\n",
       "    </tr>\n",
       "    <tr>\n",
       "      <th>80</th>\n",
       "      <td>1844a4ed0ff7ed38c2474c54a2e772f2</td>\n",
       "      <td>ChestOfDrawers,Nightstand</td>\n",
       "      <td>modern bedside table</td>\n",
       "      <td>bedside table,end table,modern</td>\n",
       "      <td>['chest of drawers,chest,bureau,dresser']</td>\n",
       "      <td>['furniture with drawers for keeping clothes']</td>\n",
       "      <td>A modern bedside table which is commonly known...</td>\n",
       "      <td>The modern bedside table is a chest of drawers...</td>\n",
       "      <td>modern bedside table is a chest of drawers,che...</td>\n",
       "    </tr>\n",
       "    <tr>\n",
       "      <th>85</th>\n",
       "      <td>5360cc2de7dfbc237a8c23d2d40f51b8</td>\n",
       "      <td>ChestOfDrawers,Nightstand</td>\n",
       "      <td>ikea rian table</td>\n",
       "      <td>bedside table,ikea,rian,small table,table</td>\n",
       "      <td>['chest of drawers,chest,bureau,dresser']</td>\n",
       "      <td>['furniture with drawers for keeping clothes']</td>\n",
       "      <td>A ikea rian table which is commonly known as b...</td>\n",
       "      <td>The ikea rian table is a chest of drawers,ches...</td>\n",
       "      <td>ikea rian table is a chest of drawers,chest,bu...</td>\n",
       "    </tr>\n",
       "  </tbody>\n",
       "</table>\n",
       "</div>"
      ],
      "text/plain": [
       "                              fullId                   category  \\\n",
       "71  eaf341c056c79bec1a2c782fdbf60db6       MediaStorage,TvStand   \n",
       "76  3cdd2855b459d71199bdf8d5a28e79e9       MediaStorage,TvStand   \n",
       "82  aa122afea2dcf725db039d8689a74349  ChestOfDrawers,Nightstand   \n",
       "80  1844a4ed0ff7ed38c2474c54a2e772f2  ChestOfDrawers,Nightstand   \n",
       "85  5360cc2de7dfbc237a8c23d2d40f51b8  ChestOfDrawers,Nightstand   \n",
       "\n",
       "                             name  \\\n",
       "71  dresser   entertainment chest   \n",
       "76                     tv cabinet   \n",
       "82                      end table   \n",
       "80           modern bedside table   \n",
       "85                ikea rian table   \n",
       "\n",
       "                                                 tags  \\\n",
       "71  ajberger,bed,bedroom,chest,drawers,dresser,ent...   \n",
       "76           cabinet,center,media,stand,television,tv   \n",
       "82  arts and crafts,cabinet,craftsman,drawer,dynam...   \n",
       "80                     bedside table,end table,modern   \n",
       "85          bedside table,ikea,rian,small table,table   \n",
       "\n",
       "                                 synset words  \\\n",
       "71                             [nan, 'stand']   \n",
       "76                             [nan, 'stand']   \n",
       "82  ['chest of drawers,chest,bureau,dresser']   \n",
       "80  ['chest of drawers,chest,bureau,dresser']   \n",
       "85  ['chest of drawers,chest,bureau,dresser']   \n",
       "\n",
       "                                         synset gloss  \\\n",
       "71  [nan, 'a small table for holding articles of v...   \n",
       "76  [nan, 'a small table for holding articles of v...   \n",
       "82     ['furniture with drawers for keeping clothes']   \n",
       "80     ['furniture with drawers for keeping clothes']   \n",
       "85     ['furniture with drawers for keeping clothes']   \n",
       "\n",
       "                                       template1_desc  \\\n",
       "71  A dresser   entertainment chest which is commo...   \n",
       "76  A tv cabinet which is commonly known as cabine...   \n",
       "82  A end table which is commonly known as arts an...   \n",
       "80  A modern bedside table which is commonly known...   \n",
       "85  A ikea rian table which is commonly known as b...   \n",
       "\n",
       "                                       template2_desc  \\\n",
       "71  The dresser   entertainment chest is a stand o...   \n",
       "76  The tv cabinet is a stand often used for cabin...   \n",
       "82  The end table is a chest of drawers,chest,bure...   \n",
       "80  The modern bedside table is a chest of drawers...   \n",
       "85  The ikea rian table is a chest of drawers,ches...   \n",
       "\n",
       "                                       template3_desc  \n",
       "71  dresser   entertainment chest is a stand desig...  \n",
       "76  tv cabinet is a stand designed for cabinet,cen...  \n",
       "82  end table is a chest of drawers,chest,bureau,d...  \n",
       "80  modern bedside table is a chest of drawers,che...  \n",
       "85  ikea rian table is a chest of drawers,chest,bu...  "
      ]
     },
     "execution_count": 42,
     "metadata": {},
     "output_type": "execute_result"
    }
   ],
   "source": [
    "df.iloc[idx]"
   ]
  },
  {
   "cell_type": "code",
   "execution_count": 43,
   "metadata": {},
   "outputs": [
    {
     "data": {
      "text/plain": [
       "71    eaf341c056c79bec1a2c782fdbf60db6\n",
       "76    3cdd2855b459d71199bdf8d5a28e79e9\n",
       "82    aa122afea2dcf725db039d8689a74349\n",
       "80    1844a4ed0ff7ed38c2474c54a2e772f2\n",
       "85    5360cc2de7dfbc237a8c23d2d40f51b8\n",
       "Name: fullId, dtype: object"
      ]
     },
     "execution_count": 43,
     "metadata": {},
     "output_type": "execute_result"
    }
   ],
   "source": [
    "mesh_ids"
   ]
  },
  {
   "cell_type": "code",
   "execution_count": null,
   "metadata": {},
   "outputs": [],
   "source": []
  }
 ],
 "metadata": {
  "kernelspec": {
   "display_name": "env",
   "language": "python",
   "name": "python3"
  },
  "language_info": {
   "codemirror_mode": {
    "name": "ipython",
    "version": 3
   },
   "file_extension": ".py",
   "mimetype": "text/x-python",
   "name": "python",
   "nbconvert_exporter": "python",
   "pygments_lexer": "ipython3",
   "version": "3.12.4"
  }
 },
 "nbformat": 4,
 "nbformat_minor": 2
}
