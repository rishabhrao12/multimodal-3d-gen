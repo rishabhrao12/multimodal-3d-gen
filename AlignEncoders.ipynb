{
 "cells": [
  {
   "cell_type": "code",
   "execution_count": 1,
   "metadata": {},
   "outputs": [
    {
     "name": "stderr",
     "output_type": "stream",
     "text": [
      "/Users/rishabhrao/Documents/VSCode/multimodal-3d-gen/env/lib/python3.12/site-packages/tqdm/auto.py:21: TqdmWarning: IProgress not found. Please update jupyter and ipywidgets. See https://ipywidgets.readthedocs.io/en/stable/user_install.html\n",
      "  from .autonotebook import tqdm as notebook_tqdm\n"
     ]
    }
   ],
   "source": [
    "from utils import *\n",
    "from alignment import *"
   ]
  },
  {
   "cell_type": "code",
   "execution_count": 2,
   "metadata": {},
   "outputs": [
    {
     "name": "stdout",
     "output_type": "stream",
     "text": [
      "tensor([131])\n",
      "Tokenized Text: torch.Size([1, 77]), <class 'torch.Tensor'>\n",
      "Image Tensor: torch.Size([1, 3, 518, 518]), <class 'torch.Tensor'>\n",
      "Point Cloud: torch.Size([1, 1024, 3]), <class 'torch.Tensor'>\n"
     ]
    }
   ],
   "source": [
    "dataset_path = \"Data/ShapeNetSem/Datasets/subset_template_200.csv\"\n",
    "image_dir = \"Data/ShapeNetSem/Images/subset_200\"\n",
    "pc_dir = \"Data/ProcessedData/PointClouds\"\n",
    "\n",
    "dataset = AlignedModalityDataset(dataset_path, image_dir, pc_dir)\n",
    "dataloader = DataLoader(dataset, batch_size=1, shuffle=True)\n",
    "\n",
    "for idx, token_text, image_tensor, point_cloud in dataloader:\n",
    "    print(idx)\n",
    "    print(f\"Tokenized Text: {token_text.shape}, {type(token_text)}\")\n",
    "    print(f\"Image Tensor: {image_tensor.shape}, {type(image_tensor)}\")\n",
    "    print(f\"Point Cloud: {point_cloud.shape}, {type(point_cloud)}\")\n",
    "    break"
   ]
  },
  {
   "cell_type": "code",
   "execution_count": 3,
   "metadata": {},
   "outputs": [
    {
     "name": "stdout",
     "output_type": "stream",
     "text": [
      "Dinov2 Loaded Successfully!\n",
      "CLIP Model Loaded Successfully!\n",
      "Point CLIP Model Loaded Successfully!\n",
      "All Models loaded succesfully and set to eval mode\n"
     ]
    }
   ],
   "source": [
    "try:\n",
    "    dinov2_encoder = load_dinov2()\n",
    "    clip_encoder = load_clip()\n",
    "    pclip_encoder = load_point_clip()\n",
    "    dinov2_encoder.eval()\n",
    "    clip_encoder.eval()\n",
    "    pclip_encoder.eval()\n",
    "    print('All Models loaded succesfully and set to eval mode')\n",
    "except:\n",
    "    print('Error in Loading Models')"
   ]
  },
  {
   "cell_type": "code",
   "execution_count": 4,
   "metadata": {},
   "outputs": [
    {
     "name": "stdout",
     "output_type": "stream",
     "text": [
      "Model weights loaded successfully!\n"
     ]
    }
   ],
   "source": [
    "# Initialize the model\n",
    "align_model = AlignEncoder(400)  # Ensure the architecture matches\n",
    "\n",
    "# Load the saved weights\n",
    "checkpoint_path = \"TrainedModels/Baseline/150.pth\"\n",
    "state_dict = torch.load(checkpoint_path, map_location=torch.device('cpu'))  # Load to CPU\n",
    "\n",
    "# Apply the weights to the model\n",
    "align_model.load_state_dict(state_dict)\n",
    "\n",
    "# Set to evaluation mode (if needed)\n",
    "align_model.eval()\n",
    "device = \"cuda\" if torch.cuda.is_available() else \"cpu\"\n",
    "align_model.to(device)\n",
    "\n",
    "print(\"Model weights loaded successfully!\")\n"
   ]
  },
  {
   "cell_type": "markdown",
   "metadata": {},
   "source": [
    "Forward Pass"
   ]
  },
  {
   "cell_type": "code",
   "execution_count": null,
   "metadata": {},
   "outputs": [
    {
     "name": "stdout",
     "output_type": "stream",
     "text": [
      "<class 'torch.Tensor'>\n"
     ]
    }
   ],
   "source": [
    "dataset_path = \"Data/ShapeNetSem/Datasets/subset_template_200.csv\"\n",
    "image_dir = \"Data/ShapeNetSem/Images/subset_200\"\n",
    "pc_dir = \"Data/ProcessedData/PointClouds\"\n",
    "\n",
    "# Set up CLIP preprocessing\n",
    "preprocess = image_transform(\n",
    "    clip_encoder.visual.image_size,  # Correct image size for CLIP\n",
    "    is_train=False  # Ensures we use inference preprocessing\n",
    ")\n",
    "\n",
    "dataset = AlignedModalityDataset(dataset_path, image_dir, pc_dir)\n",
    "dataloader = DataLoader(dataset, batch_size=8, shuffle=True)\n",
    "loss_fn = NTXentLoss(temperature=0.07)\n",
    "\n",
    "with torch.no_grad():\n",
    "    for i, batch in enumerate(dataloader):\n",
    "        idx, tokenized_text, image_tensor, point_cloud = batch\n",
    "        tokenized_text = tokenized_text.to(device) # (B, 77)\n",
    "        image_tensor = image_tensor.to(device) # (B, 3, 518, 518)\n",
    "\n",
    "        point_cloud = point_cloud.to(device) # (B, 1024, 3)\n",
    "\n",
    "        # Assuming point_cloud is a batch of point clouds (shape: [batch_size, N, 3])\n",
    "        batch_size = point_cloud.shape[0]\n",
    "\n",
    "        # Convert each point cloud to a depth map and preprocess it\n",
    "        depth_maps = [preprocess(point_cloud_to_depth_map(point_cloud[i])).unsqueeze(0) for i in range(batch_size)]\n",
    "\n",
    "        # Stack depth maps into a single batch tensor\n",
    "        depth_maps = torch.cat(depth_maps, dim=0).to(device)  # Shape: [batch_size, 3, H, W]\n",
    "\n",
    "        text_emb = clip_encoder.encode_text(tokenized_text) # (B, 768)\n",
    "        img_emb = dinov2_encoder(image_tensor) # (B, 384)\n",
    "        pc_emb = pclip_encoder.encode_image(depth_maps) # (B, 768)\n",
    "        text_proj, img_proj, pc_proj = align_model(text_emb, img_emb, pc_emb)\n",
    "\n",
    "        loss_text_point = loss_fn(text_proj, pc_proj)\n",
    "        loss_text_image = loss_fn(text_proj, img_proj)\n",
    "        loss_image_point = loss_fn(img_proj, pc_proj)\n",
    "\n",
    "        avg_loss = (loss_text_point + loss_text_image + loss_image_point) / 3\n",
    "        \"\"\"\n",
    "        print(\"Input shapes: \", tokenized_text.shape, image_tensor.shape, point_cloud.shape)\n",
    "        print(\"Depth Map Shapes: \", depth_maps.shape)\n",
    "        print(\"Embedding shapes: \", text_emb.shape, img_emb.shape, pc_emb.shape)\n",
    "        print(\"Projection Shapes: \", text_proj.shape, img_proj.shape, pc_proj.shape)\n",
    "        print(\"Loss: \", loss_text_point, loss_text_image, loss_image_point)\n",
    "        print(\"Average Loss: \",avg_loss)\n",
    "        \"\"\"  \n",
    "        break  "
   ]
  },
  {
   "cell_type": "markdown",
   "metadata": {},
   "source": [
    "# Cross Modal Retrieval"
   ]
  },
  {
   "cell_type": "code",
   "execution_count": 40,
   "metadata": {},
   "outputs": [],
   "source": [
    "dataset_path = \"Data/ShapeNetSem/Datasets/subset_template_200.csv\"\n",
    "embed_path = \"Embeddings/ALIGN/subset_template_200.pt\"\n",
    "\n",
    "cmr = CrossModalRetrival(dataset_path, embed_path)"
   ]
  },
  {
   "cell_type": "code",
   "execution_count": 42,
   "metadata": {},
   "outputs": [
    {
     "name": "stdout",
     "output_type": "stream",
     "text": [
      "torch.Size([1, 77]) torch.Size([1, 3, 518, 518]) torch.Size([1, 1024, 3])\n"
     ]
    },
    {
     "ename": "NameError",
     "evalue": "name 'dinov2_encoder' is not defined",
     "output_type": "error",
     "traceback": [
      "\u001b[0;31m---------------------------------------------------------------------------\u001b[0m",
      "\u001b[0;31mNameError\u001b[0m                                 Traceback (most recent call last)",
      "Cell \u001b[0;32mIn[42], line 33\u001b[0m\n\u001b[1;32m     30\u001b[0m depth_maps \u001b[38;5;241m=\u001b[39m torch\u001b[38;5;241m.\u001b[39mcat(depth_maps, dim\u001b[38;5;241m=\u001b[39m\u001b[38;5;241m0\u001b[39m)\u001b[38;5;241m.\u001b[39mto(device)  \u001b[38;5;66;03m# Shape: [batch_size, 3, H, W]\u001b[39;00m\n\u001b[1;32m     32\u001b[0m text_emb \u001b[38;5;241m=\u001b[39m clip_encoder\u001b[38;5;241m.\u001b[39mencode_text(tokenized_text) \u001b[38;5;66;03m# (B, 768)\u001b[39;00m\n\u001b[0;32m---> 33\u001b[0m img_emb \u001b[38;5;241m=\u001b[39m \u001b[43mdinov2_encoder\u001b[49m(image_tensor) \u001b[38;5;66;03m# (B, 384)\u001b[39;00m\n\u001b[1;32m     34\u001b[0m pc_emb \u001b[38;5;241m=\u001b[39m pclip_encoder\u001b[38;5;241m.\u001b[39mencode_image(depth_maps) \u001b[38;5;66;03m# (B, 768)\u001b[39;00m\n\u001b[1;32m     35\u001b[0m text_proj, img_proj, pc_proj \u001b[38;5;241m=\u001b[39m align_model(text_emb, img_emb, pc_emb)\n",
      "\u001b[0;31mNameError\u001b[0m: name 'dinov2_encoder' is not defined"
     ]
    }
   ],
   "source": [
    "dataset_path = \"Data/ShapeNetSem/Datasets/subset_template_200.csv\"\n",
    "image_dir = \"Data/ShapeNetSem/Images/subset_200\"\n",
    "pc_dir = \"Data/ProcessedData/PointClouds\"\n",
    "\n",
    "# Set up CLIP preprocessing\n",
    "preprocess = image_transform(\n",
    "    clip_encoder.visual.image_size,  # Correct image size for CLIP\n",
    "    is_train=False  # Ensures we use inference preprocessing\n",
    ")\n",
    "\n",
    "dataset = AlignedModalityDataset(dataset_path, image_dir, pc_dir)\n",
    "dataloader = DataLoader(dataset, batch_size=1, shuffle=True)\n",
    "device = \"cuda\" if torch.cuda.is_available() else \"cpu\"\n",
    "\n",
    "with torch.no_grad():\n",
    "    for i, batch in enumerate(dataloader):\n",
    "        idx, tokenized_text, image_tensor, point_cloud = batch\n",
    "        tokenized_text = tokenized_text.to(device) # (B, 77)\n",
    "        image_tensor = image_tensor.to(device) # (B, 3, 518, 518)\n",
    "        print(tokenized_text.shape, image_tensor.shape, point_cloud.shape)\n",
    "        point_cloud = point_cloud.to(device) # (B, 1024, 3)\n",
    "\n",
    "        # Assuming point_cloud is a batch of point clouds (shape: [batch_size, N, 3])\n",
    "        batch_size = point_cloud.shape[0]\n",
    "\n",
    "        # Convert each point cloud to a depth map and preprocess it\n",
    "        depth_maps = [preprocess(point_cloud_to_depth_map(point_cloud[i])).unsqueeze(0) for i in range(batch_size)]\n",
    "\n",
    "        # Stack depth maps into a single batch tensor\n",
    "        depth_maps = torch.cat(depth_maps, dim=0).to(device)  # Shape: [batch_size, 3, H, W]\n",
    "\n",
    "        text_emb = clip_encoder.encode_text(tokenized_text) # (B, 768)\n",
    "        img_emb = dinov2_encoder(image_tensor) # (B, 384)\n",
    "        pc_emb = pclip_encoder.encode_image(depth_maps) # (B, 768)\n",
    "        text_proj, img_proj, pc_proj = align_model(text_emb, img_emb, pc_emb)\n",
    "\n",
    "        break  "
   ]
  },
  {
   "cell_type": "code",
   "execution_count": 7,
   "metadata": {},
   "outputs": [
    {
     "data": {
      "text/plain": [
       "tensor([11])"
      ]
     },
     "execution_count": 7,
     "metadata": {},
     "output_type": "execute_result"
    }
   ],
   "source": [
    "idx"
   ]
  },
  {
   "cell_type": "code",
   "execution_count": 8,
   "metadata": {},
   "outputs": [
    {
     "data": {
      "text/html": [
       "<div>\n",
       "<style scoped>\n",
       "    .dataframe tbody tr th:only-of-type {\n",
       "        vertical-align: middle;\n",
       "    }\n",
       "\n",
       "    .dataframe tbody tr th {\n",
       "        vertical-align: top;\n",
       "    }\n",
       "\n",
       "    .dataframe thead th {\n",
       "        text-align: right;\n",
       "    }\n",
       "</style>\n",
       "<table border=\"1\" class=\"dataframe\">\n",
       "  <thead>\n",
       "    <tr style=\"text-align: right;\">\n",
       "      <th></th>\n",
       "      <th>fullId</th>\n",
       "      <th>category</th>\n",
       "      <th>name</th>\n",
       "      <th>tags</th>\n",
       "      <th>synset words</th>\n",
       "      <th>synset gloss</th>\n",
       "      <th>template1_desc</th>\n",
       "      <th>template2_desc</th>\n",
       "      <th>template3_desc</th>\n",
       "    </tr>\n",
       "  </thead>\n",
       "  <tbody>\n",
       "    <tr>\n",
       "      <th>11</th>\n",
       "      <td>60e714b056488ba3377b9297f3055210</td>\n",
       "      <td>Bed,PosterBed</td>\n",
       "      <td>klein king poster bed   artesia collection</td>\n",
       "      <td>artesia,bed,collection,king,klein,poster</td>\n",
       "      <td>['bed']</td>\n",
       "      <td>['a piece of furniture that provides a place t...</td>\n",
       "      <td>A klein king poster bed   artesia collection w...</td>\n",
       "      <td>The klein king poster bed   artesia collection...</td>\n",
       "      <td>klein king poster bed   artesia collection is ...</td>\n",
       "    </tr>\n",
       "  </tbody>\n",
       "</table>\n",
       "</div>"
      ],
      "text/plain": [
       "                              fullId       category  \\\n",
       "11  60e714b056488ba3377b9297f3055210  Bed,PosterBed   \n",
       "\n",
       "                                          name  \\\n",
       "11  klein king poster bed   artesia collection   \n",
       "\n",
       "                                        tags synset words  \\\n",
       "11  artesia,bed,collection,king,klein,poster      ['bed']   \n",
       "\n",
       "                                         synset gloss  \\\n",
       "11  ['a piece of furniture that provides a place t...   \n",
       "\n",
       "                                       template1_desc  \\\n",
       "11  A klein king poster bed   artesia collection w...   \n",
       "\n",
       "                                       template2_desc  \\\n",
       "11  The klein king poster bed   artesia collection...   \n",
       "\n",
       "                                       template3_desc  \n",
       "11  klein king poster bed   artesia collection is ...  "
      ]
     },
     "execution_count": 8,
     "metadata": {},
     "output_type": "execute_result"
    }
   ],
   "source": [
    "df = pd.read_csv(dataset_path)\n",
    "df.iloc[idx]"
   ]
  },
  {
   "cell_type": "code",
   "execution_count": 9,
   "metadata": {},
   "outputs": [],
   "source": [
    "cmr.load_embeddings()"
   ]
  },
  {
   "cell_type": "code",
   "execution_count": 16,
   "metadata": {},
   "outputs": [],
   "source": [
    "# retrieve(self, query, query_modality, target_modality, top_k=5)\n",
    "idx, mesh_ids, projs = cmr.retrieve(text_proj, 'text', 'pc', 5)"
   ]
  },
  {
   "cell_type": "code",
   "execution_count": 17,
   "metadata": {},
   "outputs": [
    {
     "data": {
      "text/html": [
       "<div>\n",
       "<style scoped>\n",
       "    .dataframe tbody tr th:only-of-type {\n",
       "        vertical-align: middle;\n",
       "    }\n",
       "\n",
       "    .dataframe tbody tr th {\n",
       "        vertical-align: top;\n",
       "    }\n",
       "\n",
       "    .dataframe thead th {\n",
       "        text-align: right;\n",
       "    }\n",
       "</style>\n",
       "<table border=\"1\" class=\"dataframe\">\n",
       "  <thead>\n",
       "    <tr style=\"text-align: right;\">\n",
       "      <th></th>\n",
       "      <th>fullId</th>\n",
       "      <th>category</th>\n",
       "      <th>name</th>\n",
       "      <th>tags</th>\n",
       "      <th>synset words</th>\n",
       "      <th>synset gloss</th>\n",
       "      <th>template1_desc</th>\n",
       "      <th>template2_desc</th>\n",
       "      <th>template3_desc</th>\n",
       "    </tr>\n",
       "  </thead>\n",
       "  <tbody>\n",
       "    <tr>\n",
       "      <th>11</th>\n",
       "      <td>60e714b056488ba3377b9297f3055210</td>\n",
       "      <td>Bed,PosterBed</td>\n",
       "      <td>klein king poster bed   artesia collection</td>\n",
       "      <td>artesia,bed,collection,king,klein,poster</td>\n",
       "      <td>['bed']</td>\n",
       "      <td>['a piece of furniture that provides a place t...</td>\n",
       "      <td>A klein king poster bed   artesia collection w...</td>\n",
       "      <td>The klein king poster bed   artesia collection...</td>\n",
       "      <td>klein king poster bed   artesia collection is ...</td>\n",
       "    </tr>\n",
       "    <tr>\n",
       "      <th>17</th>\n",
       "      <td>bf7c529d88c445b5ba5661af6811c573</td>\n",
       "      <td>Bed,CanopyBed,PosterBed</td>\n",
       "      <td>capistrano canopy bed</td>\n",
       "      <td>bed,bedroom,canopy,capistrano,furniture,rebelbmh</td>\n",
       "      <td>['bed', 'four-poster']</td>\n",
       "      <td>['a piece of furniture that provides a place t...</td>\n",
       "      <td>A capistrano canopy bed which is commonly know...</td>\n",
       "      <td>The capistrano canopy bed is a bed, four-poste...</td>\n",
       "      <td>capistrano canopy bed is a bed, four-poster de...</td>\n",
       "    </tr>\n",
       "    <tr>\n",
       "      <th>15</th>\n",
       "      <td>ef3d44f20e91a0b335836c728d324152</td>\n",
       "      <td>Bed,PosterBed</td>\n",
       "      <td>kare       coco sky bed    x     coco himmelbe...</td>\n",
       "      <td>bedroom,design,himmelbett,kare,lifestyle,livin...</td>\n",
       "      <td>['bed']</td>\n",
       "      <td>['a piece of furniture that provides a place t...</td>\n",
       "      <td>A kare       coco sky bed    x     coco himmel...</td>\n",
       "      <td>The kare       coco sky bed    x     coco himm...</td>\n",
       "      <td>kare       coco sky bed    x     coco himmelbe...</td>\n",
       "    </tr>\n",
       "    <tr>\n",
       "      <th>19</th>\n",
       "      <td>f5f8fe12a1afe7bc98d5fc0473d00a1c</td>\n",
       "      <td>Bed,PosterBed</td>\n",
       "      <td>kare       cabana sky bed    x     cabana himm...</td>\n",
       "      <td>bedroom,design,himmelbett,kare,lifestyle,livin...</td>\n",
       "      <td>['bed']</td>\n",
       "      <td>['a piece of furniture that provides a place t...</td>\n",
       "      <td>A kare       cabana sky bed    x     cabana hi...</td>\n",
       "      <td>The kare       cabana sky bed    x     cabana ...</td>\n",
       "      <td>kare       cabana sky bed    x     cabana himm...</td>\n",
       "    </tr>\n",
       "    <tr>\n",
       "      <th>14</th>\n",
       "      <td>90ed47303b284a8e8bd3a6724eacfb54</td>\n",
       "      <td>Bed,PosterBed</td>\n",
       "      <td>armani casa osaka bed</td>\n",
       "      <td>apartment,bedroom,brand,contemporary,design,ex...</td>\n",
       "      <td>['bed']</td>\n",
       "      <td>['a piece of furniture that provides a place t...</td>\n",
       "      <td>A armani casa osaka bed which is commonly know...</td>\n",
       "      <td>The armani casa osaka bed is a bed often used ...</td>\n",
       "      <td>armani casa osaka bed is a bed designed for ap...</td>\n",
       "    </tr>\n",
       "  </tbody>\n",
       "</table>\n",
       "</div>"
      ],
      "text/plain": [
       "                              fullId                 category  \\\n",
       "11  60e714b056488ba3377b9297f3055210            Bed,PosterBed   \n",
       "17  bf7c529d88c445b5ba5661af6811c573  Bed,CanopyBed,PosterBed   \n",
       "15  ef3d44f20e91a0b335836c728d324152            Bed,PosterBed   \n",
       "19  f5f8fe12a1afe7bc98d5fc0473d00a1c            Bed,PosterBed   \n",
       "14  90ed47303b284a8e8bd3a6724eacfb54            Bed,PosterBed   \n",
       "\n",
       "                                                 name  \\\n",
       "11         klein king poster bed   artesia collection   \n",
       "17                              capistrano canopy bed   \n",
       "15  kare       coco sky bed    x     coco himmelbe...   \n",
       "19  kare       cabana sky bed    x     cabana himm...   \n",
       "14                              armani casa osaka bed   \n",
       "\n",
       "                                                 tags            synset words  \\\n",
       "11           artesia,bed,collection,king,klein,poster                 ['bed']   \n",
       "17   bed,bedroom,canopy,capistrano,furniture,rebelbmh  ['bed', 'four-poster']   \n",
       "15  bedroom,design,himmelbett,kare,lifestyle,livin...                 ['bed']   \n",
       "19  bedroom,design,himmelbett,kare,lifestyle,livin...                 ['bed']   \n",
       "14  apartment,bedroom,brand,contemporary,design,ex...                 ['bed']   \n",
       "\n",
       "                                         synset gloss  \\\n",
       "11  ['a piece of furniture that provides a place t...   \n",
       "17  ['a piece of furniture that provides a place t...   \n",
       "15  ['a piece of furniture that provides a place t...   \n",
       "19  ['a piece of furniture that provides a place t...   \n",
       "14  ['a piece of furniture that provides a place t...   \n",
       "\n",
       "                                       template1_desc  \\\n",
       "11  A klein king poster bed   artesia collection w...   \n",
       "17  A capistrano canopy bed which is commonly know...   \n",
       "15  A kare       coco sky bed    x     coco himmel...   \n",
       "19  A kare       cabana sky bed    x     cabana hi...   \n",
       "14  A armani casa osaka bed which is commonly know...   \n",
       "\n",
       "                                       template2_desc  \\\n",
       "11  The klein king poster bed   artesia collection...   \n",
       "17  The capistrano canopy bed is a bed, four-poste...   \n",
       "15  The kare       coco sky bed    x     coco himm...   \n",
       "19  The kare       cabana sky bed    x     cabana ...   \n",
       "14  The armani casa osaka bed is a bed often used ...   \n",
       "\n",
       "                                       template3_desc  \n",
       "11  klein king poster bed   artesia collection is ...  \n",
       "17  capistrano canopy bed is a bed, four-poster de...  \n",
       "15  kare       coco sky bed    x     coco himmelbe...  \n",
       "19  kare       cabana sky bed    x     cabana himm...  \n",
       "14  armani casa osaka bed is a bed designed for ap...  "
      ]
     },
     "execution_count": 17,
     "metadata": {},
     "output_type": "execute_result"
    }
   ],
   "source": [
    "df.iloc[idx]"
   ]
  },
  {
   "cell_type": "code",
   "execution_count": 43,
   "metadata": {},
   "outputs": [
    {
     "data": {
      "text/plain": [
       "71    eaf341c056c79bec1a2c782fdbf60db6\n",
       "76    3cdd2855b459d71199bdf8d5a28e79e9\n",
       "82    aa122afea2dcf725db039d8689a74349\n",
       "80    1844a4ed0ff7ed38c2474c54a2e772f2\n",
       "85    5360cc2de7dfbc237a8c23d2d40f51b8\n",
       "Name: fullId, dtype: object"
      ]
     },
     "execution_count": 43,
     "metadata": {},
     "output_type": "execute_result"
    }
   ],
   "source": [
    "mesh_ids"
   ]
  },
  {
   "cell_type": "code",
   "execution_count": null,
   "metadata": {},
   "outputs": [],
   "source": [
    "from alignment import *\n",
    "from utils import *\n",
    "\n",
    "class EncodeUserInput(nn.Module):\n",
    "    def __init__(self, align_path=\"TrainedModels/Baseline/150.pth\", align_embd=400):\n",
    "        super().__init__()\n",
    "        self.align_path = align_path\n",
    "        self.align_embd = align_embd\n",
    "\n",
    "        self.clip_encoder = None\n",
    "\n",
    "        # Loading models\n",
    "        self.load_models()\n",
    "\n",
    "        # Preprocessing functions\n",
    "        self.tokenizer = open_clip.tokenize\n",
    "        self.transform = transforms.Compose([\n",
    "            transforms.Resize((518, 518)),  # Resize to DINO's expected input size\n",
    "            transforms.ToTensor(),\n",
    "            transforms.Normalize(mean=[0.485, 0.456, 0.406], std=[0.229, 0.224, 0.225])  # DINOv2 normalization\n",
    "        ])\n",
    "        self.pclip_preprocess = image_transform(\n",
    "            self.clip_encoder.visual.image_size,  # Correct image size for CLIP\n",
    "            is_train=False  # Ensures we use inference preprocessing\n",
    "        )\n",
    "\n",
    "    def preprocess_text(self, text_prompt):\n",
    "        max_length = 77\n",
    "        tokenized_text = self.tokenizer([text_prompt])\n",
    "        #print(tokenized_text.shape)\n",
    "        return tokenized_text\n",
    "\n",
    "    def preprocess_img(self, img_prompt):\n",
    "        image_tensor = self.transform(img_prompt).unsqueeze(0)\n",
    "        #print(image_tensor.shape)\n",
    "        return image_tensor\n",
    "\n",
    "    def preprocess_pc(self, pc_prompt):\n",
    "        num_points = 1024\n",
    "        indices = np.random.choice(pc_prompt.shape[0], num_points, replace=False)\n",
    "        # Sample the selected points\n",
    "        sampled_pc = pc_prompt[indices]\n",
    "        depth_map = self.pclip_preprocess(point_cloud_to_depth_map(sampled_pc)).unsqueeze(0)  # Add batch dimension\n",
    "        return depth_map\n",
    "\n",
    "    def preprocess_input(self, prompt, modality):\n",
    "        if modality == \"text\":\n",
    "            processed_output = self.preprocess_text(prompt)\n",
    "        elif modality == \"img\":\n",
    "            processed_output = self.preprocess_img(prompt)\n",
    "        else:\n",
    "            processed_output = self.preprocess_pc(prompt)\n",
    "        return processed_output\n",
    "    \n",
    "    def load_models(self):\n",
    "        try:\n",
    "            self.dinov2_encoder = load_dinov2()\n",
    "            self.clip_encoder = load_clip()\n",
    "            self.pclip_encoder = load_point_clip()\n",
    "            self.align_model = load_alignment(self.align_path, self.align_embd)\n",
    "            self.dinov2_encoder.eval()\n",
    "            self.clip_encoder.eval()\n",
    "            self.pclip_encoder.eval()\n",
    "            self.align_model.eval()\n",
    "        except:\n",
    "            print('Error in Loading Models')\n",
    "    \n",
    "    def get_projection(self, prompt, modality):\n",
    "        preprocessed_prompt = self.preprocess_input(prompt, modality)\n",
    "\n",
    "        with torch.no_grad():\n",
    "            if modality == \"text\":\n",
    "                embedding = self.clip_encoder.encode_text(preprocessed_prompt)\n",
    "                projection = self.align_model.text_proj_head(embedding)\n",
    "            elif modality == \"img\":\n",
    "                embedding = self.dinov2_encoder(preprocessed_prompt)\n",
    "                projection = self.align_model.img_proj_head(embedding)\n",
    "            else:\n",
    "                embedding = self.pclip_encoder.encode_image(preprocessed_prompt)\n",
    "                projection = self.align_model.pc_proj_head(embedding)\n",
    "\n",
    "        return projection"
   ]
  },
  {
   "cell_type": "code",
   "execution_count": 79,
   "metadata": {},
   "outputs": [],
   "source": [
    "import pandas as pd"
   ]
  },
  {
   "cell_type": "code",
   "execution_count": 80,
   "metadata": {},
   "outputs": [],
   "source": [
    "dataset_path = \"Data/ShapeNetSem/Datasets/subset_template_200.csv\"\n",
    "embed_path = \"Embeddings/ALIGN/subset_template_200.pt\"\n",
    "\n",
    "df = pd.read_csv(dataset_path)"
   ]
  },
  {
   "cell_type": "code",
   "execution_count": 81,
   "metadata": {},
   "outputs": [],
   "source": [
    "row = df.iloc[0]\n",
    "\n",
    "mesh_id = row['fullId']\n",
    "text = row['template1_desc']\n",
    "img_path = f'Data/ShapeNetSem/Images/subset_200/{mesh_id}/view0.png'\n",
    "image = Image.open(img_path).convert('RGB')\n",
    "pc_path = f'Data/ProcessedData/PointClouds/{mesh_id}.npy'\n",
    "pc = torch.from_numpy(np.load(pc_path))"
   ]
  },
  {
   "cell_type": "code",
   "execution_count": 82,
   "metadata": {},
   "outputs": [
    {
     "name": "stdout",
     "output_type": "stream",
     "text": [
      "Dinov2 Loaded Successfully!\n",
      "CLIP Model Loaded Successfully!\n",
      "Point CLIP Model Loaded Successfully!\n"
     ]
    }
   ],
   "source": [
    "enc = EncodeUserInput()"
   ]
  },
  {
   "cell_type": "code",
   "execution_count": 110,
   "metadata": {},
   "outputs": [],
   "source": [
    "text = \"A usb drive used for storage\""
   ]
  },
  {
   "cell_type": "code",
   "execution_count": 111,
   "metadata": {},
   "outputs": [],
   "source": [
    "text_proj = enc.get_projection(text, \"text\")\n",
    "img_proj = enc.get_projection(image, \"img\")\n",
    "pc_proj = enc.get_projection(pc, \"pc\")"
   ]
  },
  {
   "cell_type": "code",
   "execution_count": 112,
   "metadata": {},
   "outputs": [],
   "source": [
    "cmr = CrossModalRetrival(dataset_path, embed_path)"
   ]
  },
  {
   "cell_type": "code",
   "execution_count": 113,
   "metadata": {},
   "outputs": [],
   "source": [
    "import matplotlib.pyplot as plt"
   ]
  },
  {
   "cell_type": "code",
   "execution_count": 114,
   "metadata": {},
   "outputs": [
    {
     "data": {
      "text/plain": [
       "([2, 4, 8, 3, 9],\n",
       " 2    6de307ddb4317eae1c816f27d2a33b03\n",
       " 4    353fe70ec5633fc5e05878fff8971272\n",
       " 8    fc821511ed3090ac2846fa729d90e125\n",
       " 3    ab82d56cf9cc2476d154e1b098031d39\n",
       " 9    3d15f0b93dc94909ce92f6b720939174\n",
       " Name: fullId, dtype: object)"
      ]
     },
     "execution_count": 114,
     "metadata": {},
     "output_type": "execute_result"
    }
   ],
   "source": [
    "idx, mesh_ids, arrays = cmr.retrieve(text_proj, \"text\", \"img\", top_k=5)\n",
    "idx, mesh_ids"
   ]
  },
  {
   "cell_type": "code",
   "execution_count": 115,
   "metadata": {},
   "outputs": [
    {
     "data": {
      "text/plain": [
       "<matplotlib.image.AxesImage at 0x35ed8a600>"
      ]
     },
     "execution_count": 115,
     "metadata": {},
     "output_type": "execute_result"
    },
    {
     "data": {
      "image/png": "[encoded data removed]",
      "text/plain": [
       "<Figure size 640x480 with 1 Axes>"
      ]
     },
     "metadata": {},
     "output_type": "display_data"
    }
   ],
   "source": [
    "idx, mesh_ids, arrays = cmr.retrieve(text_proj, \"text\", \"img\", top_k=5)\n",
    "img_path = f'Data/ShapeNetSem/Images/subset_200/{mesh_ids[idx[1]]}/view0.png'\n",
    "img = plt.imread(img_path)\n",
    "plt.imshow(img)"
   ]
  },
  {
   "cell_type": "code",
   "execution_count": null,
   "metadata": {},
   "outputs": [
    {
     "data": {
      "text/plain": [
       "'A memorex flash drive which is commonly known as <no_tags>. It is associated with the following characteristics: memory device,storage device.\\nA general description of this item is: a device that preserves information for retrieval.'"
      ]
     },
     "execution_count": 77,
     "metadata": {},
     "output_type": "execute_result"
    }
   ],
   "source": [
    "idx, mesh_ids, arrays = cmr.retrieve(img_proj, \"img\", \"text\", top_k=5)\n",
    "df.iloc[idx[2]]['template1_desc']"
   ]
  },
  {
   "cell_type": "code",
   "execution_count": null,
   "metadata": {},
   "outputs": [
    {
     "data": {
      "text/plain": [
       "<matplotlib.image.AxesImage at 0x398a07a10>"
      ]
     },
     "execution_count": 84,
     "metadata": {},
     "output_type": "execute_result"
    },
    {
     "data": {
      "image/png": "[encoded data removed]",
      "text/plain": [
       "<Figure size 640x480 with 1 Axes>"
      ]
     },
     "metadata": {},
     "output_type": "display_data"
    }
   ],
   "source": [
    "idx, mesh_ids, arrays = cmr.retrieve(pc_proj, \"pc\", \"img\", top_k=5)\n",
    "img_path = f'Data/ShapeNetSem/Images/subset_200/{mesh_ids[idx[1]]}/view1.png'\n",
    "img = plt.imread(img_path)\n",
    "plt.imshow(img)"
   ]
  },
  {
   "cell_type": "code",
   "execution_count": 116,
   "metadata": {},
   "outputs": [
    {
     "name": "stdout",
     "output_type": "stream",
     "text": [
      "[3, 0, 4, 9, 1] 3    ab82d56cf9cc2476d154e1b098031d39\n",
      "0      9a9508597dee231d4e205745311c3a\n",
      "4    353fe70ec5633fc5e05878fff8971272\n",
      "9    3d15f0b93dc94909ce92f6b720939174\n",
      "1    71f6598d5426fb34c33dcf45f2780ed8\n",
      "Name: fullId, dtype: object\n"
     ]
    }
   ],
   "source": [
    "idx, mesh_ids, arrays = cmr.retrieve(pc_proj, \"img\", \"pc\", top_k=5)\n",
    "mesh_path = f'Data/ProcessedData/PointClouds/{mesh_ids[idx[1]]}.npy'\n",
    "print(idx, mesh_ids)    "
   ]
  },
  {
   "cell_type": "code",
   "execution_count": null,
   "metadata": {},
   "outputs": [],
   "source": [
    "def get_aligned_output(dataset_path, img_dir, pc_dir, prompt, input_modality, output_modality, encoder, cmr):\n",
    "    df = pd.read_csv(dataset_path)\n",
    "    projection = encoder.get_projection(prompt, input_modality)\n",
    "    idx, mesh_ids, arrays = cmr.retrieve(projection, input_modality, output_modality, top_k=5)\n",
    "\n",
    "    if output_modality == \"text\":\n",
    "        output = df.iloc[idx[2]]['template1_desc']\n",
    "    elif output_modality == \"img\":\n",
    "        output = f'{img_dir}{mesh_ids[idx[1]]}/view0.png'\n",
    "    else:\n",
    "        output = f'{pc_dir}{mesh_ids[idx[1]]}.obj'\n",
    "    \n",
    "    return output"
   ]
  }
 ],
 "metadata": {
  "kernelspec": {
   "display_name": "env",
   "language": "python",
   "name": "python3"
  },
  "language_info": {
   "codemirror_mode": {
    "name": "ipython",
    "version": 3
   },
   "file_extension": ".py",
   "mimetype": "text/x-python",
   "name": "python",
   "nbconvert_exporter": "python",
   "pygments_lexer": "ipython3",
   "version": "3.12.4"
  }
 },
 "nbformat": 4,
 "nbformat_minor": 2
}
