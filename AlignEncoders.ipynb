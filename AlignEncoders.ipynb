{
 "cells": [
  {
   "cell_type": "code",
   "execution_count": 3,
   "metadata": {},
   "outputs": [],
   "source": [
    "from utils import *\n",
    "from alignment import *\n",
    "import time"
   ]
  },
  {
   "cell_type": "code",
   "execution_count": null,
   "metadata": {},
   "outputs": [
    {
     "name": "stdout",
     "output_type": "stream",
     "text": [
      "tensor([270])\n",
      "Tokenized Text: torch.Size([1, 77]), <class 'torch.Tensor'>\n",
      "Image Tensor: torch.Size([1, 3, 518, 518]), <class 'torch.Tensor'>\n",
      "Point Cloud: torch.Size([1, 1024, 3]), <class 'torch.Tensor'>\n"
     ]
    }
   ],
   "source": [
    "dataset_path = \"Data/ShapeNetSem/Datasets/final_template.csv\"\n",
    "image_dir = \"Data/ShapeNetSem/Images/final_subset/\"\n",
    "pc_dir = \"Data/ProcessedData/PointCloudsFinal/\"\n",
    "\n",
    "dataset = AlignedModalityDataset(dataset_path, image_dir, pc_dir)\n",
    "dataloader = DataLoader(dataset, batch_size=1, shuffle=True)\n",
    "\n",
    "for idx, mesh_id, token_text, image_tensor, point_cloud in dataloader:\n",
    "    print(idx)\n",
    "    print(f\"Tokenized Text: {token_text.shape}, {type(token_text)}\")\n",
    "    print(f\"Image Tensor: {image_tensor.shape}, {type(image_tensor)}\")\n",
    "    print(f\"Point Cloud: {point_cloud.shape}, {type(point_cloud)}\")\n",
    "    break"
   ]
  },
  {
   "cell_type": "code",
   "execution_count": 5,
   "metadata": {},
   "outputs": [
    {
     "name": "stdout",
     "output_type": "stream",
     "text": [
      "Dinov2 Loaded Successfully!\n",
      "CLIP Model Loaded Successfully!\n",
      "Point CLIP Model Loaded Successfully!\n",
      "All Models loaded succesfully and set to eval mode\n"
     ]
    }
   ],
   "source": [
    "try:\n",
    "    dinov2_encoder = load_dinov2()\n",
    "    clip_encoder = load_clip()\n",
    "    pclip_encoder = load_point_clip()\n",
    "    dinov2_encoder.eval()\n",
    "    clip_encoder.eval()\n",
    "    pclip_encoder.eval()\n",
    "    print('All Models loaded succesfully and set to eval mode')\n",
    "except:\n",
    "    print('Error in Loading Models')"
   ]
  },
  {
   "cell_type": "code",
   "execution_count": 7,
   "metadata": {},
   "outputs": [
    {
     "name": "stdout",
     "output_type": "stream",
     "text": [
      "Model weights loaded successfully!\n"
     ]
    }
   ],
   "source": [
    "# Initialize the model\n",
    "align_model = AlignEncoder(400)  # Ensure the architecture matches\n",
    "\n",
    "# Load the saved weights\n",
    "checkpoint_path = \"TrainedModels/ALIGN/Baseline/150.pth\"\n",
    "state_dict = torch.load(checkpoint_path, map_location=torch.device('cpu'))  # Load to CPU\n",
    "\n",
    "# Apply the weights to the model\n",
    "align_model.load_state_dict(state_dict)\n",
    "\n",
    "# Set to evaluation mode (if needed)\n",
    "align_model.eval()\n",
    "device = \"cuda\" if torch.cuda.is_available() else \"cpu\"\n",
    "align_model.to(device)\n",
    "\n",
    "print(\"Model weights loaded successfully!\")\n"
   ]
  },
  {
   "cell_type": "markdown",
   "metadata": {},
   "source": [
    "Forward Pass"
   ]
  },
  {
   "cell_type": "code",
   "execution_count": null,
   "metadata": {},
   "outputs": [
    {
     "name": "stdout",
     "output_type": "stream",
     "text": [
      "Encoding: 00:00:11\n",
      "Projection: 00:00:00\n"
     ]
    }
   ],
   "source": [
    "dataset_path = \"Data/ShapeNetSem/Datasets/subset_template_200.csv\"\n",
    "image_dir = \"Data/ShapeNetSem/Images/subset_200\"\n",
    "pc_dir = \"Data/ProcessedData/PointClouds\"\n",
    "\n",
    "# Set up CLIP preprocessing\n",
    "preprocess = image_transform(\n",
    "    clip_encoder.visual.image_size,  # Correct image size for CLIP\n",
    "    is_train=False  # Ensures we use inference preprocessing\n",
    ")\n",
    "\n",
    "dataset = AlignedModalityDataset(dataset_path, image_dir, pc_dir)\n",
    "dataloader = DataLoader(dataset, batch_size=8, shuffle=True)\n",
    "loss_fn = NTXentLoss(temperature=0.07)\n",
    "\n",
    "with torch.no_grad():\n",
    "    for i, batch in enumerate(dataloader):\n",
    "        idx, mesh_id, tokenized_text, image_tensor, point_cloud = batch\n",
    "        tokenized_text = tokenized_text.to(device) # (B, 77)\n",
    "        image_tensor = image_tensor.to(device) # (B, 3, 518, 518)\n",
    "\n",
    "        point_cloud = point_cloud.to(device) # (B, 1024, 3)\n",
    "\n",
    "        # Assuming point_cloud is a batch of point clouds (shape: [batch_size, N, 3])\n",
    "        batch_size = point_cloud.shape[0]\n",
    "        start_time = time.time()\n",
    "        # Convert each point cloud to a depth map and preprocess it\n",
    "        depth_maps = [preprocess(point_cloud_to_depth_map(point_cloud[i])).unsqueeze(0) for i in range(batch_size)]\n",
    "\n",
    "        # Stack depth maps into a single batch tensor\n",
    "        depth_maps = torch.cat(depth_maps, dim=0).to(device)  # Shape: [batch_size, 3, H, W]\n",
    "\n",
    "        text_emb = clip_encoder.encode_text(tokenized_text) # (B, 768)\n",
    "        img_emb = dinov2_encoder(image_tensor) # (B, 384)\n",
    "        pc_emb = pclip_encoder.encode_image(depth_maps) # (B, 768)\n",
    "        end_time = time.time()\n",
    "        print(f'Encoding: {readable_time(start_time, end_time)}')\n",
    "        start_time = time.time()\n",
    "        text_proj, img_proj, pc_proj = align_model(text_emb, img_emb, pc_emb)\n",
    "        end_time = time.time()\n",
    "        print(f'Projection: {readable_time(start_time, end_time)}')\n",
    "        loss_text_point = loss_fn(text_proj, pc_proj)\n",
    "        loss_text_image = loss_fn(text_proj, img_proj)\n",
    "        loss_image_point = loss_fn(img_proj, pc_proj)\n",
    "\n",
    "        avg_loss = (loss_text_point + loss_text_image + loss_image_point) / 3\n",
    "        \"\"\"\n",
    "        print(\"Input shapes: \", tokenized_text.shape, image_tensor.shape, point_cloud.shape)\n",
    "        print(\"Depth Map Shapes: \", depth_maps.shape)\n",
    "        print(\"Embedding shapes: \", text_emb.shape, img_emb.shape, pc_emb.shape)\n",
    "        print(\"Projection Shapes: \", text_proj.shape, img_proj.shape, pc_proj.shape)\n",
    "        print(\"Loss: \", loss_text_point, loss_text_image, loss_image_point)\n",
    "        print(\"Average Loss: \",avg_loss)\n",
    "        \"\"\"  \n",
    "        break  "
   ]
  },
  {
   "cell_type": "markdown",
   "metadata": {},
   "source": [
    "# Cross Modal Retrieval"
   ]
  },
  {
   "cell_type": "code",
   "execution_count": 2,
   "metadata": {},
   "outputs": [],
   "source": [
    "from alignment import *\n",
    "from dataset import *\n",
    "import torch"
   ]
  },
  {
   "cell_type": "code",
   "execution_count": 37,
   "metadata": {},
   "outputs": [],
   "source": [
    "checkpoint_path = \"TrainedModels/ALIGN/NormalTrain/10.pth\"\n",
    "dataset_path = \"Data/ShapeNetSem/Datasets/final_train.csv\"\n",
    "image_dir = \"Data/ShapeNetSem/Images/final_subset\"\n",
    "pc_dir = \"Data/ProcessedData/PointCloudsFinal\"\n",
    "exp_name = \"train\"\n",
    "embed_path = f\"TrainedModels/ALIGN/NormalTrain/{exp_name}.pt\"\n",
    "\n",
    "cmr = CrossModalRetrival(dataset_path, embed_path)"
   ]
  },
  {
   "cell_type": "code",
   "execution_count": 38,
   "metadata": {},
   "outputs": [
    {
     "name": "stdout",
     "output_type": "stream",
     "text": [
      "Dinov2 Loaded Successfully!\n",
      "CLIP Model Loaded Successfully!\n",
      "Point CLIP Model Loaded Successfully!\n",
      "All Models loaded succesfully and set to eval mode\n"
     ]
    }
   ],
   "source": [
    "try:\n",
    "    dinov2_encoder = load_dinov2()\n",
    "    clip_encoder = load_clip()\n",
    "    pclip_encoder = load_point_clip()\n",
    "    dinov2_encoder.eval()\n",
    "    clip_encoder.eval()\n",
    "    pclip_encoder.eval()\n",
    "    print('All Models loaded succesfully and set to eval mode')\n",
    "except:\n",
    "    print('Error in Loading Models')"
   ]
  },
  {
   "cell_type": "code",
   "execution_count": 39,
   "metadata": {},
   "outputs": [
    {
     "data": {
      "text/plain": [
       "AlignEncoder(\n",
       "  (text_proj_head): MLP(\n",
       "    (net): Sequential(\n",
       "      (0): Linear(in_features=768, out_features=1536, bias=True)\n",
       "      (1): ReLU()\n",
       "      (2): Linear(in_features=1536, out_features=400, bias=True)\n",
       "    )\n",
       "  )\n",
       "  (img_proj_head): MLP(\n",
       "    (net): Sequential(\n",
       "      (0): Linear(in_features=384, out_features=768, bias=True)\n",
       "      (1): ReLU()\n",
       "      (2): Linear(in_features=768, out_features=400, bias=True)\n",
       "    )\n",
       "  )\n",
       "  (pc_proj_head): MLP(\n",
       "    (net): Sequential(\n",
       "      (0): Linear(in_features=768, out_features=1536, bias=True)\n",
       "      (1): ReLU()\n",
       "      (2): Linear(in_features=1536, out_features=400, bias=True)\n",
       "    )\n",
       "  )\n",
       ")"
      ]
     },
     "execution_count": 39,
     "metadata": {},
     "output_type": "execute_result"
    }
   ],
   "source": [
    "align_model = AlignEncoder(400)  # Ensure the architecture matches\n",
    "\n",
    "# Load the saved weights\n",
    "state_dict = torch.load(checkpoint_path, map_location=torch.device('cpu'))  # Load to CPU\n",
    "\n",
    "# Apply the weights to the model\n",
    "align_model.load_state_dict(state_dict)\n",
    "\n",
    "# Set to evaluation mode (if needed)\n",
    "align_model.eval()\n",
    "device = \"cuda\" if torch.cuda.is_available() else \"cpu\"\n",
    "align_model.to(device)"
   ]
  },
  {
   "cell_type": "code",
   "execution_count": 54,
   "metadata": {},
   "outputs": [
    {
     "name": "stdout",
     "output_type": "stream",
     "text": [
      "torch.Size([1, 77]) torch.Size([1, 3, 518, 518]) torch.Size([1, 1024, 3])\n"
     ]
    }
   ],
   "source": [
    "# Set up CLIP preprocessing\n",
    "preprocess = image_transform(\n",
    "    clip_encoder.visual.image_size,  # Correct image size for CLIP\n",
    "    is_train=False  # Ensures we use inference preprocessing\n",
    ")\n",
    "\n",
    "dataset = AlignedModalityDataset(dataset_path, image_dir, pc_dir)\n",
    "dataloader = DataLoader(dataset, batch_size=1, shuffle=True)\n",
    "device = \"cuda\" if torch.cuda.is_available() else \"cpu\"\n",
    "\n",
    "with torch.no_grad():\n",
    "    for i, batch in enumerate(dataloader):\n",
    "        idx, tokenized_text, image_tensor, point_cloud = batch\n",
    "        tokenized_text = tokenized_text.to(device) # (B, 77)\n",
    "        image_tensor = image_tensor.to(device) # (B, 3, 518, 518)\n",
    "        print(tokenized_text.shape, image_tensor.shape, point_cloud.shape)\n",
    "        point_cloud = point_cloud.to(device) # (B, 1024, 3)\n",
    "\n",
    "        # Assuming point_cloud is a batch of point clouds (shape: [batch_size, N, 3])\n",
    "        batch_size = point_cloud.shape[0]\n",
    "\n",
    "        # Convert each point cloud to a depth map and preprocess it\n",
    "        depth_maps = [preprocess(point_cloud_to_depth_map(point_cloud[i])).unsqueeze(0) for i in range(batch_size)]\n",
    "\n",
    "        # Stack depth maps into a single batch tensor\n",
    "        depth_maps = torch.cat(depth_maps, dim=0).to(device)  # Shape: [batch_size, 3, H, W]\n",
    "\n",
    "        text_emb = clip_encoder.encode_text(tokenized_text) # (B, 768)\n",
    "        img_emb = dinov2_encoder(image_tensor) # (B, 384)\n",
    "        pc_emb = pclip_encoder.encode_image(depth_maps) # (B, 768)\n",
    "        text_proj, img_proj, pc_proj = align_model(text_emb, img_emb, pc_emb)\n",
    "\n",
    "        break  "
   ]
  },
  {
   "cell_type": "code",
   "execution_count": 55,
   "metadata": {},
   "outputs": [
    {
     "data": {
      "text/html": [
       "<div>\n",
       "<style scoped>\n",
       "    .dataframe tbody tr th:only-of-type {\n",
       "        vertical-align: middle;\n",
       "    }\n",
       "\n",
       "    .dataframe tbody tr th {\n",
       "        vertical-align: top;\n",
       "    }\n",
       "\n",
       "    .dataframe thead th {\n",
       "        text-align: right;\n",
       "    }\n",
       "</style>\n",
       "<table border=\"1\" class=\"dataframe\">\n",
       "  <thead>\n",
       "    <tr style=\"text-align: right;\">\n",
       "      <th></th>\n",
       "      <th>fullId</th>\n",
       "      <th>category</th>\n",
       "      <th>name</th>\n",
       "      <th>tags</th>\n",
       "      <th>synset words</th>\n",
       "      <th>synset gloss</th>\n",
       "      <th>template1_desc</th>\n",
       "      <th>template2_desc</th>\n",
       "      <th>template3_desc</th>\n",
       "    </tr>\n",
       "  </thead>\n",
       "  <tbody>\n",
       "    <tr>\n",
       "      <th>279</th>\n",
       "      <td>867d9945687ada13bb62a53e25c6d701</td>\n",
       "      <td>Speaker</td>\n",
       "      <td>speaker</td>\n",
       "      <td>NaN</td>\n",
       "      <td>['loudspeaker,speaker,speaker unit,loudspeaker...</td>\n",
       "      <td>['electro-acoustic transducer that converts el...</td>\n",
       "      <td>A speaker which is commonly known as &lt;no_tags&gt;...</td>\n",
       "      <td>The speaker is a loudspeaker,speaker,speaker u...</td>\n",
       "      <td>speaker is a loudspeaker,speaker,speaker unit,...</td>\n",
       "    </tr>\n",
       "  </tbody>\n",
       "</table>\n",
       "</div>"
      ],
      "text/plain": [
       "                               fullId category     name tags  \\\n",
       "279  867d9945687ada13bb62a53e25c6d701  Speaker  speaker  NaN   \n",
       "\n",
       "                                          synset words  \\\n",
       "279  ['loudspeaker,speaker,speaker unit,loudspeaker...   \n",
       "\n",
       "                                          synset gloss  \\\n",
       "279  ['electro-acoustic transducer that converts el...   \n",
       "\n",
       "                                        template1_desc  \\\n",
       "279  A speaker which is commonly known as <no_tags>...   \n",
       "\n",
       "                                        template2_desc  \\\n",
       "279  The speaker is a loudspeaker,speaker,speaker u...   \n",
       "\n",
       "                                        template3_desc  \n",
       "279  speaker is a loudspeaker,speaker,speaker unit,...  "
      ]
     },
     "execution_count": 55,
     "metadata": {},
     "output_type": "execute_result"
    }
   ],
   "source": [
    "df = pd.read_csv(dataset_path)\n",
    "df.iloc[idx]"
   ]
  },
  {
   "cell_type": "code",
   "execution_count": 56,
   "metadata": {},
   "outputs": [
    {
     "data": {
      "text/html": [
       "<div>\n",
       "<style scoped>\n",
       "    .dataframe tbody tr th:only-of-type {\n",
       "        vertical-align: middle;\n",
       "    }\n",
       "\n",
       "    .dataframe tbody tr th {\n",
       "        vertical-align: top;\n",
       "    }\n",
       "\n",
       "    .dataframe thead th {\n",
       "        text-align: right;\n",
       "    }\n",
       "</style>\n",
       "<table border=\"1\" class=\"dataframe\">\n",
       "  <thead>\n",
       "    <tr style=\"text-align: right;\">\n",
       "      <th></th>\n",
       "      <th>fullId</th>\n",
       "      <th>category</th>\n",
       "      <th>name</th>\n",
       "      <th>tags</th>\n",
       "      <th>synset words</th>\n",
       "      <th>synset gloss</th>\n",
       "      <th>template1_desc</th>\n",
       "      <th>template2_desc</th>\n",
       "      <th>template3_desc</th>\n",
       "    </tr>\n",
       "  </thead>\n",
       "  <tbody>\n",
       "    <tr>\n",
       "      <th>1105</th>\n",
       "      <td>4ca670411a191a11df0c7dbe7f8f4c8e</td>\n",
       "      <td>Speaker,_StanfordSceneDBModels,_SceneGalleryMo...</td>\n",
       "      <td>speakers</td>\n",
       "      <td>black,computer,nice,ok,simple,speaker</td>\n",
       "      <td>['loudspeaker,speaker,speaker unit,loudspeaker...</td>\n",
       "      <td>['electro-acoustic transducer that converts el...</td>\n",
       "      <td>A speakers which is commonly known as black,co...</td>\n",
       "      <td>The speakers is a loudspeaker,speaker,speaker ...</td>\n",
       "      <td>speakers is a loudspeaker,speaker,speaker unit...</td>\n",
       "    </tr>\n",
       "    <tr>\n",
       "      <th>845</th>\n",
       "      <td>f7bc71483088b9192150cf14c949b016</td>\n",
       "      <td>Lamp,TableLamp</td>\n",
       "      <td>table lamp</td>\n",
       "      <td>ampe,antique,art,desk lamp,eco friendly,electr...</td>\n",
       "      <td>['lamp', 'table lamp']</td>\n",
       "      <td>['a piece of furniture holding one or more ele...</td>\n",
       "      <td>A table lamp which is commonly known as ampe,a...</td>\n",
       "      <td>The table lamp is a lamp, table lamp often use...</td>\n",
       "      <td>table lamp is a lamp, table lamp designed for ...</td>\n",
       "    </tr>\n",
       "    <tr>\n",
       "      <th>185</th>\n",
       "      <td>fb55535403fa30d2e1f3ca9fa5f82562</td>\n",
       "      <td>Stool,Barstool,_AttributesTrain</td>\n",
       "      <td>modern barstool</td>\n",
       "      <td>barstool,modern barstool,saddle barstool,zuo m...</td>\n",
       "      <td>['stool']</td>\n",
       "      <td>['a simple seat without a back or arms']</td>\n",
       "      <td>A modern barstool which is commonly known as b...</td>\n",
       "      <td>The modern barstool is a stool often used for ...</td>\n",
       "      <td>modern barstool is a stool designed for barsto...</td>\n",
       "    </tr>\n",
       "    <tr>\n",
       "      <th>755</th>\n",
       "      <td>75dd1eb981f15ad166ab797924e689f7</td>\n",
       "      <td>DrinkingUtensil,Cup</td>\n",
       "      <td>milk</td>\n",
       "      <td>glass,milk</td>\n",
       "      <td>['container', 'cup']</td>\n",
       "      <td>['any object that can be used to hold things (...</td>\n",
       "      <td>A milk which is commonly known as glass,milk. ...</td>\n",
       "      <td>The milk is a container, cup often used for gl...</td>\n",
       "      <td>milk is a container, cup designed for glass,mi...</td>\n",
       "    </tr>\n",
       "    <tr>\n",
       "      <th>1062</th>\n",
       "      <td>9efec9640e11cb19e7e684d25d4dcaf0</td>\n",
       "      <td>Lamp,TableLamp</td>\n",
       "      <td>lamp</td>\n",
       "      <td>*</td>\n",
       "      <td>['lamp', 'table lamp']</td>\n",
       "      <td>['a piece of furniture holding one or more ele...</td>\n",
       "      <td>A lamp which is commonly known as &lt;no_tags&gt;. I...</td>\n",
       "      <td>The lamp is a lamp, table lamp often used for ...</td>\n",
       "      <td>lamp is a lamp, table lamp designed for &lt;no_ta...</td>\n",
       "    </tr>\n",
       "  </tbody>\n",
       "</table>\n",
       "</div>"
      ],
      "text/plain": [
       "                                fullId  \\\n",
       "1105  4ca670411a191a11df0c7dbe7f8f4c8e   \n",
       "845   f7bc71483088b9192150cf14c949b016   \n",
       "185   fb55535403fa30d2e1f3ca9fa5f82562   \n",
       "755   75dd1eb981f15ad166ab797924e689f7   \n",
       "1062  9efec9640e11cb19e7e684d25d4dcaf0   \n",
       "\n",
       "                                               category             name  \\\n",
       "1105  Speaker,_StanfordSceneDBModels,_SceneGalleryMo...         speakers   \n",
       "845                                      Lamp,TableLamp       table lamp   \n",
       "185                     Stool,Barstool,_AttributesTrain  modern barstool   \n",
       "755                                 DrinkingUtensil,Cup             milk   \n",
       "1062                                     Lamp,TableLamp             lamp   \n",
       "\n",
       "                                                   tags  \\\n",
       "1105              black,computer,nice,ok,simple,speaker   \n",
       "845   ampe,antique,art,desk lamp,eco friendly,electr...   \n",
       "185   barstool,modern barstool,saddle barstool,zuo m...   \n",
       "755                                          glass,milk   \n",
       "1062                                                  *   \n",
       "\n",
       "                                           synset words  \\\n",
       "1105  ['loudspeaker,speaker,speaker unit,loudspeaker...   \n",
       "845                              ['lamp', 'table lamp']   \n",
       "185                                           ['stool']   \n",
       "755                                ['container', 'cup']   \n",
       "1062                             ['lamp', 'table lamp']   \n",
       "\n",
       "                                           synset gloss  \\\n",
       "1105  ['electro-acoustic transducer that converts el...   \n",
       "845   ['a piece of furniture holding one or more ele...   \n",
       "185            ['a simple seat without a back or arms']   \n",
       "755   ['any object that can be used to hold things (...   \n",
       "1062  ['a piece of furniture holding one or more ele...   \n",
       "\n",
       "                                         template1_desc  \\\n",
       "1105  A speakers which is commonly known as black,co...   \n",
       "845   A table lamp which is commonly known as ampe,a...   \n",
       "185   A modern barstool which is commonly known as b...   \n",
       "755   A milk which is commonly known as glass,milk. ...   \n",
       "1062  A lamp which is commonly known as <no_tags>. I...   \n",
       "\n",
       "                                         template2_desc  \\\n",
       "1105  The speakers is a loudspeaker,speaker,speaker ...   \n",
       "845   The table lamp is a lamp, table lamp often use...   \n",
       "185   The modern barstool is a stool often used for ...   \n",
       "755   The milk is a container, cup often used for gl...   \n",
       "1062  The lamp is a lamp, table lamp often used for ...   \n",
       "\n",
       "                                         template3_desc  \n",
       "1105  speakers is a loudspeaker,speaker,speaker unit...  \n",
       "845   table lamp is a lamp, table lamp designed for ...  \n",
       "185   modern barstool is a stool designed for barsto...  \n",
       "755   milk is a container, cup designed for glass,mi...  \n",
       "1062  lamp is a lamp, table lamp designed for <no_ta...  "
      ]
     },
     "execution_count": 56,
     "metadata": {},
     "output_type": "execute_result"
    }
   ],
   "source": [
    "# retrieve(self, query, query_modality, target_modality, top_k=5)\n",
    "idx, mesh_ids, projs = cmr.retrieve(text_proj, 'text', 'pc', 5)\n",
    "df.iloc[idx]"
   ]
  },
  {
   "cell_type": "code",
   "execution_count": 57,
   "metadata": {},
   "outputs": [
    {
     "data": {
      "text/html": [
       "<div>\n",
       "<style scoped>\n",
       "    .dataframe tbody tr th:only-of-type {\n",
       "        vertical-align: middle;\n",
       "    }\n",
       "\n",
       "    .dataframe tbody tr th {\n",
       "        vertical-align: top;\n",
       "    }\n",
       "\n",
       "    .dataframe thead th {\n",
       "        text-align: right;\n",
       "    }\n",
       "</style>\n",
       "<table border=\"1\" class=\"dataframe\">\n",
       "  <thead>\n",
       "    <tr style=\"text-align: right;\">\n",
       "      <th></th>\n",
       "      <th>fullId</th>\n",
       "      <th>category</th>\n",
       "      <th>name</th>\n",
       "      <th>tags</th>\n",
       "      <th>synset words</th>\n",
       "      <th>synset gloss</th>\n",
       "      <th>template1_desc</th>\n",
       "      <th>template2_desc</th>\n",
       "      <th>template3_desc</th>\n",
       "    </tr>\n",
       "  </thead>\n",
       "  <tbody>\n",
       "    <tr>\n",
       "      <th>1117</th>\n",
       "      <td>4784aeb9d867aa83f685327911e7e258</td>\n",
       "      <td>PottedPlant</td>\n",
       "      <td>vase of roses</td>\n",
       "      <td>flower,flower with stem,red rose,rose,rose wit...</td>\n",
       "      <td>['plant,flora,plant life']</td>\n",
       "      <td>['(botany) a living organism lacking the power...</td>\n",
       "      <td>A vase of roses which is commonly known as flo...</td>\n",
       "      <td>The vase of roses is a plant,flora,plant life ...</td>\n",
       "      <td>vase of roses is a plant,flora,plant life desi...</td>\n",
       "    </tr>\n",
       "    <tr>\n",
       "      <th>511</th>\n",
       "      <td>667feb014ec060c4855931d119219022</td>\n",
       "      <td>Table,AccentTable,RoundTable</td>\n",
       "      <td>ekitta saturn end table</td>\n",
       "      <td>ekitta,end table,saturn,table</td>\n",
       "      <td>['table']</td>\n",
       "      <td>['a piece of furniture having a smooth flat to...</td>\n",
       "      <td>A ekitta saturn end table which is commonly kn...</td>\n",
       "      <td>The ekitta saturn end table is a table often u...</td>\n",
       "      <td>ekitta saturn end table is a table designed fo...</td>\n",
       "    </tr>\n",
       "    <tr>\n",
       "      <th>1105</th>\n",
       "      <td>4ca670411a191a11df0c7dbe7f8f4c8e</td>\n",
       "      <td>Speaker,_StanfordSceneDBModels,_SceneGalleryMo...</td>\n",
       "      <td>speakers</td>\n",
       "      <td>black,computer,nice,ok,simple,speaker</td>\n",
       "      <td>['loudspeaker,speaker,speaker unit,loudspeaker...</td>\n",
       "      <td>['electro-acoustic transducer that converts el...</td>\n",
       "      <td>A speakers which is commonly known as black,co...</td>\n",
       "      <td>The speakers is a loudspeaker,speaker,speaker ...</td>\n",
       "      <td>speakers is a loudspeaker,speaker,speaker unit...</td>\n",
       "    </tr>\n",
       "    <tr>\n",
       "      <th>1188</th>\n",
       "      <td>59051ac1a34906c65e7087f2d9a278a9</td>\n",
       "      <td>Table,AccentTable,RoundTable</td>\n",
       "      <td>glass end table</td>\n",
       "      <td>end,glass,in,short,table,wood</td>\n",
       "      <td>['table']</td>\n",
       "      <td>['a piece of furniture having a smooth flat to...</td>\n",
       "      <td>A glass end table which is commonly known as e...</td>\n",
       "      <td>The glass end table is a table often used for ...</td>\n",
       "      <td>glass end table is a table designed for end,gl...</td>\n",
       "    </tr>\n",
       "    <tr>\n",
       "      <th>1087</th>\n",
       "      <td>135edda466e3b149df63d1c7e43c783f</td>\n",
       "      <td>Table,RoundTable</td>\n",
       "      <td>sa</td>\n",
       "      <td>eero saarinen,low table,matrix international,t...</td>\n",
       "      <td>['table']</td>\n",
       "      <td>['a piece of furniture having a smooth flat to...</td>\n",
       "      <td>A sa which is commonly known as eero saarinen,...</td>\n",
       "      <td>The sa is a table often used for eero saarinen...</td>\n",
       "      <td>sa is a table designed for eero saarinen,low t...</td>\n",
       "    </tr>\n",
       "  </tbody>\n",
       "</table>\n",
       "</div>"
      ],
      "text/plain": [
       "                                fullId  \\\n",
       "1117  4784aeb9d867aa83f685327911e7e258   \n",
       "511   667feb014ec060c4855931d119219022   \n",
       "1105  4ca670411a191a11df0c7dbe7f8f4c8e   \n",
       "1188  59051ac1a34906c65e7087f2d9a278a9   \n",
       "1087  135edda466e3b149df63d1c7e43c783f   \n",
       "\n",
       "                                               category  \\\n",
       "1117                                        PottedPlant   \n",
       "511                        Table,AccentTable,RoundTable   \n",
       "1105  Speaker,_StanfordSceneDBModels,_SceneGalleryMo...   \n",
       "1188                       Table,AccentTable,RoundTable   \n",
       "1087                                   Table,RoundTable   \n",
       "\n",
       "                         name  \\\n",
       "1117            vase of roses   \n",
       "511   ekitta saturn end table   \n",
       "1105                 speakers   \n",
       "1188          glass end table   \n",
       "1087                       sa   \n",
       "\n",
       "                                                   tags  \\\n",
       "1117  flower,flower with stem,red rose,rose,rose wit...   \n",
       "511                       ekitta,end table,saturn,table   \n",
       "1105              black,computer,nice,ok,simple,speaker   \n",
       "1188                      end,glass,in,short,table,wood   \n",
       "1087  eero saarinen,low table,matrix international,t...   \n",
       "\n",
       "                                           synset words  \\\n",
       "1117                         ['plant,flora,plant life']   \n",
       "511                                           ['table']   \n",
       "1105  ['loudspeaker,speaker,speaker unit,loudspeaker...   \n",
       "1188                                          ['table']   \n",
       "1087                                          ['table']   \n",
       "\n",
       "                                           synset gloss  \\\n",
       "1117  ['(botany) a living organism lacking the power...   \n",
       "511   ['a piece of furniture having a smooth flat to...   \n",
       "1105  ['electro-acoustic transducer that converts el...   \n",
       "1188  ['a piece of furniture having a smooth flat to...   \n",
       "1087  ['a piece of furniture having a smooth flat to...   \n",
       "\n",
       "                                         template1_desc  \\\n",
       "1117  A vase of roses which is commonly known as flo...   \n",
       "511   A ekitta saturn end table which is commonly kn...   \n",
       "1105  A speakers which is commonly known as black,co...   \n",
       "1188  A glass end table which is commonly known as e...   \n",
       "1087  A sa which is commonly known as eero saarinen,...   \n",
       "\n",
       "                                         template2_desc  \\\n",
       "1117  The vase of roses is a plant,flora,plant life ...   \n",
       "511   The ekitta saturn end table is a table often u...   \n",
       "1105  The speakers is a loudspeaker,speaker,speaker ...   \n",
       "1188  The glass end table is a table often used for ...   \n",
       "1087  The sa is a table often used for eero saarinen...   \n",
       "\n",
       "                                         template3_desc  \n",
       "1117  vase of roses is a plant,flora,plant life desi...  \n",
       "511   ekitta saturn end table is a table designed fo...  \n",
       "1105  speakers is a loudspeaker,speaker,speaker unit...  \n",
       "1188  glass end table is a table designed for end,gl...  \n",
       "1087  sa is a table designed for eero saarinen,low t...  "
      ]
     },
     "execution_count": 57,
     "metadata": {},
     "output_type": "execute_result"
    }
   ],
   "source": [
    "# retrieve(self, query, query_modality, target_modality, top_k=5)\n",
    "idx, mesh_ids, projs = cmr.retrieve(img_proj, 'img', 'pc', 5)\n",
    "df.iloc[idx]"
   ]
  },
  {
   "cell_type": "code",
   "execution_count": 58,
   "metadata": {},
   "outputs": [
    {
     "data": {
      "text/html": [
       "<div>\n",
       "<style scoped>\n",
       "    .dataframe tbody tr th:only-of-type {\n",
       "        vertical-align: middle;\n",
       "    }\n",
       "\n",
       "    .dataframe tbody tr th {\n",
       "        vertical-align: top;\n",
       "    }\n",
       "\n",
       "    .dataframe thead th {\n",
       "        text-align: right;\n",
       "    }\n",
       "</style>\n",
       "<table border=\"1\" class=\"dataframe\">\n",
       "  <thead>\n",
       "    <tr style=\"text-align: right;\">\n",
       "      <th></th>\n",
       "      <th>fullId</th>\n",
       "      <th>category</th>\n",
       "      <th>name</th>\n",
       "      <th>tags</th>\n",
       "      <th>synset words</th>\n",
       "      <th>synset gloss</th>\n",
       "      <th>template1_desc</th>\n",
       "      <th>template2_desc</th>\n",
       "      <th>template3_desc</th>\n",
       "    </tr>\n",
       "  </thead>\n",
       "  <tbody>\n",
       "    <tr>\n",
       "      <th>1087</th>\n",
       "      <td>135edda466e3b149df63d1c7e43c783f</td>\n",
       "      <td>Table,RoundTable</td>\n",
       "      <td>sa</td>\n",
       "      <td>eero saarinen,low table,matrix international,t...</td>\n",
       "      <td>['table']</td>\n",
       "      <td>['a piece of furniture having a smooth flat to...</td>\n",
       "      <td>A sa which is commonly known as eero saarinen,...</td>\n",
       "      <td>The sa is a table often used for eero saarinen...</td>\n",
       "      <td>sa is a table designed for eero saarinen,low t...</td>\n",
       "    </tr>\n",
       "    <tr>\n",
       "      <th>1062</th>\n",
       "      <td>9efec9640e11cb19e7e684d25d4dcaf0</td>\n",
       "      <td>Lamp,TableLamp</td>\n",
       "      <td>lamp</td>\n",
       "      <td>*</td>\n",
       "      <td>['lamp', 'table lamp']</td>\n",
       "      <td>['a piece of furniture holding one or more ele...</td>\n",
       "      <td>A lamp which is commonly known as &lt;no_tags&gt;. I...</td>\n",
       "      <td>The lamp is a lamp, table lamp often used for ...</td>\n",
       "      <td>lamp is a lamp, table lamp designed for &lt;no_ta...</td>\n",
       "    </tr>\n",
       "    <tr>\n",
       "      <th>1188</th>\n",
       "      <td>59051ac1a34906c65e7087f2d9a278a9</td>\n",
       "      <td>Table,AccentTable,RoundTable</td>\n",
       "      <td>glass end table</td>\n",
       "      <td>end,glass,in,short,table,wood</td>\n",
       "      <td>['table']</td>\n",
       "      <td>['a piece of furniture having a smooth flat to...</td>\n",
       "      <td>A glass end table which is commonly known as e...</td>\n",
       "      <td>The glass end table is a table often used for ...</td>\n",
       "      <td>glass end table is a table designed for end,gl...</td>\n",
       "    </tr>\n",
       "    <tr>\n",
       "      <th>872</th>\n",
       "      <td>4b92aa95cc2210c3f017dd57a82a3a39</td>\n",
       "      <td>Table,DiningTable,RoundTable</td>\n",
       "      <td>saarinen table</td>\n",
       "      <td>saarinen,table</td>\n",
       "      <td>['table', 'dining table,board']</td>\n",
       "      <td>['a piece of furniture having a smooth flat to...</td>\n",
       "      <td>A saarinen table which is commonly known as sa...</td>\n",
       "      <td>The saarinen table is a table, dining table,bo...</td>\n",
       "      <td>saarinen table is a table, dining table,board ...</td>\n",
       "    </tr>\n",
       "    <tr>\n",
       "      <th>575</th>\n",
       "      <td>78d63ed70da7a72b12b15725a9f15150</td>\n",
       "      <td>Table,AccentTable</td>\n",
       "      <td>round end table</td>\n",
       "      <td>end table,round table,table</td>\n",
       "      <td>['table']</td>\n",
       "      <td>['a piece of furniture having a smooth flat to...</td>\n",
       "      <td>A round end table which is commonly known as e...</td>\n",
       "      <td>The round end table is a table often used for ...</td>\n",
       "      <td>round end table is a table designed for end ta...</td>\n",
       "    </tr>\n",
       "  </tbody>\n",
       "</table>\n",
       "</div>"
      ],
      "text/plain": [
       "                                fullId                      category  \\\n",
       "1087  135edda466e3b149df63d1c7e43c783f              Table,RoundTable   \n",
       "1062  9efec9640e11cb19e7e684d25d4dcaf0                Lamp,TableLamp   \n",
       "1188  59051ac1a34906c65e7087f2d9a278a9  Table,AccentTable,RoundTable   \n",
       "872   4b92aa95cc2210c3f017dd57a82a3a39  Table,DiningTable,RoundTable   \n",
       "575   78d63ed70da7a72b12b15725a9f15150             Table,AccentTable   \n",
       "\n",
       "                 name                                               tags  \\\n",
       "1087               sa  eero saarinen,low table,matrix international,t...   \n",
       "1062             lamp                                                  *   \n",
       "1188  glass end table                      end,glass,in,short,table,wood   \n",
       "872    saarinen table                                     saarinen,table   \n",
       "575   round end table                        end table,round table,table   \n",
       "\n",
       "                         synset words  \\\n",
       "1087                        ['table']   \n",
       "1062           ['lamp', 'table lamp']   \n",
       "1188                        ['table']   \n",
       "872   ['table', 'dining table,board']   \n",
       "575                         ['table']   \n",
       "\n",
       "                                           synset gloss  \\\n",
       "1087  ['a piece of furniture having a smooth flat to...   \n",
       "1062  ['a piece of furniture holding one or more ele...   \n",
       "1188  ['a piece of furniture having a smooth flat to...   \n",
       "872   ['a piece of furniture having a smooth flat to...   \n",
       "575   ['a piece of furniture having a smooth flat to...   \n",
       "\n",
       "                                         template1_desc  \\\n",
       "1087  A sa which is commonly known as eero saarinen,...   \n",
       "1062  A lamp which is commonly known as <no_tags>. I...   \n",
       "1188  A glass end table which is commonly known as e...   \n",
       "872   A saarinen table which is commonly known as sa...   \n",
       "575   A round end table which is commonly known as e...   \n",
       "\n",
       "                                         template2_desc  \\\n",
       "1087  The sa is a table often used for eero saarinen...   \n",
       "1062  The lamp is a lamp, table lamp often used for ...   \n",
       "1188  The glass end table is a table often used for ...   \n",
       "872   The saarinen table is a table, dining table,bo...   \n",
       "575   The round end table is a table often used for ...   \n",
       "\n",
       "                                         template3_desc  \n",
       "1087  sa is a table designed for eero saarinen,low t...  \n",
       "1062  lamp is a lamp, table lamp designed for <no_ta...  \n",
       "1188  glass end table is a table designed for end,gl...  \n",
       "872   saarinen table is a table, dining table,board ...  \n",
       "575   round end table is a table designed for end ta...  "
      ]
     },
     "execution_count": 58,
     "metadata": {},
     "output_type": "execute_result"
    }
   ],
   "source": [
    "# retrieve(self, query, query_modality, target_modality, top_k=5)\n",
    "idx, mesh_ids, projs = cmr.retrieve(pc_proj, 'pc', 'pc', 5)\n",
    "df.iloc[idx]"
   ]
  },
  {
   "cell_type": "code",
   "execution_count": 72,
   "metadata": {},
   "outputs": [
    {
     "data": {
      "text/plain": [
       "185    3d1e2c8874e4ed51dc3d5b9de4300711\n",
       "280    3e9f3db3935fbf37b6da6aba4787946b\n",
       "55     1a30adabf5a2bb848af30108ea9ccb6c\n",
       "142    d79ad0a65a00809f3a66b6fe2c876ded\n",
       "126    cd1e911b8571721998d5fc0473d00a1c\n",
       "Name: fullId, dtype: object"
      ]
     },
     "execution_count": 72,
     "metadata": {},
     "output_type": "execute_result"
    }
   ],
   "source": [
    "mesh_ids"
   ]
  },
  {
   "cell_type": "code",
   "execution_count": null,
   "metadata": {},
   "outputs": [],
   "source": [
    "from alignment import *\n",
    "from utils import *\n",
    "\n",
    "class EncodeUserInput(nn.Module):\n",
    "    def __init__(self, align_path=\"TrainedModels/Baseline/150.pth\", align_embd=400):\n",
    "        super().__init__()\n",
    "        self.align_path = align_path\n",
    "        self.align_embd = align_embd\n",
    "\n",
    "        self.clip_encoder = None\n",
    "\n",
    "        # Loading models\n",
    "        self.load_models()\n",
    "\n",
    "        # Preprocessing functions\n",
    "        self.tokenizer = open_clip.tokenize\n",
    "        self.transform = transforms.Compose([\n",
    "            transforms.Resize((518, 518)),  # Resize to DINO's expected input size\n",
    "            transforms.ToTensor(),\n",
    "            transforms.Normalize(mean=[0.485, 0.456, 0.406], std=[0.229, 0.224, 0.225])  # DINOv2 normalization\n",
    "        ])\n",
    "        self.pclip_preprocess = image_transform(\n",
    "            self.clip_encoder.visual.image_size,  # Correct image size for CLIP\n",
    "            is_train=False  # Ensures we use inference preprocessing\n",
    "        )\n",
    "\n",
    "    def preprocess_text(self, text_prompt):\n",
    "        max_length = 77\n",
    "        tokenized_text = self.tokenizer([text_prompt])\n",
    "        #print(tokenized_text.shape)\n",
    "        return tokenized_text\n",
    "\n",
    "    def preprocess_img(self, img_prompt):\n",
    "        image_tensor = self.transform(img_prompt).unsqueeze(0)\n",
    "        #print(image_tensor.shape)\n",
    "        return image_tensor\n",
    "\n",
    "    def preprocess_pc(self, pc_prompt):\n",
    "        num_points = 1024\n",
    "        indices = np.random.choice(pc_prompt.shape[0], num_points, replace=False)\n",
    "        # Sample the selected points\n",
    "        sampled_pc = pc_prompt[indices]\n",
    "        depth_map = self.pclip_preprocess(point_cloud_to_depth_map(sampled_pc)).unsqueeze(0)  # Add batch dimension\n",
    "        return depth_map\n",
    "\n",
    "    def preprocess_input(self, prompt, modality):\n",
    "        if modality == \"text\":\n",
    "            processed_output = self.preprocess_text(prompt)\n",
    "        elif modality == \"img\":\n",
    "            processed_output = self.preprocess_img(prompt)\n",
    "        else:\n",
    "            processed_output = self.preprocess_pc(prompt)\n",
    "        return processed_output\n",
    "    \n",
    "    def load_models(self):\n",
    "        try:\n",
    "            self.dinov2_encoder = load_dinov2()\n",
    "            self.clip_encoder = load_clip()\n",
    "            self.pclip_encoder = load_point_clip()\n",
    "            self.align_model = load_alignment(self.align_path, self.align_embd)\n",
    "            self.dinov2_encoder.eval()\n",
    "            self.clip_encoder.eval()\n",
    "            self.pclip_encoder.eval()\n",
    "            self.align_model.eval()\n",
    "        except:\n",
    "            print('Error in Loading Models')\n",
    "    \n",
    "    def get_projection(self, prompt, modality):\n",
    "        preprocessed_prompt = self.preprocess_input(prompt, modality)\n",
    "\n",
    "        with torch.no_grad():\n",
    "            if modality == \"text\":\n",
    "                embedding = self.clip_encoder.encode_text(preprocessed_prompt)\n",
    "                projection = self.align_model.text_proj_head(embedding)\n",
    "            elif modality == \"img\":\n",
    "                embedding = self.dinov2_encoder(preprocessed_prompt)\n",
    "                projection = self.align_model.img_proj_head(embedding)\n",
    "            else:\n",
    "                embedding = self.pclip_encoder.encode_image(preprocessed_prompt)\n",
    "                projection = self.align_model.pc_proj_head(embedding)\n",
    "\n",
    "        return projection"
   ]
  },
  {
   "cell_type": "code",
   "execution_count": 79,
   "metadata": {},
   "outputs": [],
   "source": [
    "import pandas as pd"
   ]
  },
  {
   "cell_type": "code",
   "execution_count": 80,
   "metadata": {},
   "outputs": [],
   "source": [
    "dataset_path = \"Data/ShapeNetSem/Datasets/subset_template_200.csv\"\n",
    "embed_path = \"Embeddings/ALIGN/subset_template_200.pt\"\n",
    "\n",
    "df = pd.read_csv(dataset_path)"
   ]
  },
  {
   "cell_type": "code",
   "execution_count": 81,
   "metadata": {},
   "outputs": [],
   "source": [
    "row = df.iloc[0]\n",
    "\n",
    "mesh_id = row['fullId']\n",
    "text = row['template1_desc']\n",
    "img_path = f'Data/ShapeNetSem/Images/subset_200/{mesh_id}/view0.png'\n",
    "image = Image.open(img_path).convert('RGB')\n",
    "pc_path = f'Data/ProcessedData/PointClouds/{mesh_id}.npy'\n",
    "pc = torch.from_numpy(np.load(pc_path))"
   ]
  },
  {
   "cell_type": "code",
   "execution_count": 82,
   "metadata": {},
   "outputs": [
    {
     "name": "stdout",
     "output_type": "stream",
     "text": [
      "Dinov2 Loaded Successfully!\n",
      "CLIP Model Loaded Successfully!\n",
      "Point CLIP Model Loaded Successfully!\n"
     ]
    }
   ],
   "source": [
    "enc = EncodeUserInput()"
   ]
  },
  {
   "cell_type": "code",
   "execution_count": 110,
   "metadata": {},
   "outputs": [],
   "source": [
    "text = \"A usb drive used for storage\""
   ]
  },
  {
   "cell_type": "code",
   "execution_count": 111,
   "metadata": {},
   "outputs": [],
   "source": [
    "text_proj = enc.get_projection(text, \"text\")\n",
    "img_proj = enc.get_projection(image, \"img\")\n",
    "pc_proj = enc.get_projection(pc, \"pc\")"
   ]
  },
  {
   "cell_type": "code",
   "execution_count": 112,
   "metadata": {},
   "outputs": [],
   "source": [
    "cmr = CrossModalRetrival(dataset_path, embed_path)"
   ]
  },
  {
   "cell_type": "code",
   "execution_count": 113,
   "metadata": {},
   "outputs": [],
   "source": [
    "import matplotlib.pyplot as plt"
   ]
  },
  {
   "cell_type": "code",
   "execution_count": 114,
   "metadata": {},
   "outputs": [
    {
     "data": {
      "text/plain": [
       "([2, 4, 8, 3, 9],\n",
       " 2    6de307ddb4317eae1c816f27d2a33b03\n",
       " 4    353fe70ec5633fc5e05878fff8971272\n",
       " 8    fc821511ed3090ac2846fa729d90e125\n",
       " 3    ab82d56cf9cc2476d154e1b098031d39\n",
       " 9    3d15f0b93dc94909ce92f6b720939174\n",
       " Name: fullId, dtype: object)"
      ]
     },
     "execution_count": 114,
     "metadata": {},
     "output_type": "execute_result"
    }
   ],
   "source": [
    "idx, mesh_ids, arrays = cmr.retrieve(text_proj, \"text\", \"img\", top_k=5)\n",
    "idx, mesh_ids"
   ]
  },
  {
   "cell_type": "code",
   "execution_count": 115,
   "metadata": {},
   "outputs": [
    {
     "data": {
      "text/plain": [
       "<matplotlib.image.AxesImage at 0x35ed8a600>"
      ]
     },
     "execution_count": 115,
     "metadata": {},
     "output_type": "execute_result"
    },
    {
     "data": {
      "image/png": "[encoded data removed]",
      "text/plain": [
       "<Figure size 640x480 with 1 Axes>"
      ]
     },
     "metadata": {},
     "output_type": "display_data"
    }
   ],
   "source": [
    "idx, mesh_ids, arrays = cmr.retrieve(text_proj, \"text\", \"img\", top_k=5)\n",
    "img_path = f'Data/ShapeNetSem/Images/subset_200/{mesh_ids[idx[1]]}/view0.png'\n",
    "img = plt.imread(img_path)\n",
    "plt.imshow(img)"
   ]
  },
  {
   "cell_type": "code",
   "execution_count": null,
   "metadata": {},
   "outputs": [
    {
     "data": {
      "text/plain": [
       "'A memorex flash drive which is commonly known as <no_tags>. It is associated with the following characteristics: memory device,storage device.\\nA general description of this item is: a device that preserves information for retrieval.'"
      ]
     },
     "execution_count": 77,
     "metadata": {},
     "output_type": "execute_result"
    }
   ],
   "source": [
    "idx, mesh_ids, arrays = cmr.retrieve(img_proj, \"img\", \"text\", top_k=5)\n",
    "df.iloc[idx[2]]['template1_desc']"
   ]
  },
  {
   "cell_type": "code",
   "execution_count": null,
   "metadata": {},
   "outputs": [
    {
     "data": {
      "text/plain": [
       "<matplotlib.image.AxesImage at 0x398a07a10>"
      ]
     },
     "execution_count": 84,
     "metadata": {},
     "output_type": "execute_result"
    },
    {
     "data": {
      "image/png": "[encoded data removed]",
      "text/plain": [
       "<Figure size 640x480 with 1 Axes>"
      ]
     },
     "metadata": {},
     "output_type": "display_data"
    }
   ],
   "source": [
    "idx, mesh_ids, arrays = cmr.retrieve(pc_proj, \"pc\", \"img\", top_k=5)\n",
    "img_path = f'Data/ShapeNetSem/Images/subset_200/{mesh_ids[idx[1]]}/view1.png'\n",
    "img = plt.imread(img_path)\n",
    "plt.imshow(img)"
   ]
  },
  {
   "cell_type": "code",
   "execution_count": 116,
   "metadata": {},
   "outputs": [
    {
     "name": "stdout",
     "output_type": "stream",
     "text": [
      "[3, 0, 4, 9, 1] 3    ab82d56cf9cc2476d154e1b098031d39\n",
      "0      9a9508597dee231d4e205745311c3a\n",
      "4    353fe70ec5633fc5e05878fff8971272\n",
      "9    3d15f0b93dc94909ce92f6b720939174\n",
      "1    71f6598d5426fb34c33dcf45f2780ed8\n",
      "Name: fullId, dtype: object\n"
     ]
    }
   ],
   "source": [
    "idx, mesh_ids, arrays = cmr.retrieve(pc_proj, \"img\", \"pc\", top_k=5)\n",
    "mesh_path = f'Data/ProcessedData/PointClouds/{mesh_ids[idx[1]]}.npy'\n",
    "print(idx, mesh_ids)    "
   ]
  },
  {
   "cell_type": "code",
   "execution_count": null,
   "metadata": {},
   "outputs": [],
   "source": [
    "def get_aligned_output(dataset_path, img_dir, pc_dir, prompt, input_modality, output_modality, encoder, cmr):\n",
    "    df = pd.read_csv(dataset_path)\n",
    "    projection = encoder.get_projection(prompt, input_modality)\n",
    "    idx, mesh_ids, arrays = cmr.retrieve(projection, input_modality, output_modality, top_k=5)\n",
    "\n",
    "    if output_modality == \"text\":\n",
    "        output = df.iloc[idx[2]]['template1_desc']\n",
    "    elif output_modality == \"img\":\n",
    "        output = f'{img_dir}{mesh_ids[idx[1]]}/view0.png'\n",
    "    else:\n",
    "        output = f'{pc_dir}{mesh_ids[idx[1]]}.obj'\n",
    "    \n",
    "    return output"
   ]
  },
  {
   "cell_type": "code",
   "execution_count": 2,
   "metadata": {},
   "outputs": [
    {
     "data": {
      "text/plain": [
       "np.float64(0.007386927402112633)"
      ]
     },
     "execution_count": 2,
     "metadata": {},
     "output_type": "execute_result"
    }
   ],
   "source": [
    "import numpy as np\n",
    "\n",
    "loss = np.load('TrainedModels/ALIGN/Baseline/loss.npy')\n",
    "loss[-1]"
   ]
  }
 ],
 "metadata": {
  "kernelspec": {
   "display_name": "env",
   "language": "python",
   "name": "python3"
  },
  "language_info": {
   "codemirror_mode": {
    "name": "ipython",
    "version": 3
   },
   "file_extension": ".py",
   "mimetype": "text/x-python",
   "name": "python",
   "nbconvert_exporter": "python",
   "pygments_lexer": "ipython3",
   "version": "3.12.4"
  }
 },
 "nbformat": 4,
 "nbformat_minor": 2
}
