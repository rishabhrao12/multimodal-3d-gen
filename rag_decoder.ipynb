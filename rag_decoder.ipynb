{
 "cells": [
  {
   "cell_type": "markdown",
   "metadata": {},
   "source": [
    "# RAG Decoder"
   ]
  },
  {
   "cell_type": "markdown",
   "metadata": {},
   "source": [
    "## 1. Retrieval"
   ]
  },
  {
   "cell_type": "code",
   "execution_count": null,
   "metadata": {},
   "outputs": [
    {
     "name": "stderr",
     "output_type": "stream",
     "text": [
      "/Users/rishabhrao/Documents/VSCode/multimodal-3d-gen/env/lib/python3.12/site-packages/tqdm/auto.py:21: TqdmWarning: IProgress not found. Please update jupyter and ipywidgets. See https://ipywidgets.readthedocs.io/en/stable/user_install.html\n",
      "  from .autonotebook import tqdm as notebook_tqdm\n"
     ]
    }
   ],
   "source": [
    "import matplotlib.pyplot as plt\n",
    "from alignment import *\n",
    "from utils import *"
   ]
  },
  {
   "cell_type": "code",
   "execution_count": 2,
   "metadata": {},
   "outputs": [],
   "source": [
    "dataset_path = \"Data/ShapeNetSem/Datasets/subset_template_200.csv\"\n",
    "embed_path = \"Embeddings/ALIGN/subset_template_200.pt\""
   ]
  },
  {
   "cell_type": "code",
   "execution_count": 3,
   "metadata": {},
   "outputs": [],
   "source": [
    "df = pd.read_csv(dataset_path)"
   ]
  },
  {
   "cell_type": "code",
   "execution_count": 4,
   "metadata": {},
   "outputs": [],
   "source": [
    "row = df.iloc[0]\n",
    "\n",
    "mesh_id = row['fullId']\n",
    "text = row['template1_desc']\n",
    "img_path = f'Data/ShapeNetSem/Images/subset_200/{mesh_id}/view0.png'\n",
    "image = Image.open(img_path).convert('RGB')\n",
    "pc_path = f'Data/ProcessedData/PointClouds/{mesh_id}.npy'\n",
    "pc = torch.from_numpy(np.load(pc_path))"
   ]
  },
  {
   "cell_type": "code",
   "execution_count": 5,
   "metadata": {},
   "outputs": [
    {
     "name": "stdout",
     "output_type": "stream",
     "text": [
      "Dinov2 Loaded Successfully!\n",
      "CLIP Model Loaded Successfully!\n",
      "Point CLIP Model Loaded Successfully!\n"
     ]
    }
   ],
   "source": [
    "enc = EncodeUserInput()\n",
    "cmr = CrossModalRetrival(dataset_path, embed_path)"
   ]
  },
  {
   "cell_type": "code",
   "execution_count": 6,
   "metadata": {},
   "outputs": [],
   "source": [
    "text_proj = enc.get_projection(text, \"text\")\n",
    "img_proj = enc.get_projection(image, \"img\")\n",
    "pc_proj = enc.get_projection(pc, \"pc\")"
   ]
  },
  {
   "cell_type": "code",
   "execution_count": 9,
   "metadata": {},
   "outputs": [
    {
     "name": "stdout",
     "output_type": "stream",
     "text": [
      "[0, 9, 2, 1, 45] 0       9a9508597dee231d4e205745311c3a\n",
      "9     3d15f0b93dc94909ce92f6b720939174\n",
      "2     6de307ddb4317eae1c816f27d2a33b03\n",
      "1     71f6598d5426fb34c33dcf45f2780ed8\n",
      "45    5334cfe15f80099f15ac67104577aee7\n",
      "Name: fullId, dtype: object\n",
      "A memorex flash drive which is commonly known as <no_tags>. It is associated with the following characteristics: memory device,storage device.\n",
      "A general description of this item is: a device that preserves information for retrieval.\n"
     ]
    }
   ],
   "source": [
    "idx, mesh_ids, arrays = cmr.retrieve(text_proj, \"text\", \"img\", top_k=5)\n",
    "print(idx, mesh_ids)\n",
    "idx, mesh_ids, arrays = cmr.retrieve(img_proj, \"img\", \"text\", top_k=5)\n",
    "print(df.iloc[idx[2]]['template1_desc'])"
   ]
  },
  {
   "cell_type": "code",
   "execution_count": 11,
   "metadata": {},
   "outputs": [
    {
     "data": {
      "text/plain": [
       "<matplotlib.image.AxesImage at 0x3c50210d0>"
      ]
     },
     "execution_count": 11,
     "metadata": {},
     "output_type": "execute_result"
    },
    {
     "data": {
      "image/png": "[encoded data removed]",
      "text/plain": [
       "<Figure size 640x480 with 1 Axes>"
      ]
     },
     "metadata": {},
     "output_type": "display_data"
    }
   ],
   "source": [
    "idx, mesh_ids, arrays = cmr.retrieve(text_proj, \"text\", \"img\", top_k=5)\n",
    "img_path = f'Data/ShapeNetSem/Images/subset_200/{mesh_ids[idx[1]]}/view0.png'\n",
    "img = plt.imread(img_path)\n",
    "plt.imshow(img)"
   ]
  },
  {
   "cell_type": "code",
   "execution_count": 12,
   "metadata": {},
   "outputs": [
    {
     "data": {
      "text/plain": [
       "<matplotlib.image.AxesImage at 0x3c5086b70>"
      ]
     },
     "execution_count": 12,
     "metadata": {},
     "output_type": "execute_result"
    },
    {
     "data": {
      "image/png": "[encoded data removed]",
      "text/plain": [
       "<Figure size 640x480 with 1 Axes>"
      ]
     },
     "metadata": {},
     "output_type": "display_data"
    }
   ],
   "source": [
    "idx, mesh_ids, arrays = cmr.retrieve(pc_proj, \"pc\", \"img\", top_k=5)\n",
    "img_path = f'Data/ShapeNetSem/Images/subset_200/{mesh_ids[idx[1]]}/view1.png'\n",
    "img = plt.imread(img_path)\n",
    "plt.imshow(img)"
   ]
  },
  {
   "cell_type": "markdown",
   "metadata": {},
   "source": [
    "## RAG Decoder"
   ]
  },
  {
   "cell_type": "code",
   "execution_count": 1,
   "metadata": {},
   "outputs": [
    {
     "name": "stderr",
     "output_type": "stream",
     "text": [
      "/Users/rishabhrao/Documents/VSCode/multimodal-3d-gen/env/lib/python3.12/site-packages/tqdm/auto.py:21: TqdmWarning: IProgress not found. Please update jupyter and ipywidgets. See https://ipywidgets.readthedocs.io/en/stable/user_install.html\n",
      "  from .autonotebook import tqdm as notebook_tqdm\n"
     ]
    }
   ],
   "source": [
    "import matplotlib.pyplot as plt\n",
    "from alignment import *\n",
    "from utils import *"
   ]
  },
  {
   "cell_type": "code",
   "execution_count": 2,
   "metadata": {},
   "outputs": [],
   "source": [
    "dataset_path = \"Data/ShapeNetSem/Datasets/subset_template_200.csv\"\n",
    "embed_path = \"Embeddings/ALIGN/subset_template_200.pt\"\n",
    "pc_dir = \"Data/ProcessedData/PointClouds/\""
   ]
  },
  {
   "cell_type": "markdown",
   "metadata": {},
   "source": [
    "data_dict = {\n",
    "        \"text_proj\": projections_t,\n",
    "        \"img_proj\": projections_i,\n",
    "        \"pc_proj\": projections_pc,\n",
    "        \"index\": all_idx,\n",
    "        \"category\": all_cats\n",
    "    }"
   ]
  },
  {
   "cell_type": "code",
   "execution_count": 3,
   "metadata": {},
   "outputs": [],
   "source": [
    "data_dict = torch.load(embed_path)"
   ]
  },
  {
   "cell_type": "code",
   "execution_count": 4,
   "metadata": {},
   "outputs": [
    {
     "data": {
      "text/plain": [
       "tensor([145])"
      ]
     },
     "execution_count": 4,
     "metadata": {},
     "output_type": "execute_result"
    }
   ],
   "source": [
    "data_dict['index'][0]"
   ]
  },
  {
   "cell_type": "code",
   "execution_count": null,
   "metadata": {},
   "outputs": [
    {
     "name": "stdout",
     "output_type": "stream",
     "text": [
      "145 torch.Size([1, 400]) torch.Size([1, 400]) torch.Size([1, 400]) USBStick\n"
     ]
    },
    {
     "data": {
      "text/plain": [
       "torch.Size([1024, 3])"
      ]
     },
     "execution_count": 24,
     "metadata": {},
     "output_type": "execute_result"
    }
   ],
   "source": [
    "import torch\n",
    "from torch.utils.data import Dataset, DataLoader\n",
    "\n",
    "class RAGDataset(Dataset):\n",
    "    def __init__(self, data_dict, dataset_path, pc_dir, num_points=1024):\n",
    "        \"\"\"\n",
    "        Initialize the dataset with data from the dictionary.\n",
    "        \n",
    "        :param data_dict: Dictionary containing the projections and other data\n",
    "        \"\"\"\n",
    "        self.data_dict = data_dict\n",
    "        self.all_idx = data_dict[\"index\"]  # This is a tensor\n",
    "        self.text_proj = data_dict[\"text_proj\"]\n",
    "        self.img_proj = data_dict[\"img_proj\"]\n",
    "        self.pc_proj = data_dict[\"pc_proj\"]\n",
    "        self.categories = data_dict[\"category\"]\n",
    "        self.pc_dir = pc_dir\n",
    "        self.dataframe = pd.read_csv(dataset_path)\n",
    "        self.num_points = num_points\n",
    "\n",
    "    def __len__(self):\n",
    "        \"\"\"\n",
    "        Returns the total number of samples.\n",
    "        \"\"\"\n",
    "        return len(self.all_idx)\n",
    "\n",
    "    def __getitem__(self, idx):\n",
    "        \"\"\"\n",
    "        Fetches a sample at a specific index.\n",
    "        \n",
    "        :param idx: Sample index (provided when accessing the dataset)\n",
    "        :return: A dictionary with the selected data (text, image, pc projection)\n",
    "        \"\"\"\n",
    "        # Ensure idx is an integer, in case it is passed as a tensor or array-like.\n",
    "        if isinstance(idx, torch.Tensor):\n",
    "            idx = idx.item()  # Get the scalar value if idx is a tensor\n",
    "\n",
    "        # Use the idx to retrieve data from the tensor of indices\n",
    "        selected_idx = self.all_idx[idx]  # This is still a tensor, but works for indexing\n",
    "        \n",
    "        # Get corresponding projections and category using the selected idx\n",
    "        text_projection = self.text_proj[selected_idx]\n",
    "        img_projection = self.img_proj[selected_idx]\n",
    "        pc_projection = self.pc_proj[selected_idx]\n",
    "        category = self.categories[selected_idx]\n",
    "        \n",
    "        # Getting true point cloud\n",
    "        mesh_id = self.dataframe.loc[selected_idx.item(), 'fullId']\n",
    "        pc_path = f'{pc_dir}{mesh_id}.npy'\n",
    "        true_pc = np.load(pc_path)\n",
    "        indices = np.random.choice(true_pc.shape[0], self.num_points, replace=False)\n",
    "        # Sample the selected points\n",
    "        true_pc = torch.from_numpy(true_pc[indices])\n",
    "        # Returning the selected data as a dictionary\n",
    "        return {\n",
    "            \"text_proj\": text_projection,\n",
    "            \"img_proj\": img_projection,\n",
    "            \"pc_proj\": pc_projection,\n",
    "            \"index\": selected_idx.item(),\n",
    "            \"category\": category,\n",
    "            \"target_pc\": true_pc\n",
    "        }\n",
    "\n",
    "# Initialize the dataset\n",
    "dataset = RAGDataset(data_dict, dataset_path, pc_dir)\n",
    "\n",
    "data = dataset[0]\n",
    "idx, text_proj, img_proj, pc_proj, category = data['index'], data['text_proj'], data['img_proj'], data['pc_proj'], data['category']\n",
    "print(idx, text_proj.shape, img_proj.shape, pc_proj.shape, category)\n",
    "pc = data['target_pc']\n",
    "pc.shape"
   ]
  },
  {
   "cell_type": "code",
   "execution_count": 6,
   "metadata": {},
   "outputs": [],
   "source": [
    "cmr = CrossModalRetrival(dataset_path, embed_path)"
   ]
  },
  {
   "cell_type": "code",
   "execution_count": 10,
   "metadata": {},
   "outputs": [],
   "source": [
    "import random"
   ]
  },
  {
   "cell_type": "code",
   "execution_count": null,
   "metadata": {},
   "outputs": [
    {
     "name": "stdout",
     "output_type": "stream",
     "text": [
      "torch.Size([8, 3072]) torch.Size([8, 400])\n"
     ]
    }
   ],
   "source": [
    "dataset = RAGDataset(data_dict, dataset_path, pc_dir)\n",
    "\n",
    "batch_size = 8\n",
    "# Create DataLoader\n",
    "dataloader = DataLoader(dataset, batch_size=batch_size, shuffle=True)\n",
    "modality_choices = ['text', 'img', 'pc']\n",
    "# Iterate through the DataLoader\n",
    "for batch in dataloader:\n",
    "    point_clouds = []\n",
    "    projections = []\n",
    "    for i in range(batch_size):\n",
    "        # idx, text_proj, img_proj, pc_proj, category = batch['index'][i], batch['text_proj'][i], batch['img_proj'][i], batch['pc_proj'][i], batch['category'][i]\n",
    "        # print(idx, text_proj.shape, img_proj.shape, pc_proj.shape, category)\n",
    "\n",
    "        # Choose one random projection to use\n",
    "        choice = random.choice(modality_choices)\n",
    "        projection = batch[f\"{choice}_proj\"][i]\n",
    "        pc = get_aligned_pc_from_projection(pc_dir, projection, choice, cmr)\n",
    "        # print(pc.shape)\n",
    "        projections.append(projection)\n",
    "        point_clouds.append(pc)\n",
    "\n",
    "    point_clouds = torch.stack(point_clouds) # (B, num_points, 3)\n",
    "    projections = torch.stack(projections) # (B, 1, 400)\n",
    "    point_clouds = point_clouds.view(batch_size, -1)\n",
    "    projections = projections.squeeze(1)\n",
    "    print(point_clouds.shape, projections.shape)\n",
    "    break"
   ]
  },
  {
   "cell_type": "code",
   "execution_count": 14,
   "metadata": {},
   "outputs": [],
   "source": [
    "import torch.nn as nn"
   ]
  },
  {
   "cell_type": "code",
   "execution_count": 39,
   "metadata": {},
   "outputs": [],
   "source": [
    "class HiddenLayer(nn.Module):\n",
    "    def __init__(self, dim):\n",
    "        super().__init__()\n",
    "        self.fc = nn.Linear(dim, dim)\n",
    "    \n",
    "    def forward(self, x):\n",
    "        x = self.fc(x)\n",
    "        x = torch.relu(x)\n",
    "        return x\n",
    "    \n",
    "class RAGDecoder(nn.Module):\n",
    "    def __init__(self, in_dim, hidden_dim, out_dim, num_hidden_layers=1, num_points=1024):\n",
    "        super().__init__()\n",
    "        self.fc1 = nn.Linear(in_dim, hidden_dim)\n",
    "        self.fc2 = nn.Sequential(*[HiddenLayer(hidden_dim) for i in range(num_hidden_layers)])\n",
    "        self.fc3 = nn.Linear(hidden_dim, out_dim)\n",
    "        self.num_points = num_points\n",
    "        self.relu = nn.ReLU\n",
    "    \n",
    "    def forward(self, x):\n",
    "        x = self.fc1(x)\n",
    "        x = torch.relu(x)\n",
    "        x = self.fc2(x)\n",
    "        x = self.fc3(x)\n",
    "        return x.view(-1, self.num_points, 3)\n",
    "\n",
    "def chamfer_distance(pc1, pc2):\n",
    "    \"\"\"\n",
    "    Chamfer Distance between two point clouds.\n",
    "    pc1 and pc2 should be of shape (B, N, 3).\n",
    "    \"\"\"\n",
    "    pc1 = pc1.unsqueeze(2)  # Expand to (B, N, 3, 1)\n",
    "    pc2 = pc2.unsqueeze(1)  # Expand to (B, 1, N, 3)\n",
    "    \n",
    "    dist = torch.norm(pc1 - pc2, dim=3)  # Calculate the L2 distance between points\n",
    "    min_dist1 = dist.min(dim=2)[0]  # Min distance along the second axis\n",
    "    min_dist2 = dist.min(dim=1)[0]  # Min distance along the first axis\n",
    "    \n",
    "    # Return the mean Chamfer Distance\n",
    "    return min_dist1.mean() + min_dist2.mean()"
   ]
  },
  {
   "cell_type": "markdown",
   "metadata": {},
   "source": [
    "### Training Code"
   ]
  },
  {
   "cell_type": "code",
   "execution_count": null,
   "metadata": {},
   "outputs": [
    {
     "name": "stdout",
     "output_type": "stream",
     "text": [
      "Point Cloud Input Shape: torch.Size([8, 3072]), Projections Shape: torch.Size([8, 400])\n",
      "Combined Input Shape: torch.Size([8, 3472])\n",
      "Predicted Input Shape: torch.Size([8, 1024, 3]), Target Shape: torch.Size([8, 1024, 3])\n",
      "Loss: 0.5949430465698242, <class 'torch.Tensor'>\n",
      "Gradient for has shape torch.Size([512, 3472])\n",
      "Gradient for has shape torch.Size([512])\n",
      "Gradient for has shape torch.Size([512, 512])\n",
      "Gradient for has shape torch.Size([512])\n",
      "Gradient for has shape torch.Size([3072, 512])\n",
      "Gradient for has shape torch.Size([3072])\n"
     ]
    }
   ],
   "source": [
    "dataset = RAGDataset(data_dict, dataset_path, pc_dir)\n",
    "dataloader = DataLoader(dataset, batch_size=batch_size, shuffle=True)\n",
    "\n",
    "B = 8  # Batch size\n",
    "num_points = 1024  # Number of points in the point cloud\n",
    "in_dim = 400 + num_points * 3  # Input dimension (projection + flattened point cloud)\n",
    "hidden_dim = 512  # Hidden layer size\n",
    "out_dim = num_points * 3  # Output dimension (for point cloud with 3 coordinates per point)\n",
    "modality_choices = ['text', 'img', 'pc']\n",
    "\n",
    "rag_decoder = RAGDecoder(in_dim, hidden_dim, out_dim)\n",
    "optimizer = torch.optim.Adam(rag_decoder.parameters(), lr=1e-4)\n",
    "\n",
    "# Iterate through the DataLoader\n",
    "\n",
    "for batch in dataloader:\n",
    "    point_clouds = []\n",
    "    projections = []\n",
    "    target_point_clouds = batch['target_pc'].to(dtype=torch.float32)\n",
    "    for i in range(batch_size):\n",
    "        # idx, text_proj, img_proj, pc_proj, category = batch['index'][i], batch['text_proj'][i], batch['img_proj'][i], batch['pc_proj'][i], batch['category'][i]\n",
    "        # print(idx, text_proj.shape, img_proj.shape, pc_proj.shape, category)\n",
    "\n",
    "        # Choose one random projection to use\n",
    "        choice = random.choice(modality_choices)\n",
    "        projection = batch[f\"{choice}_proj\"][i]\n",
    "        pc = get_aligned_pc_from_projection(pc_dir, projection, choice, cmr)\n",
    "        # print(pc.shape)\n",
    "        projections.append(projection)\n",
    "        point_clouds.append(pc)\n",
    "\n",
    "    point_clouds = torch.stack(point_clouds) # (B, num_points, 3)\n",
    "    projections = torch.stack(projections) # (B, 1, 400)\n",
    "    point_clouds = point_clouds.view(batch_size, -1)\n",
    "    projections = projections.squeeze(1)\n",
    "    combined_input = torch.concat((projections, point_clouds), dim=1)\n",
    "    combined_input = combined_input.to(dtype=torch.float32)\n",
    "    pred_point_clouds = rag_decoder(combined_input)\n",
    "    loss = chamfer_distance(pred_point_clouds, target_point_clouds)\n",
    "\n",
    "    print(f\"Point Cloud Input Shape: {point_clouds.shape}, Projections Shape: {projections.shape}\")\n",
    "    print(f\"Combined Input Shape: {combined_input.shape}\")\n",
    "    print(f\"Predicted Input Shape: {pred_point_clouds.shape}, Target Shape: {target_point_clouds.shape}\")\n",
    "    print(f\"Loss: {loss}, {type(loss)}\")\n",
    "\n",
    "    optimizer.zero_grad()\n",
    "    loss.backward()\n",
    "\n",
    "    #\"\"\"\n",
    "    for param in rag_decoder.parameters():\n",
    "        if param.grad is None:\n",
    "            print(f\"Gradient is None for parameter: {param}\")\n",
    "        else:\n",
    "            print(f\"Gradient for has shape {param.grad.shape}\")\n",
    "    \n",
    "    #\"\"\"\n",
    "    \n",
    "    optimizer.step()\n",
    "    break"
   ]
  },
  {
   "cell_type": "markdown",
   "metadata": {},
   "source": [
    "### Using model"
   ]
  },
  {
   "cell_type": "code",
   "execution_count": 1,
   "metadata": {},
   "outputs": [
    {
     "name": "stderr",
     "output_type": "stream",
     "text": [
      "/Users/rishabhrao/Documents/VSCode/multimodal-3d-gen/env/lib/python3.12/site-packages/tqdm/auto.py:21: TqdmWarning: IProgress not found. Please update jupyter and ipywidgets. See https://ipywidgets.readthedocs.io/en/stable/user_install.html\n",
      "  from .autonotebook import tqdm as notebook_tqdm\n"
     ]
    }
   ],
   "source": [
    "import matplotlib.pyplot as plt\n",
    "from alignment import *\n",
    "from utils import *\n",
    "from rag import *\n",
    "from dataset import *\n",
    "import time\n",
    "import plotly.graph_objects as go\n",
    "from plotly.subplots import make_subplots"
   ]
  },
  {
   "cell_type": "code",
   "execution_count": 2,
   "metadata": {},
   "outputs": [],
   "source": [
    "dataset_path = \"Data/ShapeNetSem/Datasets/subset_template_200.csv\"\n",
    "embed_path = \"Embeddings/ALIGN/subset_template_200.pt\"\n",
    "pc_dir = \"Data/ProcessedData/PointClouds/\"\n",
    "save_dir = f\"TrainedModels/RAG/Baseline/\"\n",
    "num_points = 1024  # Number of points in the point cloud\n",
    "in_dim = 400 + num_points * 3  # Input dimension (projection + flattened point cloud)\n",
    "hidden_dim = 512  # Hidden layer size\n",
    "out_dim = num_points * 3 "
   ]
  },
  {
   "cell_type": "code",
   "execution_count": 3,
   "metadata": {},
   "outputs": [
    {
     "data": {
      "text/plain": [
       "RAGDecoder(\n",
       "  (fc1): Linear(in_features=3472, out_features=512, bias=True)\n",
       "  (fc2): Sequential(\n",
       "    (0): HiddenLayer(\n",
       "      (fc): Linear(in_features=512, out_features=512, bias=True)\n",
       "    )\n",
       "    (1): HiddenLayer(\n",
       "      (fc): Linear(in_features=512, out_features=512, bias=True)\n",
       "    )\n",
       "    (2): HiddenLayer(\n",
       "      (fc): Linear(in_features=512, out_features=512, bias=True)\n",
       "    )\n",
       "    (3): HiddenLayer(\n",
       "      (fc): Linear(in_features=512, out_features=512, bias=True)\n",
       "    )\n",
       "  )\n",
       "  (fc3): Linear(in_features=512, out_features=3072, bias=True)\n",
       ")"
      ]
     },
     "execution_count": 3,
     "metadata": {},
     "output_type": "execute_result"
    }
   ],
   "source": [
    "rag_decoder = RAGDecoder(in_dim, hidden_dim, out_dim, num_hidden_layers=4)  # Ensure the architecture matches\n",
    "\n",
    "# Load the saved weights\n",
    "checkpoint_path = \"TrainedModels/RAG/four_hidden/1500.pth\"\n",
    "state_dict = torch.load(checkpoint_path, map_location=torch.device('cpu'))  # Load to CPU\n",
    "rag_decoder.load_state_dict(state_dict)\n",
    "# Set to evaluation mode (if needed)\n",
    "device = \"cuda\" if torch.cuda.is_available() else \"cpu\"\n",
    "rag_decoder.to(device)"
   ]
  },
  {
   "cell_type": "code",
   "execution_count": 4,
   "metadata": {},
   "outputs": [],
   "source": [
    "batch_size = 8\n",
    "cmr = CrossModalRetrival(dataset_path, embed_path)\n",
    "\n",
    "data_dict = torch.load(embed_path)\n",
    "dataset = RAGDataset(data_dict, dataset_path, pc_dir)\n",
    "dataloader = DataLoader(dataset, batch_size=batch_size, shuffle=True)\n",
    "\n",
    "modality_choices = ['text', 'img', 'pc']"
   ]
  },
  {
   "cell_type": "code",
   "execution_count": 5,
   "metadata": {},
   "outputs": [
    {
     "name": "stdout",
     "output_type": "stream",
     "text": [
      "Point Cloud Input Shape: torch.Size([8, 3072]), Projections Shape: torch.Size([8, 400])\n",
      "Point Cloud Input Shape: torch.Size([8, 3072]), Projections Shape: torch.Size([8, 400])\n",
      "Combined Input Shape: torch.Size([8, 3472])\n",
      "Predicted Input Shape: torch.Size([8, 1024, 3]), Target Shape: torch.Size([8, 1024, 3])\n",
      "Loss: 0.061017297208309174, <class 'torch.Tensor'>\n"
     ]
    }
   ],
   "source": [
    "with torch.no_grad():\n",
    "    for batch in dataloader:\n",
    "        point_clouds = []\n",
    "        projections = []\n",
    "        target_point_clouds = batch['target_pc'].to(dtype=torch.float32)\n",
    "        categories = []\n",
    "        for i in range(batch_size):\n",
    "            # idx, text_proj, img_proj, pc_proj, category = batch['index'][i], batch['text_proj'][i], batch['img_proj'][i], batch['pc_proj'][i], batch['category'][i]\n",
    "            # print(idx, text_proj.shape, img_proj.shape, pc_proj.shape, category)\n",
    "            categories.append(batch['category'][i])\n",
    "            # Choose one random projection to use\n",
    "            choice = random.choice(modality_choices)\n",
    "            projection = batch[f\"{choice}_proj\"][i]\n",
    "            pc = get_aligned_pc_from_projection(pc_dir, projection, choice, cmr)\n",
    "            # print(pc.shape)\n",
    "            projections.append(projection)\n",
    "            point_clouds.append(pc)\n",
    "\n",
    "        point_clouds = torch.stack(point_clouds) # (B, num_points, 3)\n",
    "        projections = torch.stack(projections) # (B, 1, 400)\n",
    "        point_clouds = point_clouds.view(batch_size, -1)\n",
    "        projections = projections.squeeze(1)\n",
    "        print(f\"Point Cloud Input Shape: {point_clouds.shape}, Projections Shape: {projections.shape}\")\n",
    "        \n",
    "        combined_input = torch.concat((projections, point_clouds), dim=1)\n",
    "        combined_input = combined_input.to(dtype=torch.float32)\n",
    "        pred_point_clouds = rag_decoder(combined_input)\n",
    "        loss = chamfer_distance(pred_point_clouds, target_point_clouds)\n",
    "        #\"\"\"\n",
    "        print(f\"Point Cloud Input Shape: {point_clouds.shape}, Projections Shape: {projections.shape}\")\n",
    "        print(f\"Combined Input Shape: {combined_input.shape}\")\n",
    "        print(f\"Predicted Input Shape: {pred_point_clouds.shape}, Target Shape: {target_point_clouds.shape}\")\n",
    "        print(f\"Loss: {loss}, {type(loss)}\")\n",
    "        #\"\"\"\n",
    "        break"
   ]
  },
  {
   "cell_type": "code",
   "execution_count": 6,
   "metadata": {},
   "outputs": [
    {
     "data": {
      "text/plain": [
       "(torch.Size([8, 1024, 3]),\n",
       " torch.Size([8, 1024, 3]),\n",
       " ['PillBottle',\n",
       "  'CeilingFan,Fan',\n",
       "  'Books',\n",
       "  'Table,CoffeeTable,_StanfordSceneDBModels,RoundTable',\n",
       "  'Showerhead,Faucet',\n",
       "  'PottedPlant,_StanfordSceneDBModels,_SceneGalleryModels',\n",
       "  'Bed,LoftBed',\n",
       "  'DrinkingUtensil,Teacup'])"
      ]
     },
     "execution_count": 6,
     "metadata": {},
     "output_type": "execute_result"
    }
   ],
   "source": [
    "pred_point_clouds.shape, target_point_clouds.shape, categories"
   ]
  },
  {
   "cell_type": "code",
   "execution_count": 7,
   "metadata": {},
   "outputs": [
    {
     "data": {
      "application/vnd.plotly.v1+json": {
       "config": {
        "plotlyServerURL": "https://plot.ly"
       },
       "data": [
        {
         "marker": {
          "color": "blue",
          "size": 5
         },
         "mode": "markers",
         "name": "Predicted",
         "scene": "scene",
         "type": "scatter3d",
         "x": {
          "bdata": "UbYxvSfGzbx0qMa8Ug2ivFHHc73B7A69ztuMveQbIb3kWou9TbtiPVg86rz07w29lKT0vUO5OD29IHM9pGhrvYzdWD2XVXq9cxGRPHV6Zr0VbSW9JUO+PJFF3byTNMs8KnF3vQuMpb7G20y9SH1lvWE4x7zJ29Q8hA0jvZx2Yz2oNtI9/JjUu4ouRjwUnGm98Q52vRbGPr02T7O8mzMMPVyqUL0ZIvM8rWT3vPp2v7y6jH+9+V3AvB2PH72KlZy+Z3wKvcDvYD1WM1y9mkpiPeu56L0TK269eRs5PVa6ND4Jk3C97SKcPcu3Z7zH+Ae9zVwfvR9jab23zuk937a2PAoSEDxJyV+9OBqFO596fT2nXic9noQqPc1fUD2+j0a9sNYKveNjorxqSbM9HRBmPPbV5Ls0Mpi9e/19vWlXQT0pOia92VAnu4OCPb2dLQY9wOqSvCulYj0rRGU9bIYfveqi4byhrb68rjWlvKXC4LxkhZS9G4dpPeNDJr3y/QG9Mp8UvZ0ygz1aq4m9Ytg2PYDPq7zEVQ894YX/PP9k9jwpusa9msIWPWFiEb2rb0K901YIvfk2hL1kznW83j6GvbDug77fdvy8UKz+PFjCQz1PB1a9UAntPRrT1LyF/Ai921pMvRjNm7wpi489BABNvSsBar15iFI9SuVlveIsMj2u5QS96MKJvSwKNz1VxWK9hMVNvsl9crqdghi9VZKCvTFP77zqbN68q4ClvP/kfD15UCw8dLpEvRA/BT2ERoS9C7ZLveXRxbx8IA49ZhEPvbuqgL7ralK9GuwnvbCNz7x1CBe9bO0tPc63Kz28/Xu+23HhvNIGCz223mS9m78hvfslCL1+Jb+8bZJIuuVw2bz8FWo9+W2TvLSAULwxOQG9R0civWvGMD5nrhy9OqvbubPRsrx28jy8ELUXPUxHV727MBi+lJ5WvT6x4LzVULK82D9qvJdVRz1iulQ9g414vch9Ez78U6w7LukOvtw+sbwFxDU+JN53vd3717wFHw69GRxBPgbFLLzbuYW90fcrvWjUBr2+lEI9UEKqvGh+fb0Qb5I9VHKLPpodiry/cba8d6drPXNNij6JO5g88qj8OXKksrxkSqS8Kbs9Pbs7Ir3TnwO93bhNvZffbL3cIGA9Qt0+vdvNdb1J2VU7/1WEvdJnYb2YA/m8L3aGvN2/8rxwbrS9BUiuvERsMb0dX6y7Fu6YPI4DmLrT1Sa9VXyIvV5T+jxnbQC9ZiXEvH6jRTzOKz+9WgsbvYTgUDxFaYK9D6DJu+MKEDxDGG69GiG7PIHu6ryefBi9ExzwvMbgbz2Yz2y98Hveuj7UFb1dEgG9DqRBPkCUVr3D0e682LAKPp/IIj4i7ji+5LQlvWc2E71XFUo9C5UmPa6DM70HveA88N0cPR1UKD2AYGy9tKYTPZx2Mz2dB+m8JWMmPWlaE7wTerG8MGLLvCHTr7wutou9LN5hvUAVjjxvLdY8jpwQvpcaMz4VdGq9gQMpvhEPlL10Lxk9m7xJPXot3zwmPlg9BwEyvBbkzbtIo0k8tGEKPcNagL1gdhi9U/ytPeSAFTsvDm09IP4FvcQ39bwPVHa8LqzavPNilLw5opa81ReLvEIqS709Oqg8uQ9dvBJ89jzZDGu9bbL4vG3egr3IFW29Xs4TvaTGOL0bt04+aFugvFJRZT3GXPS8qo3VvKWzo76Qpqo8sDVRvbunND76+DE9qjvevH6jnbzOlsq7hClfvjjnZT3i5Fo91UoqPb+UCr2JJnG9qviHPBRy5721/h+9bHIlPr6nxrxWv2Q9WwWAvaRJCb3b1OW8EYqCvOjnar1uPfm8J3W3vJ6v/LwaOjI+DLN1u39yArxjaea8uCtmPRkWIb3BhUa9khAvvs0j07weKAm9EFmavZepa70Gtl29rQdJvUpTs7wN5yS+ll0kvdcSwjybSQk9Vbocva8DLD2LTFK8AkM6PZgOhryS/F+9nZVovYmycb28yn8+m3drvSKXXrzaZoe9pp+jvL2VlryZcT295BktvYaOOL3++o+9TFNXu06IwbxCR968sPw7vXC6yL3IbgO9YOdHPMkfxLwmlFo9MJYtPc8CzrxIoAa930QovBJIlj2vbz694KEPvfXdcjyNRZg7eOCxPfrcXr0l6oa9NY5RPQ2XMb2/1zw9W9aHvRExSDxRPnI8AGh5vbkxNz3NPHu8bWUpvc2FJ7lE1jK99NDcvIvHI72x+Nu8NcOxvJFpLL1blIk+FMxkvdfXVD2GIwu9JCz+PI1dJz2NmcS8xgY6vVmIGL0fnjy9W/PgPBaX8bukQjs7EXtmvO/KVb3v7tk8X5kdPTysMz2UYRe9rTcbPZKtKj1PovK8/+dSPKUgTD02neu8atSDvQyhhr07aEk8jE9avMNpA7s5KV29Pq0zPZereLwskou7TPQOPbjlHT4iGIG9spAAPYoMeL1KC8S8y1mevD+jXL13FrK67x8CvUCew7w9JYO9K43EPGUeQj0UxvS8nRtlvUto4DyP3GC9Z2hMvbjJ27yBZS+9yA1bvd0ndj3vKhk9nyq7u8Y42rzuk1s94kpTvqFrbT2Tbc49WDn9PCiYB75r23G9siVvvVsPLD2hJoe89c/fPDzZab3ZcES98POJPZZSSr3ttCq9Y8YRvcckxru7HhG9GF2MvckLe73eaZ898jA8Ps0rFL0IVca8O5XHvDJG87wheLo8QaMqPaK7ZT0oUI46WszGvFm2Jb3Ij4S90PopPZCWQr0okHW9xg6aPG+HUj0Ziqq8fbKDPmd+ibwJRny95yBNPvLNdD3E0wi9vNwBvFK8hTxFpVm9AqPEO7mX/zzcmpK8E+hBvShvUr3WfUe9dqIIvZL7jryil2U94m/pOl0xq7wWDTC9AR0VPakIf72P9im96f8FvVD8PD0+Vpe9Hu9xvOAvWL6BIoG9JhvXvNByITxtf+m8J8tzPHTpZj1jIim99ohbvWhyC7yap1291cF5vXyNELy2ZrG8Ji1MPGKYEjvsrSQ9b6+xvEyjhr4PGSA+C3bOPKHf5DzYaW6+QSN7vYVPsLw7LoE9MU3LPKh4bb0HsIG9vCNEvXz1ar1YhXG9Z42Avb1hhDrbbqO8s+Z9vfLWpTzwnXS9sYMdvXuU7rzbxyE9+9BQvaxL6rwg4Fg9QcnfvHv+77yious8Ucptu6aLdr3C1BE+y0oPOyYuPr0ckMm869R0vYZai7wG4iQ9baaCPSifGzoUyg6+keEkvdmGUr3nNU49NROivLMWK70cark9fM5CvbAqlDv7Z7I80yekvAfqTz0GqHS9dq6KvQC2cj02hei8OUuEvEspJ7389yE9xut/vFxXYT0bnDO9af4ovcpLv716kju9OSm6vIFhHD2p4Gs7Y1RJvsY/BL2ufnm9iU0LvVtwuTvuM8o8U70+PQL59TwOwYG+bB2/vEPUh735kBY9hPiqvAxBOjxzdlw8Afd2vXA1wbyRKMi8XnSMvWdb2LxVj7+8ih3GvK3BCL3ih0G9X3lBPWJtOL0ujni9MR5jvYp/8LxqSZ48ZSSGvfVwBLstQoi8/4WLvEroYr3oNa28uel+vTvy6j2vWlO9kTrnvAFc+jtlTS497oJEvcBjFT1I/jm987+WvWLsQLwuAYK97XhMvZWiR71dqhq8vxaGvftzjz3eVgy9Ql8ZPfosYL3A4r68xxVcPJ+6Y71T9nG9I/B8vSit+71rp9o8D/KTvFmXOT1D2zw9RUwpvUWOLb703Ge93CAbPUkbWj0g4YC9Ev4TvS68BLxi3BU6u9EHvtblP71cn4A8k25avbZnRT1U3Ay9jyw7PT86K7225iO96cKbvCFbBbyNtFE9tMiaPKb8fL2Zu946mV2EvYy9hD71YsO8ycFaPS9p8DymooI98KhkPQjVB716+Ug99LtdvWsqIz1ubxY9Nf9zPTWhGL2mGSc+l7CkvtxwD72IK4i9GjrlvE3Xury/vOO8CvHEvEPv77zs/lG92A5RvfcWADw7Khi9cYoWvRKZgr0JJZ68BkLQPBcahb17f4u9B6dlvdKdhL2s1Dm9XikOvVuQSz39sZo9b8FqPMMVurwu+Cu+zkjnOiWDU73NYW89V7LCvaOcdr2X0gO8vqOQvfkOuLy5ZAk9J95kvcSnJ7yFJNa83MCpvDtSQD3sBVm+ijTyvF5sWb2VUl282cFdvfVOur26lh65wz/AvOFwWL2g3Te9LjCKvniOd72D3uM9XSsZPRDRPz2mCuM8tflUPRHQfj6Aufq8HqN0vVGGNb2bYHe9PI9HvYt9Sryi1Sq9oe0NveYsWz1TJne9CbiKvBh/CT1bu+y8WeUJvWw4JL3zZuK8oKSLvFy3xbykvxG+LrDJvFxVv7z2o9C89TUiPB+b2rzo5ss8Z7YZPqAlLr3jy0M8zMw0vQHzb70yUlO9edyQvL378rv4S1G9kyzGvEzM8zvxFTW9puoXvV6i9bzsimm9Eg7nujxyBTzYv3w+MOlcvrGDkb2zOmU96Em2vIomWr2tTii9xMYuvffi0LsRZ9M8trKmvWwWorwGWzm9JjESveSN2LwJeBW+bHh6PblczrxdA3a937dyvTgCG73GeAO9f4hOvfpDk70T6A69G/iWPO1bHD0P/T09VZNjvVpGA73flyW9P2GEOUN8GD0fR9W8Fwxgva6iljo5bo+97GM8PXv9Yz1QQqC8jfDGvBjnSj43gYu9NFCrvLMxIr0q9wq98k6yPHsGu7x4uTO9haZvvQMJDr3l62C9flwuvcGVlrw8M1+99e/tvG08DL3tN0c9ApEXO1/0Wz2GX1Q9GzHnvDKfjb1DkFG8NRBsPWZsEb0t2AM8K1t9vW2hND03Yoe9i300ve0MO72nJAe98iMAvPTh0Tw60By97PpYvargZz3skgc+jCfPvY1A1byR3069zOayvlEDMz2VcKo+BkRNvRaPjTxDYLW8LH1VvXlEUb0jgiQ9M+3SvJ30F73DoEo9tNzWPAq9d70/s0C9uBz/PDFZpT6mjwo9KXmZOSuZgL0BLki9nTINPZpzBb28XOO8+eYcPSwoPT1CRha98Y2uvKkrXr1aJb+8mVtevarPeL2D+yG9CVASvQ7sib2qgme9G53tvH0CZ7yTaVy8PhryvBwF9DxEZ1W9a9D9vBe/Q73jqg29eKlgvYFqW72uTou8lAPjvBxzv7wkTUq89ylwvORAdr1/AXm9UQ3BvLxyFL0PonC9XSIzvd46or74Ptm86oXVu2L2T72Mt3K9goYjvdZXhbrFY+G8+R9vvSx+GL1pYlS9xQQyvf9BAL32/5C9NDAivYOkDLwQsAU9XoeJvQeBhLzzXY29ME5WPQtTZ72Y1uS8YCQaO+2FxTx+tXC9xvexvO1Uh7yLLhG9nAB2vZopI72Sczm94SzEvdcTUr2RJba8UY1pva7RF70VfO49FvBcvZkmD70xtnW9miuLvQ==",
          "dtype": "f4"
         },
         "y": {
          "bdata": "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",
          "dtype": "f4"
         },
         "z": {
          "bdata": "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",
          "dtype": "f4"
         }
        },
        {
         "marker": {
          "color": "red",
          "size": 5
         },
         "mode": "markers",
         "name": "Actual",
         "scene": "scene2",
         "type": "scatter3d",
         "x": {
          "bdata": "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",
          "dtype": "f4"
         },
         "y": {
          "bdata": "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",
          "dtype": "f4"
         },
         "z": {
          "bdata": "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",
          "dtype": "f4"
         }
        }
       ],
       "layout": {
        "annotations": [
         {
          "font": {
           "size": 16
          },
          "showarrow": false,
          "text": "Predicted Point Cloud",
          "x": 0.225,
          "xanchor": "center",
          "xref": "paper",
          "y": 1,
          "yanchor": "bottom",
          "yref": "paper"
         },
         {
          "font": {
           "size": 16
          },
          "showarrow": false,
          "text": "Actual Point Cloud",
          "x": 0.775,
          "xanchor": "center",
          "xref": "paper",
          "y": 1,
          "yanchor": "bottom",
          "yref": "paper"
         }
        ],
        "scene": {
         "domain": {
          "x": [
           0,
           0.45
          ],
          "y": [
           0,
           1
          ]
         },
         "xaxis": {
          "title": {
           "text": "X"
          }
         },
         "yaxis": {
          "title": {
           "text": "Y"
          }
         },
         "zaxis": {
          "title": {
           "text": "Z"
          }
         }
        },
        "scene2": {
         "domain": {
          "x": [
           0.55,
           1
          ],
          "y": [
           0,
           1
          ]
         },
         "xaxis": {
          "title": {
           "text": "X"
          }
         },
         "yaxis": {
          "title": {
           "text": "Y"
          }
         },
         "zaxis": {
          "title": {
           "text": "Z"
          }
         }
        },
        "showlegend": true,
        "template": {
         "data": {
          "bar": [
           {
            "error_x": {
             "color": "#2a3f5f"
            },
            "error_y": {
             "color": "#2a3f5f"
            },
            "marker": {
             "line": {
              "color": "#E5ECF6",
              "width": 0.5
             },
             "pattern": {
              "fillmode": "overlay",
              "size": 10,
              "solidity": 0.2
             }
            },
            "type": "bar"
           }
          ],
          "barpolar": [
           {
            "marker": {
             "line": {
              "color": "#E5ECF6",
              "width": 0.5
             },
             "pattern": {
              "fillmode": "overlay",
              "size": 10,
              "solidity": 0.2
             }
            },
            "type": "barpolar"
           }
          ],
          "carpet": [
           {
            "aaxis": {
             "endlinecolor": "#2a3f5f",
             "gridcolor": "white",
             "linecolor": "white",
             "minorgridcolor": "white",
             "startlinecolor": "#2a3f5f"
            },
            "baxis": {
             "endlinecolor": "#2a3f5f",
             "gridcolor": "white",
             "linecolor": "white",
             "minorgridcolor": "white",
             "startlinecolor": "#2a3f5f"
            },
            "type": "carpet"
           }
          ],
          "choropleth": [
           {
            "colorbar": {
             "outlinewidth": 0,
             "ticks": ""
            },
            "type": "choropleth"
           }
          ],
          "contour": [
           {
            "colorbar": {
             "outlinewidth": 0,
             "ticks": ""
            },
            "colorscale": [
             [
              0,
              "#0d0887"
             ],
             [
              0.1111111111111111,
              "#46039f"
             ],
             [
              0.2222222222222222,
              "#7201a8"
             ],
             [
              0.3333333333333333,
              "#9c179e"
             ],
             [
              0.4444444444444444,
              "#bd3786"
             ],
             [
              0.5555555555555556,
              "#d8576b"
             ],
             [
              0.6666666666666666,
              "#ed7953"
             ],
             [
              0.7777777777777778,
              "#fb9f3a"
             ],
             [
              0.8888888888888888,
              "#fdca26"
             ],
             [
              1,
              "#f0f921"
             ]
            ],
            "type": "contour"
           }
          ],
          "contourcarpet": [
           {
            "colorbar": {
             "outlinewidth": 0,
             "ticks": ""
            },
            "type": "contourcarpet"
           }
          ],
          "heatmap": [
           {
            "colorbar": {
             "outlinewidth": 0,
             "ticks": ""
            },
            "colorscale": [
             [
              0,
              "#0d0887"
             ],
             [
              0.1111111111111111,
              "#46039f"
             ],
             [
              0.2222222222222222,
              "#7201a8"
             ],
             [
              0.3333333333333333,
              "#9c179e"
             ],
             [
              0.4444444444444444,
              "#bd3786"
             ],
             [
              0.5555555555555556,
              "#d8576b"
             ],
             [
              0.6666666666666666,
              "#ed7953"
             ],
             [
              0.7777777777777778,
              "#fb9f3a"
             ],
             [
              0.8888888888888888,
              "#fdca26"
             ],
             [
              1,
              "#f0f921"
             ]
            ],
            "type": "heatmap"
           }
          ],
          "histogram": [
           {
            "marker": {
             "pattern": {
              "fillmode": "overlay",
              "size": 10,
              "solidity": 0.2
             }
            },
            "type": "histogram"
           }
          ],
          "histogram2d": [
           {
            "colorbar": {
             "outlinewidth": 0,
             "ticks": ""
            },
            "colorscale": [
             [
              0,
              "#0d0887"
             ],
             [
              0.1111111111111111,
              "#46039f"
             ],
             [
              0.2222222222222222,
              "#7201a8"
             ],
             [
              0.3333333333333333,
              "#9c179e"
             ],
             [
              0.4444444444444444,
              "#bd3786"
             ],
             [
              0.5555555555555556,
              "#d8576b"
             ],
             [
              0.6666666666666666,
              "#ed7953"
             ],
             [
              0.7777777777777778,
              "#fb9f3a"
             ],
             [
              0.8888888888888888,
              "#fdca26"
             ],
             [
              1,
              "#f0f921"
             ]
            ],
            "type": "histogram2d"
           }
          ],
          "histogram2dcontour": [
           {
            "colorbar": {
             "outlinewidth": 0,
             "ticks": ""
            },
            "colorscale": [
             [
              0,
              "#0d0887"
             ],
             [
              0.1111111111111111,
              "#46039f"
             ],
             [
              0.2222222222222222,
              "#7201a8"
             ],
             [
              0.3333333333333333,
              "#9c179e"
             ],
             [
              0.4444444444444444,
              "#bd3786"
             ],
             [
              0.5555555555555556,
              "#d8576b"
             ],
             [
              0.6666666666666666,
              "#ed7953"
             ],
             [
              0.7777777777777778,
              "#fb9f3a"
             ],
             [
              0.8888888888888888,
              "#fdca26"
             ],
             [
              1,
              "#f0f921"
             ]
            ],
            "type": "histogram2dcontour"
           }
          ],
          "mesh3d": [
           {
            "colorbar": {
             "outlinewidth": 0,
             "ticks": ""
            },
            "type": "mesh3d"
           }
          ],
          "parcoords": [
           {
            "line": {
             "colorbar": {
              "outlinewidth": 0,
              "ticks": ""
             }
            },
            "type": "parcoords"
           }
          ],
          "pie": [
           {
            "automargin": true,
            "type": "pie"
           }
          ],
          "scatter": [
           {
            "fillpattern": {
             "fillmode": "overlay",
             "size": 10,
             "solidity": 0.2
            },
            "type": "scatter"
           }
          ],
          "scatter3d": [
           {
            "line": {
             "colorbar": {
              "outlinewidth": 0,
              "ticks": ""
             }
            },
            "marker": {
             "colorbar": {
              "outlinewidth": 0,
              "ticks": ""
             }
            },
            "type": "scatter3d"
           }
          ],
          "scattercarpet": [
           {
            "marker": {
             "colorbar": {
              "outlinewidth": 0,
              "ticks": ""
             }
            },
            "type": "scattercarpet"
           }
          ],
          "scattergeo": [
           {
            "marker": {
             "colorbar": {
              "outlinewidth": 0,
              "ticks": ""
             }
            },
            "type": "scattergeo"
           }
          ],
          "scattergl": [
           {
            "marker": {
             "colorbar": {
              "outlinewidth": 0,
              "ticks": ""
             }
            },
            "type": "scattergl"
           }
          ],
          "scattermap": [
           {
            "marker": {
             "colorbar": {
              "outlinewidth": 0,
              "ticks": ""
             }
            },
            "type": "scattermap"
           }
          ],
          "scattermapbox": [
           {
            "marker": {
             "colorbar": {
              "outlinewidth": 0,
              "ticks": ""
             }
            },
            "type": "scattermapbox"
           }
          ],
          "scatterpolar": [
           {
            "marker": {
             "colorbar": {
              "outlinewidth": 0,
              "ticks": ""
             }
            },
            "type": "scatterpolar"
           }
          ],
          "scatterpolargl": [
           {
            "marker": {
             "colorbar": {
              "outlinewidth": 0,
              "ticks": ""
             }
            },
            "type": "scatterpolargl"
           }
          ],
          "scatterternary": [
           {
            "marker": {
             "colorbar": {
              "outlinewidth": 0,
              "ticks": ""
             }
            },
            "type": "scatterternary"
           }
          ],
          "surface": [
           {
            "colorbar": {
             "outlinewidth": 0,
             "ticks": ""
            },
            "colorscale": [
             [
              0,
              "#0d0887"
             ],
             [
              0.1111111111111111,
              "#46039f"
             ],
             [
              0.2222222222222222,
              "#7201a8"
             ],
             [
              0.3333333333333333,
              "#9c179e"
             ],
             [
              0.4444444444444444,
              "#bd3786"
             ],
             [
              0.5555555555555556,
              "#d8576b"
             ],
             [
              0.6666666666666666,
              "#ed7953"
             ],
             [
              0.7777777777777778,
              "#fb9f3a"
             ],
             [
              0.8888888888888888,
              "#fdca26"
             ],
             [
              1,
              "#f0f921"
             ]
            ],
            "type": "surface"
           }
          ],
          "table": [
           {
            "cells": {
             "fill": {
              "color": "#EBF0F8"
             },
             "line": {
              "color": "white"
             }
            },
            "header": {
             "fill": {
              "color": "#C8D4E3"
             },
             "line": {
              "color": "white"
             }
            },
            "type": "table"
           }
          ]
         },
         "layout": {
          "annotationdefaults": {
           "arrowcolor": "#2a3f5f",
           "arrowhead": 0,
           "arrowwidth": 1
          },
          "autotypenumbers": "strict",
          "coloraxis": {
           "colorbar": {
            "outlinewidth": 0,
            "ticks": ""
           }
          },
          "colorscale": {
           "diverging": [
            [
             0,
             "#8e0152"
            ],
            [
             0.1,
             "#c51b7d"
            ],
            [
             0.2,
             "#de77ae"
            ],
            [
             0.3,
             "#f1b6da"
            ],
            [
             0.4,
             "#fde0ef"
            ],
            [
             0.5,
             "#f7f7f7"
            ],
            [
             0.6,
             "#e6f5d0"
            ],
            [
             0.7,
             "#b8e186"
            ],
            [
             0.8,
             "#7fbc41"
            ],
            [
             0.9,
             "#4d9221"
            ],
            [
             1,
             "#276419"
            ]
           ],
           "sequential": [
            [
             0,
             "#0d0887"
            ],
            [
             0.1111111111111111,
             "#46039f"
            ],
            [
             0.2222222222222222,
             "#7201a8"
            ],
            [
             0.3333333333333333,
             "#9c179e"
            ],
            [
             0.4444444444444444,
             "#bd3786"
            ],
            [
             0.5555555555555556,
             "#d8576b"
            ],
            [
             0.6666666666666666,
             "#ed7953"
            ],
            [
             0.7777777777777778,
             "#fb9f3a"
            ],
            [
             0.8888888888888888,
             "#fdca26"
            ],
            [
             1,
             "#f0f921"
            ]
           ],
           "sequentialminus": [
            [
             0,
             "#0d0887"
            ],
            [
             0.1111111111111111,
             "#46039f"
            ],
            [
             0.2222222222222222,
             "#7201a8"
            ],
            [
             0.3333333333333333,
             "#9c179e"
            ],
            [
             0.4444444444444444,
             "#bd3786"
            ],
            [
             0.5555555555555556,
             "#d8576b"
            ],
            [
             0.6666666666666666,
             "#ed7953"
            ],
            [
             0.7777777777777778,
             "#fb9f3a"
            ],
            [
             0.8888888888888888,
             "#fdca26"
            ],
            [
             1,
             "#f0f921"
            ]
           ]
          },
          "colorway": [
           "#636efa",
           "#EF553B",
           "#00cc96",
           "#ab63fa",
           "#FFA15A",
           "#19d3f3",
           "#FF6692",
           "#B6E880",
           "#FF97FF",
           "#FECB52"
          ],
          "font": {
           "color": "#2a3f5f"
          },
          "geo": {
           "bgcolor": "white",
           "lakecolor": "white",
           "landcolor": "#E5ECF6",
           "showlakes": true,
           "showland": true,
           "subunitcolor": "white"
          },
          "hoverlabel": {
           "align": "left"
          },
          "hovermode": "closest",
          "mapbox": {
           "style": "light"
          },
          "paper_bgcolor": "white",
          "plot_bgcolor": "#E5ECF6",
          "polar": {
           "angularaxis": {
            "gridcolor": "white",
            "linecolor": "white",
            "ticks": ""
           },
           "bgcolor": "#E5ECF6",
           "radialaxis": {
            "gridcolor": "white",
            "linecolor": "white",
            "ticks": ""
           }
          },
          "scene": {
           "xaxis": {
            "backgroundcolor": "#E5ECF6",
            "gridcolor": "white",
            "gridwidth": 2,
            "linecolor": "white",
            "showbackground": true,
            "ticks": "",
            "zerolinecolor": "white"
           },
           "yaxis": {
            "backgroundcolor": "#E5ECF6",
            "gridcolor": "white",
            "gridwidth": 2,
            "linecolor": "white",
            "showbackground": true,
            "ticks": "",
            "zerolinecolor": "white"
           },
           "zaxis": {
            "backgroundcolor": "#E5ECF6",
            "gridcolor": "white",
            "gridwidth": 2,
            "linecolor": "white",
            "showbackground": true,
            "ticks": "",
            "zerolinecolor": "white"
           }
          },
          "shapedefaults": {
           "line": {
            "color": "#2a3f5f"
           }
          },
          "ternary": {
           "aaxis": {
            "gridcolor": "white",
            "linecolor": "white",
            "ticks": ""
           },
           "baxis": {
            "gridcolor": "white",
            "linecolor": "white",
            "ticks": ""
           },
           "bgcolor": "#E5ECF6",
           "caxis": {
            "gridcolor": "white",
            "linecolor": "white",
            "ticks": ""
           }
          },
          "title": {
           "x": 0.05
          },
          "xaxis": {
           "automargin": true,
           "gridcolor": "white",
           "linecolor": "white",
           "ticks": "",
           "title": {
            "standoff": 15
           },
           "zerolinecolor": "white",
           "zerolinewidth": 2
          },
          "yaxis": {
           "automargin": true,
           "gridcolor": "white",
           "linecolor": "white",
           "ticks": "",
           "title": {
            "standoff": 15
           },
           "zerolinecolor": "white",
           "zerolinewidth": 2
          }
         }
        },
        "title": {
         "text": "Predicted vs Actual Point Clouds Showerhead,Faucet"
        }
       }
      }
     },
     "metadata": {},
     "output_type": "display_data"
    }
   ],
   "source": [
    "num = random.choice(list(range(0, batch_size)))\n",
    "predicted_point_cloud = pred_point_clouds[num].numpy()\n",
    "actual_point_cloud = target_point_clouds[num].numpy()\n",
    "\n",
    "# Create 3D scatter plots for predicted and actual point clouds\n",
    "predicted_scatter = go.Scatter3d(\n",
    "    x=predicted_point_cloud[:, 0],\n",
    "    y=predicted_point_cloud[:, 1],\n",
    "    z=predicted_point_cloud[:, 2],\n",
    "    mode='markers',\n",
    "    marker=dict(size=5, color='blue'),\n",
    "    name=\"Predicted\"\n",
    ")\n",
    "\n",
    "actual_scatter = go.Scatter3d(\n",
    "    x=actual_point_cloud[:, 0],\n",
    "    y=actual_point_cloud[:, 1],\n",
    "    z=actual_point_cloud[:, 2],\n",
    "    mode='markers',\n",
    "    marker=dict(size=5, color='red'),\n",
    "    name=\"Actual\"\n",
    ")\n",
    "\n",
    "# Create the subplots: 1 row, 2 columns\n",
    "fig = make_subplots(\n",
    "    rows=1, cols=2,\n",
    "    subplot_titles=(\"Predicted Point Cloud\", \"Actual Point Cloud\"),\n",
    "    specs=[[{'type': 'scatter3d'}, {'type': 'scatter3d'}]]\n",
    ")\n",
    "\n",
    "# Add the scatter plots to the subplots\n",
    "fig.add_trace(predicted_scatter, row=1, col=1)\n",
    "fig.add_trace(actual_scatter, row=1, col=2)\n",
    "\n",
    "# Update layout with axis titles and a main title\n",
    "fig.update_layout(\n",
    "    title=f\"Predicted vs Actual Point Clouds {categories[num]}\",\n",
    "    scene=dict(\n",
    "        xaxis_title=\"X\",\n",
    "        yaxis_title=\"Y\",\n",
    "        zaxis_title=\"Z\"\n",
    "    ),\n",
    "    scene2=dict(\n",
    "        xaxis_title=\"X\",\n",
    "        yaxis_title=\"Y\",\n",
    "        zaxis_title=\"Z\"\n",
    "    ),\n",
    "    showlegend=True\n",
    ")\n",
    "\n",
    "# Show the figure in an interactive window\n",
    "fig.show()\n"
   ]
  },
  {
   "cell_type": "code",
   "execution_count": 27,
   "metadata": {},
   "outputs": [],
   "source": [
    "# check to make sure dataloader of RAG is loading in the correct projections only and that the category is right check using cmr"
   ]
  },
  {
   "cell_type": "code",
   "execution_count": 1,
   "metadata": {},
   "outputs": [],
   "source": [
    "import pandas as pd"
   ]
  },
  {
   "cell_type": "code",
   "execution_count": 4,
   "metadata": {},
   "outputs": [
    {
     "data": {
      "text/plain": [
       "1908"
      ]
     },
     "execution_count": 4,
     "metadata": {},
     "output_type": "execute_result"
    }
   ],
   "source": [
    "df = pd.read_csv(\"Data/ShapeNetSem/Datasets/final_template.csv\")\n",
    "df['fullId'].nunique()"
   ]
  },
  {
   "cell_type": "code",
   "execution_count": null,
   "metadata": {},
   "outputs": [],
   "source": []
  }
 ],
 "metadata": {
  "kernelspec": {
   "display_name": "env",
   "language": "python",
   "name": "python3"
  },
  "language_info": {
   "codemirror_mode": {
    "name": "ipython",
    "version": 3
   },
   "file_extension": ".py",
   "mimetype": "text/x-python",
   "name": "python",
   "nbconvert_exporter": "python",
   "pygments_lexer": "ipython3",
   "version": "3.12.4"
  }
 },
 "nbformat": 4,
 "nbformat_minor": 2
}
