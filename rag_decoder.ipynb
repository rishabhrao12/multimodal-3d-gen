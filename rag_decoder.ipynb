{
 "cells": [
  {
   "cell_type": "markdown",
   "metadata": {},
   "source": [
    "# RAG Decoder"
   ]
  },
  {
   "cell_type": "markdown",
   "metadata": {},
   "source": [
    "## 1. Retrieval"
   ]
  },
  {
   "cell_type": "code",
   "execution_count": 1,
   "metadata": {},
   "outputs": [
    {
     "name": "stderr",
     "output_type": "stream",
     "text": [
      "/Users/rishabhrao/Documents/VSCode/multimodal-3d-gen/env/lib/python3.12/site-packages/tqdm/auto.py:21: TqdmWarning: IProgress not found. Please update jupyter and ipywidgets. See https://ipywidgets.readthedocs.io/en/stable/user_install.html\n",
      "  from .autonotebook import tqdm as notebook_tqdm\n"
     ]
    }
   ],
   "source": [
    "import matplotlib.pyplot as plt\n",
    "from alignment import *\n",
    "from utils import *"
   ]
  },
  {
   "cell_type": "code",
   "execution_count": null,
   "metadata": {},
   "outputs": [],
   "source": [
    "dataset_path = \"Data/ShapeNetSem/Datasets/subset_template_200.csv\"\n",
    "embed_path = \"Embeddings/ALIGN/subset_template_200.pt\""
   ]
  },
  {
   "cell_type": "code",
   "execution_count": 3,
   "metadata": {},
   "outputs": [],
   "source": [
    "df = pd.read_csv(dataset_path)"
   ]
  },
  {
   "cell_type": "code",
   "execution_count": 4,
   "metadata": {},
   "outputs": [],
   "source": [
    "row = df.iloc[0]\n",
    "\n",
    "mesh_id = row['fullId']\n",
    "text = row['template1_desc']\n",
    "img_path = f'Data/ShapeNetSem/Images/subset_200/{mesh_id}/view0.png'\n",
    "image = Image.open(img_path).convert('RGB')\n",
    "pc_path = f'Data/ProcessedData/PointClouds/{mesh_id}.npy'\n",
    "pc = torch.from_numpy(np.load(pc_path))"
   ]
  },
  {
   "cell_type": "code",
   "execution_count": 6,
   "metadata": {},
   "outputs": [
    {
     "name": "stdout",
     "output_type": "stream",
     "text": [
      "Dinov2 Loaded Successfully!\n",
      "CLIP Model Loaded Successfully!\n",
      "Point CLIP Model Loaded Successfully!\n",
      "ALIGN Model Loaded Successfully!\n"
     ]
    }
   ],
   "source": [
    "enc = EncodeUserInput(align_path=\"TrainedModels/ALIGN/Baseline/150.pth\", align_embd=400)\n",
    "cmr = CrossModalRetrival(dataset_path, embed_path)"
   ]
  },
  {
   "cell_type": "code",
   "execution_count": 7,
   "metadata": {},
   "outputs": [],
   "source": [
    "text_proj = enc.get_projection(text, \"text\")\n",
    "img_proj = enc.get_projection(image, \"img\")\n",
    "pc_proj = enc.get_projection(pc, \"pc\")"
   ]
  },
  {
   "cell_type": "code",
   "execution_count": null,
   "metadata": {},
   "outputs": [
    {
     "name": "stdout",
     "output_type": "stream",
     "text": [
      "[0, 9, 2, 1, 45] 0       9a9508597dee231d4e205745311c3a\n",
      "9     3d15f0b93dc94909ce92f6b720939174\n",
      "2     6de307ddb4317eae1c816f27d2a33b03\n",
      "1     71f6598d5426fb34c33dcf45f2780ed8\n",
      "45    5334cfe15f80099f15ac67104577aee7\n",
      "Name: fullId, dtype: object\n",
      "A memorex flash drive which is commonly known as <no_tags>. It is associated with the following characteristics: memory device,storage device.\n",
      "A general description of this item is: a device that preserves information for retrieval.\n"
     ]
    }
   ],
   "source": [
    "idx, mesh_ids, arrays = cmr.retrieve(text_proj, \"text\", \"img\", top_k=5)\n",
    "print(idx, mesh_ids)\n",
    "idx, mesh_ids, arrays = cmr.retrieve(img_proj, \"img\", \"text\", top_k=5)\n",
    "print(df.iloc[idx[2]]['template1_desc'])"
   ]
  },
  {
   "cell_type": "code",
   "execution_count": null,
   "metadata": {},
   "outputs": [
    {
     "data": {
      "text/plain": [
       "<matplotlib.image.AxesImage at 0x3c50210d0>"
      ]
     },
     "execution_count": 11,
     "metadata": {},
     "output_type": "execute_result"
    },
    {
     "data": {
      "image/png": "[encoded data removed]",
      "text/plain": [
       "<Figure size 640x480 with 1 Axes>"
      ]
     },
     "metadata": {},
     "output_type": "display_data"
    }
   ],
   "source": [
    "idx, mesh_ids, arrays = cmr.retrieve(text_proj, \"text\", \"img\", top_k=5)\n",
    "img_path = f'Data/ShapeNetSem/Images/subset_200/{mesh_ids[idx[1]]}/view0.png'\n",
    "img = plt.imread(img_path)\n",
    "plt.imshow(img)"
   ]
  },
  {
   "cell_type": "code",
   "execution_count": null,
   "metadata": {},
   "outputs": [
    {
     "data": {
      "text/plain": [
       "<matplotlib.image.AxesImage at 0x3c5086b70>"
      ]
     },
     "execution_count": 12,
     "metadata": {},
     "output_type": "execute_result"
    },
    {
     "data": {
      "image/png": "[encoded data removed]",
      "text/plain": [
       "<Figure size 640x480 with 1 Axes>"
      ]
     },
     "metadata": {},
     "output_type": "display_data"
    }
   ],
   "source": [
    "idx, mesh_ids, arrays = cmr.retrieve(pc_proj, \"pc\", \"img\", top_k=5)\n",
    "img_path = f'Data/ShapeNetSem/Images/subset_200/{mesh_ids[idx[1]]}/view1.png'\n",
    "img = plt.imread(img_path)\n",
    "plt.imshow(img)"
   ]
  },
  {
   "cell_type": "markdown",
   "metadata": {},
   "source": [
    "## RAG Decoder"
   ]
  },
  {
   "cell_type": "code",
   "execution_count": 1,
   "metadata": {},
   "outputs": [
    {
     "name": "stderr",
     "output_type": "stream",
     "text": [
      "/Users/rishabhrao/Documents/VSCode/multimodal-3d-gen/env/lib/python3.12/site-packages/tqdm/auto.py:21: TqdmWarning: IProgress not found. Please update jupyter and ipywidgets. See https://ipywidgets.readthedocs.io/en/stable/user_install.html\n",
      "  from .autonotebook import tqdm as notebook_tqdm\n"
     ]
    }
   ],
   "source": [
    "import matplotlib.pyplot as plt\n",
    "from alignment import *\n",
    "from utils import *\n",
    "from dataset import *\n",
    "from rag import *"
   ]
  },
  {
   "cell_type": "code",
   "execution_count": 2,
   "metadata": {},
   "outputs": [],
   "source": [
    "# Create 3D scatter plots for predicted and actual point clouds\n",
    "def plot_pc(ref_pc):\n",
    "    predicted_scatter = go.Scatter3d(\n",
    "        x=ref_pc[:, 0],\n",
    "        y=ref_pc[:, 1],\n",
    "        z=ref_pc[:, 2],\n",
    "        mode='markers',\n",
    "        marker=dict(size=5, color='blue'),\n",
    "        name=\"Predicted\"\n",
    "    )\n",
    "\n",
    "    # Create the subplots: 1 row, 2 columns\n",
    "    fig = make_subplots(\n",
    "        rows=1, cols=1,\n",
    "        subplot_titles=(\"Predicted Point Cloud\"),\n",
    "        specs=[[{'type': 'scatter3d'}]]\n",
    "    )\n",
    "\n",
    "    # Add the scatter plots to the subplots\n",
    "    fig.add_trace(predicted_scatter, row=1, col=1)\n",
    "\n",
    "    # Update layout with axis titles and a main title\n",
    "    fig.update_layout(\n",
    "        title=f\"Predicted\",\n",
    "        scene=dict(\n",
    "            xaxis_title=\"X\",\n",
    "            yaxis_title=\"Y\",\n",
    "            zaxis_title=\"Z\"\n",
    "        ),\n",
    "        showlegend=True\n",
    "    )\n",
    "\n",
    "    # Show the figure in an interactive window\n",
    "    fig.show()\n",
    "\n",
    "def get_plot(ref_pc):\n",
    "    predicted_scatter = go.Scatter3d(\n",
    "        x=ref_pc[:, 0],\n",
    "        y=ref_pc[:, 1],\n",
    "        z=ref_pc[:, 2],\n",
    "        mode='markers',\n",
    "        marker=dict(size=5, color='blue'),\n",
    "        name=\"Predicted\"\n",
    "    )\n",
    "\n",
    "    # Create the subplots: 1 row, 2 columns\n",
    "    fig = make_subplots(\n",
    "        rows=1, cols=1,\n",
    "        subplot_titles=(\"Predicted Point Cloud\"),\n",
    "        specs=[[{'type': 'scatter3d'}]]\n",
    "    )\n",
    "\n",
    "    # Add the scatter plots to the subplots\n",
    "    fig.add_trace(predicted_scatter, row=1, col=1)\n",
    "\n",
    "    # Update layout with axis titles and a main title\n",
    "    fig.update_layout(\n",
    "        title=f\"Predicted\",\n",
    "        scene=dict(\n",
    "            xaxis_title=\"X\",\n",
    "            yaxis_title=\"Y\",\n",
    "            zaxis_title=\"Z\"\n",
    "        ),\n",
    "        showlegend=True\n",
    "    )\n",
    "\n",
    "    return fig"
   ]
  },
  {
   "cell_type": "code",
   "execution_count": 3,
   "metadata": {},
   "outputs": [],
   "source": [
    "dataset_path = \"Data/ShapeNetSem/Datasets/subset_template_200.csv\"\n",
    "embed_path = \"Embeddings/ALIGN/subset_template_rag.pt\"\n",
    "pc_dir = \"Data/ProcessedData/PointClouds/\"\n",
    "align_path = \"TrainedModels/ALIGN/Baseline/150.pth\"\n",
    "rag_path = \"TrainedModels/RAG/four_hidden/1500.pth\""
   ]
  },
  {
   "cell_type": "code",
   "execution_count": 4,
   "metadata": {},
   "outputs": [],
   "source": [
    "data_dict = torch.load(embed_path)"
   ]
  },
  {
   "cell_type": "code",
   "execution_count": 5,
   "metadata": {},
   "outputs": [],
   "source": [
    "df = pd.read_csv(dataset_path)"
   ]
  },
  {
   "cell_type": "code",
   "execution_count": 6,
   "metadata": {},
   "outputs": [],
   "source": [
    "dataset = RAGDataset(data_dict, dataset_path, pc_dir)\n",
    "dataloader = DataLoader(dataset, batch_size=1, shuffle=True)"
   ]
  },
  {
   "cell_type": "code",
   "execution_count": 7,
   "metadata": {},
   "outputs": [
    {
     "name": "stdout",
     "output_type": "stream",
     "text": [
      "ChestOfDrawers,Nightstand ['ChestOfDrawers,Nightstand']\n"
     ]
    },
    {
     "data": {
      "application/vnd.plotly.v1+json": {
       "config": {
        "plotlyServerURL": "https://plot.ly"
       },
       "data": [
        {
         "marker": {
          "color": "blue",
          "size": 5
         },
         "mode": "markers",
         "name": "Predicted",
         "scene": "scene",
         "type": "scatter3d",
         "x": {
          "bdata": "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",
          "dtype": "f8"
         },
         "y": {
          "bdata": "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",
          "dtype": "f8"
         },
         "z": {
          "bdata": "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",
          "dtype": "f8"
         }
        }
       ],
       "layout": {
        "annotations": [
         {
          "font": {
           "size": 16
          },
          "showarrow": false,
          "text": "P",
          "x": 0.5,
          "xanchor": "center",
          "xref": "paper",
          "y": 1,
          "yanchor": "bottom",
          "yref": "paper"
         }
        ],
        "scene": {
         "domain": {
          "x": [
           0,
           1
          ],
          "y": [
           0,
           1
          ]
         },
         "xaxis": {
          "title": {
           "text": "X"
          }
         },
         "yaxis": {
          "title": {
           "text": "Y"
          }
         },
         "zaxis": {
          "title": {
           "text": "Z"
          }
         }
        },
        "showlegend": true,
        "template": {
         "data": {
          "bar": [
           {
            "error_x": {
             "color": "#2a3f5f"
            },
            "error_y": {
             "color": "#2a3f5f"
            },
            "marker": {
             "line": {
              "color": "#E5ECF6",
              "width": 0.5
             },
             "pattern": {
              "fillmode": "overlay",
              "size": 10,
              "solidity": 0.2
             }
            },
            "type": "bar"
           }
          ],
          "barpolar": [
           {
            "marker": {
             "line": {
              "color": "#E5ECF6",
              "width": 0.5
             },
             "pattern": {
              "fillmode": "overlay",
              "size": 10,
              "solidity": 0.2
             }
            },
            "type": "barpolar"
           }
          ],
          "carpet": [
           {
            "aaxis": {
             "endlinecolor": "#2a3f5f",
             "gridcolor": "white",
             "linecolor": "white",
             "minorgridcolor": "white",
             "startlinecolor": "#2a3f5f"
            },
            "baxis": {
             "endlinecolor": "#2a3f5f",
             "gridcolor": "white",
             "linecolor": "white",
             "minorgridcolor": "white",
             "startlinecolor": "#2a3f5f"
            },
            "type": "carpet"
           }
          ],
          "choropleth": [
           {
            "colorbar": {
             "outlinewidth": 0,
             "ticks": ""
            },
            "type": "choropleth"
           }
          ],
          "contour": [
           {
            "colorbar": {
             "outlinewidth": 0,
             "ticks": ""
            },
            "colorscale": [
             [
              0,
              "#0d0887"
             ],
             [
              0.1111111111111111,
              "#46039f"
             ],
             [
              0.2222222222222222,
              "#7201a8"
             ],
             [
              0.3333333333333333,
              "#9c179e"
             ],
             [
              0.4444444444444444,
              "#bd3786"
             ],
             [
              0.5555555555555556,
              "#d8576b"
             ],
             [
              0.6666666666666666,
              "#ed7953"
             ],
             [
              0.7777777777777778,
              "#fb9f3a"
             ],
             [
              0.8888888888888888,
              "#fdca26"
             ],
             [
              1,
              "#f0f921"
             ]
            ],
            "type": "contour"
           }
          ],
          "contourcarpet": [
           {
            "colorbar": {
             "outlinewidth": 0,
             "ticks": ""
            },
            "type": "contourcarpet"
           }
          ],
          "heatmap": [
           {
            "colorbar": {
             "outlinewidth": 0,
             "ticks": ""
            },
            "colorscale": [
             [
              0,
              "#0d0887"
             ],
             [
              0.1111111111111111,
              "#46039f"
             ],
             [
              0.2222222222222222,
              "#7201a8"
             ],
             [
              0.3333333333333333,
              "#9c179e"
             ],
             [
              0.4444444444444444,
              "#bd3786"
             ],
             [
              0.5555555555555556,
              "#d8576b"
             ],
             [
              0.6666666666666666,
              "#ed7953"
             ],
             [
              0.7777777777777778,
              "#fb9f3a"
             ],
             [
              0.8888888888888888,
              "#fdca26"
             ],
             [
              1,
              "#f0f921"
             ]
            ],
            "type": "heatmap"
           }
          ],
          "histogram": [
           {
            "marker": {
             "pattern": {
              "fillmode": "overlay",
              "size": 10,
              "solidity": 0.2
             }
            },
            "type": "histogram"
           }
          ],
          "histogram2d": [
           {
            "colorbar": {
             "outlinewidth": 0,
             "ticks": ""
            },
            "colorscale": [
             [
              0,
              "#0d0887"
             ],
             [
              0.1111111111111111,
              "#46039f"
             ],
             [
              0.2222222222222222,
              "#7201a8"
             ],
             [
              0.3333333333333333,
              "#9c179e"
             ],
             [
              0.4444444444444444,
              "#bd3786"
             ],
             [
              0.5555555555555556,
              "#d8576b"
             ],
             [
              0.6666666666666666,
              "#ed7953"
             ],
             [
              0.7777777777777778,
              "#fb9f3a"
             ],
             [
              0.8888888888888888,
              "#fdca26"
             ],
             [
              1,
              "#f0f921"
             ]
            ],
            "type": "histogram2d"
           }
          ],
          "histogram2dcontour": [
           {
            "colorbar": {
             "outlinewidth": 0,
             "ticks": ""
            },
            "colorscale": [
             [
              0,
              "#0d0887"
             ],
             [
              0.1111111111111111,
              "#46039f"
             ],
             [
              0.2222222222222222,
              "#7201a8"
             ],
             [
              0.3333333333333333,
              "#9c179e"
             ],
             [
              0.4444444444444444,
              "#bd3786"
             ],
             [
              0.5555555555555556,
              "#d8576b"
             ],
             [
              0.6666666666666666,
              "#ed7953"
             ],
             [
              0.7777777777777778,
              "#fb9f3a"
             ],
             [
              0.8888888888888888,
              "#fdca26"
             ],
             [
              1,
              "#f0f921"
             ]
            ],
            "type": "histogram2dcontour"
           }
          ],
          "mesh3d": [
           {
            "colorbar": {
             "outlinewidth": 0,
             "ticks": ""
            },
            "type": "mesh3d"
           }
          ],
          "parcoords": [
           {
            "line": {
             "colorbar": {
              "outlinewidth": 0,
              "ticks": ""
             }
            },
            "type": "parcoords"
           }
          ],
          "pie": [
           {
            "automargin": true,
            "type": "pie"
           }
          ],
          "scatter": [
           {
            "fillpattern": {
             "fillmode": "overlay",
             "size": 10,
             "solidity": 0.2
            },
            "type": "scatter"
           }
          ],
          "scatter3d": [
           {
            "line": {
             "colorbar": {
              "outlinewidth": 0,
              "ticks": ""
             }
            },
            "marker": {
             "colorbar": {
              "outlinewidth": 0,
              "ticks": ""
             }
            },
            "type": "scatter3d"
           }
          ],
          "scattercarpet": [
           {
            "marker": {
             "colorbar": {
              "outlinewidth": 0,
              "ticks": ""
             }
            },
            "type": "scattercarpet"
           }
          ],
          "scattergeo": [
           {
            "marker": {
             "colorbar": {
              "outlinewidth": 0,
              "ticks": ""
             }
            },
            "type": "scattergeo"
           }
          ],
          "scattergl": [
           {
            "marker": {
             "colorbar": {
              "outlinewidth": 0,
              "ticks": ""
             }
            },
            "type": "scattergl"
           }
          ],
          "scattermap": [
           {
            "marker": {
             "colorbar": {
              "outlinewidth": 0,
              "ticks": ""
             }
            },
            "type": "scattermap"
           }
          ],
          "scattermapbox": [
           {
            "marker": {
             "colorbar": {
              "outlinewidth": 0,
              "ticks": ""
             }
            },
            "type": "scattermapbox"
           }
          ],
          "scatterpolar": [
           {
            "marker": {
             "colorbar": {
              "outlinewidth": 0,
              "ticks": ""
             }
            },
            "type": "scatterpolar"
           }
          ],
          "scatterpolargl": [
           {
            "marker": {
             "colorbar": {
              "outlinewidth": 0,
              "ticks": ""
             }
            },
            "type": "scatterpolargl"
           }
          ],
          "scatterternary": [
           {
            "marker": {
             "colorbar": {
              "outlinewidth": 0,
              "ticks": ""
             }
            },
            "type": "scatterternary"
           }
          ],
          "surface": [
           {
            "colorbar": {
             "outlinewidth": 0,
             "ticks": ""
            },
            "colorscale": [
             [
              0,
              "#0d0887"
             ],
             [
              0.1111111111111111,
              "#46039f"
             ],
             [
              0.2222222222222222,
              "#7201a8"
             ],
             [
              0.3333333333333333,
              "#9c179e"
             ],
             [
              0.4444444444444444,
              "#bd3786"
             ],
             [
              0.5555555555555556,
              "#d8576b"
             ],
             [
              0.6666666666666666,
              "#ed7953"
             ],
             [
              0.7777777777777778,
              "#fb9f3a"
             ],
             [
              0.8888888888888888,
              "#fdca26"
             ],
             [
              1,
              "#f0f921"
             ]
            ],
            "type": "surface"
           }
          ],
          "table": [
           {
            "cells": {
             "fill": {
              "color": "#EBF0F8"
             },
             "line": {
              "color": "white"
             }
            },
            "header": {
             "fill": {
              "color": "#C8D4E3"
             },
             "line": {
              "color": "white"
             }
            },
            "type": "table"
           }
          ]
         },
         "layout": {
          "annotationdefaults": {
           "arrowcolor": "#2a3f5f",
           "arrowhead": 0,
           "arrowwidth": 1
          },
          "autotypenumbers": "strict",
          "coloraxis": {
           "colorbar": {
            "outlinewidth": 0,
            "ticks": ""
           }
          },
          "colorscale": {
           "diverging": [
            [
             0,
             "#8e0152"
            ],
            [
             0.1,
             "#c51b7d"
            ],
            [
             0.2,
             "#de77ae"
            ],
            [
             0.3,
             "#f1b6da"
            ],
            [
             0.4,
             "#fde0ef"
            ],
            [
             0.5,
             "#f7f7f7"
            ],
            [
             0.6,
             "#e6f5d0"
            ],
            [
             0.7,
             "#b8e186"
            ],
            [
             0.8,
             "#7fbc41"
            ],
            [
             0.9,
             "#4d9221"
            ],
            [
             1,
             "#276419"
            ]
           ],
           "sequential": [
            [
             0,
             "#0d0887"
            ],
            [
             0.1111111111111111,
             "#46039f"
            ],
            [
             0.2222222222222222,
             "#7201a8"
            ],
            [
             0.3333333333333333,
             "#9c179e"
            ],
            [
             0.4444444444444444,
             "#bd3786"
            ],
            [
             0.5555555555555556,
             "#d8576b"
            ],
            [
             0.6666666666666666,
             "#ed7953"
            ],
            [
             0.7777777777777778,
             "#fb9f3a"
            ],
            [
             0.8888888888888888,
             "#fdca26"
            ],
            [
             1,
             "#f0f921"
            ]
           ],
           "sequentialminus": [
            [
             0,
             "#0d0887"
            ],
            [
             0.1111111111111111,
             "#46039f"
            ],
            [
             0.2222222222222222,
             "#7201a8"
            ],
            [
             0.3333333333333333,
             "#9c179e"
            ],
            [
             0.4444444444444444,
             "#bd3786"
            ],
            [
             0.5555555555555556,
             "#d8576b"
            ],
            [
             0.6666666666666666,
             "#ed7953"
            ],
            [
             0.7777777777777778,
             "#fb9f3a"
            ],
            [
             0.8888888888888888,
             "#fdca26"
            ],
            [
             1,
             "#f0f921"
            ]
           ]
          },
          "colorway": [
           "#636efa",
           "#EF553B",
           "#00cc96",
           "#ab63fa",
           "#FFA15A",
           "#19d3f3",
           "#FF6692",
           "#B6E880",
           "#FF97FF",
           "#FECB52"
          ],
          "font": {
           "color": "#2a3f5f"
          },
          "geo": {
           "bgcolor": "white",
           "lakecolor": "white",
           "landcolor": "#E5ECF6",
           "showlakes": true,
           "showland": true,
           "subunitcolor": "white"
          },
          "hoverlabel": {
           "align": "left"
          },
          "hovermode": "closest",
          "mapbox": {
           "style": "light"
          },
          "paper_bgcolor": "white",
          "plot_bgcolor": "#E5ECF6",
          "polar": {
           "angularaxis": {
            "gridcolor": "white",
            "linecolor": "white",
            "ticks": ""
           },
           "bgcolor": "#E5ECF6",
           "radialaxis": {
            "gridcolor": "white",
            "linecolor": "white",
            "ticks": ""
           }
          },
          "scene": {
           "xaxis": {
            "backgroundcolor": "#E5ECF6",
            "gridcolor": "white",
            "gridwidth": 2,
            "linecolor": "white",
            "showbackground": true,
            "ticks": "",
            "zerolinecolor": "white"
           },
           "yaxis": {
            "backgroundcolor": "#E5ECF6",
            "gridcolor": "white",
            "gridwidth": 2,
            "linecolor": "white",
            "showbackground": true,
            "ticks": "",
            "zerolinecolor": "white"
           },
           "zaxis": {
            "backgroundcolor": "#E5ECF6",
            "gridcolor": "white",
            "gridwidth": 2,
            "linecolor": "white",
            "showbackground": true,
            "ticks": "",
            "zerolinecolor": "white"
           }
          },
          "shapedefaults": {
           "line": {
            "color": "#2a3f5f"
           }
          },
          "ternary": {
           "aaxis": {
            "gridcolor": "white",
            "linecolor": "white",
            "ticks": ""
           },
           "baxis": {
            "gridcolor": "white",
            "linecolor": "white",
            "ticks": ""
           },
           "bgcolor": "#E5ECF6",
           "caxis": {
            "gridcolor": "white",
            "linecolor": "white",
            "ticks": ""
           }
          },
          "title": {
           "x": 0.05
          },
          "xaxis": {
           "automargin": true,
           "gridcolor": "white",
           "linecolor": "white",
           "ticks": "",
           "title": {
            "standoff": 15
           },
           "zerolinecolor": "white",
           "zerolinewidth": 2
          },
          "yaxis": {
           "automargin": true,
           "gridcolor": "white",
           "linecolor": "white",
           "ticks": "",
           "title": {
            "standoff": 15
           },
           "zerolinecolor": "white",
           "zerolinewidth": 2
          }
         }
        },
        "title": {
         "text": "Predicted"
        }
       }
      }
     },
     "metadata": {},
     "output_type": "display_data"
    }
   ],
   "source": [
    "for batch in dataloader:\n",
    "    idx = batch['index'].item()\n",
    "    category = batch['category']\n",
    "    pc = batch['target_pc']\n",
    "    print(df.loc[idx, 'category'], category)\n",
    "    plot_pc(pc.squeeze(0))\n",
    "    break"
   ]
  },
  {
   "cell_type": "code",
   "execution_count": 8,
   "metadata": {},
   "outputs": [
    {
     "data": {
      "text/html": [
       "<div>\n",
       "<style scoped>\n",
       "    .dataframe tbody tr th:only-of-type {\n",
       "        vertical-align: middle;\n",
       "    }\n",
       "\n",
       "    .dataframe tbody tr th {\n",
       "        vertical-align: top;\n",
       "    }\n",
       "\n",
       "    .dataframe thead th {\n",
       "        text-align: right;\n",
       "    }\n",
       "</style>\n",
       "<table border=\"1\" class=\"dataframe\">\n",
       "  <thead>\n",
       "    <tr style=\"text-align: right;\">\n",
       "      <th></th>\n",
       "      <th>fullId</th>\n",
       "      <th>category</th>\n",
       "      <th>name</th>\n",
       "      <th>tags</th>\n",
       "      <th>synset words</th>\n",
       "      <th>synset gloss</th>\n",
       "      <th>template1_desc</th>\n",
       "      <th>template2_desc</th>\n",
       "      <th>template3_desc</th>\n",
       "    </tr>\n",
       "  </thead>\n",
       "  <tbody>\n",
       "    <tr>\n",
       "      <th>0</th>\n",
       "      <td>9a9508597dee231d4e205745311c3a</td>\n",
       "      <td>USBStick</td>\n",
       "      <td>usb memory stick   sketchyphysics</td>\n",
       "      <td>computer,drive,flash,memory,port,sketchyphysic...</td>\n",
       "      <td>['memory device,storage device']</td>\n",
       "      <td>['a device that preserves information for retr...</td>\n",
       "      <td>A usb memory stick   sketchyphysics which is c...</td>\n",
       "      <td>The usb memory stick   sketchyphysics is a mem...</td>\n",
       "      <td>usb memory stick   sketchyphysics is a memory ...</td>\n",
       "    </tr>\n",
       "    <tr>\n",
       "      <th>1</th>\n",
       "      <td>71f6598d5426fb34c33dcf45f2780ed8</td>\n",
       "      <td>USBStick</td>\n",
       "      <td>red   usb</td>\n",
       "      <td>NaN</td>\n",
       "      <td>['memory device,storage device']</td>\n",
       "      <td>['a device that preserves information for retr...</td>\n",
       "      <td>A red   usb which is commonly known as &lt;no_tag...</td>\n",
       "      <td>The red   usb is a memory device,storage devic...</td>\n",
       "      <td>red   usb is a memory device,storage device de...</td>\n",
       "    </tr>\n",
       "    <tr>\n",
       "      <th>2</th>\n",
       "      <td>6de307ddb4317eae1c816f27d2a33b03</td>\n",
       "      <td>USBStick</td>\n",
       "      <td>cig usb drive</td>\n",
       "      <td>cig,cigarette,flash drive,smoke,thumb drive,us...</td>\n",
       "      <td>['memory device,storage device']</td>\n",
       "      <td>['a device that preserves information for retr...</td>\n",
       "      <td>A cig usb drive which is commonly known as cig...</td>\n",
       "      <td>The cig usb drive is a memory device,storage d...</td>\n",
       "      <td>cig usb drive is a memory device,storage devic...</td>\n",
       "    </tr>\n",
       "    <tr>\n",
       "      <th>3</th>\n",
       "      <td>ab82d56cf9cc2476d154e1b098031d39</td>\n",
       "      <td>USBStick</td>\n",
       "      <td>mp</td>\n",
       "      <td>music,usb item</td>\n",
       "      <td>['memory device,storage device']</td>\n",
       "      <td>['a device that preserves information for retr...</td>\n",
       "      <td>A mp which is commonly known as music,usb item...</td>\n",
       "      <td>The mp is a memory device,storage device often...</td>\n",
       "      <td>mp is a memory device,storage device designed ...</td>\n",
       "    </tr>\n",
       "    <tr>\n",
       "      <th>4</th>\n",
       "      <td>353fe70ec5633fc5e05878fff8971272</td>\n",
       "      <td>USBStick</td>\n",
       "      <td>usb drive</td>\n",
       "      <td>NaN</td>\n",
       "      <td>['memory device,storage device']</td>\n",
       "      <td>['a device that preserves information for retr...</td>\n",
       "      <td>A usb drive which is commonly known as &lt;no_tag...</td>\n",
       "      <td>The usb drive is a memory device,storage devic...</td>\n",
       "      <td>usb drive is a memory device,storage device de...</td>\n",
       "    </tr>\n",
       "  </tbody>\n",
       "</table>\n",
       "</div>"
      ],
      "text/plain": [
       "                             fullId  category  \\\n",
       "0    9a9508597dee231d4e205745311c3a  USBStick   \n",
       "1  71f6598d5426fb34c33dcf45f2780ed8  USBStick   \n",
       "2  6de307ddb4317eae1c816f27d2a33b03  USBStick   \n",
       "3  ab82d56cf9cc2476d154e1b098031d39  USBStick   \n",
       "4  353fe70ec5633fc5e05878fff8971272  USBStick   \n",
       "\n",
       "                                name  \\\n",
       "0  usb memory stick   sketchyphysics   \n",
       "1                          red   usb   \n",
       "2                      cig usb drive   \n",
       "3                                 mp   \n",
       "4                          usb drive   \n",
       "\n",
       "                                                tags  \\\n",
       "0  computer,drive,flash,memory,port,sketchyphysic...   \n",
       "1                                                NaN   \n",
       "2  cig,cigarette,flash drive,smoke,thumb drive,us...   \n",
       "3                                     music,usb item   \n",
       "4                                                NaN   \n",
       "\n",
       "                       synset words  \\\n",
       "0  ['memory device,storage device']   \n",
       "1  ['memory device,storage device']   \n",
       "2  ['memory device,storage device']   \n",
       "3  ['memory device,storage device']   \n",
       "4  ['memory device,storage device']   \n",
       "\n",
       "                                        synset gloss  \\\n",
       "0  ['a device that preserves information for retr...   \n",
       "1  ['a device that preserves information for retr...   \n",
       "2  ['a device that preserves information for retr...   \n",
       "3  ['a device that preserves information for retr...   \n",
       "4  ['a device that preserves information for retr...   \n",
       "\n",
       "                                      template1_desc  \\\n",
       "0  A usb memory stick   sketchyphysics which is c...   \n",
       "1  A red   usb which is commonly known as <no_tag...   \n",
       "2  A cig usb drive which is commonly known as cig...   \n",
       "3  A mp which is commonly known as music,usb item...   \n",
       "4  A usb drive which is commonly known as <no_tag...   \n",
       "\n",
       "                                      template2_desc  \\\n",
       "0  The usb memory stick   sketchyphysics is a mem...   \n",
       "1  The red   usb is a memory device,storage devic...   \n",
       "2  The cig usb drive is a memory device,storage d...   \n",
       "3  The mp is a memory device,storage device often...   \n",
       "4  The usb drive is a memory device,storage devic...   \n",
       "\n",
       "                                      template3_desc  \n",
       "0  usb memory stick   sketchyphysics is a memory ...  \n",
       "1  red   usb is a memory device,storage device de...  \n",
       "2  cig usb drive is a memory device,storage devic...  \n",
       "3  mp is a memory device,storage device designed ...  \n",
       "4  usb drive is a memory device,storage device de...  "
      ]
     },
     "execution_count": 8,
     "metadata": {},
     "output_type": "execute_result"
    }
   ],
   "source": [
    "df.head()"
   ]
  },
  {
   "cell_type": "code",
   "execution_count": 9,
   "metadata": {},
   "outputs": [
    {
     "name": "stdout",
     "output_type": "stream",
     "text": [
      "Dinov2 Loaded Successfully!\n",
      "CLIP Model Loaded Successfully!\n",
      "Point CLIP Model Loaded Successfully!\n",
      "ALIGN Model Loaded Successfully!\n"
     ]
    }
   ],
   "source": [
    "enc = EncodeUserInput(align_path=align_path, align_embd=400)\n",
    "cmr = CrossModalRetrival(dataset_path, embed_path)"
   ]
  },
  {
   "cell_type": "code",
   "execution_count": 10,
   "metadata": {},
   "outputs": [],
   "source": [
    "prompt = \"automative vehicle used for hauling\""
   ]
  },
  {
   "cell_type": "code",
   "execution_count": 11,
   "metadata": {},
   "outputs": [],
   "source": [
    "rag_decoder = load_rag(rag_path)"
   ]
  },
  {
   "cell_type": "code",
   "execution_count": 12,
   "metadata": {},
   "outputs": [
    {
     "data": {
      "application/vnd.plotly.v1+json": {
       "config": {
        "plotlyServerURL": "https://plot.ly"
       },
       "data": [
        {
         "marker": {
          "color": "blue",
          "size": 5
         },
         "mode": "markers",
         "name": "Predicted",
         "scene": "scene",
         "type": "scatter3d",
         "x": {
          "bdata": "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",
          "dtype": "f4"
         },
         "y": {
          "bdata": "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",
          "dtype": "f4"
         },
         "z": {
          "bdata": "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",
          "dtype": "f4"
         }
        }
       ],
       "layout": {
        "annotations": [
         {
          "font": {
           "size": 16
          },
          "showarrow": false,
          "text": "P",
          "x": 0.5,
          "xanchor": "center",
          "xref": "paper",
          "y": 1,
          "yanchor": "bottom",
          "yref": "paper"
         }
        ],
        "scene": {
         "domain": {
          "x": [
           0,
           1
          ],
          "y": [
           0,
           1
          ]
         },
         "xaxis": {
          "title": {
           "text": "X"
          }
         },
         "yaxis": {
          "title": {
           "text": "Y"
          }
         },
         "zaxis": {
          "title": {
           "text": "Z"
          }
         }
        },
        "showlegend": true,
        "template": {
         "data": {
          "bar": [
           {
            "error_x": {
             "color": "#2a3f5f"
            },
            "error_y": {
             "color": "#2a3f5f"
            },
            "marker": {
             "line": {
              "color": "#E5ECF6",
              "width": 0.5
             },
             "pattern": {
              "fillmode": "overlay",
              "size": 10,
              "solidity": 0.2
             }
            },
            "type": "bar"
           }
          ],
          "barpolar": [
           {
            "marker": {
             "line": {
              "color": "#E5ECF6",
              "width": 0.5
             },
             "pattern": {
              "fillmode": "overlay",
              "size": 10,
              "solidity": 0.2
             }
            },
            "type": "barpolar"
           }
          ],
          "carpet": [
           {
            "aaxis": {
             "endlinecolor": "#2a3f5f",
             "gridcolor": "white",
             "linecolor": "white",
             "minorgridcolor": "white",
             "startlinecolor": "#2a3f5f"
            },
            "baxis": {
             "endlinecolor": "#2a3f5f",
             "gridcolor": "white",
             "linecolor": "white",
             "minorgridcolor": "white",
             "startlinecolor": "#2a3f5f"
            },
            "type": "carpet"
           }
          ],
          "choropleth": [
           {
            "colorbar": {
             "outlinewidth": 0,
             "ticks": ""
            },
            "type": "choropleth"
           }
          ],
          "contour": [
           {
            "colorbar": {
             "outlinewidth": 0,
             "ticks": ""
            },
            "colorscale": [
             [
              0,
              "#0d0887"
             ],
             [
              0.1111111111111111,
              "#46039f"
             ],
             [
              0.2222222222222222,
              "#7201a8"
             ],
             [
              0.3333333333333333,
              "#9c179e"
             ],
             [
              0.4444444444444444,
              "#bd3786"
             ],
             [
              0.5555555555555556,
              "#d8576b"
             ],
             [
              0.6666666666666666,
              "#ed7953"
             ],
             [
              0.7777777777777778,
              "#fb9f3a"
             ],
             [
              0.8888888888888888,
              "#fdca26"
             ],
             [
              1,
              "#f0f921"
             ]
            ],
            "type": "contour"
           }
          ],
          "contourcarpet": [
           {
            "colorbar": {
             "outlinewidth": 0,
             "ticks": ""
            },
            "type": "contourcarpet"
           }
          ],
          "heatmap": [
           {
            "colorbar": {
             "outlinewidth": 0,
             "ticks": ""
            },
            "colorscale": [
             [
              0,
              "#0d0887"
             ],
             [
              0.1111111111111111,
              "#46039f"
             ],
             [
              0.2222222222222222,
              "#7201a8"
             ],
             [
              0.3333333333333333,
              "#9c179e"
             ],
             [
              0.4444444444444444,
              "#bd3786"
             ],
             [
              0.5555555555555556,
              "#d8576b"
             ],
             [
              0.6666666666666666,
              "#ed7953"
             ],
             [
              0.7777777777777778,
              "#fb9f3a"
             ],
             [
              0.8888888888888888,
              "#fdca26"
             ],
             [
              1,
              "#f0f921"
             ]
            ],
            "type": "heatmap"
           }
          ],
          "histogram": [
           {
            "marker": {
             "pattern": {
              "fillmode": "overlay",
              "size": 10,
              "solidity": 0.2
             }
            },
            "type": "histogram"
           }
          ],
          "histogram2d": [
           {
            "colorbar": {
             "outlinewidth": 0,
             "ticks": ""
            },
            "colorscale": [
             [
              0,
              "#0d0887"
             ],
             [
              0.1111111111111111,
              "#46039f"
             ],
             [
              0.2222222222222222,
              "#7201a8"
             ],
             [
              0.3333333333333333,
              "#9c179e"
             ],
             [
              0.4444444444444444,
              "#bd3786"
             ],
             [
              0.5555555555555556,
              "#d8576b"
             ],
             [
              0.6666666666666666,
              "#ed7953"
             ],
             [
              0.7777777777777778,
              "#fb9f3a"
             ],
             [
              0.8888888888888888,
              "#fdca26"
             ],
             [
              1,
              "#f0f921"
             ]
            ],
            "type": "histogram2d"
           }
          ],
          "histogram2dcontour": [
           {
            "colorbar": {
             "outlinewidth": 0,
             "ticks": ""
            },
            "colorscale": [
             [
              0,
              "#0d0887"
             ],
             [
              0.1111111111111111,
              "#46039f"
             ],
             [
              0.2222222222222222,
              "#7201a8"
             ],
             [
              0.3333333333333333,
              "#9c179e"
             ],
             [
              0.4444444444444444,
              "#bd3786"
             ],
             [
              0.5555555555555556,
              "#d8576b"
             ],
             [
              0.6666666666666666,
              "#ed7953"
             ],
             [
              0.7777777777777778,
              "#fb9f3a"
             ],
             [
              0.8888888888888888,
              "#fdca26"
             ],
             [
              1,
              "#f0f921"
             ]
            ],
            "type": "histogram2dcontour"
           }
          ],
          "mesh3d": [
           {
            "colorbar": {
             "outlinewidth": 0,
             "ticks": ""
            },
            "type": "mesh3d"
           }
          ],
          "parcoords": [
           {
            "line": {
             "colorbar": {
              "outlinewidth": 0,
              "ticks": ""
             }
            },
            "type": "parcoords"
           }
          ],
          "pie": [
           {
            "automargin": true,
            "type": "pie"
           }
          ],
          "scatter": [
           {
            "fillpattern": {
             "fillmode": "overlay",
             "size": 10,
             "solidity": 0.2
            },
            "type": "scatter"
           }
          ],
          "scatter3d": [
           {
            "line": {
             "colorbar": {
              "outlinewidth": 0,
              "ticks": ""
             }
            },
            "marker": {
             "colorbar": {
              "outlinewidth": 0,
              "ticks": ""
             }
            },
            "type": "scatter3d"
           }
          ],
          "scattercarpet": [
           {
            "marker": {
             "colorbar": {
              "outlinewidth": 0,
              "ticks": ""
             }
            },
            "type": "scattercarpet"
           }
          ],
          "scattergeo": [
           {
            "marker": {
             "colorbar": {
              "outlinewidth": 0,
              "ticks": ""
             }
            },
            "type": "scattergeo"
           }
          ],
          "scattergl": [
           {
            "marker": {
             "colorbar": {
              "outlinewidth": 0,
              "ticks": ""
             }
            },
            "type": "scattergl"
           }
          ],
          "scattermap": [
           {
            "marker": {
             "colorbar": {
              "outlinewidth": 0,
              "ticks": ""
             }
            },
            "type": "scattermap"
           }
          ],
          "scattermapbox": [
           {
            "marker": {
             "colorbar": {
              "outlinewidth": 0,
              "ticks": ""
             }
            },
            "type": "scattermapbox"
           }
          ],
          "scatterpolar": [
           {
            "marker": {
             "colorbar": {
              "outlinewidth": 0,
              "ticks": ""
             }
            },
            "type": "scatterpolar"
           }
          ],
          "scatterpolargl": [
           {
            "marker": {
             "colorbar": {
              "outlinewidth": 0,
              "ticks": ""
             }
            },
            "type": "scatterpolargl"
           }
          ],
          "scatterternary": [
           {
            "marker": {
             "colorbar": {
              "outlinewidth": 0,
              "ticks": ""
             }
            },
            "type": "scatterternary"
           }
          ],
          "surface": [
           {
            "colorbar": {
             "outlinewidth": 0,
             "ticks": ""
            },
            "colorscale": [
             [
              0,
              "#0d0887"
             ],
             [
              0.1111111111111111,
              "#46039f"
             ],
             [
              0.2222222222222222,
              "#7201a8"
             ],
             [
              0.3333333333333333,
              "#9c179e"
             ],
             [
              0.4444444444444444,
              "#bd3786"
             ],
             [
              0.5555555555555556,
              "#d8576b"
             ],
             [
              0.6666666666666666,
              "#ed7953"
             ],
             [
              0.7777777777777778,
              "#fb9f3a"
             ],
             [
              0.8888888888888888,
              "#fdca26"
             ],
             [
              1,
              "#f0f921"
             ]
            ],
            "type": "surface"
           }
          ],
          "table": [
           {
            "cells": {
             "fill": {
              "color": "#EBF0F8"
             },
             "line": {
              "color": "white"
             }
            },
            "header": {
             "fill": {
              "color": "#C8D4E3"
             },
             "line": {
              "color": "white"
             }
            },
            "type": "table"
           }
          ]
         },
         "layout": {
          "annotationdefaults": {
           "arrowcolor": "#2a3f5f",
           "arrowhead": 0,
           "arrowwidth": 1
          },
          "autotypenumbers": "strict",
          "coloraxis": {
           "colorbar": {
            "outlinewidth": 0,
            "ticks": ""
           }
          },
          "colorscale": {
           "diverging": [
            [
             0,
             "#8e0152"
            ],
            [
             0.1,
             "#c51b7d"
            ],
            [
             0.2,
             "#de77ae"
            ],
            [
             0.3,
             "#f1b6da"
            ],
            [
             0.4,
             "#fde0ef"
            ],
            [
             0.5,
             "#f7f7f7"
            ],
            [
             0.6,
             "#e6f5d0"
            ],
            [
             0.7,
             "#b8e186"
            ],
            [
             0.8,
             "#7fbc41"
            ],
            [
             0.9,
             "#4d9221"
            ],
            [
             1,
             "#276419"
            ]
           ],
           "sequential": [
            [
             0,
             "#0d0887"
            ],
            [
             0.1111111111111111,
             "#46039f"
            ],
            [
             0.2222222222222222,
             "#7201a8"
            ],
            [
             0.3333333333333333,
             "#9c179e"
            ],
            [
             0.4444444444444444,
             "#bd3786"
            ],
            [
             0.5555555555555556,
             "#d8576b"
            ],
            [
             0.6666666666666666,
             "#ed7953"
            ],
            [
             0.7777777777777778,
             "#fb9f3a"
            ],
            [
             0.8888888888888888,
             "#fdca26"
            ],
            [
             1,
             "#f0f921"
            ]
           ],
           "sequentialminus": [
            [
             0,
             "#0d0887"
            ],
            [
             0.1111111111111111,
             "#46039f"
            ],
            [
             0.2222222222222222,
             "#7201a8"
            ],
            [
             0.3333333333333333,
             "#9c179e"
            ],
            [
             0.4444444444444444,
             "#bd3786"
            ],
            [
             0.5555555555555556,
             "#d8576b"
            ],
            [
             0.6666666666666666,
             "#ed7953"
            ],
            [
             0.7777777777777778,
             "#fb9f3a"
            ],
            [
             0.8888888888888888,
             "#fdca26"
            ],
            [
             1,
             "#f0f921"
            ]
           ]
          },
          "colorway": [
           "#636efa",
           "#EF553B",
           "#00cc96",
           "#ab63fa",
           "#FFA15A",
           "#19d3f3",
           "#FF6692",
           "#B6E880",
           "#FF97FF",
           "#FECB52"
          ],
          "font": {
           "color": "#2a3f5f"
          },
          "geo": {
           "bgcolor": "white",
           "lakecolor": "white",
           "landcolor": "#E5ECF6",
           "showlakes": true,
           "showland": true,
           "subunitcolor": "white"
          },
          "hoverlabel": {
           "align": "left"
          },
          "hovermode": "closest",
          "mapbox": {
           "style": "light"
          },
          "paper_bgcolor": "white",
          "plot_bgcolor": "#E5ECF6",
          "polar": {
           "angularaxis": {
            "gridcolor": "white",
            "linecolor": "white",
            "ticks": ""
           },
           "bgcolor": "#E5ECF6",
           "radialaxis": {
            "gridcolor": "white",
            "linecolor": "white",
            "ticks": ""
           }
          },
          "scene": {
           "xaxis": {
            "backgroundcolor": "#E5ECF6",
            "gridcolor": "white",
            "gridwidth": 2,
            "linecolor": "white",
            "showbackground": true,
            "ticks": "",
            "zerolinecolor": "white"
           },
           "yaxis": {
            "backgroundcolor": "#E5ECF6",
            "gridcolor": "white",
            "gridwidth": 2,
            "linecolor": "white",
            "showbackground": true,
            "ticks": "",
            "zerolinecolor": "white"
           },
           "zaxis": {
            "backgroundcolor": "#E5ECF6",
            "gridcolor": "white",
            "gridwidth": 2,
            "linecolor": "white",
            "showbackground": true,
            "ticks": "",
            "zerolinecolor": "white"
           }
          },
          "shapedefaults": {
           "line": {
            "color": "#2a3f5f"
           }
          },
          "ternary": {
           "aaxis": {
            "gridcolor": "white",
            "linecolor": "white",
            "ticks": ""
           },
           "baxis": {
            "gridcolor": "white",
            "linecolor": "white",
            "ticks": ""
           },
           "bgcolor": "#E5ECF6",
           "caxis": {
            "gridcolor": "white",
            "linecolor": "white",
            "ticks": ""
           }
          },
          "title": {
           "x": 0.05
          },
          "xaxis": {
           "automargin": true,
           "gridcolor": "white",
           "linecolor": "white",
           "ticks": "",
           "title": {
            "standoff": 15
           },
           "zerolinecolor": "white",
           "zerolinewidth": 2
          },
          "yaxis": {
           "automargin": true,
           "gridcolor": "white",
           "linecolor": "white",
           "ticks": "",
           "title": {
            "standoff": 15
           },
           "zerolinecolor": "white",
           "zerolinewidth": 2
          }
         }
        },
        "title": {
         "text": "Predicted"
        }
       }
      }
     },
     "metadata": {},
     "output_type": "display_data"
    }
   ],
   "source": [
    "fig = generate_pc_from_user_prompt(pc_dir, prompt, 'text', enc, cmr, rag_decoder)\n",
    "fig.show()"
   ]
  },
  {
   "cell_type": "code",
   "execution_count": 22,
   "metadata": {},
   "outputs": [],
   "source": [
    "projection, ref_pc = get_aligned_pc_from_user_prompt(pc_dir, prompt, 'text', enc, cmr)"
   ]
  },
  {
   "cell_type": "code",
   "execution_count": 23,
   "metadata": {},
   "outputs": [
    {
     "data": {
      "text/plain": [
       "(torch.Size([1, 400]), torch.Size([1024, 3]))"
      ]
     },
     "execution_count": 23,
     "metadata": {},
     "output_type": "execute_result"
    }
   ],
   "source": [
    "projection.shape, ref_pc.shape"
   ]
  },
  {
   "cell_type": "code",
   "execution_count": 24,
   "metadata": {},
   "outputs": [
    {
     "data": {
      "text/plain": [
       "(torch.Size([1, 400]), torch.Size([1, 3072]))"
      ]
     },
     "execution_count": 24,
     "metadata": {},
     "output_type": "execute_result"
    }
   ],
   "source": [
    "pc = ref_pc.view(-1)\n",
    "pc = pc.unsqueeze(0)\n",
    "projection.shape, pc.shape"
   ]
  },
  {
   "cell_type": "code",
   "execution_count": 25,
   "metadata": {},
   "outputs": [
    {
     "data": {
      "text/plain": [
       "torch.Size([1, 3472])"
      ]
     },
     "execution_count": 25,
     "metadata": {},
     "output_type": "execute_result"
    }
   ],
   "source": [
    "combined_input = torch.concat((projection, pc), dim=1)\n",
    "combined_input.shape"
   ]
  },
  {
   "cell_type": "code",
   "execution_count": 26,
   "metadata": {},
   "outputs": [
    {
     "name": "stdout",
     "output_type": "stream",
     "text": [
      "Success\n"
     ]
    }
   ],
   "source": [
    "num_points = 1024  # Number of points in the point cloud\n",
    "in_dim = 400 + num_points * 3  # Input dimension (projection + flattened point cloud)\n",
    "hidden_dim = 512  # Hidden layer size\n",
    "out_dim = num_points * 3\n",
    "num_hidden_layers = 4\n",
    "rag_path = \"TrainedModels/RAG/four_hidden/500.pth\"\n",
    "rag_decoder = RAGDecoder(in_dim, hidden_dim, out_dim, num_hidden_layers=4)\n",
    "state_dict = torch.load(rag_path, map_location=torch.device('cpu'))  # Load to CPU\n",
    "# Apply the weights to the model\n",
    "rag_decoder.load_state_dict(state_dict)\n",
    "# Set to evaluation mode (if needed)\n",
    "device = \"cuda\" if torch.cuda.is_available() else \"cpu\"\n",
    "rag_decoder.to(device)\n",
    "print(\"Success\")"
   ]
  },
  {
   "cell_type": "code",
   "execution_count": 27,
   "metadata": {},
   "outputs": [
    {
     "data": {
      "text/plain": [
       "torch.Size([1, 1024, 3])"
      ]
     },
     "execution_count": 27,
     "metadata": {},
     "output_type": "execute_result"
    }
   ],
   "source": [
    "with torch.no_grad():\n",
    "    pred_pc = rag_decoder(combined_input.to(dtype=torch.float32))\n",
    "pred_pc.shape"
   ]
  },
  {
   "cell_type": "code",
   "execution_count": 28,
   "metadata": {},
   "outputs": [
    {
     "data": {
      "text/plain": [
       "torch.Size([1024, 3])"
      ]
     },
     "execution_count": 28,
     "metadata": {},
     "output_type": "execute_result"
    }
   ],
   "source": [
    "pred_pc = pred_pc.squeeze(0)\n",
    "pred_pc.shape"
   ]
  },
  {
   "cell_type": "code",
   "execution_count": 29,
   "metadata": {},
   "outputs": [
    {
     "data": {
      "application/vnd.plotly.v1+json": {
       "config": {
        "plotlyServerURL": "https://plot.ly"
       },
       "data": [
        {
         "marker": {
          "color": "blue",
          "size": 5
         },
         "mode": "markers",
         "name": "Predicted",
         "scene": "scene",
         "type": "scatter3d",
         "x": {
          "bdata": "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",
          "dtype": "f8"
         },
         "y": {
          "bdata": "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",
          "dtype": "f8"
         },
         "z": {
          "bdata": "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",
          "dtype": "f8"
         }
        }
       ],
       "layout": {
        "annotations": [
         {
          "font": {
           "size": 16
          },
          "showarrow": false,
          "text": "P",
          "x": 0.5,
          "xanchor": "center",
          "xref": "paper",
          "y": 1,
          "yanchor": "bottom",
          "yref": "paper"
         }
        ],
        "scene": {
         "domain": {
          "x": [
           0,
           1
          ],
          "y": [
           0,
           1
          ]
         },
         "xaxis": {
          "title": {
           "text": "X"
          }
         },
         "yaxis": {
          "title": {
           "text": "Y"
          }
         },
         "zaxis": {
          "title": {
           "text": "Z"
          }
         }
        },
        "showlegend": true,
        "template": {
         "data": {
          "bar": [
           {
            "error_x": {
             "color": "#2a3f5f"
            },
            "error_y": {
             "color": "#2a3f5f"
            },
            "marker": {
             "line": {
              "color": "#E5ECF6",
              "width": 0.5
             },
             "pattern": {
              "fillmode": "overlay",
              "size": 10,
              "solidity": 0.2
             }
            },
            "type": "bar"
           }
          ],
          "barpolar": [
           {
            "marker": {
             "line": {
              "color": "#E5ECF6",
              "width": 0.5
             },
             "pattern": {
              "fillmode": "overlay",
              "size": 10,
              "solidity": 0.2
             }
            },
            "type": "barpolar"
           }
          ],
          "carpet": [
           {
            "aaxis": {
             "endlinecolor": "#2a3f5f",
             "gridcolor": "white",
             "linecolor": "white",
             "minorgridcolor": "white",
             "startlinecolor": "#2a3f5f"
            },
            "baxis": {
             "endlinecolor": "#2a3f5f",
             "gridcolor": "white",
             "linecolor": "white",
             "minorgridcolor": "white",
             "startlinecolor": "#2a3f5f"
            },
            "type": "carpet"
           }
          ],
          "choropleth": [
           {
            "colorbar": {
             "outlinewidth": 0,
             "ticks": ""
            },
            "type": "choropleth"
           }
          ],
          "contour": [
           {
            "colorbar": {
             "outlinewidth": 0,
             "ticks": ""
            },
            "colorscale": [
             [
              0,
              "#0d0887"
             ],
             [
              0.1111111111111111,
              "#46039f"
             ],
             [
              0.2222222222222222,
              "#7201a8"
             ],
             [
              0.3333333333333333,
              "#9c179e"
             ],
             [
              0.4444444444444444,
              "#bd3786"
             ],
             [
              0.5555555555555556,
              "#d8576b"
             ],
             [
              0.6666666666666666,
              "#ed7953"
             ],
             [
              0.7777777777777778,
              "#fb9f3a"
             ],
             [
              0.8888888888888888,
              "#fdca26"
             ],
             [
              1,
              "#f0f921"
             ]
            ],
            "type": "contour"
           }
          ],
          "contourcarpet": [
           {
            "colorbar": {
             "outlinewidth": 0,
             "ticks": ""
            },
            "type": "contourcarpet"
           }
          ],
          "heatmap": [
           {
            "colorbar": {
             "outlinewidth": 0,
             "ticks": ""
            },
            "colorscale": [
             [
              0,
              "#0d0887"
             ],
             [
              0.1111111111111111,
              "#46039f"
             ],
             [
              0.2222222222222222,
              "#7201a8"
             ],
             [
              0.3333333333333333,
              "#9c179e"
             ],
             [
              0.4444444444444444,
              "#bd3786"
             ],
             [
              0.5555555555555556,
              "#d8576b"
             ],
             [
              0.6666666666666666,
              "#ed7953"
             ],
             [
              0.7777777777777778,
              "#fb9f3a"
             ],
             [
              0.8888888888888888,
              "#fdca26"
             ],
             [
              1,
              "#f0f921"
             ]
            ],
            "type": "heatmap"
           }
          ],
          "histogram": [
           {
            "marker": {
             "pattern": {
              "fillmode": "overlay",
              "size": 10,
              "solidity": 0.2
             }
            },
            "type": "histogram"
           }
          ],
          "histogram2d": [
           {
            "colorbar": {
             "outlinewidth": 0,
             "ticks": ""
            },
            "colorscale": [
             [
              0,
              "#0d0887"
             ],
             [
              0.1111111111111111,
              "#46039f"
             ],
             [
              0.2222222222222222,
              "#7201a8"
             ],
             [
              0.3333333333333333,
              "#9c179e"
             ],
             [
              0.4444444444444444,
              "#bd3786"
             ],
             [
              0.5555555555555556,
              "#d8576b"
             ],
             [
              0.6666666666666666,
              "#ed7953"
             ],
             [
              0.7777777777777778,
              "#fb9f3a"
             ],
             [
              0.8888888888888888,
              "#fdca26"
             ],
             [
              1,
              "#f0f921"
             ]
            ],
            "type": "histogram2d"
           }
          ],
          "histogram2dcontour": [
           {
            "colorbar": {
             "outlinewidth": 0,
             "ticks": ""
            },
            "colorscale": [
             [
              0,
              "#0d0887"
             ],
             [
              0.1111111111111111,
              "#46039f"
             ],
             [
              0.2222222222222222,
              "#7201a8"
             ],
             [
              0.3333333333333333,
              "#9c179e"
             ],
             [
              0.4444444444444444,
              "#bd3786"
             ],
             [
              0.5555555555555556,
              "#d8576b"
             ],
             [
              0.6666666666666666,
              "#ed7953"
             ],
             [
              0.7777777777777778,
              "#fb9f3a"
             ],
             [
              0.8888888888888888,
              "#fdca26"
             ],
             [
              1,
              "#f0f921"
             ]
            ],
            "type": "histogram2dcontour"
           }
          ],
          "mesh3d": [
           {
            "colorbar": {
             "outlinewidth": 0,
             "ticks": ""
            },
            "type": "mesh3d"
           }
          ],
          "parcoords": [
           {
            "line": {
             "colorbar": {
              "outlinewidth": 0,
              "ticks": ""
             }
            },
            "type": "parcoords"
           }
          ],
          "pie": [
           {
            "automargin": true,
            "type": "pie"
           }
          ],
          "scatter": [
           {
            "fillpattern": {
             "fillmode": "overlay",
             "size": 10,
             "solidity": 0.2
            },
            "type": "scatter"
           }
          ],
          "scatter3d": [
           {
            "line": {
             "colorbar": {
              "outlinewidth": 0,
              "ticks": ""
             }
            },
            "marker": {
             "colorbar": {
              "outlinewidth": 0,
              "ticks": ""
             }
            },
            "type": "scatter3d"
           }
          ],
          "scattercarpet": [
           {
            "marker": {
             "colorbar": {
              "outlinewidth": 0,
              "ticks": ""
             }
            },
            "type": "scattercarpet"
           }
          ],
          "scattergeo": [
           {
            "marker": {
             "colorbar": {
              "outlinewidth": 0,
              "ticks": ""
             }
            },
            "type": "scattergeo"
           }
          ],
          "scattergl": [
           {
            "marker": {
             "colorbar": {
              "outlinewidth": 0,
              "ticks": ""
             }
            },
            "type": "scattergl"
           }
          ],
          "scattermap": [
           {
            "marker": {
             "colorbar": {
              "outlinewidth": 0,
              "ticks": ""
             }
            },
            "type": "scattermap"
           }
          ],
          "scattermapbox": [
           {
            "marker": {
             "colorbar": {
              "outlinewidth": 0,
              "ticks": ""
             }
            },
            "type": "scattermapbox"
           }
          ],
          "scatterpolar": [
           {
            "marker": {
             "colorbar": {
              "outlinewidth": 0,
              "ticks": ""
             }
            },
            "type": "scatterpolar"
           }
          ],
          "scatterpolargl": [
           {
            "marker": {
             "colorbar": {
              "outlinewidth": 0,
              "ticks": ""
             }
            },
            "type": "scatterpolargl"
           }
          ],
          "scatterternary": [
           {
            "marker": {
             "colorbar": {
              "outlinewidth": 0,
              "ticks": ""
             }
            },
            "type": "scatterternary"
           }
          ],
          "surface": [
           {
            "colorbar": {
             "outlinewidth": 0,
             "ticks": ""
            },
            "colorscale": [
             [
              0,
              "#0d0887"
             ],
             [
              0.1111111111111111,
              "#46039f"
             ],
             [
              0.2222222222222222,
              "#7201a8"
             ],
             [
              0.3333333333333333,
              "#9c179e"
             ],
             [
              0.4444444444444444,
              "#bd3786"
             ],
             [
              0.5555555555555556,
              "#d8576b"
             ],
             [
              0.6666666666666666,
              "#ed7953"
             ],
             [
              0.7777777777777778,
              "#fb9f3a"
             ],
             [
              0.8888888888888888,
              "#fdca26"
             ],
             [
              1,
              "#f0f921"
             ]
            ],
            "type": "surface"
           }
          ],
          "table": [
           {
            "cells": {
             "fill": {
              "color": "#EBF0F8"
             },
             "line": {
              "color": "white"
             }
            },
            "header": {
             "fill": {
              "color": "#C8D4E3"
             },
             "line": {
              "color": "white"
             }
            },
            "type": "table"
           }
          ]
         },
         "layout": {
          "annotationdefaults": {
           "arrowcolor": "#2a3f5f",
           "arrowhead": 0,
           "arrowwidth": 1
          },
          "autotypenumbers": "strict",
          "coloraxis": {
           "colorbar": {
            "outlinewidth": 0,
            "ticks": ""
           }
          },
          "colorscale": {
           "diverging": [
            [
             0,
             "#8e0152"
            ],
            [
             0.1,
             "#c51b7d"
            ],
            [
             0.2,
             "#de77ae"
            ],
            [
             0.3,
             "#f1b6da"
            ],
            [
             0.4,
             "#fde0ef"
            ],
            [
             0.5,
             "#f7f7f7"
            ],
            [
             0.6,
             "#e6f5d0"
            ],
            [
             0.7,
             "#b8e186"
            ],
            [
             0.8,
             "#7fbc41"
            ],
            [
             0.9,
             "#4d9221"
            ],
            [
             1,
             "#276419"
            ]
           ],
           "sequential": [
            [
             0,
             "#0d0887"
            ],
            [
             0.1111111111111111,
             "#46039f"
            ],
            [
             0.2222222222222222,
             "#7201a8"
            ],
            [
             0.3333333333333333,
             "#9c179e"
            ],
            [
             0.4444444444444444,
             "#bd3786"
            ],
            [
             0.5555555555555556,
             "#d8576b"
            ],
            [
             0.6666666666666666,
             "#ed7953"
            ],
            [
             0.7777777777777778,
             "#fb9f3a"
            ],
            [
             0.8888888888888888,
             "#fdca26"
            ],
            [
             1,
             "#f0f921"
            ]
           ],
           "sequentialminus": [
            [
             0,
             "#0d0887"
            ],
            [
             0.1111111111111111,
             "#46039f"
            ],
            [
             0.2222222222222222,
             "#7201a8"
            ],
            [
             0.3333333333333333,
             "#9c179e"
            ],
            [
             0.4444444444444444,
             "#bd3786"
            ],
            [
             0.5555555555555556,
             "#d8576b"
            ],
            [
             0.6666666666666666,
             "#ed7953"
            ],
            [
             0.7777777777777778,
             "#fb9f3a"
            ],
            [
             0.8888888888888888,
             "#fdca26"
            ],
            [
             1,
             "#f0f921"
            ]
           ]
          },
          "colorway": [
           "#636efa",
           "#EF553B",
           "#00cc96",
           "#ab63fa",
           "#FFA15A",
           "#19d3f3",
           "#FF6692",
           "#B6E880",
           "#FF97FF",
           "#FECB52"
          ],
          "font": {
           "color": "#2a3f5f"
          },
          "geo": {
           "bgcolor": "white",
           "lakecolor": "white",
           "landcolor": "#E5ECF6",
           "showlakes": true,
           "showland": true,
           "subunitcolor": "white"
          },
          "hoverlabel": {
           "align": "left"
          },
          "hovermode": "closest",
          "mapbox": {
           "style": "light"
          },
          "paper_bgcolor": "white",
          "plot_bgcolor": "#E5ECF6",
          "polar": {
           "angularaxis": {
            "gridcolor": "white",
            "linecolor": "white",
            "ticks": ""
           },
           "bgcolor": "#E5ECF6",
           "radialaxis": {
            "gridcolor": "white",
            "linecolor": "white",
            "ticks": ""
           }
          },
          "scene": {
           "xaxis": {
            "backgroundcolor": "#E5ECF6",
            "gridcolor": "white",
            "gridwidth": 2,
            "linecolor": "white",
            "showbackground": true,
            "ticks": "",
            "zerolinecolor": "white"
           },
           "yaxis": {
            "backgroundcolor": "#E5ECF6",
            "gridcolor": "white",
            "gridwidth": 2,
            "linecolor": "white",
            "showbackground": true,
            "ticks": "",
            "zerolinecolor": "white"
           },
           "zaxis": {
            "backgroundcolor": "#E5ECF6",
            "gridcolor": "white",
            "gridwidth": 2,
            "linecolor": "white",
            "showbackground": true,
            "ticks": "",
            "zerolinecolor": "white"
           }
          },
          "shapedefaults": {
           "line": {
            "color": "#2a3f5f"
           }
          },
          "ternary": {
           "aaxis": {
            "gridcolor": "white",
            "linecolor": "white",
            "ticks": ""
           },
           "baxis": {
            "gridcolor": "white",
            "linecolor": "white",
            "ticks": ""
           },
           "bgcolor": "#E5ECF6",
           "caxis": {
            "gridcolor": "white",
            "linecolor": "white",
            "ticks": ""
           }
          },
          "title": {
           "x": 0.05
          },
          "xaxis": {
           "automargin": true,
           "gridcolor": "white",
           "linecolor": "white",
           "ticks": "",
           "title": {
            "standoff": 15
           },
           "zerolinecolor": "white",
           "zerolinewidth": 2
          },
          "yaxis": {
           "automargin": true,
           "gridcolor": "white",
           "linecolor": "white",
           "ticks": "",
           "title": {
            "standoff": 15
           },
           "zerolinecolor": "white",
           "zerolinewidth": 2
          }
         }
        },
        "title": {
         "text": "Predicted"
        }
       }
      }
     },
     "metadata": {},
     "output_type": "display_data"
    }
   ],
   "source": [
    "\n",
    "# Create 3D scatter plots for predicted and actual point clouds\n",
    "predicted_scatter = go.Scatter3d(\n",
    "    x=ref_pc[:, 0],\n",
    "    y=ref_pc[:, 1],\n",
    "    z=ref_pc[:, 2],\n",
    "    mode='markers',\n",
    "    marker=dict(size=5, color='blue'),\n",
    "    name=\"Predicted\"\n",
    ")\n",
    "\n",
    "# Create the subplots: 1 row, 2 columns\n",
    "fig = make_subplots(\n",
    "    rows=1, cols=1,\n",
    "    subplot_titles=(\"Predicted Point Cloud\"),\n",
    "    specs=[[{'type': 'scatter3d'}]]\n",
    ")\n",
    "\n",
    "# Add the scatter plots to the subplots\n",
    "fig.add_trace(predicted_scatter, row=1, col=1)\n",
    "\n",
    "# Update layout with axis titles and a main title\n",
    "fig.update_layout(\n",
    "    title=f\"Predicted\",\n",
    "    scene=dict(\n",
    "        xaxis_title=\"X\",\n",
    "        yaxis_title=\"Y\",\n",
    "        zaxis_title=\"Z\"\n",
    "    ),\n",
    "    showlegend=True\n",
    ")\n",
    "\n",
    "# Show the figure in an interactive window\n",
    "fig.show()\n"
   ]
  },
  {
   "cell_type": "code",
   "execution_count": 97,
   "metadata": {},
   "outputs": [],
   "source": [
    "import random"
   ]
  },
  {
   "cell_type": "code",
   "execution_count": 48,
   "metadata": {},
   "outputs": [
    {
     "name": "stdout",
     "output_type": "stream",
     "text": [
      "torch.Size([8, 3072]) torch.Size([8, 400])\n"
     ]
    }
   ],
   "source": [
    "dataset = RAGDataset(data_dict, dataset_path, pc_dir)\n",
    "\n",
    "batch_size = 8\n",
    "# Create DataLoader\n",
    "dataloader = DataLoader(dataset, batch_size=batch_size, shuffle=True)\n",
    "modality_choices = ['text', 'img', 'pc']\n",
    "# Iterate through the DataLoader\n",
    "for batch in dataloader:\n",
    "    point_clouds = []\n",
    "    projections = []\n",
    "    for i in range(batch_size):\n",
    "        # idx, text_proj, img_proj, pc_proj, category = batch['index'][i], batch['text_proj'][i], batch['img_proj'][i], batch['pc_proj'][i], batch['category'][i]\n",
    "        # print(idx, text_proj.shape, img_proj.shape, pc_proj.shape, category)\n",
    "\n",
    "        # Choose one random projection to use\n",
    "        choice = random.choice(modality_choices)\n",
    "        projection = batch[f\"{choice}_proj\"][i]\n",
    "        pc = get_aligned_pc_from_projection(pc_dir, projection, choice, cmr)\n",
    "        # print(pc.shape)\n",
    "        projections.append(projection)\n",
    "        point_clouds.append(pc)\n",
    "\n",
    "    point_clouds = torch.stack(point_clouds) # (B, num_points, 3)\n",
    "    projections = torch.stack(projections) # (B, 1, 400)\n",
    "    point_clouds = point_clouds.view(batch_size, -1)\n",
    "    projections = projections.squeeze(1)\n",
    "    print(point_clouds.shape, projections.shape)\n",
    "    break"
   ]
  },
  {
   "cell_type": "code",
   "execution_count": 49,
   "metadata": {},
   "outputs": [],
   "source": [
    "import torch.nn as nn"
   ]
  },
  {
   "cell_type": "code",
   "execution_count": 50,
   "metadata": {},
   "outputs": [],
   "source": [
    "class HiddenLayer(nn.Module):\n",
    "    def __init__(self, dim):\n",
    "        super().__init__()\n",
    "        self.fc = nn.Linear(dim, dim)\n",
    "    \n",
    "    def forward(self, x):\n",
    "        x = self.fc(x)\n",
    "        x = torch.relu(x)\n",
    "        return x\n",
    "    \n",
    "class RAGDecoder(nn.Module):\n",
    "    def __init__(self, in_dim, hidden_dim, out_dim, num_hidden_layers=1, num_points=1024):\n",
    "        super().__init__()\n",
    "        self.fc1 = nn.Linear(in_dim, hidden_dim)\n",
    "        self.fc2 = nn.Sequential(*[HiddenLayer(hidden_dim) for i in range(num_hidden_layers)])\n",
    "        self.fc3 = nn.Linear(hidden_dim, out_dim)\n",
    "        self.num_points = num_points\n",
    "        self.relu = nn.ReLU\n",
    "    \n",
    "    def forward(self, x):\n",
    "        x = self.fc1(x)\n",
    "        x = torch.relu(x)\n",
    "        x = self.fc2(x)\n",
    "        x = self.fc3(x)\n",
    "        return x.view(-1, self.num_points, 3)\n",
    "\n",
    "def chamfer_distance(pc1, pc2):\n",
    "    \"\"\"\n",
    "    Chamfer Distance between two point clouds.\n",
    "    pc1 and pc2 should be of shape (B, N, 3).\n",
    "    \"\"\"\n",
    "    pc1 = pc1.unsqueeze(2)  # Expand to (B, N, 3, 1)\n",
    "    pc2 = pc2.unsqueeze(1)  # Expand to (B, 1, N, 3)\n",
    "    \n",
    "    dist = torch.norm(pc1 - pc2, dim=3)  # Calculate the L2 distance between points\n",
    "    min_dist1 = dist.min(dim=2)[0]  # Min distance along the second axis\n",
    "    min_dist2 = dist.min(dim=1)[0]  # Min distance along the first axis\n",
    "    \n",
    "    # Return the mean Chamfer Distance\n",
    "    return min_dist1.mean() + min_dist2.mean()"
   ]
  },
  {
   "cell_type": "markdown",
   "metadata": {},
   "source": [
    "### Training Code"
   ]
  },
  {
   "cell_type": "code",
   "execution_count": 14,
   "metadata": {},
   "outputs": [
    {
     "name": "stdout",
     "output_type": "stream",
     "text": [
      "torch.Size([8, 1024, 3]) torch.Size([8, 1, 400])\n",
      "torch.Size([8, 3072]) torch.Size([8, 400])\n",
      "torch.Size([8, 3472])\n",
      "Point Cloud Input Shape: torch.Size([8, 3072]), Projections Shape: torch.Size([8, 400])\n",
      "Combined Input Shape: torch.Size([8, 3472])\n",
      "Predicted Input Shape: torch.Size([8, 1024, 3]), Target Shape: torch.Size([8, 1024, 3])\n",
      "Loss: 0.7332887649536133, <class 'torch.Tensor'>\n",
      "Gradient for has shape torch.Size([512, 3472])\n",
      "Gradient for has shape torch.Size([512])\n",
      "Gradient for has shape torch.Size([512, 512])\n",
      "Gradient for has shape torch.Size([512])\n",
      "Gradient for has shape torch.Size([3072, 512])\n",
      "Gradient for has shape torch.Size([3072])\n"
     ]
    }
   ],
   "source": [
    "dataset = RAGDataset(data_dict, dataset_path, pc_dir)\n",
    "dataloader = DataLoader(dataset, batch_size=batch_size, shuffle=True)\n",
    "\n",
    "B = 8  # Batch size\n",
    "num_points = 1024  # Number of points in the point cloud\n",
    "in_dim = 400 + num_points * 3  # Input dimension (projection + flattened point cloud)\n",
    "hidden_dim = 512  # Hidden layer size\n",
    "out_dim = num_points * 3  # Output dimension (for point cloud with 3 coordinates per point)\n",
    "modality_choices = ['text', 'img', 'pc']\n",
    "\n",
    "rag_decoder = RAGDecoder(in_dim, hidden_dim, out_dim)\n",
    "optimizer = torch.optim.Adam(rag_decoder.parameters(), lr=1e-4)\n",
    "\n",
    "# Iterate through the DataLoader\n",
    "\n",
    "for batch in dataloader:\n",
    "    point_clouds = []\n",
    "    projections = []\n",
    "    target_point_clouds = batch['target_pc'].to(dtype=torch.float32)\n",
    "    for i in range(batch_size):\n",
    "        # idx, text_proj, img_proj, pc_proj, category = batch['index'][i], batch['text_proj'][i], batch['img_proj'][i], batch['pc_proj'][i], batch['category'][i]\n",
    "        # print(idx, text_proj.shape, img_proj.shape, pc_proj.shape, category)\n",
    "\n",
    "        # Choose one random projection to use\n",
    "        choice = random.choice(modality_choices)\n",
    "        projection = batch[f\"{choice}_proj\"][i]\n",
    "        pc = get_aligned_pc_from_projection(pc_dir, projection, choice, cmr)\n",
    "        # print(pc.shape)\n",
    "        projections.append(projection)\n",
    "        point_clouds.append(pc)\n",
    "\n",
    "    point_clouds = torch.stack(point_clouds) # (B, num_points, 3)\n",
    "    projections = torch.stack(projections) # (B, 1, 400)\n",
    "    print(point_clouds.shape, projections.shape)\n",
    "    point_clouds = point_clouds.view(batch_size, -1)\n",
    "    projections = projections.squeeze(1)\n",
    "    print(point_clouds.shape, projections.shape)\n",
    "    combined_input = torch.concat((projections, point_clouds), dim=1)\n",
    "    combined_input = combined_input.to(dtype=torch.float32)\n",
    "    print(combined_input.shape)\n",
    "    pred_point_clouds = rag_decoder(combined_input)\n",
    "    loss = chamfer_distance(pred_point_clouds, target_point_clouds)\n",
    "\n",
    "    print(f\"Point Cloud Input Shape: {point_clouds.shape}, Projections Shape: {projections.shape}\")\n",
    "    print(f\"Combined Input Shape: {combined_input.shape}\")\n",
    "    print(f\"Predicted Input Shape: {pred_point_clouds.shape}, Target Shape: {target_point_clouds.shape}\")\n",
    "    print(f\"Loss: {loss}, {type(loss)}\")\n",
    "\n",
    "    optimizer.zero_grad()\n",
    "    loss.backward()\n",
    "\n",
    "    #\"\"\"\n",
    "    for param in rag_decoder.parameters():\n",
    "        if param.grad is None:\n",
    "            print(f\"Gradient is None for parameter: {param}\")\n",
    "        else:\n",
    "            print(f\"Gradient for has shape {param.grad.shape}\")\n",
    "    \n",
    "    #\"\"\"\n",
    "    \n",
    "    optimizer.step()\n",
    "    break"
   ]
  },
  {
   "cell_type": "markdown",
   "metadata": {},
   "source": [
    "### Using model"
   ]
  },
  {
   "cell_type": "code",
   "execution_count": 18,
   "metadata": {},
   "outputs": [],
   "source": [
    "import matplotlib.pyplot as plt\n",
    "from alignment import *\n",
    "from utils import *\n",
    "from rag import *\n",
    "from dataset import *\n",
    "import time\n",
    "import plotly.graph_objects as go\n",
    "from plotly.subplots import make_subplots"
   ]
  },
  {
   "cell_type": "code",
   "execution_count": null,
   "metadata": {},
   "outputs": [],
   "source": [
    "dataset_path = \"Data/ShapeNetSem/Datasets/subset_template_200.csv\"\n",
    "embed_path = \"Embeddings/ALIGN/subset_template_200.pt\"\n",
    "pc_dir = \"Data/ProcessedData/PointClouds/\"\n",
    "num_points = 1024  # Number of points in the point cloud\n",
    "in_dim = 400 + num_points * 3  # Input dimension (projection + flattened point cloud)\n",
    "hidden_dim = 512  # Hidden layer size\n",
    "out_dim = num_points * 3 "
   ]
  },
  {
   "cell_type": "code",
   "execution_count": 58,
   "metadata": {},
   "outputs": [
    {
     "data": {
      "text/plain": [
       "RAGDecoder(\n",
       "  (fc1): Linear(in_features=3472, out_features=512, bias=True)\n",
       "  (fc2): Sequential(\n",
       "    (0): HiddenLayer(\n",
       "      (fc): Linear(in_features=512, out_features=512, bias=True)\n",
       "    )\n",
       "  )\n",
       "  (fc3): Linear(in_features=512, out_features=3072, bias=True)\n",
       ")"
      ]
     },
     "execution_count": 58,
     "metadata": {},
     "output_type": "execute_result"
    }
   ],
   "source": [
    "rag_decoder = RAGDecoder(in_dim, hidden_dim, out_dim, num_hidden_layers=1)  # Ensure the architecture matches\n",
    "\n",
    "# Load the saved weights\n",
    "checkpoint_path = \"TrainedModels/RAG/Baseline/999.pth\"\n",
    "state_dict = torch.load(checkpoint_path, map_location=torch.device('cpu'))  # Load to CPU\n",
    "rag_decoder.load_state_dict(state_dict)\n",
    "# Set to evaluation mode (if needed)\n",
    "device = \"cuda\" if torch.cuda.is_available() else \"cpu\"\n",
    "rag_decoder.to(device)"
   ]
  },
  {
   "cell_type": "code",
   "execution_count": 59,
   "metadata": {},
   "outputs": [],
   "source": [
    "batch_size = 8\n",
    "cmr = CrossModalRetrival(dataset_path, embed_path)\n",
    "\n",
    "data_dict = torch.load(embed_path)\n",
    "dataset = RAGDataset(data_dict, dataset_path, pc_dir)\n",
    "dataloader = DataLoader(dataset, batch_size=batch_size, shuffle=True)\n",
    "\n",
    "modality_choices = ['text', 'img', 'pc']"
   ]
  },
  {
   "cell_type": "code",
   "execution_count": 60,
   "metadata": {},
   "outputs": [
    {
     "name": "stdout",
     "output_type": "stream",
     "text": [
      "Point Cloud Input Shape: torch.Size([8, 3072]), Projections Shape: torch.Size([8, 400])\n",
      "Point Cloud Input Shape: torch.Size([8, 3072]), Projections Shape: torch.Size([8, 400])\n",
      "Combined Input Shape: torch.Size([8, 3472])\n",
      "Predicted Input Shape: torch.Size([8, 1024, 3]), Target Shape: torch.Size([8, 1024, 3])\n",
      "Loss: 0.418423593044281, <class 'torch.Tensor'>\n"
     ]
    }
   ],
   "source": [
    "with torch.no_grad():\n",
    "    for batch in dataloader:\n",
    "        point_clouds = []\n",
    "        projections = []\n",
    "        target_point_clouds = batch['target_pc'].to(dtype=torch.float32)\n",
    "        categories = []\n",
    "        for i in range(batch_size):\n",
    "            # idx, text_proj, img_proj, pc_proj, category = batch['index'][i], batch['text_proj'][i], batch['img_proj'][i], batch['pc_proj'][i], batch['category'][i]\n",
    "            # print(idx, text_proj.shape, img_proj.shape, pc_proj.shape, category)\n",
    "            categories.append(batch['category'][i])\n",
    "            # Choose one random projection to use\n",
    "            choice = random.choice(modality_choices)\n",
    "            projection = batch[f\"{choice}_proj\"][i]\n",
    "            pc = get_aligned_pc_from_projection(pc_dir, projection, choice, cmr)\n",
    "            # print(pc.shape)\n",
    "            projections.append(projection)\n",
    "            point_clouds.append(pc)\n",
    "\n",
    "        point_clouds = torch.stack(point_clouds) # (B, num_points, 3)\n",
    "        projections = torch.stack(projections) # (B, 1, 400)\n",
    "        point_clouds = point_clouds.view(batch_size, -1)\n",
    "        projections = projections.squeeze(1)\n",
    "        print(f\"Point Cloud Input Shape: {point_clouds.shape}, Projections Shape: {projections.shape}\")\n",
    "        \n",
    "        combined_input = torch.concat((projections, point_clouds), dim=1)\n",
    "        combined_input = combined_input.to(dtype=torch.float32)\n",
    "        pred_point_clouds = rag_decoder(combined_input)\n",
    "        loss = chamfer_distance(pred_point_clouds, target_point_clouds)\n",
    "        #\"\"\"\n",
    "        print(f\"Point Cloud Input Shape: {point_clouds.shape}, Projections Shape: {projections.shape}\")\n",
    "        print(f\"Combined Input Shape: {combined_input.shape}\")\n",
    "        print(f\"Predicted Input Shape: {pred_point_clouds.shape}, Target Shape: {target_point_clouds.shape}\")\n",
    "        print(f\"Loss: {loss}, {type(loss)}\")\n",
    "        #\"\"\"\n",
    "        break"
   ]
  },
  {
   "cell_type": "code",
   "execution_count": 61,
   "metadata": {},
   "outputs": [
    {
     "data": {
      "text/plain": [
       "(torch.Size([8, 1024, 3]),\n",
       " torch.Size([8, 1024, 3]),\n",
       " ['Table,CoffeeTable',\n",
       "  'Table,DiningTable,_AttributesTrain',\n",
       "  'Table,DiningTable,_StanfordSceneDBModels,RoundTable',\n",
       "  '_StanfordSceneDBModels,PillBottle',\n",
       "  'DrinkingUtensil,WineGlass',\n",
       "  'Table,EndTable,_StanfordSceneDBModels,RoundTable',\n",
       "  'PersonStanding',\n",
       "  'ChestOfDrawers,Nightstand'])"
      ]
     },
     "execution_count": 61,
     "metadata": {},
     "output_type": "execute_result"
    }
   ],
   "source": [
    "pred_point_clouds.shape, target_point_clouds.shape, categories"
   ]
  },
  {
   "cell_type": "code",
   "execution_count": 65,
   "metadata": {},
   "outputs": [
    {
     "data": {
      "application/vnd.plotly.v1+json": {
       "config": {
        "plotlyServerURL": "https://plot.ly"
       },
       "data": [
        {
         "marker": {
          "color": "blue",
          "size": 5
         },
         "mode": "markers",
         "name": "Predicted",
         "scene": "scene",
         "type": "scatter3d",
         "x": {
          "bdata": "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",
          "dtype": "f4"
         },
         "y": {
          "bdata": "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",
          "dtype": "f4"
         },
         "z": {
          "bdata": "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",
          "dtype": "f4"
         }
        },
        {
         "marker": {
          "color": "red",
          "size": 5
         },
         "mode": "markers",
         "name": "Actual",
         "scene": "scene2",
         "type": "scatter3d",
         "x": {
          "bdata": "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",
          "dtype": "f4"
         },
         "y": {
          "bdata": "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",
          "dtype": "f4"
         },
         "z": {
          "bdata": "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",
          "dtype": "f4"
         }
        }
       ],
       "layout": {
        "annotations": [
         {
          "font": {
           "size": 16
          },
          "showarrow": false,
          "text": "Predicted Point Cloud",
          "x": 0.225,
          "xanchor": "center",
          "xref": "paper",
          "y": 1,
          "yanchor": "bottom",
          "yref": "paper"
         },
         {
          "font": {
           "size": 16
          },
          "showarrow": false,
          "text": "Actual Point Cloud",
          "x": 0.775,
          "xanchor": "center",
          "xref": "paper",
          "y": 1,
          "yanchor": "bottom",
          "yref": "paper"
         }
        ],
        "scene": {
         "domain": {
          "x": [
           0,
           0.45
          ],
          "y": [
           0,
           1
          ]
         },
         "xaxis": {
          "title": {
           "text": "X"
          }
         },
         "yaxis": {
          "title": {
           "text": "Y"
          }
         },
         "zaxis": {
          "title": {
           "text": "Z"
          }
         }
        },
        "scene2": {
         "domain": {
          "x": [
           0.55,
           1
          ],
          "y": [
           0,
           1
          ]
         },
         "xaxis": {
          "title": {
           "text": "X"
          }
         },
         "yaxis": {
          "title": {
           "text": "Y"
          }
         },
         "zaxis": {
          "title": {
           "text": "Z"
          }
         }
        },
        "showlegend": true,
        "template": {
         "data": {
          "bar": [
           {
            "error_x": {
             "color": "#2a3f5f"
            },
            "error_y": {
             "color": "#2a3f5f"
            },
            "marker": {
             "line": {
              "color": "#E5ECF6",
              "width": 0.5
             },
             "pattern": {
              "fillmode": "overlay",
              "size": 10,
              "solidity": 0.2
             }
            },
            "type": "bar"
           }
          ],
          "barpolar": [
           {
            "marker": {
             "line": {
              "color": "#E5ECF6",
              "width": 0.5
             },
             "pattern": {
              "fillmode": "overlay",
              "size": 10,
              "solidity": 0.2
             }
            },
            "type": "barpolar"
           }
          ],
          "carpet": [
           {
            "aaxis": {
             "endlinecolor": "#2a3f5f",
             "gridcolor": "white",
             "linecolor": "white",
             "minorgridcolor": "white",
             "startlinecolor": "#2a3f5f"
            },
            "baxis": {
             "endlinecolor": "#2a3f5f",
             "gridcolor": "white",
             "linecolor": "white",
             "minorgridcolor": "white",
             "startlinecolor": "#2a3f5f"
            },
            "type": "carpet"
           }
          ],
          "choropleth": [
           {
            "colorbar": {
             "outlinewidth": 0,
             "ticks": ""
            },
            "type": "choropleth"
           }
          ],
          "contour": [
           {
            "colorbar": {
             "outlinewidth": 0,
             "ticks": ""
            },
            "colorscale": [
             [
              0,
              "#0d0887"
             ],
             [
              0.1111111111111111,
              "#46039f"
             ],
             [
              0.2222222222222222,
              "#7201a8"
             ],
             [
              0.3333333333333333,
              "#9c179e"
             ],
             [
              0.4444444444444444,
              "#bd3786"
             ],
             [
              0.5555555555555556,
              "#d8576b"
             ],
             [
              0.6666666666666666,
              "#ed7953"
             ],
             [
              0.7777777777777778,
              "#fb9f3a"
             ],
             [
              0.8888888888888888,
              "#fdca26"
             ],
             [
              1,
              "#f0f921"
             ]
            ],
            "type": "contour"
           }
          ],
          "contourcarpet": [
           {
            "colorbar": {
             "outlinewidth": 0,
             "ticks": ""
            },
            "type": "contourcarpet"
           }
          ],
          "heatmap": [
           {
            "colorbar": {
             "outlinewidth": 0,
             "ticks": ""
            },
            "colorscale": [
             [
              0,
              "#0d0887"
             ],
             [
              0.1111111111111111,
              "#46039f"
             ],
             [
              0.2222222222222222,
              "#7201a8"
             ],
             [
              0.3333333333333333,
              "#9c179e"
             ],
             [
              0.4444444444444444,
              "#bd3786"
             ],
             [
              0.5555555555555556,
              "#d8576b"
             ],
             [
              0.6666666666666666,
              "#ed7953"
             ],
             [
              0.7777777777777778,
              "#fb9f3a"
             ],
             [
              0.8888888888888888,
              "#fdca26"
             ],
             [
              1,
              "#f0f921"
             ]
            ],
            "type": "heatmap"
           }
          ],
          "histogram": [
           {
            "marker": {
             "pattern": {
              "fillmode": "overlay",
              "size": 10,
              "solidity": 0.2
             }
            },
            "type": "histogram"
           }
          ],
          "histogram2d": [
           {
            "colorbar": {
             "outlinewidth": 0,
             "ticks": ""
            },
            "colorscale": [
             [
              0,
              "#0d0887"
             ],
             [
              0.1111111111111111,
              "#46039f"
             ],
             [
              0.2222222222222222,
              "#7201a8"
             ],
             [
              0.3333333333333333,
              "#9c179e"
             ],
             [
              0.4444444444444444,
              "#bd3786"
             ],
             [
              0.5555555555555556,
              "#d8576b"
             ],
             [
              0.6666666666666666,
              "#ed7953"
             ],
             [
              0.7777777777777778,
              "#fb9f3a"
             ],
             [
              0.8888888888888888,
              "#fdca26"
             ],
             [
              1,
              "#f0f921"
             ]
            ],
            "type": "histogram2d"
           }
          ],
          "histogram2dcontour": [
           {
            "colorbar": {
             "outlinewidth": 0,
             "ticks": ""
            },
            "colorscale": [
             [
              0,
              "#0d0887"
             ],
             [
              0.1111111111111111,
              "#46039f"
             ],
             [
              0.2222222222222222,
              "#7201a8"
             ],
             [
              0.3333333333333333,
              "#9c179e"
             ],
             [
              0.4444444444444444,
              "#bd3786"
             ],
             [
              0.5555555555555556,
              "#d8576b"
             ],
             [
              0.6666666666666666,
              "#ed7953"
             ],
             [
              0.7777777777777778,
              "#fb9f3a"
             ],
             [
              0.8888888888888888,
              "#fdca26"
             ],
             [
              1,
              "#f0f921"
             ]
            ],
            "type": "histogram2dcontour"
           }
          ],
          "mesh3d": [
           {
            "colorbar": {
             "outlinewidth": 0,
             "ticks": ""
            },
            "type": "mesh3d"
           }
          ],
          "parcoords": [
           {
            "line": {
             "colorbar": {
              "outlinewidth": 0,
              "ticks": ""
             }
            },
            "type": "parcoords"
           }
          ],
          "pie": [
           {
            "automargin": true,
            "type": "pie"
           }
          ],
          "scatter": [
           {
            "fillpattern": {
             "fillmode": "overlay",
             "size": 10,
             "solidity": 0.2
            },
            "type": "scatter"
           }
          ],
          "scatter3d": [
           {
            "line": {
             "colorbar": {
              "outlinewidth": 0,
              "ticks": ""
             }
            },
            "marker": {
             "colorbar": {
              "outlinewidth": 0,
              "ticks": ""
             }
            },
            "type": "scatter3d"
           }
          ],
          "scattercarpet": [
           {
            "marker": {
             "colorbar": {
              "outlinewidth": 0,
              "ticks": ""
             }
            },
            "type": "scattercarpet"
           }
          ],
          "scattergeo": [
           {
            "marker": {
             "colorbar": {
              "outlinewidth": 0,
              "ticks": ""
             }
            },
            "type": "scattergeo"
           }
          ],
          "scattergl": [
           {
            "marker": {
             "colorbar": {
              "outlinewidth": 0,
              "ticks": ""
             }
            },
            "type": "scattergl"
           }
          ],
          "scattermap": [
           {
            "marker": {
             "colorbar": {
              "outlinewidth": 0,
              "ticks": ""
             }
            },
            "type": "scattermap"
           }
          ],
          "scattermapbox": [
           {
            "marker": {
             "colorbar": {
              "outlinewidth": 0,
              "ticks": ""
             }
            },
            "type": "scattermapbox"
           }
          ],
          "scatterpolar": [
           {
            "marker": {
             "colorbar": {
              "outlinewidth": 0,
              "ticks": ""
             }
            },
            "type": "scatterpolar"
           }
          ],
          "scatterpolargl": [
           {
            "marker": {
             "colorbar": {
              "outlinewidth": 0,
              "ticks": ""
             }
            },
            "type": "scatterpolargl"
           }
          ],
          "scatterternary": [
           {
            "marker": {
             "colorbar": {
              "outlinewidth": 0,
              "ticks": ""
             }
            },
            "type": "scatterternary"
           }
          ],
          "surface": [
           {
            "colorbar": {
             "outlinewidth": 0,
             "ticks": ""
            },
            "colorscale": [
             [
              0,
              "#0d0887"
             ],
             [
              0.1111111111111111,
              "#46039f"
             ],
             [
              0.2222222222222222,
              "#7201a8"
             ],
             [
              0.3333333333333333,
              "#9c179e"
             ],
             [
              0.4444444444444444,
              "#bd3786"
             ],
             [
              0.5555555555555556,
              "#d8576b"
             ],
             [
              0.6666666666666666,
              "#ed7953"
             ],
             [
              0.7777777777777778,
              "#fb9f3a"
             ],
             [
              0.8888888888888888,
              "#fdca26"
             ],
             [
              1,
              "#f0f921"
             ]
            ],
            "type": "surface"
           }
          ],
          "table": [
           {
            "cells": {
             "fill": {
              "color": "#EBF0F8"
             },
             "line": {
              "color": "white"
             }
            },
            "header": {
             "fill": {
              "color": "#C8D4E3"
             },
             "line": {
              "color": "white"
             }
            },
            "type": "table"
           }
          ]
         },
         "layout": {
          "annotationdefaults": {
           "arrowcolor": "#2a3f5f",
           "arrowhead": 0,
           "arrowwidth": 1
          },
          "autotypenumbers": "strict",
          "coloraxis": {
           "colorbar": {
            "outlinewidth": 0,
            "ticks": ""
           }
          },
          "colorscale": {
           "diverging": [
            [
             0,
             "#8e0152"
            ],
            [
             0.1,
             "#c51b7d"
            ],
            [
             0.2,
             "#de77ae"
            ],
            [
             0.3,
             "#f1b6da"
            ],
            [
             0.4,
             "#fde0ef"
            ],
            [
             0.5,
             "#f7f7f7"
            ],
            [
             0.6,
             "#e6f5d0"
            ],
            [
             0.7,
             "#b8e186"
            ],
            [
             0.8,
             "#7fbc41"
            ],
            [
             0.9,
             "#4d9221"
            ],
            [
             1,
             "#276419"
            ]
           ],
           "sequential": [
            [
             0,
             "#0d0887"
            ],
            [
             0.1111111111111111,
             "#46039f"
            ],
            [
             0.2222222222222222,
             "#7201a8"
            ],
            [
             0.3333333333333333,
             "#9c179e"
            ],
            [
             0.4444444444444444,
             "#bd3786"
            ],
            [
             0.5555555555555556,
             "#d8576b"
            ],
            [
             0.6666666666666666,
             "#ed7953"
            ],
            [
             0.7777777777777778,
             "#fb9f3a"
            ],
            [
             0.8888888888888888,
             "#fdca26"
            ],
            [
             1,
             "#f0f921"
            ]
           ],
           "sequentialminus": [
            [
             0,
             "#0d0887"
            ],
            [
             0.1111111111111111,
             "#46039f"
            ],
            [
             0.2222222222222222,
             "#7201a8"
            ],
            [
             0.3333333333333333,
             "#9c179e"
            ],
            [
             0.4444444444444444,
             "#bd3786"
            ],
            [
             0.5555555555555556,
             "#d8576b"
            ],
            [
             0.6666666666666666,
             "#ed7953"
            ],
            [
             0.7777777777777778,
             "#fb9f3a"
            ],
            [
             0.8888888888888888,
             "#fdca26"
            ],
            [
             1,
             "#f0f921"
            ]
           ]
          },
          "colorway": [
           "#636efa",
           "#EF553B",
           "#00cc96",
           "#ab63fa",
           "#FFA15A",
           "#19d3f3",
           "#FF6692",
           "#B6E880",
           "#FF97FF",
           "#FECB52"
          ],
          "font": {
           "color": "#2a3f5f"
          },
          "geo": {
           "bgcolor": "white",
           "lakecolor": "white",
           "landcolor": "#E5ECF6",
           "showlakes": true,
           "showland": true,
           "subunitcolor": "white"
          },
          "hoverlabel": {
           "align": "left"
          },
          "hovermode": "closest",
          "mapbox": {
           "style": "light"
          },
          "paper_bgcolor": "white",
          "plot_bgcolor": "#E5ECF6",
          "polar": {
           "angularaxis": {
            "gridcolor": "white",
            "linecolor": "white",
            "ticks": ""
           },
           "bgcolor": "#E5ECF6",
           "radialaxis": {
            "gridcolor": "white",
            "linecolor": "white",
            "ticks": ""
           }
          },
          "scene": {
           "xaxis": {
            "backgroundcolor": "#E5ECF6",
            "gridcolor": "white",
            "gridwidth": 2,
            "linecolor": "white",
            "showbackground": true,
            "ticks": "",
            "zerolinecolor": "white"
           },
           "yaxis": {
            "backgroundcolor": "#E5ECF6",
            "gridcolor": "white",
            "gridwidth": 2,
            "linecolor": "white",
            "showbackground": true,
            "ticks": "",
            "zerolinecolor": "white"
           },
           "zaxis": {
            "backgroundcolor": "#E5ECF6",
            "gridcolor": "white",
            "gridwidth": 2,
            "linecolor": "white",
            "showbackground": true,
            "ticks": "",
            "zerolinecolor": "white"
           }
          },
          "shapedefaults": {
           "line": {
            "color": "#2a3f5f"
           }
          },
          "ternary": {
           "aaxis": {
            "gridcolor": "white",
            "linecolor": "white",
            "ticks": ""
           },
           "baxis": {
            "gridcolor": "white",
            "linecolor": "white",
            "ticks": ""
           },
           "bgcolor": "#E5ECF6",
           "caxis": {
            "gridcolor": "white",
            "linecolor": "white",
            "ticks": ""
           }
          },
          "title": {
           "x": 0.05
          },
          "xaxis": {
           "automargin": true,
           "gridcolor": "white",
           "linecolor": "white",
           "ticks": "",
           "title": {
            "standoff": 15
           },
           "zerolinecolor": "white",
           "zerolinewidth": 2
          },
          "yaxis": {
           "automargin": true,
           "gridcolor": "white",
           "linecolor": "white",
           "ticks": "",
           "title": {
            "standoff": 15
           },
           "zerolinecolor": "white",
           "zerolinewidth": 2
          }
         }
        },
        "title": {
         "text": "Predicted vs Actual Point Clouds Table,CoffeeTable"
        }
       }
      }
     },
     "metadata": {},
     "output_type": "display_data"
    }
   ],
   "source": [
    "num = random.choice(list(range(0, batch_size)))\n",
    "predicted_point_cloud = pred_point_clouds[num].numpy()\n",
    "actual_point_cloud = target_point_clouds[num].numpy()\n",
    "\n",
    "# Create 3D scatter plots for predicted and actual point clouds\n",
    "predicted_scatter = go.Scatter3d(\n",
    "    x=predicted_point_cloud[:, 0],\n",
    "    y=predicted_point_cloud[:, 1],\n",
    "    z=predicted_point_cloud[:, 2],\n",
    "    mode='markers',\n",
    "    marker=dict(size=5, color='blue'),\n",
    "    name=\"Predicted\"\n",
    ")\n",
    "\n",
    "actual_scatter = go.Scatter3d(\n",
    "    x=actual_point_cloud[:, 0],\n",
    "    y=actual_point_cloud[:, 1],\n",
    "    z=actual_point_cloud[:, 2],\n",
    "    mode='markers',\n",
    "    marker=dict(size=5, color='red'),\n",
    "    name=\"Actual\"\n",
    ")\n",
    "\n",
    "# Create the subplots: 1 row, 2 columns\n",
    "fig = make_subplots(\n",
    "    rows=1, cols=2,\n",
    "    subplot_titles=(\"Predicted Point Cloud\", \"Actual Point Cloud\"),\n",
    "    specs=[[{'type': 'scatter3d'}, {'type': 'scatter3d'}]]\n",
    ")\n",
    "\n",
    "# Add the scatter plots to the subplots\n",
    "fig.add_trace(predicted_scatter, row=1, col=1)\n",
    "fig.add_trace(actual_scatter, row=1, col=2)\n",
    "\n",
    "# Update layout with axis titles and a main title\n",
    "fig.update_layout(\n",
    "    title=f\"Predicted vs Actual Point Clouds {categories[0]}\",\n",
    "    scene=dict(\n",
    "        xaxis_title=\"X\",\n",
    "        yaxis_title=\"Y\",\n",
    "        zaxis_title=\"Z\"\n",
    "    ),\n",
    "    scene2=dict(\n",
    "        xaxis_title=\"X\",\n",
    "        yaxis_title=\"Y\",\n",
    "        zaxis_title=\"Z\"\n",
    "    ),\n",
    "    showlegend=True\n",
    ")\n",
    "\n",
    "# Show the figure in an interactive window\n",
    "fig.show()\n"
   ]
  },
  {
   "cell_type": "code",
   "execution_count": 27,
   "metadata": {},
   "outputs": [],
   "source": [
    "# check to make sure dataloader of RAG is loading in the correct projections only and that the category is right check using cmr"
   ]
  },
  {
   "cell_type": "markdown",
   "metadata": {},
   "source": [
    "## User Input"
   ]
  },
  {
   "cell_type": "code",
   "execution_count": 5,
   "metadata": {},
   "outputs": [],
   "source": [
    "from alignment import *\n",
    "from rag import *\n",
    "import plotly.graph_objects as go\n",
    "from plotly.subplots import make_subplots"
   ]
  },
  {
   "cell_type": "code",
   "execution_count": 6,
   "metadata": {},
   "outputs": [
    {
     "name": "stdout",
     "output_type": "stream",
     "text": [
      "Dinov2 Loaded Successfully!\n",
      "CLIP Model Loaded Successfully!\n",
      "Point CLIP Model Loaded Successfully!\n",
      "ALIGN Model Loaded Successfully!\n",
      "RAG Model Loaded succesfully!\n"
     ]
    }
   ],
   "source": [
    "dataset_path = \"Data/ShapeNetSem/Datasets/subset_template_200.csv\"\n",
    "embed_path = \"Embeddings/ALIGN/subset_template_200.pt\"\n",
    "pc_dir = \"Data/ProcessedData/PointClouds/\"\n",
    "align_path = \"TrainedModels/ALIGN/Baseline/150.pth\"\n",
    "rag_path = \"TrainedModels/RAG/four_hidden/1500.pth\"\n",
    "\n",
    "cmr = CrossModalRetrival(dataset_path, embed_path)\n",
    "data_dict = torch.load(embed_path)\n",
    "enc = EncodeUserInput(align_path=\"TrainedModels/ALIGN/Baseline/150.pth\")\n",
    "rag_decoder = load_rag(rag_path)"
   ]
  },
  {
   "cell_type": "code",
   "execution_count": 24,
   "metadata": {},
   "outputs": [
    {
     "name": "stdout",
     "output_type": "stream",
     "text": [
      "torch.Size([1, 400]) torch.Size([1024, 3])\n",
      "torch.Size([1, 400]) torch.Size([1, 3072])\n",
      "torch.Size([1, 3472])\n"
     ]
    },
    {
     "data": {
      "application/vnd.plotly.v1+json": {
       "config": {
        "plotlyServerURL": "https://plot.ly"
       },
       "data": [
        {
         "marker": {
          "color": "blue",
          "size": 5
         },
         "mode": "markers",
         "name": "Predicted",
         "scene": "scene",
         "type": "scatter3d",
         "x": {
          "bdata": "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",
          "dtype": "f4"
         },
         "y": {
          "bdata": "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",
          "dtype": "f4"
         },
         "z": {
          "bdata": "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",
          "dtype": "f4"
         }
        },
        {
         "marker": {
          "color": "red",
          "size": 5
         },
         "mode": "markers",
         "name": "Actual",
         "scene": "scene2",
         "type": "scatter3d",
         "x": {
          "bdata": "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",
          "dtype": "f8"
         },
         "y": {
          "bdata": "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",
          "dtype": "f8"
         },
         "z": {
          "bdata": "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",
          "dtype": "f8"
         }
        }
       ],
       "layout": {
        "annotations": [
         {
          "font": {
           "size": 16
          },
          "showarrow": false,
          "text": "Predicted Point Cloud",
          "x": 0.225,
          "xanchor": "center",
          "xref": "paper",
          "y": 1,
          "yanchor": "bottom",
          "yref": "paper"
         },
         {
          "font": {
           "size": 16
          },
          "showarrow": false,
          "text": "Actual Point Cloud",
          "x": 0.775,
          "xanchor": "center",
          "xref": "paper",
          "y": 1,
          "yanchor": "bottom",
          "yref": "paper"
         }
        ],
        "scene": {
         "domain": {
          "x": [
           0,
           0.45
          ],
          "y": [
           0,
           1
          ]
         },
         "xaxis": {
          "title": {
           "text": "X"
          }
         },
         "yaxis": {
          "title": {
           "text": "Y"
          }
         },
         "zaxis": {
          "title": {
           "text": "Z"
          }
         }
        },
        "scene2": {
         "domain": {
          "x": [
           0.55,
           1
          ],
          "y": [
           0,
           1
          ]
         },
         "xaxis": {
          "title": {
           "text": "X"
          }
         },
         "yaxis": {
          "title": {
           "text": "Y"
          }
         },
         "zaxis": {
          "title": {
           "text": "Z"
          }
         }
        },
        "showlegend": true,
        "template": {
         "data": {
          "bar": [
           {
            "error_x": {
             "color": "#2a3f5f"
            },
            "error_y": {
             "color": "#2a3f5f"
            },
            "marker": {
             "line": {
              "color": "#E5ECF6",
              "width": 0.5
             },
             "pattern": {
              "fillmode": "overlay",
              "size": 10,
              "solidity": 0.2
             }
            },
            "type": "bar"
           }
          ],
          "barpolar": [
           {
            "marker": {
             "line": {
              "color": "#E5ECF6",
              "width": 0.5
             },
             "pattern": {
              "fillmode": "overlay",
              "size": 10,
              "solidity": 0.2
             }
            },
            "type": "barpolar"
           }
          ],
          "carpet": [
           {
            "aaxis": {
             "endlinecolor": "#2a3f5f",
             "gridcolor": "white",
             "linecolor": "white",
             "minorgridcolor": "white",
             "startlinecolor": "#2a3f5f"
            },
            "baxis": {
             "endlinecolor": "#2a3f5f",
             "gridcolor": "white",
             "linecolor": "white",
             "minorgridcolor": "white",
             "startlinecolor": "#2a3f5f"
            },
            "type": "carpet"
           }
          ],
          "choropleth": [
           {
            "colorbar": {
             "outlinewidth": 0,
             "ticks": ""
            },
            "type": "choropleth"
           }
          ],
          "contour": [
           {
            "colorbar": {
             "outlinewidth": 0,
             "ticks": ""
            },
            "colorscale": [
             [
              0,
              "#0d0887"
             ],
             [
              0.1111111111111111,
              "#46039f"
             ],
             [
              0.2222222222222222,
              "#7201a8"
             ],
             [
              0.3333333333333333,
              "#9c179e"
             ],
             [
              0.4444444444444444,
              "#bd3786"
             ],
             [
              0.5555555555555556,
              "#d8576b"
             ],
             [
              0.6666666666666666,
              "#ed7953"
             ],
             [
              0.7777777777777778,
              "#fb9f3a"
             ],
             [
              0.8888888888888888,
              "#fdca26"
             ],
             [
              1,
              "#f0f921"
             ]
            ],
            "type": "contour"
           }
          ],
          "contourcarpet": [
           {
            "colorbar": {
             "outlinewidth": 0,
             "ticks": ""
            },
            "type": "contourcarpet"
           }
          ],
          "heatmap": [
           {
            "colorbar": {
             "outlinewidth": 0,
             "ticks": ""
            },
            "colorscale": [
             [
              0,
              "#0d0887"
             ],
             [
              0.1111111111111111,
              "#46039f"
             ],
             [
              0.2222222222222222,
              "#7201a8"
             ],
             [
              0.3333333333333333,
              "#9c179e"
             ],
             [
              0.4444444444444444,
              "#bd3786"
             ],
             [
              0.5555555555555556,
              "#d8576b"
             ],
             [
              0.6666666666666666,
              "#ed7953"
             ],
             [
              0.7777777777777778,
              "#fb9f3a"
             ],
             [
              0.8888888888888888,
              "#fdca26"
             ],
             [
              1,
              "#f0f921"
             ]
            ],
            "type": "heatmap"
           }
          ],
          "histogram": [
           {
            "marker": {
             "pattern": {
              "fillmode": "overlay",
              "size": 10,
              "solidity": 0.2
             }
            },
            "type": "histogram"
           }
          ],
          "histogram2d": [
           {
            "colorbar": {
             "outlinewidth": 0,
             "ticks": ""
            },
            "colorscale": [
             [
              0,
              "#0d0887"
             ],
             [
              0.1111111111111111,
              "#46039f"
             ],
             [
              0.2222222222222222,
              "#7201a8"
             ],
             [
              0.3333333333333333,
              "#9c179e"
             ],
             [
              0.4444444444444444,
              "#bd3786"
             ],
             [
              0.5555555555555556,
              "#d8576b"
             ],
             [
              0.6666666666666666,
              "#ed7953"
             ],
             [
              0.7777777777777778,
              "#fb9f3a"
             ],
             [
              0.8888888888888888,
              "#fdca26"
             ],
             [
              1,
              "#f0f921"
             ]
            ],
            "type": "histogram2d"
           }
          ],
          "histogram2dcontour": [
           {
            "colorbar": {
             "outlinewidth": 0,
             "ticks": ""
            },
            "colorscale": [
             [
              0,
              "#0d0887"
             ],
             [
              0.1111111111111111,
              "#46039f"
             ],
             [
              0.2222222222222222,
              "#7201a8"
             ],
             [
              0.3333333333333333,
              "#9c179e"
             ],
             [
              0.4444444444444444,
              "#bd3786"
             ],
             [
              0.5555555555555556,
              "#d8576b"
             ],
             [
              0.6666666666666666,
              "#ed7953"
             ],
             [
              0.7777777777777778,
              "#fb9f3a"
             ],
             [
              0.8888888888888888,
              "#fdca26"
             ],
             [
              1,
              "#f0f921"
             ]
            ],
            "type": "histogram2dcontour"
           }
          ],
          "mesh3d": [
           {
            "colorbar": {
             "outlinewidth": 0,
             "ticks": ""
            },
            "type": "mesh3d"
           }
          ],
          "parcoords": [
           {
            "line": {
             "colorbar": {
              "outlinewidth": 0,
              "ticks": ""
             }
            },
            "type": "parcoords"
           }
          ],
          "pie": [
           {
            "automargin": true,
            "type": "pie"
           }
          ],
          "scatter": [
           {
            "fillpattern": {
             "fillmode": "overlay",
             "size": 10,
             "solidity": 0.2
            },
            "type": "scatter"
           }
          ],
          "scatter3d": [
           {
            "line": {
             "colorbar": {
              "outlinewidth": 0,
              "ticks": ""
             }
            },
            "marker": {
             "colorbar": {
              "outlinewidth": 0,
              "ticks": ""
             }
            },
            "type": "scatter3d"
           }
          ],
          "scattercarpet": [
           {
            "marker": {
             "colorbar": {
              "outlinewidth": 0,
              "ticks": ""
             }
            },
            "type": "scattercarpet"
           }
          ],
          "scattergeo": [
           {
            "marker": {
             "colorbar": {
              "outlinewidth": 0,
              "ticks": ""
             }
            },
            "type": "scattergeo"
           }
          ],
          "scattergl": [
           {
            "marker": {
             "colorbar": {
              "outlinewidth": 0,
              "ticks": ""
             }
            },
            "type": "scattergl"
           }
          ],
          "scattermap": [
           {
            "marker": {
             "colorbar": {
              "outlinewidth": 0,
              "ticks": ""
             }
            },
            "type": "scattermap"
           }
          ],
          "scattermapbox": [
           {
            "marker": {
             "colorbar": {
              "outlinewidth": 0,
              "ticks": ""
             }
            },
            "type": "scattermapbox"
           }
          ],
          "scatterpolar": [
           {
            "marker": {
             "colorbar": {
              "outlinewidth": 0,
              "ticks": ""
             }
            },
            "type": "scatterpolar"
           }
          ],
          "scatterpolargl": [
           {
            "marker": {
             "colorbar": {
              "outlinewidth": 0,
              "ticks": ""
             }
            },
            "type": "scatterpolargl"
           }
          ],
          "scatterternary": [
           {
            "marker": {
             "colorbar": {
              "outlinewidth": 0,
              "ticks": ""
             }
            },
            "type": "scatterternary"
           }
          ],
          "surface": [
           {
            "colorbar": {
             "outlinewidth": 0,
             "ticks": ""
            },
            "colorscale": [
             [
              0,
              "#0d0887"
             ],
             [
              0.1111111111111111,
              "#46039f"
             ],
             [
              0.2222222222222222,
              "#7201a8"
             ],
             [
              0.3333333333333333,
              "#9c179e"
             ],
             [
              0.4444444444444444,
              "#bd3786"
             ],
             [
              0.5555555555555556,
              "#d8576b"
             ],
             [
              0.6666666666666666,
              "#ed7953"
             ],
             [
              0.7777777777777778,
              "#fb9f3a"
             ],
             [
              0.8888888888888888,
              "#fdca26"
             ],
             [
              1,
              "#f0f921"
             ]
            ],
            "type": "surface"
           }
          ],
          "table": [
           {
            "cells": {
             "fill": {
              "color": "#EBF0F8"
             },
             "line": {
              "color": "white"
             }
            },
            "header": {
             "fill": {
              "color": "#C8D4E3"
             },
             "line": {
              "color": "white"
             }
            },
            "type": "table"
           }
          ]
         },
         "layout": {
          "annotationdefaults": {
           "arrowcolor": "#2a3f5f",
           "arrowhead": 0,
           "arrowwidth": 1
          },
          "autotypenumbers": "strict",
          "coloraxis": {
           "colorbar": {
            "outlinewidth": 0,
            "ticks": ""
           }
          },
          "colorscale": {
           "diverging": [
            [
             0,
             "#8e0152"
            ],
            [
             0.1,
             "#c51b7d"
            ],
            [
             0.2,
             "#de77ae"
            ],
            [
             0.3,
             "#f1b6da"
            ],
            [
             0.4,
             "#fde0ef"
            ],
            [
             0.5,
             "#f7f7f7"
            ],
            [
             0.6,
             "#e6f5d0"
            ],
            [
             0.7,
             "#b8e186"
            ],
            [
             0.8,
             "#7fbc41"
            ],
            [
             0.9,
             "#4d9221"
            ],
            [
             1,
             "#276419"
            ]
           ],
           "sequential": [
            [
             0,
             "#0d0887"
            ],
            [
             0.1111111111111111,
             "#46039f"
            ],
            [
             0.2222222222222222,
             "#7201a8"
            ],
            [
             0.3333333333333333,
             "#9c179e"
            ],
            [
             0.4444444444444444,
             "#bd3786"
            ],
            [
             0.5555555555555556,
             "#d8576b"
            ],
            [
             0.6666666666666666,
             "#ed7953"
            ],
            [
             0.7777777777777778,
             "#fb9f3a"
            ],
            [
             0.8888888888888888,
             "#fdca26"
            ],
            [
             1,
             "#f0f921"
            ]
           ],
           "sequentialminus": [
            [
             0,
             "#0d0887"
            ],
            [
             0.1111111111111111,
             "#46039f"
            ],
            [
             0.2222222222222222,
             "#7201a8"
            ],
            [
             0.3333333333333333,
             "#9c179e"
            ],
            [
             0.4444444444444444,
             "#bd3786"
            ],
            [
             0.5555555555555556,
             "#d8576b"
            ],
            [
             0.6666666666666666,
             "#ed7953"
            ],
            [
             0.7777777777777778,
             "#fb9f3a"
            ],
            [
             0.8888888888888888,
             "#fdca26"
            ],
            [
             1,
             "#f0f921"
            ]
           ]
          },
          "colorway": [
           "#636efa",
           "#EF553B",
           "#00cc96",
           "#ab63fa",
           "#FFA15A",
           "#19d3f3",
           "#FF6692",
           "#B6E880",
           "#FF97FF",
           "#FECB52"
          ],
          "font": {
           "color": "#2a3f5f"
          },
          "geo": {
           "bgcolor": "white",
           "lakecolor": "white",
           "landcolor": "#E5ECF6",
           "showlakes": true,
           "showland": true,
           "subunitcolor": "white"
          },
          "hoverlabel": {
           "align": "left"
          },
          "hovermode": "closest",
          "mapbox": {
           "style": "light"
          },
          "paper_bgcolor": "white",
          "plot_bgcolor": "#E5ECF6",
          "polar": {
           "angularaxis": {
            "gridcolor": "white",
            "linecolor": "white",
            "ticks": ""
           },
           "bgcolor": "#E5ECF6",
           "radialaxis": {
            "gridcolor": "white",
            "linecolor": "white",
            "ticks": ""
           }
          },
          "scene": {
           "xaxis": {
            "backgroundcolor": "#E5ECF6",
            "gridcolor": "white",
            "gridwidth": 2,
            "linecolor": "white",
            "showbackground": true,
            "ticks": "",
            "zerolinecolor": "white"
           },
           "yaxis": {
            "backgroundcolor": "#E5ECF6",
            "gridcolor": "white",
            "gridwidth": 2,
            "linecolor": "white",
            "showbackground": true,
            "ticks": "",
            "zerolinecolor": "white"
           },
           "zaxis": {
            "backgroundcolor": "#E5ECF6",
            "gridcolor": "white",
            "gridwidth": 2,
            "linecolor": "white",
            "showbackground": true,
            "ticks": "",
            "zerolinecolor": "white"
           }
          },
          "shapedefaults": {
           "line": {
            "color": "#2a3f5f"
           }
          },
          "ternary": {
           "aaxis": {
            "gridcolor": "white",
            "linecolor": "white",
            "ticks": ""
           },
           "baxis": {
            "gridcolor": "white",
            "linecolor": "white",
            "ticks": ""
           },
           "bgcolor": "#E5ECF6",
           "caxis": {
            "gridcolor": "white",
            "linecolor": "white",
            "ticks": ""
           }
          },
          "title": {
           "x": 0.05
          },
          "xaxis": {
           "automargin": true,
           "gridcolor": "white",
           "linecolor": "white",
           "ticks": "",
           "title": {
            "standoff": 15
           },
           "zerolinecolor": "white",
           "zerolinewidth": 2
          },
          "yaxis": {
           "automargin": true,
           "gridcolor": "white",
           "linecolor": "white",
           "ticks": "",
           "title": {
            "standoff": 15
           },
           "zerolinecolor": "white",
           "zerolinewidth": 2
          }
         }
        },
        "title": {
         "text": "Predicted vs Reference Point Cloud"
        }
       }
      }
     },
     "metadata": {},
     "output_type": "display_data"
    }
   ],
   "source": [
    "prompt = \"glass\"\n",
    "generate_rag_output_website(pc_dir, prompt, 'text', enc, cmr, rag_decoder)"
   ]
  },
  {
   "cell_type": "code",
   "execution_count": null,
   "metadata": {},
   "outputs": [],
   "source": []
  }
 ],
 "metadata": {
  "kernelspec": {
   "display_name": "env",
   "language": "python",
   "name": "python3"
  },
  "language_info": {
   "codemirror_mode": {
    "name": "ipython",
    "version": 3
   },
   "file_extension": ".py",
   "mimetype": "text/x-python",
   "name": "python",
   "nbconvert_exporter": "python",
   "pygments_lexer": "ipython3",
   "version": "3.12.4"
  }
 },
 "nbformat": 4,
 "nbformat_minor": 2
}
