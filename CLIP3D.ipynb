{
 "cells": [
  {
   "cell_type": "code",
   "execution_count": 2,
   "metadata": {},
   "outputs": [
    {
     "name": "stderr",
     "output_type": "stream",
     "text": [
      "/Users/rishabhrao/Documents/VSCode/multimodal-3d-gen/env/lib/python3.12/site-packages/tqdm/auto.py:21: TqdmWarning: IProgress not found. Please update jupyter and ipywidgets. See https://ipywidgets.readthedocs.io/en/stable/user_install.html\n",
      "  from .autonotebook import tqdm as notebook_tqdm\n"
     ]
    }
   ],
   "source": [
    "import torch\n",
    "from torch.utils.data import DataLoader\n",
    "import os\n",
    "import numpy as np\n",
    "from PIL import Image\n",
    "import open3d as o3d\n",
    "from dataset import *"
   ]
  },
  {
   "cell_type": "code",
   "execution_count": 3,
   "metadata": {},
   "outputs": [
    {
     "name": "stdout",
     "output_type": "stream",
     "text": [
      "Dataset size: 200 samples\n"
     ]
    }
   ],
   "source": [
    "# Define paths\n",
    "dataset_path = \"Data/ShapeNetSem/Datasets/subset_template_200.csv\"  # CSV file containing mesh IDs\n",
    "pc_dir = \"Data/ProcessedData/PointClouds1024\"  # Directory containing .npy files\n",
    "\n",
    "# Initialize dataset\n",
    "dataset = PCModalityDataset(dataset_path, pc_dir)\n",
    "\n",
    "# Initialize DataLoader\n",
    "dataloader = DataLoader(dataset, batch_size=1, shuffle=False)\n",
    "\n",
    "print(f\"Dataset size: {len(dataset)} samples\")"
   ]
  },
  {
   "cell_type": "code",
   "execution_count": 4,
   "metadata": {},
   "outputs": [],
   "source": [
    "import open3d as o3d\n",
    "import numpy as np\n",
    "import torch\n",
    "from PIL import Image\n",
    "\n",
    "# Convert 3D Point Clouds to 2D Depth Maps\n",
    "def point_cloud_to_depth_map(pc_data):\n",
    "    \"\"\"Converts a 3D point cloud to a 2D depth image.\"\"\"\n",
    "    pcd = o3d.geometry.PointCloud()\n",
    "    pcd.points = o3d.utility.Vector3dVector(pc_data.numpy())\n",
    "\n",
    "    vis = o3d.visualization.Visualizer()\n",
    "    vis.create_window(visible=False)\n",
    "    vis.add_geometry(pcd)\n",
    "\n",
    "    ctr = vis.get_view_control()\n",
    "    ctr.set_zoom(0.8)\n",
    "    vis.poll_events()\n",
    "    vis.update_renderer()\n",
    "\n",
    "    # Capture depth image\n",
    "    depth = vis.capture_depth_float_buffer(True)\n",
    "    vis.destroy_window()\n",
    "\n",
    "    # Convert depth to PIL Image\n",
    "    depth_np = np.asarray(depth)\n",
    "    depth_image = Image.fromarray((depth_np * 255).astype(np.uint8))\n",
    "\n",
    "    return depth_image"
   ]
  },
  {
   "cell_type": "code",
   "execution_count": 5,
   "metadata": {},
   "outputs": [
    {
     "data": {
      "text/plain": [
       "'\\nimport torch\\nimport open_clip\\n\\n# Define Model\\nmodel_name = \"ViT-B-32\"  # Standard for PointCLIP\\npretrained = \"openai\"  # Use OpenAI\\'s pretrained CLIP\\n\\n# Load Model\\nclip_model, _, _ = open_clip.create_model_and_transforms(model_name, pretrained=pretrained)\\n\\n# Save Model Locally\\nsave_path = \"PretrainedModels/clip_vitb32_pretrain.pth\"\\ntorch.save(clip_model.state_dict(), save_path)\\n\\nprint(f\"✅ CLIP Model Saved to: {save_path}\")'"
      ]
     },
     "execution_count": 5,
     "metadata": {},
     "output_type": "execute_result"
    }
   ],
   "source": [
    "\"\"\"\n",
    "import torch\n",
    "import open_clip\n",
    "\n",
    "# Define Model\n",
    "model_name = \"ViT-B-32\"  # Standard for PointCLIP\n",
    "pretrained = \"openai\"  # Use OpenAI's pretrained CLIP\n",
    "\n",
    "# Load Model\n",
    "clip_model, _, _ = open_clip.create_model_and_transforms(model_name, pretrained=pretrained)\n",
    "\n",
    "# Save Model Locally\n",
    "save_path = \"PretrainedModels/clip_vitb32_pretrain.pth\"\n",
    "torch.save(clip_model.state_dict(), save_path)\n",
    "\n",
    "print(f\"✅ CLIP Model Saved to: {save_path}\")\"\"\""
   ]
  },
  {
   "cell_type": "code",
   "execution_count": 6,
   "metadata": {},
   "outputs": [
    {
     "name": "stdout",
     "output_type": "stream",
     "text": [
      "✅ CLIP Model Loaded Successfully!\n"
     ]
    }
   ],
   "source": [
    "import torch\n",
    "import numpy as np\n",
    "import open_clip\n",
    "from PIL import Image\n",
    "import open3d as o3d\n",
    "from torch.utils.data import DataLoader\n",
    "\n",
    "# Define Model Path\n",
    "save_path = \"PretrainedModels/clip_vitb32_pretrain.pth\"\n",
    "model_name = \"ViT-B-32\"\n",
    "\n",
    "# Load Model Without Downloading\n",
    "clip_model = open_clip.create_model(model_name, pretrained=False)\n",
    "checkpoint = torch.load(save_path, map_location=\"cpu\")\n",
    "clip_model.load_state_dict(checkpoint)\n",
    "clip_model.eval()\n",
    "\n",
    "# Move Model to GPU if Available\n",
    "device = \"cuda\" if torch.cuda.is_available() else \"cpu\"\n",
    "clip_model.to(device)\n",
    "\n",
    "print(\"✅ CLIP Model Loaded Successfully!\")"
   ]
  },
  {
   "cell_type": "code",
   "execution_count": 7,
   "metadata": {},
   "outputs": [
    {
     "name": "stdout",
     "output_type": "stream",
     "text": [
      "✅ CLIP Model Loaded Successfully!\n",
      "Point Cloud tensor([0]): Embedding Shape: torch.Size([1, 512])\n"
     ]
    }
   ],
   "source": [
    "import torch\n",
    "import open_clip\n",
    "import numpy as np\n",
    "from PIL import Image\n",
    "import open3d as o3d\n",
    "from torch.utils.data import DataLoader\n",
    "from open_clip import image_transform\n",
    "\n",
    "# Define Model Path\n",
    "save_path = \"PretrainedModels/clip_vitb32_pretrain.pth\"\n",
    "model_name = \"ViT-B-32\"\n",
    "\n",
    "# Load Model Without Downloading\n",
    "clip_model = open_clip.create_model(model_name, pretrained=False)\n",
    "checkpoint = torch.load(save_path, map_location=\"cpu\")\n",
    "clip_model.load_state_dict(checkpoint)\n",
    "clip_model.eval()\n",
    "\n",
    "# Move Model to GPU if Available\n",
    "device = \"cuda\" if torch.cuda.is_available() else \"cpu\"\n",
    "clip_model.to(device)\n",
    "\n",
    "print(\"✅ CLIP Model Loaded Successfully!\")\n",
    "\n",
    "# Convert 3D Point Clouds to 2D Depth Maps\n",
    "def point_cloud_to_depth_map(pc_data):\n",
    "    \"\"\"Converts a 3D point cloud to a 2D depth image.\"\"\"\n",
    "    pcd = o3d.geometry.PointCloud()\n",
    "    pcd.points = o3d.utility.Vector3dVector(pc_data.numpy())\n",
    "\n",
    "    vis = o3d.visualization.Visualizer()\n",
    "    vis.create_window(visible=False)\n",
    "    vis.add_geometry(pcd)\n",
    "\n",
    "    ctr = vis.get_view_control()\n",
    "    ctr.set_zoom(0.8)\n",
    "    vis.poll_events()\n",
    "    vis.update_renderer()\n",
    "\n",
    "    # Capture depth image\n",
    "    depth = vis.capture_depth_float_buffer(True)\n",
    "    vis.destroy_window()\n",
    "\n",
    "    # Convert depth to PIL Image\n",
    "    depth_np = np.asarray(depth)\n",
    "    depth_image = Image.fromarray((depth_np * 255).astype(np.uint8))\n",
    "\n",
    "    return depth_image\n",
    "\n",
    "# Load Dataset\n",
    "dataset_path = \"Data/ShapeNetSem/Datasets/subset_template_200.csv\"\n",
    "pc_dir = \"Data/ProcessedData/PointClouds1024\"  # Update to correct directory\n",
    "\n",
    "pc_dataset = PCModalityDataset(dataset_path, pc_dir)\n",
    "dataloader = DataLoader(pc_dataset, batch_size=1, shuffle=False, num_workers=0)\n",
    "\n",
    "# Set up CLIP preprocessing\n",
    "preprocess = image_transform(\n",
    "    clip_model.visual.image_size,  # Correct image size for CLIP\n",
    "    is_train=False  # Ensures we use inference preprocessing\n",
    ")\n",
    "\n",
    "# Extract 3D Point Cloud Embeddings\n",
    "for idx, pc_data in dataloader:\n",
    "    pc_data = pc_data.to(device)  # Move to device\n",
    "\n",
    "    # Convert point cloud to depth map\n",
    "    depth_map = point_cloud_to_depth_map(pc_data[0])\n",
    "\n",
    "    # Preprocess Depth Map for CLIP\n",
    "    depth_map = preprocess(depth_map).unsqueeze(0).to(device)\n",
    "\n",
    "    # Encode Image using CLIP\n",
    "    with torch.no_grad():\n",
    "        embedding = clip_model.encode_image(depth_map)\n",
    "\n",
    "    print(f\"Point Cloud {idx}: Embedding Shape: {embedding.shape}\")  # Expected: (1, 512)\n",
    "    break  # Process one batch for testing\n"
   ]
  },
  {
   "cell_type": "code",
   "execution_count": 8,
   "metadata": {},
   "outputs": [],
   "source": [
    "from torch import Tensor\n",
    "# Load Dataset\n",
    "# Load Dataset\n",
    "dataset_path = \"Data/ShapeNetSem/Datasets/subset_template_200.csv\"\n",
    "pc_dir = \"Data/ProcessedData/PointClouds1024\"  # Update to correct directory\n",
    "\n",
    "pc_dataset = PCModalityDataset(dataset_path, pc_dir)\n",
    "dataloader = DataLoader(pc_dataset, batch_size=1, shuffle=False, num_workers=0)\n",
    "\n",
    "# Set up CLIP preprocessing\n",
    "preprocess = image_transform(\n",
    "    clip_model.visual.image_size,  # Correct image size for CLIP\n",
    "    is_train=False  # Ensures we use inference preprocessing\n",
    ")\n",
    "\n",
    "all_embeddings = []\n",
    "all_idx = []\n",
    "all_cats = []\n",
    "data = pd.read_csv(dataset_path)\n",
    "\n",
    "\n",
    "for idx, pc_data in dataloader:\n",
    "    pc_data = pc_data.to(device)  # Move to device\n",
    "\n",
    "    # Convert point cloud to depth map\n",
    "    depth_map = point_cloud_to_depth_map(pc_data[0])\n",
    "\n",
    "    # Preprocess Depth Map for CLIP\n",
    "    depth_map = preprocess(depth_map).unsqueeze(0).to(device)\n",
    "\n",
    "    # Encode Image using CLIP\n",
    "    with torch.no_grad():\n",
    "        embedding = clip_model.encode_image(depth_map)\n",
    "\n",
    "    all_embeddings.append(embedding)\n",
    "    all_idx.append(idx)\n",
    "\n",
    "    all_cats.append(data.loc[int(idx.item()), 'category'])\n"
   ]
  },
  {
   "cell_type": "code",
   "execution_count": 9,
   "metadata": {},
   "outputs": [
    {
     "data": {
      "text/plain": [
       "(200, 200, 200)"
      ]
     },
     "execution_count": 9,
     "metadata": {},
     "output_type": "execute_result"
    }
   ],
   "source": [
    "len(all_embeddings), len(all_idx), len(all_cats)"
   ]
  },
  {
   "cell_type": "code",
   "execution_count": 11,
   "metadata": {},
   "outputs": [],
   "source": [
    "embeddings_t = torch.concat(all_embeddings, dim=0)\n",
    "data_dict = {\n",
    "    \"embedding\": embeddings_t,\n",
    "    \"index\": all_idx,\n",
    "    \"category\": all_cats\n",
    "}\n",
    "\n",
    "save_path = \"Embeddings/PointCLIP/subset_template_200.pt\"\n",
    "torch.save(data_dict, save_path)"
   ]
  },
  {
   "cell_type": "code",
   "execution_count": 12,
   "metadata": {},
   "outputs": [],
   "source": [
    "import sklearn"
   ]
  },
  {
   "cell_type": "code",
   "execution_count": 13,
   "metadata": {},
   "outputs": [
    {
     "data": {
      "text/plain": [
       "(200, 512)"
      ]
     },
     "execution_count": 13,
     "metadata": {},
     "output_type": "execute_result"
    }
   ],
   "source": [
    "embeddings_t.numpy().shape"
   ]
  },
  {
   "cell_type": "code",
   "execution_count": 14,
   "metadata": {},
   "outputs": [],
   "source": [
    "from sklearn.decomposition import PCA\n",
    "from sklearn.preprocessing import OneHotEncoder\n",
    "import numpy as np\n",
    "\n",
    "embeddings = embeddings_t.numpy()"
   ]
  },
  {
   "cell_type": "code",
   "execution_count": 15,
   "metadata": {},
   "outputs": [],
   "source": [
    "formatted_categories = []\n",
    "for subcategory in all_cats:\n",
    "    subcategories = subcategory.split(',')\n",
    "    new_subcategories = [s for s in subcategories if '_' not in s]\n",
    "    formatted_categories.append(new_subcategories[0])"
   ]
  },
  {
   "cell_type": "code",
   "execution_count": 16,
   "metadata": {},
   "outputs": [
    {
     "name": "stdout",
     "output_type": "stream",
     "text": [
      "After OHE categories shape: (200, 19)\n",
      "After Argmax labels shape: (200,)\n",
      "Mapping (integer label -> string category): {0: np.str_('Bed'), 1: np.str_('Books'), 2: np.str_('Camera'), 3: np.str_('CeilingFan'), 4: np.str_('ChestOfDrawers'), 5: np.str_('Couch'), 6: np.str_('DrinkingUtensil'), 7: np.str_('Fan'), 8: np.str_('Faucet'), 9: np.str_('MediaStorage'), 10: np.str_('PersonStanding'), 11: np.str_('PillBottle'), 12: np.str_('Plant'), 13: np.str_('PottedPlant'), 14: np.str_('Showerhead'), 15: np.str_('Table'), 16: np.str_('Truck'), 17: np.str_('USBStick'), 18: np.str_('Vase')}\n"
     ]
    }
   ],
   "source": [
    "# Initialize the OneHotEncoder\n",
    "encoder = OneHotEncoder(sparse_output=False)\n",
    "categories = np.array(formatted_categories).reshape(-1, 1)\n",
    "# Fit and transform the data\n",
    "one_hot_encoded = encoder.fit_transform(categories)\n",
    "print(f\"After OHE categories shape: {one_hot_encoded.shape}\")\n",
    "labels = one_hot_encoded.argmax(axis=1)\n",
    "print(f\"After Argmax labels shape: {labels.shape}\")\n",
    "cat_mapping = {i: cat for i, cat in enumerate(encoder.categories_[0])}\n",
    "print(\"Mapping (integer label -> string category):\", cat_mapping)\n"
   ]
  },
  {
   "cell_type": "code",
   "execution_count": 23,
   "metadata": {},
   "outputs": [
    {
     "name": "stdout",
     "output_type": "stream",
     "text": [
      "Before PCA embedding shape: (200, 512)\n",
      "After PCA embedding shape: (200, 25)\n"
     ]
    }
   ],
   "source": [
    "print(f\"Before PCA embedding shape: {embeddings.shape}\")\n",
    "pca = PCA(n_components=25, random_state=42)\n",
    "pca_result = pca.fit_transform(embeddings)\n",
    "print(f\"After PCA embedding shape: {pca_result.shape}\")"
   ]
  },
  {
   "cell_type": "code",
   "execution_count": 24,
   "metadata": {},
   "outputs": [
    {
     "name": "stdout",
     "output_type": "stream",
     "text": [
      "Before TSNE embedding shape: (200, 25)\n",
      "After TSNE embedding shape: (200, 2)\n"
     ]
    }
   ],
   "source": [
    "from sklearn.manifold import TSNE\n",
    "\n",
    "tsne = TSNE(n_components=2, random_state=42)\n",
    "print(f\"Before TSNE embedding shape: {pca_result.shape}\")\n",
    "tsne_result = tsne.fit_transform(pca_result)\n",
    "print(f\"After TSNE embedding shape: {tsne_result.shape}\")"
   ]
  },
  {
   "cell_type": "code",
   "execution_count": 25,
   "metadata": {},
   "outputs": [
    {
     "data": {
      "application/vnd.plotly.v1+json": {
       "config": {
        "plotlyServerURL": "https://plot.ly"
       },
       "data": [
        {
         "customdata": [
          [
           17,
           "USBStick"
          ],
          [
           17,
           "USBStick"
          ],
          [
           17,
           "USBStick"
          ],
          [
           17,
           "USBStick"
          ],
          [
           17,
           "USBStick"
          ],
          [
           17,
           "USBStick"
          ],
          [
           17,
           "USBStick"
          ],
          [
           17,
           "USBStick"
          ],
          [
           17,
           "USBStick"
          ],
          [
           17,
           "USBStick"
          ]
         ],
         "hovertemplate": "category=%{customdata[1]}<br>x=%{x}<br>y=%{y}<br>numeric_label=%{customdata[0]}<extra></extra>",
         "legendgroup": "USBStick",
         "marker": {
          "color": "#636efa",
          "symbol": "circle"
         },
         "mode": "markers",
         "name": "USBStick",
         "orientation": "v",
         "showlegend": true,
         "type": "scatter",
         "x": {
          "bdata": "REsDwVqt7sDNoNnASenewC1+w8D74snAW4C0wAFnqcDQZ97AWKMBwQ==",
          "dtype": "f4"
         },
         "xaxis": "x",
         "y": {
          "bdata": "3Y34wIm3FsGbIDXBgIMIwewYNcFfuxTBkXEKwX1LK8FBhRvBbZENwQ==",
          "dtype": "f4"
         },
         "yaxis": "y"
        },
        {
         "customdata": [
          [
           0,
           "Bed"
          ],
          [
           0,
           "Bed"
          ],
          [
           0,
           "Bed"
          ],
          [
           0,
           "Bed"
          ],
          [
           0,
           "Bed"
          ],
          [
           0,
           "Bed"
          ],
          [
           0,
           "Bed"
          ],
          [
           0,
           "Bed"
          ],
          [
           0,
           "Bed"
          ],
          [
           0,
           "Bed"
          ],
          [
           0,
           "Bed"
          ],
          [
           0,
           "Bed"
          ],
          [
           0,
           "Bed"
          ],
          [
           0,
           "Bed"
          ],
          [
           0,
           "Bed"
          ],
          [
           0,
           "Bed"
          ],
          [
           0,
           "Bed"
          ],
          [
           0,
           "Bed"
          ],
          [
           0,
           "Bed"
          ],
          [
           0,
           "Bed"
          ],
          [
           0,
           "Bed"
          ]
         ],
         "hovertemplate": "category=%{customdata[1]}<br>x=%{x}<br>y=%{y}<br>numeric_label=%{customdata[0]}<extra></extra>",
         "legendgroup": "Bed",
         "marker": {
          "color": "#EF553B",
          "symbol": "circle"
         },
         "mode": "markers",
         "name": "Bed",
         "orientation": "v",
         "showlegend": true,
         "type": "scatter",
         "x": {
          "bdata": "6r8/wJA/kr9j7ADAvo6owORws78PzUbAB+J9wM+Z5b9QRti/IZf+v+XsF7+SznHAr2ntwLvOir84t4DAPzr0wFOKQsCqvm6+6DT1wJTZP8Bj75vA",
          "dtype": "f4"
         },
         "xaxis": "x",
         "y": {
          "bdata": "SLE4PpnDDEAZpMtAWKqowGYeP0CGzWw98KE3v7LQ/j81eoVAuRqaP6bCIT8Vr4XAwhiLv/M1kUDAMaHA93/AP3w+m8A/gpU/3A91vvyiIkAFomw/",
          "dtype": "f4"
         },
         "yaxis": "y"
        },
        {
         "customdata": [
          [
           1,
           "Books"
          ],
          [
           1,
           "Books"
          ],
          [
           1,
           "Books"
          ],
          [
           1,
           "Books"
          ],
          [
           1,
           "Books"
          ],
          [
           1,
           "Books"
          ],
          [
           1,
           "Books"
          ],
          [
           1,
           "Books"
          ],
          [
           1,
           "Books"
          ],
          [
           1,
           "Books"
          ]
         ],
         "hovertemplate": "category=%{customdata[1]}<br>x=%{x}<br>y=%{y}<br>numeric_label=%{customdata[0]}<extra></extra>",
         "legendgroup": "Books",
         "marker": {
          "color": "#00cc96",
          "symbol": "circle"
         },
         "mode": "markers",
         "name": "Books",
         "orientation": "v",
         "showlegend": true,
         "type": "scatter",
         "x": {
          "bdata": "ehSHwNrhe8DWk4/AcfE6wOtDWb/mDk7BLgNQwPz+FcG4fz3AOtZDwQ==",
          "dtype": "f4"
         },
         "xaxis": "x",
         "y": {
          "bdata": "zSXlQFIVokC6vPDA4TJ/v5gelsDafS0/bMO0QB/flb/laMa/K/5JQA==",
          "dtype": "f4"
         },
         "yaxis": "y"
        },
        {
         "customdata": [
          [
           2,
           "Camera"
          ],
          [
           2,
           "Camera"
          ],
          [
           2,
           "Camera"
          ],
          [
           2,
           "Camera"
          ],
          [
           2,
           "Camera"
          ],
          [
           2,
           "Camera"
          ],
          [
           2,
           "Camera"
          ],
          [
           2,
           "Camera"
          ],
          [
           2,
           "Camera"
          ],
          [
           2,
           "Camera"
          ]
         ],
         "hovertemplate": "category=%{customdata[1]}<br>x=%{x}<br>y=%{y}<br>numeric_label=%{customdata[0]}<extra></extra>",
         "legendgroup": "Camera",
         "marker": {
          "color": "#ab63fa",
          "symbol": "circle"
         },
         "mode": "markers",
         "name": "Camera",
         "orientation": "v",
         "showlegend": true,
         "type": "scatter",
         "x": {
          "bdata": "Z9UEwd0B1cBLFwjAWB3zv4RICsERrx7BPUarQOao9r9D1TrBI5U7wA==",
          "dtype": "f4"
         },
         "xaxis": "x",
         "y": {
          "bdata": "cyocwSM6+8DB6fbAeNrWwKlLR0BZMllAhjZkwaSqGcHuB6RArzYSwQ==",
          "dtype": "f4"
         },
         "yaxis": "y"
        },
        {
         "customdata": [
          [
           5,
           "Couch"
          ],
          [
           5,
           "Couch"
          ],
          [
           5,
           "Couch"
          ],
          [
           5,
           "Couch"
          ],
          [
           5,
           "Couch"
          ],
          [
           5,
           "Couch"
          ],
          [
           5,
           "Couch"
          ],
          [
           5,
           "Couch"
          ],
          [
           5,
           "Couch"
          ],
          [
           5,
           "Couch"
          ]
         ],
         "hovertemplate": "category=%{customdata[1]}<br>x=%{x}<br>y=%{y}<br>numeric_label=%{customdata[0]}<extra></extra>",
         "legendgroup": "Couch",
         "marker": {
          "color": "#FFA15A",
          "symbol": "circle"
         },
         "mode": "markers",
         "name": "Couch",
         "orientation": "v",
         "showlegend": true,
         "type": "scatter",
         "x": {
          "bdata": "akIcwKnNF8Hy+OnASRkUwWIulL/EFSjBBZYGwfCYycDoiL6/xfPOwA==",
          "dtype": "f4"
         },
         "xaxis": "x",
         "y": {
          "bdata": "xAHDwC7upD4Sd4A/cUn6vwkeE78lsFa+ftqEP0ewisAkGla/snWmPw==",
          "dtype": "f4"
         },
         "yaxis": "y"
        },
        {
         "customdata": [
          [
           6,
           "DrinkingUtensil"
          ],
          [
           6,
           "DrinkingUtensil"
          ],
          [
           6,
           "DrinkingUtensil"
          ],
          [
           6,
           "DrinkingUtensil"
          ],
          [
           6,
           "DrinkingUtensil"
          ],
          [
           6,
           "DrinkingUtensil"
          ],
          [
           6,
           "DrinkingUtensil"
          ],
          [
           6,
           "DrinkingUtensil"
          ],
          [
           6,
           "DrinkingUtensil"
          ],
          [
           6,
           "DrinkingUtensil"
          ],
          [
           6,
           "DrinkingUtensil"
          ],
          [
           6,
           "DrinkingUtensil"
          ],
          [
           6,
           "DrinkingUtensil"
          ],
          [
           6,
           "DrinkingUtensil"
          ],
          [
           6,
           "DrinkingUtensil"
          ],
          [
           6,
           "DrinkingUtensil"
          ],
          [
           6,
           "DrinkingUtensil"
          ],
          [
           6,
           "DrinkingUtensil"
          ],
          [
           6,
           "DrinkingUtensil"
          ],
          [
           6,
           "DrinkingUtensil"
          ]
         ],
         "hovertemplate": "category=%{customdata[1]}<br>x=%{x}<br>y=%{y}<br>numeric_label=%{customdata[0]}<extra></extra>",
         "legendgroup": "DrinkingUtensil",
         "marker": {
          "color": "#19d3f3",
          "symbol": "circle"
         },
         "mode": "markers",
         "name": "DrinkingUtensil",
         "orientation": "v",
         "showlegend": true,
         "type": "scatter",
         "x": {
          "bdata": "uYxuQCd/PkBxHHJA4//pP1ar/EDEoiVBB5zhP6HlOkDHDQ1BFk0MQUA7B0EqLStBBy82QVFgIUHbgwRBUIhDQSnTR0HaK/ZAtAH6QOOPNUE=",
          "dtype": "f4"
         },
         "xaxis": "x",
         "y": {
          "bdata": "UK2KQApZz0ALESS/o3OyQCHXlkBNoqs/HGQBwa5VnECNqPlANLpRQPgLJECNEB5AcuNZQAZGqUCeJ+RA3MsvPqypCb869lBAfqfkQOZVBUA=",
          "dtype": "f4"
         },
         "yaxis": "y"
        },
        {
         "customdata": [
          [
           9,
           "MediaStorage"
          ],
          [
           9,
           "MediaStorage"
          ],
          [
           9,
           "MediaStorage"
          ],
          [
           9,
           "MediaStorage"
          ],
          [
           9,
           "MediaStorage"
          ],
          [
           9,
           "MediaStorage"
          ],
          [
           9,
           "MediaStorage"
          ],
          [
           9,
           "MediaStorage"
          ],
          [
           9,
           "MediaStorage"
          ],
          [
           9,
           "MediaStorage"
          ]
         ],
         "hovertemplate": "category=%{customdata[1]}<br>x=%{x}<br>y=%{y}<br>numeric_label=%{customdata[0]}<extra></extra>",
         "legendgroup": "MediaStorage",
         "marker": {
          "color": "#FF6692",
          "symbol": "circle"
         },
         "mode": "markers",
         "name": "MediaStorage",
         "orientation": "v",
         "showlegend": true,
         "type": "scatter",
         "x": {
          "bdata": "hPJKwQ5TA786RajA8i0WwZ4F9cBY3OvASwoQwYkmXcDR9w/BoUtAwQ==",
          "dtype": "f4"
         },
         "xaxis": "x",
         "y": {
          "bdata": "vAqzP8dom79UrAlA5u45QCrOBT8M4vQ//0jtPwqd2sANn6K/GRfbPw==",
          "dtype": "f4"
         },
         "yaxis": "y"
        },
        {
         "customdata": [
          [
           4,
           "ChestOfDrawers"
          ],
          [
           4,
           "ChestOfDrawers"
          ],
          [
           4,
           "ChestOfDrawers"
          ],
          [
           4,
           "ChestOfDrawers"
          ],
          [
           4,
           "ChestOfDrawers"
          ],
          [
           4,
           "ChestOfDrawers"
          ],
          [
           4,
           "ChestOfDrawers"
          ],
          [
           4,
           "ChestOfDrawers"
          ],
          [
           4,
           "ChestOfDrawers"
          ]
         ],
         "hovertemplate": "category=%{customdata[1]}<br>x=%{x}<br>y=%{y}<br>numeric_label=%{customdata[0]}<extra></extra>",
         "legendgroup": "ChestOfDrawers",
         "marker": {
          "color": "#B6E880",
          "symbol": "circle"
         },
         "mode": "markers",
         "name": "ChestOfDrawers",
         "orientation": "v",
         "showlegend": true,
         "type": "scatter",
         "x": {
          "bdata": "VQK1v6sxz8C3EFjAqyMEwII7WcAyrPC/CTjNwLkEP8BlFYnA",
          "dtype": "f4"
         },
         "xaxis": "x",
         "y": {
          "bdata": "fG44wMA4+b4WhsxAqxvCQIwGYcCu34NAWpu0vxVzo0CGp+dA",
          "dtype": "f4"
         },
         "yaxis": "y"
        },
        {
         "customdata": [
          [
           10,
           "PersonStanding"
          ],
          [
           10,
           "PersonStanding"
          ],
          [
           10,
           "PersonStanding"
          ],
          [
           10,
           "PersonStanding"
          ],
          [
           10,
           "PersonStanding"
          ],
          [
           10,
           "PersonStanding"
          ],
          [
           10,
           "PersonStanding"
          ],
          [
           10,
           "PersonStanding"
          ],
          [
           10,
           "PersonStanding"
          ],
          [
           10,
           "PersonStanding"
          ]
         ],
         "hovertemplate": "category=%{customdata[1]}<br>x=%{x}<br>y=%{y}<br>numeric_label=%{customdata[0]}<extra></extra>",
         "legendgroup": "PersonStanding",
         "marker": {
          "color": "#FF97FF",
          "symbol": "circle"
         },
         "mode": "markers",
         "name": "PersonStanding",
         "orientation": "v",
         "showlegend": true,
         "type": "scatter",
         "x": {
          "bdata": "feFvwarxb8GcHK5A28y7QJ3uqkAzWqRAhehvwc/OnUAHjqVAhkWlQA==",
          "dtype": "f4"
         },
         "xaxis": "x",
         "y": {
          "bdata": "oT8xwH2yMcAyFgXBC6GQwNYTUcAeNrjAe+QwwKqpmMCqfYHAKK6rwA==",
          "dtype": "f4"
         },
         "yaxis": "y"
        },
        {
         "customdata": [
          [
           11,
           "PillBottle"
          ],
          [
           11,
           "PillBottle"
          ],
          [
           11,
           "PillBottle"
          ],
          [
           11,
           "PillBottle"
          ],
          [
           11,
           "PillBottle"
          ],
          [
           11,
           "PillBottle"
          ],
          [
           11,
           "PillBottle"
          ],
          [
           11,
           "PillBottle"
          ],
          [
           11,
           "PillBottle"
          ],
          [
           11,
           "PillBottle"
          ]
         ],
         "hovertemplate": "category=%{customdata[1]}<br>x=%{x}<br>y=%{y}<br>numeric_label=%{customdata[0]}<extra></extra>",
         "legendgroup": "PillBottle",
         "marker": {
          "color": "#FECB52",
          "symbol": "circle"
         },
         "mode": "markers",
         "name": "PillBottle",
         "orientation": "v",
         "showlegend": true,
         "type": "scatter",
         "x": {
          "bdata": "U99sQKydMcExgBRBKgs0QSTADEEd8zdBgfQSQQOdFUGi9qFAOBooQA==",
          "dtype": "f4"
         },
         "xaxis": "x",
         "y": {
          "bdata": "B9JvQBpQxsDX5aM/Vpm1P6pgnr0eBEo/O6DyQNU8zEC8gmBASxtiQA==",
          "dtype": "f4"
         },
         "yaxis": "y"
        },
        {
         "customdata": [
          [
           16,
           "Truck"
          ],
          [
           16,
           "Truck"
          ],
          [
           16,
           "Truck"
          ],
          [
           16,
           "Truck"
          ],
          [
           16,
           "Truck"
          ],
          [
           16,
           "Truck"
          ],
          [
           16,
           "Truck"
          ],
          [
           16,
           "Truck"
          ],
          [
           16,
           "Truck"
          ],
          [
           16,
           "Truck"
          ]
         ],
         "hovertemplate": "category=%{customdata[1]}<br>x=%{x}<br>y=%{y}<br>numeric_label=%{customdata[0]}<extra></extra>",
         "legendgroup": "Truck",
         "marker": {
          "color": "#636efa",
          "symbol": "circle"
         },
         "mode": "markers",
         "name": "Truck",
         "orientation": "v",
         "showlegend": true,
         "type": "scatter",
         "x": {
          "bdata": "N/5HwGekH8E89dLAPWEYwDlZ9cDUfSLBgzx2v1cZF8HhfpC/51UrwQ==",
          "dtype": "f4"
         },
         "xaxis": "x",
         "y": {
          "bdata": "fJDOwGM9C0AXkWrAC0G4wHpZJ8E0Qp4/2STIwOzAtj9bJ5DA4mwHQA==",
          "dtype": "f4"
         },
         "yaxis": "y"
        },
        {
         "customdata": [
          [
           3,
           "CeilingFan"
          ],
          [
           3,
           "CeilingFan"
          ],
          [
           3,
           "CeilingFan"
          ],
          [
           3,
           "CeilingFan"
          ],
          [
           3,
           "CeilingFan"
          ],
          [
           3,
           "CeilingFan"
          ],
          [
           3,
           "CeilingFan"
          ],
          [
           3,
           "CeilingFan"
          ],
          [
           3,
           "CeilingFan"
          ]
         ],
         "hovertemplate": "category=%{customdata[1]}<br>x=%{x}<br>y=%{y}<br>numeric_label=%{customdata[0]}<extra></extra>",
         "legendgroup": "CeilingFan",
         "marker": {
          "color": "#EF553B",
          "symbol": "circle"
         },
         "mode": "markers",
         "name": "CeilingFan",
         "orientation": "v",
         "showlegend": true,
         "type": "scatter",
         "x": {
          "bdata": "dK5iP3OrvT8G4QdAgfVLQTO8WkChNUNBuepFQLzrKkCVzQxA",
          "dtype": "f4"
         },
         "xaxis": "x",
         "y": {
          "bdata": "nXw1wfppMsERmRvB1ujfvzQVUMG59yJAU8xMwXR8HMGkqxvB",
          "dtype": "f4"
         },
         "yaxis": "y"
        },
        {
         "customdata": [
          [
           7,
           "Fan"
          ]
         ],
         "hovertemplate": "category=%{customdata[1]}<br>x=%{x}<br>y=%{y}<br>numeric_label=%{customdata[0]}<extra></extra>",
         "legendgroup": "Fan",
         "marker": {
          "color": "#00cc96",
          "symbol": "circle"
         },
         "mode": "markers",
         "name": "Fan",
         "orientation": "v",
         "showlegend": true,
         "type": "scatter",
         "x": {
          "bdata": "fFAOQA==",
          "dtype": "f4"
         },
         "xaxis": "x",
         "y": {
          "bdata": "AHY1wQ==",
          "dtype": "f4"
         },
         "yaxis": "y"
        },
        {
         "customdata": [
          [
           15,
           "Table"
          ],
          [
           15,
           "Table"
          ],
          [
           15,
           "Table"
          ],
          [
           15,
           "Table"
          ],
          [
           15,
           "Table"
          ],
          [
           15,
           "Table"
          ],
          [
           15,
           "Table"
          ],
          [
           15,
           "Table"
          ],
          [
           15,
           "Table"
          ],
          [
           15,
           "Table"
          ],
          [
           15,
           "Table"
          ],
          [
           15,
           "Table"
          ],
          [
           15,
           "Table"
          ],
          [
           15,
           "Table"
          ],
          [
           15,
           "Table"
          ],
          [
           15,
           "Table"
          ],
          [
           15,
           "Table"
          ],
          [
           15,
           "Table"
          ],
          [
           15,
           "Table"
          ],
          [
           15,
           "Table"
          ],
          [
           15,
           "Table"
          ],
          [
           15,
           "Table"
          ],
          [
           15,
           "Table"
          ],
          [
           15,
           "Table"
          ],
          [
           15,
           "Table"
          ],
          [
           15,
           "Table"
          ],
          [
           15,
           "Table"
          ],
          [
           15,
           "Table"
          ],
          [
           15,
           "Table"
          ],
          [
           15,
           "Table"
          ]
         ],
         "hovertemplate": "category=%{customdata[1]}<br>x=%{x}<br>y=%{y}<br>numeric_label=%{customdata[0]}<extra></extra>",
         "legendgroup": "Table",
         "marker": {
          "color": "#ab63fa",
          "symbol": "circle"
         },
         "mode": "markers",
         "name": "Table",
         "orientation": "v",
         "showlegend": true,
         "type": "scatter",
         "x": {
          "bdata": "mKoOQHaJ1UBv89JAnimlQMyDqb9mXJxAAjmuQPbqIUB3Q6a/DU2GQHa8w8BWJGXA5OgtwUc+oEDUMTfBiYqZwK3myMBg4ZfABPreP2wr+MC/I9FAvz7YQGKUCsH6Kb3AiS7BwCB0OcGRMDrBqfYcwQpXAEGY+HbA",
          "dtype": "f4"
         },
         "xaxis": "x",
         "y": {
          "bdata": "U1zIQChY90DQ849A50SyQFdBA0HBxpVAQVnowAiAez9oAghBIiIFQYlhf0BY3nJA35aRvgR/AkFGqn0/cjxlQJiR2MAzwzHAGUSMwBuqA8G5r5xAmdd3QNIp5MC/Bi5AyieMwPn5X78ZM40+OOeLwBhuMMCsggfB",
          "dtype": "f4"
         },
         "yaxis": "y"
        },
        {
         "customdata": [
          [
           8,
           "Faucet"
          ],
          [
           8,
           "Faucet"
          ],
          [
           8,
           "Faucet"
          ],
          [
           8,
           "Faucet"
          ],
          [
           8,
           "Faucet"
          ],
          [
           8,
           "Faucet"
          ],
          [
           8,
           "Faucet"
          ],
          [
           8,
           "Faucet"
          ]
         ],
         "hovertemplate": "category=%{customdata[1]}<br>x=%{x}<br>y=%{y}<br>numeric_label=%{customdata[0]}<extra></extra>",
         "legendgroup": "Faucet",
         "marker": {
          "color": "#FFA15A",
          "symbol": "circle"
         },
         "mode": "markers",
         "name": "Faucet",
         "orientation": "v",
         "showlegend": true,
         "type": "scatter",
         "x": {
          "bdata": "is+XQDhiRkD7nIzAPrHZvxwL70DO591AmuSLQLuqlsA=",
          "dtype": "f4"
         },
         "xaxis": "x",
         "y": {
          "bdata": "4mVZwQcQtkCY1TPBiM8RwXvszsA3bD9A1a9NwWBjMEA=",
          "dtype": "f4"
         },
         "yaxis": "y"
        },
        {
         "customdata": [
          [
           14,
           "Showerhead"
          ],
          [
           14,
           "Showerhead"
          ]
         ],
         "hovertemplate": "category=%{customdata[1]}<br>x=%{x}<br>y=%{y}<br>numeric_label=%{customdata[0]}<extra></extra>",
         "legendgroup": "Showerhead",
         "marker": {
          "color": "#19d3f3",
          "symbol": "circle"
         },
         "mode": "markers",
         "name": "Showerhead",
         "orientation": "v",
         "showlegend": true,
         "type": "scatter",
         "x": {
          "bdata": "aTSXQBWgQkA=",
          "dtype": "f4"
         },
         "xaxis": "x",
         "y": {
          "bdata": "Z8xHwbPAKMA=",
          "dtype": "f4"
         },
         "yaxis": "y"
        },
        {
         "customdata": [
          [
           12,
           "Plant"
          ],
          [
           12,
           "Plant"
          ],
          [
           12,
           "Plant"
          ],
          [
           12,
           "Plant"
          ]
         ],
         "hovertemplate": "category=%{customdata[1]}<br>x=%{x}<br>y=%{y}<br>numeric_label=%{customdata[0]}<extra></extra>",
         "legendgroup": "Plant",
         "marker": {
          "color": "#FF6692",
          "symbol": "circle"
         },
         "mode": "markers",
         "name": "Plant",
         "orientation": "v",
         "showlegend": true,
         "type": "scatter",
         "x": {
          "bdata": "/eCLQKX3+UD65U5Aw709QA==",
          "dtype": "f4"
         },
         "xaxis": "x",
         "y": {
          "bdata": "9QcnwARJgj/cY6jATIJYwQ==",
          "dtype": "f4"
         },
         "yaxis": "y"
        },
        {
         "customdata": [
          [
           13,
           "PottedPlant"
          ],
          [
           13,
           "PottedPlant"
          ],
          [
           13,
           "PottedPlant"
          ],
          [
           13,
           "PottedPlant"
          ],
          [
           13,
           "PottedPlant"
          ],
          [
           13,
           "PottedPlant"
          ]
         ],
         "hovertemplate": "category=%{customdata[1]}<br>x=%{x}<br>y=%{y}<br>numeric_label=%{customdata[0]}<extra></extra>",
         "legendgroup": "PottedPlant",
         "marker": {
          "color": "#B6E880",
          "symbol": "circle"
         },
         "mode": "markers",
         "name": "PottedPlant",
         "orientation": "v",
         "showlegend": true,
         "type": "scatter",
         "x": {
          "bdata": "99TWQJYkskAeSppAdt3VQM1OR0DIynVA",
          "dtype": "f4"
         },
         "xaxis": "x",
         "y": {
          "bdata": "49oDv1jHzsC3WSg/F0iYvp1tRkBx9axA",
          "dtype": "f4"
         },
         "yaxis": "y"
        },
        {
         "customdata": [
          [
           18,
           "Vase"
          ],
          [
           18,
           "Vase"
          ],
          [
           18,
           "Vase"
          ],
          [
           18,
           "Vase"
          ],
          [
           18,
           "Vase"
          ],
          [
           18,
           "Vase"
          ],
          [
           18,
           "Vase"
          ],
          [
           18,
           "Vase"
          ],
          [
           18,
           "Vase"
          ],
          [
           18,
           "Vase"
          ]
         ],
         "hovertemplate": "category=%{customdata[1]}<br>x=%{x}<br>y=%{y}<br>numeric_label=%{customdata[0]}<extra></extra>",
         "legendgroup": "Vase",
         "marker": {
          "color": "#FF97FF",
          "symbol": "circle"
         },
         "mode": "markers",
         "name": "Vase",
         "orientation": "v",
         "showlegend": true,
         "type": "scatter",
         "x": {
          "bdata": "m8KVQHwYDEE0gIFAo/vsQGcxI0EwZBVBLCHcQAAoIkEWI5JAFZIiQQ==",
          "dtype": "f4"
         },
         "xaxis": "x",
         "y": {
          "bdata": "GnG7QOzHwkBxJjlAjnUFQMVdRUDGq2A/PDGowMLiKj/BZyVA0PsZQA==",
          "dtype": "f4"
         },
         "yaxis": "y"
        }
       ],
       "layout": {
        "legend": {
         "title": {
          "text": "category"
         },
         "tracegroupgap": 0
        },
        "template": {
         "data": {
          "bar": [
           {
            "error_x": {
             "color": "#2a3f5f"
            },
            "error_y": {
             "color": "#2a3f5f"
            },
            "marker": {
             "line": {
              "color": "#E5ECF6",
              "width": 0.5
             },
             "pattern": {
              "fillmode": "overlay",
              "size": 10,
              "solidity": 0.2
             }
            },
            "type": "bar"
           }
          ],
          "barpolar": [
           {
            "marker": {
             "line": {
              "color": "#E5ECF6",
              "width": 0.5
             },
             "pattern": {
              "fillmode": "overlay",
              "size": 10,
              "solidity": 0.2
             }
            },
            "type": "barpolar"
           }
          ],
          "carpet": [
           {
            "aaxis": {
             "endlinecolor": "#2a3f5f",
             "gridcolor": "white",
             "linecolor": "white",
             "minorgridcolor": "white",
             "startlinecolor": "#2a3f5f"
            },
            "baxis": {
             "endlinecolor": "#2a3f5f",
             "gridcolor": "white",
             "linecolor": "white",
             "minorgridcolor": "white",
             "startlinecolor": "#2a3f5f"
            },
            "type": "carpet"
           }
          ],
          "choropleth": [
           {
            "colorbar": {
             "outlinewidth": 0,
             "ticks": ""
            },
            "type": "choropleth"
           }
          ],
          "contour": [
           {
            "colorbar": {
             "outlinewidth": 0,
             "ticks": ""
            },
            "colorscale": [
             [
              0,
              "#0d0887"
             ],
             [
              0.1111111111111111,
              "#46039f"
             ],
             [
              0.2222222222222222,
              "#7201a8"
             ],
             [
              0.3333333333333333,
              "#9c179e"
             ],
             [
              0.4444444444444444,
              "#bd3786"
             ],
             [
              0.5555555555555556,
              "#d8576b"
             ],
             [
              0.6666666666666666,
              "#ed7953"
             ],
             [
              0.7777777777777778,
              "#fb9f3a"
             ],
             [
              0.8888888888888888,
              "#fdca26"
             ],
             [
              1,
              "#f0f921"
             ]
            ],
            "type": "contour"
           }
          ],
          "contourcarpet": [
           {
            "colorbar": {
             "outlinewidth": 0,
             "ticks": ""
            },
            "type": "contourcarpet"
           }
          ],
          "heatmap": [
           {
            "colorbar": {
             "outlinewidth": 0,
             "ticks": ""
            },
            "colorscale": [
             [
              0,
              "#0d0887"
             ],
             [
              0.1111111111111111,
              "#46039f"
             ],
             [
              0.2222222222222222,
              "#7201a8"
             ],
             [
              0.3333333333333333,
              "#9c179e"
             ],
             [
              0.4444444444444444,
              "#bd3786"
             ],
             [
              0.5555555555555556,
              "#d8576b"
             ],
             [
              0.6666666666666666,
              "#ed7953"
             ],
             [
              0.7777777777777778,
              "#fb9f3a"
             ],
             [
              0.8888888888888888,
              "#fdca26"
             ],
             [
              1,
              "#f0f921"
             ]
            ],
            "type": "heatmap"
           }
          ],
          "histogram": [
           {
            "marker": {
             "pattern": {
              "fillmode": "overlay",
              "size": 10,
              "solidity": 0.2
             }
            },
            "type": "histogram"
           }
          ],
          "histogram2d": [
           {
            "colorbar": {
             "outlinewidth": 0,
             "ticks": ""
            },
            "colorscale": [
             [
              0,
              "#0d0887"
             ],
             [
              0.1111111111111111,
              "#46039f"
             ],
             [
              0.2222222222222222,
              "#7201a8"
             ],
             [
              0.3333333333333333,
              "#9c179e"
             ],
             [
              0.4444444444444444,
              "#bd3786"
             ],
             [
              0.5555555555555556,
              "#d8576b"
             ],
             [
              0.6666666666666666,
              "#ed7953"
             ],
             [
              0.7777777777777778,
              "#fb9f3a"
             ],
             [
              0.8888888888888888,
              "#fdca26"
             ],
             [
              1,
              "#f0f921"
             ]
            ],
            "type": "histogram2d"
           }
          ],
          "histogram2dcontour": [
           {
            "colorbar": {
             "outlinewidth": 0,
             "ticks": ""
            },
            "colorscale": [
             [
              0,
              "#0d0887"
             ],
             [
              0.1111111111111111,
              "#46039f"
             ],
             [
              0.2222222222222222,
              "#7201a8"
             ],
             [
              0.3333333333333333,
              "#9c179e"
             ],
             [
              0.4444444444444444,
              "#bd3786"
             ],
             [
              0.5555555555555556,
              "#d8576b"
             ],
             [
              0.6666666666666666,
              "#ed7953"
             ],
             [
              0.7777777777777778,
              "#fb9f3a"
             ],
             [
              0.8888888888888888,
              "#fdca26"
             ],
             [
              1,
              "#f0f921"
             ]
            ],
            "type": "histogram2dcontour"
           }
          ],
          "mesh3d": [
           {
            "colorbar": {
             "outlinewidth": 0,
             "ticks": ""
            },
            "type": "mesh3d"
           }
          ],
          "parcoords": [
           {
            "line": {
             "colorbar": {
              "outlinewidth": 0,
              "ticks": ""
             }
            },
            "type": "parcoords"
           }
          ],
          "pie": [
           {
            "automargin": true,
            "type": "pie"
           }
          ],
          "scatter": [
           {
            "fillpattern": {
             "fillmode": "overlay",
             "size": 10,
             "solidity": 0.2
            },
            "type": "scatter"
           }
          ],
          "scatter3d": [
           {
            "line": {
             "colorbar": {
              "outlinewidth": 0,
              "ticks": ""
             }
            },
            "marker": {
             "colorbar": {
              "outlinewidth": 0,
              "ticks": ""
             }
            },
            "type": "scatter3d"
           }
          ],
          "scattercarpet": [
           {
            "marker": {
             "colorbar": {
              "outlinewidth": 0,
              "ticks": ""
             }
            },
            "type": "scattercarpet"
           }
          ],
          "scattergeo": [
           {
            "marker": {
             "colorbar": {
              "outlinewidth": 0,
              "ticks": ""
             }
            },
            "type": "scattergeo"
           }
          ],
          "scattergl": [
           {
            "marker": {
             "colorbar": {
              "outlinewidth": 0,
              "ticks": ""
             }
            },
            "type": "scattergl"
           }
          ],
          "scattermap": [
           {
            "marker": {
             "colorbar": {
              "outlinewidth": 0,
              "ticks": ""
             }
            },
            "type": "scattermap"
           }
          ],
          "scattermapbox": [
           {
            "marker": {
             "colorbar": {
              "outlinewidth": 0,
              "ticks": ""
             }
            },
            "type": "scattermapbox"
           }
          ],
          "scatterpolar": [
           {
            "marker": {
             "colorbar": {
              "outlinewidth": 0,
              "ticks": ""
             }
            },
            "type": "scatterpolar"
           }
          ],
          "scatterpolargl": [
           {
            "marker": {
             "colorbar": {
              "outlinewidth": 0,
              "ticks": ""
             }
            },
            "type": "scatterpolargl"
           }
          ],
          "scatterternary": [
           {
            "marker": {
             "colorbar": {
              "outlinewidth": 0,
              "ticks": ""
             }
            },
            "type": "scatterternary"
           }
          ],
          "surface": [
           {
            "colorbar": {
             "outlinewidth": 0,
             "ticks": ""
            },
            "colorscale": [
             [
              0,
              "#0d0887"
             ],
             [
              0.1111111111111111,
              "#46039f"
             ],
             [
              0.2222222222222222,
              "#7201a8"
             ],
             [
              0.3333333333333333,
              "#9c179e"
             ],
             [
              0.4444444444444444,
              "#bd3786"
             ],
             [
              0.5555555555555556,
              "#d8576b"
             ],
             [
              0.6666666666666666,
              "#ed7953"
             ],
             [
              0.7777777777777778,
              "#fb9f3a"
             ],
             [
              0.8888888888888888,
              "#fdca26"
             ],
             [
              1,
              "#f0f921"
             ]
            ],
            "type": "surface"
           }
          ],
          "table": [
           {
            "cells": {
             "fill": {
              "color": "#EBF0F8"
             },
             "line": {
              "color": "white"
             }
            },
            "header": {
             "fill": {
              "color": "#C8D4E3"
             },
             "line": {
              "color": "white"
             }
            },
            "type": "table"
           }
          ]
         },
         "layout": {
          "annotationdefaults": {
           "arrowcolor": "#2a3f5f",
           "arrowhead": 0,
           "arrowwidth": 1
          },
          "autotypenumbers": "strict",
          "coloraxis": {
           "colorbar": {
            "outlinewidth": 0,
            "ticks": ""
           }
          },
          "colorscale": {
           "diverging": [
            [
             0,
             "#8e0152"
            ],
            [
             0.1,
             "#c51b7d"
            ],
            [
             0.2,
             "#de77ae"
            ],
            [
             0.3,
             "#f1b6da"
            ],
            [
             0.4,
             "#fde0ef"
            ],
            [
             0.5,
             "#f7f7f7"
            ],
            [
             0.6,
             "#e6f5d0"
            ],
            [
             0.7,
             "#b8e186"
            ],
            [
             0.8,
             "#7fbc41"
            ],
            [
             0.9,
             "#4d9221"
            ],
            [
             1,
             "#276419"
            ]
           ],
           "sequential": [
            [
             0,
             "#0d0887"
            ],
            [
             0.1111111111111111,
             "#46039f"
            ],
            [
             0.2222222222222222,
             "#7201a8"
            ],
            [
             0.3333333333333333,
             "#9c179e"
            ],
            [
             0.4444444444444444,
             "#bd3786"
            ],
            [
             0.5555555555555556,
             "#d8576b"
            ],
            [
             0.6666666666666666,
             "#ed7953"
            ],
            [
             0.7777777777777778,
             "#fb9f3a"
            ],
            [
             0.8888888888888888,
             "#fdca26"
            ],
            [
             1,
             "#f0f921"
            ]
           ],
           "sequentialminus": [
            [
             0,
             "#0d0887"
            ],
            [
             0.1111111111111111,
             "#46039f"
            ],
            [
             0.2222222222222222,
             "#7201a8"
            ],
            [
             0.3333333333333333,
             "#9c179e"
            ],
            [
             0.4444444444444444,
             "#bd3786"
            ],
            [
             0.5555555555555556,
             "#d8576b"
            ],
            [
             0.6666666666666666,
             "#ed7953"
            ],
            [
             0.7777777777777778,
             "#fb9f3a"
            ],
            [
             0.8888888888888888,
             "#fdca26"
            ],
            [
             1,
             "#f0f921"
            ]
           ]
          },
          "colorway": [
           "#636efa",
           "#EF553B",
           "#00cc96",
           "#ab63fa",
           "#FFA15A",
           "#19d3f3",
           "#FF6692",
           "#B6E880",
           "#FF97FF",
           "#FECB52"
          ],
          "font": {
           "color": "#2a3f5f"
          },
          "geo": {
           "bgcolor": "white",
           "lakecolor": "white",
           "landcolor": "#E5ECF6",
           "showlakes": true,
           "showland": true,
           "subunitcolor": "white"
          },
          "hoverlabel": {
           "align": "left"
          },
          "hovermode": "closest",
          "mapbox": {
           "style": "light"
          },
          "paper_bgcolor": "white",
          "plot_bgcolor": "#E5ECF6",
          "polar": {
           "angularaxis": {
            "gridcolor": "white",
            "linecolor": "white",
            "ticks": ""
           },
           "bgcolor": "#E5ECF6",
           "radialaxis": {
            "gridcolor": "white",
            "linecolor": "white",
            "ticks": ""
           }
          },
          "scene": {
           "xaxis": {
            "backgroundcolor": "#E5ECF6",
            "gridcolor": "white",
            "gridwidth": 2,
            "linecolor": "white",
            "showbackground": true,
            "ticks": "",
            "zerolinecolor": "white"
           },
           "yaxis": {
            "backgroundcolor": "#E5ECF6",
            "gridcolor": "white",
            "gridwidth": 2,
            "linecolor": "white",
            "showbackground": true,
            "ticks": "",
            "zerolinecolor": "white"
           },
           "zaxis": {
            "backgroundcolor": "#E5ECF6",
            "gridcolor": "white",
            "gridwidth": 2,
            "linecolor": "white",
            "showbackground": true,
            "ticks": "",
            "zerolinecolor": "white"
           }
          },
          "shapedefaults": {
           "line": {
            "color": "#2a3f5f"
           }
          },
          "ternary": {
           "aaxis": {
            "gridcolor": "white",
            "linecolor": "white",
            "ticks": ""
           },
           "baxis": {
            "gridcolor": "white",
            "linecolor": "white",
            "ticks": ""
           },
           "bgcolor": "#E5ECF6",
           "caxis": {
            "gridcolor": "white",
            "linecolor": "white",
            "ticks": ""
           }
          },
          "title": {
           "x": 0.05
          },
          "xaxis": {
           "automargin": true,
           "gridcolor": "white",
           "linecolor": "white",
           "ticks": "",
           "title": {
            "standoff": 15
           },
           "zerolinecolor": "white",
           "zerolinewidth": 2
          },
          "yaxis": {
           "automargin": true,
           "gridcolor": "white",
           "linecolor": "white",
           "ticks": "",
           "title": {
            "standoff": 15
           },
           "zerolinecolor": "white",
           "zerolinewidth": 2
          }
         }
        },
        "title": {
         "text": "Interactive t-SNE Visualization with Category Info"
        },
        "xaxis": {
         "anchor": "y",
         "domain": [
          0,
          1
         ],
         "title": {
          "text": "x"
         }
        },
        "yaxis": {
         "anchor": "x",
         "domain": [
          0,
          1
         ],
         "title": {
          "text": "y"
         }
        }
       }
      }
     },
     "metadata": {},
     "output_type": "display_data"
    }
   ],
   "source": [
    "import plotly.express as px\n",
    "plot_data = pd.DataFrame({\n",
    "    'x': tsne_result[:, 0],\n",
    "    'y': tsne_result[:, 1],\n",
    "    'numeric_label': labels,\n",
    "    'category': [cat_mapping[label] for label in labels]\n",
    "})\n",
    "\n",
    "# Create an interactive scatter plot using Plotly Express\n",
    "fig = px.scatter(\n",
    "    plot_data, x='x', y='y', color='category',\n",
    "    hover_data={'numeric_label': True, 'category': True},\n",
    "    title=\"Interactive t-SNE Visualization with Category Info\"\n",
    ")\n",
    "fig.show()"
   ]
  },
  {
   "cell_type": "code",
   "execution_count": null,
   "metadata": {},
   "outputs": [],
   "source": []
  }
 ],
 "metadata": {
  "kernelspec": {
   "display_name": "env",
   "language": "python",
   "name": "python3"
  },
  "language_info": {
   "codemirror_mode": {
    "name": "ipython",
    "version": 3
   },
   "file_extension": ".py",
   "mimetype": "text/x-python",
   "name": "python",
   "nbconvert_exporter": "python",
   "pygments_lexer": "ipython3",
   "version": "3.12.4"
  }
 },
 "nbformat": 4,
 "nbformat_minor": 2
}
