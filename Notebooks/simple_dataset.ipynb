{
 "cells": [
  {
   "cell_type": "code",
   "execution_count": 6,
   "metadata": {},
   "outputs": [],
   "source": [
    "import pandas as pd\n",
    "from create_dataset import *"
   ]
  },
  {
   "cell_type": "code",
   "execution_count": 2,
   "metadata": {},
   "outputs": [],
   "source": [
    "dataset_path = \"Data/ShapeNetSem/Files/metadata.csv\"\n",
    "df = pd.read_csv(dataset_path)"
   ]
  },
  {
   "cell_type": "code",
   "execution_count": 39,
   "metadata": {},
   "outputs": [
    {
     "name": "stderr",
     "output_type": "stream",
     "text": [
      "/Users/rishabhrao/Documents/VSCode/multimodal-3d-gen/create_dataset.py:139: SettingWithCopyWarning: \n",
      "A value is trying to be set on a copy of a slice from a DataFrame.\n",
      "Try using .loc[row_indexer,col_indexer] = value instead\n",
      "\n",
      "See the caveats in the documentation: https://pandas.pydata.org/pandas-docs/stable/user_guide/indexing.html#returning-a-view-versus-a-copy\n",
      "  final_df['fullId'] = final_df['fullId'].apply(lambda x: x.replace('wss.', ''))\n",
      "/Users/rishabhrao/Documents/VSCode/multimodal-3d-gen/create_dataset.py:64: SettingWithCopyWarning: \n",
      "A value is trying to be set on a copy of a slice from a DataFrame.\n",
      "Try using .loc[row_indexer,col_indexer] = value instead\n",
      "\n",
      "See the caveats in the documentation: https://pandas.pydata.org/pandas-docs/stable/user_guide/indexing.html#returning-a-view-versus-a-copy\n",
      "  df['template1_desc'] = df.apply(lambda row: apply_template(row, template1), axis=1)\n",
      "/Users/rishabhrao/Documents/VSCode/multimodal-3d-gen/create_dataset.py:65: SettingWithCopyWarning: \n",
      "A value is trying to be set on a copy of a slice from a DataFrame.\n",
      "Try using .loc[row_indexer,col_indexer] = value instead\n",
      "\n",
      "See the caveats in the documentation: https://pandas.pydata.org/pandas-docs/stable/user_guide/indexing.html#returning-a-view-versus-a-copy\n",
      "  df['template2_desc'] = df.apply(lambda row: apply_template(row, template2), axis=1)\n",
      "/Users/rishabhrao/Documents/VSCode/multimodal-3d-gen/create_dataset.py:66: SettingWithCopyWarning: \n",
      "A value is trying to be set on a copy of a slice from a DataFrame.\n",
      "Try using .loc[row_indexer,col_indexer] = value instead\n",
      "\n",
      "See the caveats in the documentation: https://pandas.pydata.org/pandas-docs/stable/user_guide/indexing.html#returning-a-view-versus-a-copy\n",
      "  df['template3_desc'] = df.apply(lambda row: apply_template(row, template3), axis=1)\n"
     ]
    },
    {
     "data": {
      "text/plain": [
       "(139, (400, 9))"
      ]
     },
     "execution_count": 39,
     "metadata": {},
     "output_type": "execute_result"
    }
   ],
   "source": [
    "df = create_subset_by_random_sampling(40, 10)\n",
    "df['category'].nunique(), df.shape"
   ]
  },
  {
   "cell_type": "code",
   "execution_count": 40,
   "metadata": {},
   "outputs": [
    {
     "data": {
      "text/plain": [
       "['Knife',\n",
       " 'Knife,_StanfordSceneDBModels',\n",
       " 'CellPhone',\n",
       " 'Headphones',\n",
       " 'CellPhone,_AttributesTrain',\n",
       " 'Telephone,_StanfordSceneDBModels,_SceneGalleryModels',\n",
       " '_StanfordSceneDBModels,CellPhone',\n",
       " '_StanfordSceneDBModels,CellPhone,_AttributesTrain',\n",
       " 'Chair,SideChair',\n",
       " 'Chair,OfficeSideChair',\n",
       " 'VideoGameController,PSP',\n",
       " 'VideoGameConsole,PS2',\n",
       " 'VideoGameConsole,_StanfordSceneDBModels,_SceneGalleryModels,PS3,_ReferenceSizeModels',\n",
       " 'VideoGameConsole,PS',\n",
       " 'VideoGameConsole,PS3',\n",
       " '_StanfordSceneDBModels,VideoGameConsole,PS3',\n",
       " '_StanfordSceneDBModels,VideoGameConsole,PS2',\n",
       " 'StandingClock,Clock',\n",
       " '_StanfordSceneDBModels,Shoes',\n",
       " 'Shoes,_StanfordSceneDBModels',\n",
       " 'Shoes',\n",
       " 'Shoes,_StanfordSceneDBModels,_Attributes',\n",
       " 'DrinkingUtensil,WineGlass',\n",
       " '_StanfordSceneDBModels,DrinkingUtensil,WineGlass',\n",
       " 'Gun',\n",
       " 'Gun,_Attributes',\n",
       " 'Gun,_AttributesTrain',\n",
       " 'ChestOfDrawers,Nightstand',\n",
       " 'Bed,QueenBedWithNightstand',\n",
       " 'ChestOfDrawers,DresserWithMirror,Dresser',\n",
       " 'ChestOfDrawers,Dresser,DresserWithMirror',\n",
       " 'TrashBin',\n",
       " 'TrashBin,_StanfordSceneDBModels,_SceneGalleryModels,_Attributes',\n",
       " 'TrashBin,_Attributes',\n",
       " 'Pencil,_StanfordSceneDBModels,_SceneGalleryModels,_ReferenceSizeModels',\n",
       " 'Pencil,_StanfordSceneDBModels',\n",
       " 'Pencil',\n",
       " 'Pen,_StanfordSceneDBModels',\n",
       " 'RubiksCube,_StanfordSceneDBModels',\n",
       " 'RubiksCube',\n",
       " 'RubiksCube,_StanfordSceneDBModels,_SceneGalleryModels',\n",
       " 'RubiksCube,_PilotStudyModels,_StanfordSceneDBModels,_SceneGalleryModels,_ReferenceSizeModels',\n",
       " '_StanfordSceneDBModels,RubiksCube',\n",
       " 'Hammer',\n",
       " 'Hammer,_Attributes',\n",
       " 'WineRack',\n",
       " '_StanfordSceneDBModels,DrinkingUtensil,Mug',\n",
       " 'DrinkingUtensil,Mug',\n",
       " 'DrinkingUtensil,_PilotStudyModels,_StanfordSceneDBModels,_SceneGalleryModels,Mug,_Attributes',\n",
       " 'DrinkingUtensil,_StanfordSceneDBModels,_SceneGalleryModels,Mug',\n",
       " 'Notepad,_StanfordSceneDBModels,_SceneGalleryModels',\n",
       " 'Notepad',\n",
       " 'Notepad,_PilotStudyModels,_StanfordSceneDBModels,_SceneGalleryModels',\n",
       " 'Guitar',\n",
       " 'GuitarStand',\n",
       " 'Guitar,_Attributes',\n",
       " 'Speaker',\n",
       " 'Speaker,_Attributes',\n",
       " 'Speaker,_StanfordSceneDBModels,_SceneGalleryModels',\n",
       " 'Speaker,_StanfordSceneDBModels',\n",
       " 'Cabinet',\n",
       " 'FileCabinet',\n",
       " 'Cabinet,Sideboard',\n",
       " 'Bookcase,6Shelves,_StanfordSceneDBModels',\n",
       " 'Bookcase,3Shelves',\n",
       " 'Bookcase,4Shelves',\n",
       " 'Bookcase,7Shelves',\n",
       " 'Bookcase,3Shelves,_StanfordSceneDBModels',\n",
       " 'Bookcase,5Shelves',\n",
       " 'Bookcase,2Shelves',\n",
       " 'Bookcase,6Shelves',\n",
       " 'Helicopter',\n",
       " 'Helicopter,_Attributes',\n",
       " 'Table,AccentTable,RoundTable',\n",
       " 'AccentTable,RoundTable',\n",
       " 'Table,AccentTable',\n",
       " 'Table,AccentTable,RoundTable,_AttributesTrain',\n",
       " 'Stool,_StanfordSceneDBModels',\n",
       " 'Stool',\n",
       " 'Stool,Barstool,_StanfordSceneDBModels,_AttributesTrain',\n",
       " 'Stool,Barstool',\n",
       " 'Stool,Barstool,_AttributesTrain',\n",
       " 'Shower',\n",
       " 'Faucet,Showerhead',\n",
       " 'Showerhead,Faucet',\n",
       " 'Showerhead,Faucet,_StanfordSceneDBModels',\n",
       " 'Fork,_StanfordSceneDBModels,_Attributes',\n",
       " 'Fork',\n",
       " 'Fork,_Attributes',\n",
       " 'Bucket,_Attributes',\n",
       " 'Bucket',\n",
       " '_GeoAutotagEvalSet,Bucket',\n",
       " 'Bucket,_StanfordSceneDBModels',\n",
       " 'Ball,_AttributesTrain',\n",
       " 'Ball',\n",
       " '_StanfordSceneDBModels,Ball',\n",
       " 'Headphones,_StanfordSceneDBModels,_SceneGalleryModels,_Attributes',\n",
       " 'Headphones,_StanfordSceneDBModels,_SceneGalleryModels,_ReferenceSizeModels,_Attributes',\n",
       " 'Headphones,_PilotStudyModels,_StanfordSceneDBModels,_SceneGalleryModels,_Attributes',\n",
       " 'Headphones,_StanfordSceneDBModels,_Attributes',\n",
       " '_EvalSetNoScenesNoPrior,Pan',\n",
       " '_StanfordSceneDBModels,Pan',\n",
       " 'Pan',\n",
       " 'Bed,PosterBed',\n",
       " 'Bed,CanopyBed,PosterBed',\n",
       " 'Table,CoffeeTable,RoundTable',\n",
       " 'Table,CoffeeTable,_StanfordSceneDBModels,RoundTable',\n",
       " 'Table,RoundTable',\n",
       " 'Table,_StanfordSceneDBModels,RoundTable,DiningTable',\n",
       " 'Table,EndTable,_StanfordSceneDBModels,RoundTable',\n",
       " 'Bed,LoftBed',\n",
       " 'Bed,_AttributesTrain,QueenBed',\n",
       " 'Bed,KingBed',\n",
       " 'Bed,QueenBed',\n",
       " 'Bed,DoubleBed',\n",
       " 'Piano',\n",
       " 'Piano,_AttributesTrain',\n",
       " 'PianoKeyboard',\n",
       " 'Piano,_Attributes',\n",
       " 'CeilingFan,Fan,_StanfordSceneDBModels',\n",
       " 'CeilingFan,Fan',\n",
       " 'Fan',\n",
       " 'Fan,CeilingFan',\n",
       " '_GeoAutotagEvalSet,Wii,VideoGameConsole',\n",
       " 'VideoGameConsole,Wii',\n",
       " 'Xbox360,VideoGameConsole',\n",
       " '_StanfordSceneDBModels,VideoGameConsole,Xbox',\n",
       " 'VideoGameConsole,Xbox',\n",
       " 'Lamp,DeskLamp',\n",
       " 'Lamp,TableLamp',\n",
       " 'Lamp',\n",
       " 'Lamp,FloorLamp',\n",
       " 'Lamp,CeilingLamp',\n",
       " 'Lamp,WallLamp',\n",
       " 'TableClock,Clock',\n",
       " '_PilotStudyModels,_StanfordSceneDBModels,_SceneGalleryModels,TableClock,Clock',\n",
       " 'Radio,TableClock,Clock',\n",
       " '_StanfordSceneDBModels,Xbox360,VideoGameConsole',\n",
       " '_StanfordSceneDBModels,VideoGameConsole,Xbox360']"
      ]
     },
     "execution_count": 40,
     "metadata": {},
     "output_type": "execute_result"
    }
   ],
   "source": [
    "df['category'].unique().tolist()"
   ]
  },
  {
   "cell_type": "code",
   "execution_count": 41,
   "metadata": {},
   "outputs": [],
   "source": [
    "df.to_csv(\"Data/ShapeNetSem/Datasets/baseline_400.csv\", index=False)"
   ]
  },
  {
   "cell_type": "code",
   "execution_count": 4,
   "metadata": {},
   "outputs": [
    {
     "name": "stdout",
     "output_type": "stream",
     "text": [
      "Before dropping na: (12288, 16)\n",
      "After dropping na: (9297, 16)\n"
     ]
    }
   ],
   "source": [
    "def filter_categories(df):\n",
    "    # Drop rows with NaN values in 'category' column\n",
    "    df = df.dropna(subset=['category'])\n",
    "\n",
    "    # Apply the filter to remove subcategories with underscores\n",
    "    def filter_subcategories(x):\n",
    "        # Split the string, filter out subcategories with an underscore\n",
    "        filtered = [cat for cat in str(x).split(',') if '_' not in cat]\n",
    "        # If no valid subcategory left, return None (indicating the row should be dropped later)\n",
    "        return ','.join(filtered) if filtered else None\n",
    "    \n",
    "    # Use .loc to modify the 'category' column in place\n",
    "    df.loc[:, 'category'] = df['category'].apply(filter_subcategories)\n",
    "\n",
    "    # Drop rows where 'category' is now None (i.e., no valid subcategories left)\n",
    "    df = df.dropna(subset=['category'])\n",
    "    df['fullId'] = df['fullId'].str.replace('wss.', '', regex=False)\n",
    "    return df\n",
    "\n",
    "# Apply the function to your dataframe\n",
    "print(f\"Before dropping na: {df.shape}\")\n",
    "df = filter_categories(df)\n",
    "print(f\"After dropping na: {df.shape}\")"
   ]
  },
  {
   "cell_type": "code",
   "execution_count": 5,
   "metadata": {},
   "outputs": [
    {
     "name": "stdout",
     "output_type": "stream",
     "text": [
      "435\n"
     ]
    },
    {
     "data": {
      "text/plain": [
       "(None,\n",
       " 0                  WallArt\n",
       " 1           Chair,Recliner\n",
       " 2                  Speaker\n",
       " 3                    Sword\n",
       " 4        Chair,OfficeChair\n",
       "                ...        \n",
       " 12283        Lamp,WallLamp\n",
       " 12284            CellPhone\n",
       " 12285           RiceCooker\n",
       " 12286        Lamp,DeskLamp\n",
       " 12287                 Vase\n",
       " Name: category, Length: 9297, dtype: object)"
      ]
     },
     "execution_count": 5,
     "metadata": {},
     "output_type": "execute_result"
    }
   ],
   "source": [
    "print(df['category'].nunique()), df['category']"
   ]
  },
  {
   "cell_type": "code",
   "execution_count": 6,
   "metadata": {},
   "outputs": [
    {
     "data": {
      "text/html": [
       "<div>\n",
       "<style scoped>\n",
       "    .dataframe tbody tr th:only-of-type {\n",
       "        vertical-align: middle;\n",
       "    }\n",
       "\n",
       "    .dataframe tbody tr th {\n",
       "        vertical-align: top;\n",
       "    }\n",
       "\n",
       "    .dataframe thead th {\n",
       "        text-align: right;\n",
       "    }\n",
       "</style>\n",
       "<table border=\"1\" class=\"dataframe\">\n",
       "  <thead>\n",
       "    <tr style=\"text-align: right;\">\n",
       "      <th></th>\n",
       "      <th>fullId</th>\n",
       "      <th>category</th>\n",
       "      <th>wnsynset</th>\n",
       "      <th>wnlemmas</th>\n",
       "      <th>up</th>\n",
       "      <th>front</th>\n",
       "      <th>unit</th>\n",
       "      <th>aligned.dims</th>\n",
       "      <th>isContainerLike</th>\n",
       "      <th>surfaceVolume</th>\n",
       "      <th>solidVolume</th>\n",
       "      <th>supportSurfaceArea</th>\n",
       "      <th>weight</th>\n",
       "      <th>staticFrictionForce</th>\n",
       "      <th>name</th>\n",
       "      <th>tags</th>\n",
       "    </tr>\n",
       "  </thead>\n",
       "  <tbody>\n",
       "    <tr>\n",
       "      <th>0</th>\n",
       "      <td>1004f30be305f33d28a1548e344f0e2e</td>\n",
       "      <td>WallArt</td>\n",
       "      <td>n3445436</td>\n",
       "      <td>globe</td>\n",
       "      <td>0\\,0\\,1</td>\n",
       "      <td>0\\,-1\\,0</td>\n",
       "      <td>0.015032</td>\n",
       "      <td>111.97104\\,84.16881\\,0.0</td>\n",
       "      <td>NaN</td>\n",
       "      <td>NaN</td>\n",
       "      <td>NaN</td>\n",
       "      <td>NaN</td>\n",
       "      <td>NaN</td>\n",
       "      <td>NaN</td>\n",
       "      <td>globe blue spruce</td>\n",
       "      <td>*</td>\n",
       "    </tr>\n",
       "    <tr>\n",
       "      <th>1</th>\n",
       "      <td>100f39dce7690f59efb94709f30ce0d2</td>\n",
       "      <td>Chair,Recliner</td>\n",
       "      <td>n4069540</td>\n",
       "      <td>recliner,reclining chair,lounger</td>\n",
       "      <td>0\\,0\\,1</td>\n",
       "      <td>0\\,-1\\,0</td>\n",
       "      <td>0.012947</td>\n",
       "      <td>111.34567\\,100.547745\\,96.13275</td>\n",
       "      <td>NaN</td>\n",
       "      <td>NaN</td>\n",
       "      <td>NaN</td>\n",
       "      <td>NaN</td>\n",
       "      <td>NaN</td>\n",
       "      <td>NaN</td>\n",
       "      <td>couch</td>\n",
       "      <td>carpet recliner</td>\n",
       "    </tr>\n",
       "    <tr>\n",
       "      <th>2</th>\n",
       "      <td>101354f9d8dede686f7b08d9de913afe</td>\n",
       "      <td>Speaker</td>\n",
       "      <td>n3696785</td>\n",
       "      <td>loudspeaker,speaker,speaker unit,loudspeaker s...</td>\n",
       "      <td>NaN</td>\n",
       "      <td>NaN</td>\n",
       "      <td>0.013620</td>\n",
       "      <td>43.43313\\,60.591843\\,32.17259</td>\n",
       "      <td>NaN</td>\n",
       "      <td>NaN</td>\n",
       "      <td>NaN</td>\n",
       "      <td>NaN</td>\n",
       "      <td>NaN</td>\n",
       "      <td>NaN</td>\n",
       "      <td>sound speaker</td>\n",
       "      <td>audio,audio speaker,music,sound,sound speaker,...</td>\n",
       "    </tr>\n",
       "    <tr>\n",
       "      <th>3</th>\n",
       "      <td>1018f01d42ae7fad52249d8432f6087e</td>\n",
       "      <td>Sword</td>\n",
       "      <td>n4380981</td>\n",
       "      <td>sword,blade,brand,steel</td>\n",
       "      <td>NaN</td>\n",
       "      <td>NaN</td>\n",
       "      <td>0.010424</td>\n",
       "      <td>78.23693\\,4.360932\\,18.058533</td>\n",
       "      <td>NaN</td>\n",
       "      <td>NaN</td>\n",
       "      <td>NaN</td>\n",
       "      <td>NaN</td>\n",
       "      <td>NaN</td>\n",
       "      <td>NaN</td>\n",
       "      <td>sword</td>\n",
       "      <td>blade,sword,weapon</td>\n",
       "    </tr>\n",
       "    <tr>\n",
       "      <th>4</th>\n",
       "      <td>1022fe7dd03f6a4d4d5ad9f13ac9f4e7</td>\n",
       "      <td>Chair,OfficeChair</td>\n",
       "      <td>n3005231</td>\n",
       "      <td>chair</td>\n",
       "      <td>0\\,0\\,1</td>\n",
       "      <td>0\\,1\\,0</td>\n",
       "      <td>0.017984</td>\n",
       "      <td>60.366123\\,98.00925\\,66.79712</td>\n",
       "      <td>NaN</td>\n",
       "      <td>NaN</td>\n",
       "      <td>NaN</td>\n",
       "      <td>NaN</td>\n",
       "      <td>NaN</td>\n",
       "      <td>NaN</td>\n",
       "      <td>office chair</td>\n",
       "      <td>fauteuil de bureau,office chair</td>\n",
       "    </tr>\n",
       "  </tbody>\n",
       "</table>\n",
       "</div>"
      ],
      "text/plain": [
       "                             fullId           category  wnsynset  \\\n",
       "0  1004f30be305f33d28a1548e344f0e2e            WallArt  n3445436   \n",
       "1  100f39dce7690f59efb94709f30ce0d2     Chair,Recliner  n4069540   \n",
       "2  101354f9d8dede686f7b08d9de913afe            Speaker  n3696785   \n",
       "3  1018f01d42ae7fad52249d8432f6087e              Sword  n4380981   \n",
       "4  1022fe7dd03f6a4d4d5ad9f13ac9f4e7  Chair,OfficeChair  n3005231   \n",
       "\n",
       "                                            wnlemmas       up     front  \\\n",
       "0                                              globe  0\\,0\\,1  0\\,-1\\,0   \n",
       "1                   recliner,reclining chair,lounger  0\\,0\\,1  0\\,-1\\,0   \n",
       "2  loudspeaker,speaker,speaker unit,loudspeaker s...      NaN       NaN   \n",
       "3                            sword,blade,brand,steel      NaN       NaN   \n",
       "4                                              chair  0\\,0\\,1   0\\,1\\,0   \n",
       "\n",
       "       unit                     aligned.dims  isContainerLike  surfaceVolume  \\\n",
       "0  0.015032         111.97104\\,84.16881\\,0.0              NaN            NaN   \n",
       "1  0.012947  111.34567\\,100.547745\\,96.13275              NaN            NaN   \n",
       "2  0.013620    43.43313\\,60.591843\\,32.17259              NaN            NaN   \n",
       "3  0.010424    78.23693\\,4.360932\\,18.058533              NaN            NaN   \n",
       "4  0.017984    60.366123\\,98.00925\\,66.79712              NaN            NaN   \n",
       "\n",
       "   solidVolume  supportSurfaceArea  weight  staticFrictionForce  \\\n",
       "0          NaN                 NaN     NaN                  NaN   \n",
       "1          NaN                 NaN     NaN                  NaN   \n",
       "2          NaN                 NaN     NaN                  NaN   \n",
       "3          NaN                 NaN     NaN                  NaN   \n",
       "4          NaN                 NaN     NaN                  NaN   \n",
       "\n",
       "                name                                               tags  \n",
       "0  globe blue spruce                                                  *  \n",
       "1              couch                                    carpet recliner  \n",
       "2      sound speaker  audio,audio speaker,music,sound,sound speaker,...  \n",
       "3              sword                                 blade,sword,weapon  \n",
       "4       office chair                    fauteuil de bureau,office chair  "
      ]
     },
     "execution_count": 6,
     "metadata": {},
     "output_type": "execute_result"
    }
   ],
   "source": [
    "df.head()"
   ]
  },
  {
   "cell_type": "code",
   "execution_count": 7,
   "metadata": {},
   "outputs": [
    {
     "name": "stdout",
     "output_type": "stream",
     "text": [
      "Number of subcategories unique:  [1 2 3 4]\n",
      "Shape before removing more than 1:  (9297, 17)\n",
      "Shape after removing more than 1:  (6086, 17)\n"
     ]
    }
   ],
   "source": [
    "df['number_of_subcategories'] = df['category'].apply(lambda x: len(str(x).split(',')) if isinstance(x, str) else 0)\n",
    "print(\"Number of subcategories unique: \", df['number_of_subcategories'].unique())\n",
    "print(\"Shape before removing more than 1: \", df.shape)\n",
    "df = df[df['number_of_subcategories'] <= 1]\n",
    "print(\"Shape after removing more than 1: \", df.shape)"
   ]
  },
  {
   "cell_type": "code",
   "execution_count": 8,
   "metadata": {},
   "outputs": [
    {
     "data": {
      "text/plain": [
       "266"
      ]
     },
     "execution_count": 8,
     "metadata": {},
     "output_type": "execute_result"
    }
   ],
   "source": [
    "df['category'].nunique()"
   ]
  },
  {
   "cell_type": "code",
   "execution_count": 9,
   "metadata": {},
   "outputs": [
    {
     "name": "stdout",
     "output_type": "stream",
     "text": [
      "30\n",
      "['Bench', 'Book', 'Cabinet', 'Camera', 'Candle', 'CellPhone', 'Chair', 'ChestOfDrawers', 'Couch', 'Curtain', 'Desk', 'FoodItem', 'Guitar', 'Gun', 'Ipod', 'MediaPlayer', 'Monitor', 'Pencil', 'PersonStanding', 'Piano', 'Plant', 'PottedPlant', 'Refrigerator', 'Speaker', 'TV', 'Table', 'ToyFigure', 'TrashBin', 'Vase', 'WallArt']\n",
      "category\n",
      "Couch             379\n",
      "Chair             304\n",
      "TV                232\n",
      "PottedPlant       188\n",
      "Desk              185\n",
      "Vase              164\n",
      "Cabinet           146\n",
      "ChestOfDrawers    138\n",
      "Monitor           127\n",
      "CellPhone         126\n",
      "TrashBin          117\n",
      "Plant              98\n",
      "ToyFigure          88\n",
      "Book               84\n",
      "Bench              84\n",
      "Table              82\n",
      "Pencil             80\n",
      "Speaker            69\n",
      "Refrigerator       68\n",
      "Camera             68\n",
      "Guitar             65\n",
      "MediaPlayer        62\n",
      "WallArt            62\n",
      "FoodItem           61\n",
      "PersonStanding     57\n",
      "Piano              56\n",
      "Curtain            55\n",
      "Gun                54\n",
      "Candle             54\n",
      "Ipod               53\n",
      "Name: count, dtype: int64\n"
     ]
    }
   ],
   "source": [
    "filtered_df = df[df['category'].isin(df['category'].value_counts()[df['category'].value_counts() >= 50].index)]\n",
    "print(filtered_df['category'].nunique())\n",
    "print(sorted(filtered_df['category'].unique()))\n",
    "print(filtered_df['category'].value_counts())"
   ]
  },
  {
   "cell_type": "code",
   "execution_count": 10,
   "metadata": {},
   "outputs": [
    {
     "data": {
      "text/plain": [
       "(3406, 17)"
      ]
     },
     "execution_count": 10,
     "metadata": {},
     "output_type": "execute_result"
    }
   ],
   "source": [
    "filtered_df.shape"
   ]
  },
  {
   "cell_type": "code",
   "execution_count": 5,
   "metadata": {},
   "outputs": [],
   "source": [
    "from create_dataset import *"
   ]
  },
  {
   "cell_type": "code",
   "execution_count": 6,
   "metadata": {},
   "outputs": [],
   "source": [
    "def sample_by_categories_list(df, categories, num_samples):\n",
    "    # Ensure that the category column exists and is of type string\n",
    "    if 'category' not in df.columns:\n",
    "        raise ValueError(\"The DataFrame must have a 'category' column.\")\n",
    "\n",
    "    sampled_df = pd.DataFrame()\n",
    "\n",
    "    # For each selected category, sample the required number of samples\n",
    "    for category in categories:\n",
    "        category_samples = df[df['category'] == category].sample(n=num_samples, random_state=42)\n",
    "        sampled_df = pd.concat([sampled_df, category_samples])\n",
    "        \n",
    "    return sampled_df\n",
    "\n",
    "def create_subset_with_desc(df):\n",
    "    final_df = create_subset_by_random_sampling(df)\n",
    "    return final_df"
   ]
  },
  {
   "cell_type": "code",
   "execution_count": 22,
   "metadata": {},
   "outputs": [
    {
     "data": {
      "text/plain": [
       "(1500, 17)"
      ]
     },
     "execution_count": 22,
     "metadata": {},
     "output_type": "execute_result"
    }
   ],
   "source": [
    "sampled_df = sample_by_categories_list(filtered_df, filtered_df['category'].unique().tolist(), 50)\n",
    "sampled_df.shape"
   ]
  },
  {
   "cell_type": "code",
   "execution_count": 1,
   "metadata": {},
   "outputs": [
    {
     "data": {
      "text/plain": [
       "((1500, 17), 30)"
      ]
     },
     "execution_count": 1,
     "metadata": {},
     "output_type": "execute_result"
    }
   ],
   "source": [
    "import pandas as pd\n",
    "\n",
    "sampled_df = pd.read_csv(\"Data/ShapeNetSem/Datasets/final_template_30cat.csv\")\n",
    "sampled_df.shape, sampled_df['category'].nunique()"
   ]
  },
  {
   "cell_type": "code",
   "execution_count": 7,
   "metadata": {},
   "outputs": [
    {
     "name": "stderr",
     "output_type": "stream",
     "text": [
      "/Users/rishabhrao/Documents/VSCode/multimodal-3d-gen/create_dataset.py:123: SettingWithCopyWarning: \n",
      "A value is trying to be set on a copy of a slice from a DataFrame.\n",
      "Try using .loc[row_indexer,col_indexer] = value instead\n",
      "\n",
      "See the caveats in the documentation: https://pandas.pydata.org/pandas-docs/stable/user_guide/indexing.html#returning-a-view-versus-a-copy\n",
      "  final_df['fullId'] = final_df['fullId'].apply(lambda x: x.replace('wss.', ''))\n",
      "/Users/rishabhrao/Documents/VSCode/multimodal-3d-gen/create_dataset.py:64: SettingWithCopyWarning: \n",
      "A value is trying to be set on a copy of a slice from a DataFrame.\n",
      "Try using .loc[row_indexer,col_indexer] = value instead\n",
      "\n",
      "See the caveats in the documentation: https://pandas.pydata.org/pandas-docs/stable/user_guide/indexing.html#returning-a-view-versus-a-copy\n",
      "  df['template1_desc'] = df.apply(lambda row: apply_template(row, template1), axis=1)\n",
      "/Users/rishabhrao/Documents/VSCode/multimodal-3d-gen/create_dataset.py:65: SettingWithCopyWarning: \n",
      "A value is trying to be set on a copy of a slice from a DataFrame.\n",
      "Try using .loc[row_indexer,col_indexer] = value instead\n",
      "\n",
      "See the caveats in the documentation: https://pandas.pydata.org/pandas-docs/stable/user_guide/indexing.html#returning-a-view-versus-a-copy\n",
      "  df['template2_desc'] = df.apply(lambda row: apply_template(row, template2), axis=1)\n",
      "/Users/rishabhrao/Documents/VSCode/multimodal-3d-gen/create_dataset.py:66: SettingWithCopyWarning: \n",
      "A value is trying to be set on a copy of a slice from a DataFrame.\n",
      "Try using .loc[row_indexer,col_indexer] = value instead\n",
      "\n",
      "See the caveats in the documentation: https://pandas.pydata.org/pandas-docs/stable/user_guide/indexing.html#returning-a-view-versus-a-copy\n",
      "  df['template3_desc'] = df.apply(lambda row: apply_template(row, template3), axis=1)\n"
     ]
    },
    {
     "data": {
      "text/html": [
       "<div>\n",
       "<style scoped>\n",
       "    .dataframe tbody tr th:only-of-type {\n",
       "        vertical-align: middle;\n",
       "    }\n",
       "\n",
       "    .dataframe tbody tr th {\n",
       "        vertical-align: top;\n",
       "    }\n",
       "\n",
       "    .dataframe thead th {\n",
       "        text-align: right;\n",
       "    }\n",
       "</style>\n",
       "<table border=\"1\" class=\"dataframe\">\n",
       "  <thead>\n",
       "    <tr style=\"text-align: right;\">\n",
       "      <th></th>\n",
       "      <th>fullId</th>\n",
       "      <th>category</th>\n",
       "      <th>name</th>\n",
       "      <th>tags</th>\n",
       "      <th>synset words</th>\n",
       "      <th>synset gloss</th>\n",
       "      <th>template1_desc</th>\n",
       "      <th>template2_desc</th>\n",
       "      <th>template3_desc</th>\n",
       "    </tr>\n",
       "  </thead>\n",
       "  <tbody>\n",
       "    <tr>\n",
       "      <th>0</th>\n",
       "      <td>cfc3974d358bba253f1665416efcedcb</td>\n",
       "      <td>WallArt</td>\n",
       "      <td>wanted a brain</td>\n",
       "      <td>*</td>\n",
       "      <td>[hanging,wall hanging]</td>\n",
       "      <td>[decoration that is hung (as a tapestry) on a ...</td>\n",
       "      <td>A wanted a brain which is commonly known as &lt;n...</td>\n",
       "      <td>The wanted a brain is a hanging,wall hanging o...</td>\n",
       "      <td>wanted a brain is a hanging,wall hanging desig...</td>\n",
       "    </tr>\n",
       "    <tr>\n",
       "      <th>1</th>\n",
       "      <td>e68ede23dbf7659f579cea75b38cb7ce</td>\n",
       "      <td>WallArt</td>\n",
       "      <td>titanic plaque</td>\n",
       "      <td>*</td>\n",
       "      <td>[hanging,wall hanging]</td>\n",
       "      <td>[decoration that is hung (as a tapestry) on a ...</td>\n",
       "      <td>A titanic plaque which is commonly known as &lt;n...</td>\n",
       "      <td>The titanic plaque is a hanging,wall hanging o...</td>\n",
       "      <td>titanic plaque is a hanging,wall hanging desig...</td>\n",
       "    </tr>\n",
       "    <tr>\n",
       "      <th>2</th>\n",
       "      <td>1004f30be305f33d28a1548e344f0e2e</td>\n",
       "      <td>WallArt</td>\n",
       "      <td>globe blue spruce</td>\n",
       "      <td>*</td>\n",
       "      <td>[hanging,wall hanging]</td>\n",
       "      <td>[decoration that is hung (as a tapestry) on a ...</td>\n",
       "      <td>A globe blue spruce which is commonly known as...</td>\n",
       "      <td>The globe blue spruce is a hanging,wall hangin...</td>\n",
       "      <td>globe blue spruce is a hanging,wall hanging de...</td>\n",
       "    </tr>\n",
       "    <tr>\n",
       "      <th>3</th>\n",
       "      <td>e72f341b107f408c3bac5db195d5c0cc</td>\n",
       "      <td>WallArt</td>\n",
       "      <td>three framed tree pictures</td>\n",
       "      <td>arbre,arbres,bois,cadres,carde,design,frame,fr...</td>\n",
       "      <td>[hanging,wall hanging]</td>\n",
       "      <td>[decoration that is hung (as a tapestry) on a ...</td>\n",
       "      <td>A three framed tree pictures which is commonly...</td>\n",
       "      <td>The three framed tree pictures is a hanging,wa...</td>\n",
       "      <td>three framed tree pictures is a hanging,wall h...</td>\n",
       "    </tr>\n",
       "    <tr>\n",
       "      <th>4</th>\n",
       "      <td>3945227708a0089a83aa9615d9f6f7bc</td>\n",
       "      <td>WallArt</td>\n",
       "      <td>original artwork   mounted photograph</td>\n",
       "      <td>accents,angel,cemetary,child,decoration,galves...</td>\n",
       "      <td>[hanging,wall hanging]</td>\n",
       "      <td>[decoration that is hung (as a tapestry) on a ...</td>\n",
       "      <td>A original artwork   mounted photograph which ...</td>\n",
       "      <td>The original artwork   mounted photograph is a...</td>\n",
       "      <td>original artwork   mounted photograph is a han...</td>\n",
       "    </tr>\n",
       "  </tbody>\n",
       "</table>\n",
       "</div>"
      ],
      "text/plain": [
       "                             fullId category  \\\n",
       "0  cfc3974d358bba253f1665416efcedcb  WallArt   \n",
       "1  e68ede23dbf7659f579cea75b38cb7ce  WallArt   \n",
       "2  1004f30be305f33d28a1548e344f0e2e  WallArt   \n",
       "3  e72f341b107f408c3bac5db195d5c0cc  WallArt   \n",
       "4  3945227708a0089a83aa9615d9f6f7bc  WallArt   \n",
       "\n",
       "                                    name  \\\n",
       "0                         wanted a brain   \n",
       "1                         titanic plaque   \n",
       "2                      globe blue spruce   \n",
       "3             three framed tree pictures   \n",
       "4  original artwork   mounted photograph   \n",
       "\n",
       "                                                tags            synset words  \\\n",
       "0                                                  *  [hanging,wall hanging]   \n",
       "1                                                  *  [hanging,wall hanging]   \n",
       "2                                                  *  [hanging,wall hanging]   \n",
       "3  arbre,arbres,bois,cadres,carde,design,frame,fr...  [hanging,wall hanging]   \n",
       "4  accents,angel,cemetary,child,decoration,galves...  [hanging,wall hanging]   \n",
       "\n",
       "                                        synset gloss  \\\n",
       "0  [decoration that is hung (as a tapestry) on a ...   \n",
       "1  [decoration that is hung (as a tapestry) on a ...   \n",
       "2  [decoration that is hung (as a tapestry) on a ...   \n",
       "3  [decoration that is hung (as a tapestry) on a ...   \n",
       "4  [decoration that is hung (as a tapestry) on a ...   \n",
       "\n",
       "                                      template1_desc  \\\n",
       "0  A wanted a brain which is commonly known as <n...   \n",
       "1  A titanic plaque which is commonly known as <n...   \n",
       "2  A globe blue spruce which is commonly known as...   \n",
       "3  A three framed tree pictures which is commonly...   \n",
       "4  A original artwork   mounted photograph which ...   \n",
       "\n",
       "                                      template2_desc  \\\n",
       "0  The wanted a brain is a hanging,wall hanging o...   \n",
       "1  The titanic plaque is a hanging,wall hanging o...   \n",
       "2  The globe blue spruce is a hanging,wall hangin...   \n",
       "3  The three framed tree pictures is a hanging,wa...   \n",
       "4  The original artwork   mounted photograph is a...   \n",
       "\n",
       "                                      template3_desc  \n",
       "0  wanted a brain is a hanging,wall hanging desig...  \n",
       "1  titanic plaque is a hanging,wall hanging desig...  \n",
       "2  globe blue spruce is a hanging,wall hanging de...  \n",
       "3  three framed tree pictures is a hanging,wall h...  \n",
       "4  original artwork   mounted photograph is a han...  "
      ]
     },
     "execution_count": 7,
     "metadata": {},
     "output_type": "execute_result"
    }
   ],
   "source": [
    "desc_df = create_subset_with_desc(sampled_df)\n",
    "desc_df.head()"
   ]
  },
  {
   "cell_type": "code",
   "execution_count": 26,
   "metadata": {},
   "outputs": [
    {
     "data": {
      "text/plain": [
       "((1500, 17), 30)"
      ]
     },
     "execution_count": 26,
     "metadata": {},
     "output_type": "execute_result"
    }
   ],
   "source": [
    "sampled_df.shape, sampled_df['category'].nunique()"
   ]
  },
  {
   "cell_type": "code",
   "execution_count": 8,
   "metadata": {},
   "outputs": [],
   "source": [
    "desc_df.to_csv(\"Data/ShapeNetSem/Datasets/final_template_20cat.csv\", index=False)"
   ]
  },
  {
   "cell_type": "code",
   "execution_count": 1,
   "metadata": {},
   "outputs": [],
   "source": [
    "from create_dataset import *"
   ]
  },
  {
   "cell_type": "code",
   "execution_count": 5,
   "metadata": {},
   "outputs": [],
   "source": [
    "def sample_by_categories(df, num_categories, num_samples):\n",
    "    # Ensure that the category column exists and is of type string\n",
    "    if 'category' not in df.columns:\n",
    "        raise ValueError(\"The DataFrame must have a 'category' column.\")\n",
    "\n",
    "    # Sample the specified number of categories\n",
    "    categories = df['category'].value_counts().index[:num_categories]\n",
    "\n",
    "    sampled_df = pd.DataFrame()\n",
    "\n",
    "    # For each selected category, sample the required number of samples\n",
    "    for category in categories:\n",
    "        category_samples = df[df['category'] == category].sample(n=num_samples, random_state=42)\n",
    "        sampled_df = pd.concat([sampled_df, category_samples])\n",
    "\n",
    "    return sampled_df\n",
    "\n",
    "def create_simple_subset(num_categories, num_samples):\n",
    "    df = pd.read_csv(\"Data/ShapeNetSem/Files/metadata_filtered.csv\")\n",
    "    sampled_df = sample_by_categories(df, num_categories, num_samples)\n",
    "    final_df = create_subset_by_random_sampling(sampled_df)\n",
    "    return final_df"
   ]
  },
  {
   "cell_type": "code",
   "execution_count": 6,
   "metadata": {},
   "outputs": [
    {
     "name": "stdout",
     "output_type": "stream",
     "text": [
      "Data/ShapeNetSem/Files/metadata_filtered.csv\n"
     ]
    },
    {
     "name": "stderr",
     "output_type": "stream",
     "text": [
      "/Users/rishabhrao/Documents/VSCode/multimodal-3d-gen/create_dataset.py:124: SettingWithCopyWarning: \n",
      "A value is trying to be set on a copy of a slice from a DataFrame.\n",
      "Try using .loc[row_indexer,col_indexer] = value instead\n",
      "\n",
      "See the caveats in the documentation: https://pandas.pydata.org/pandas-docs/stable/user_guide/indexing.html#returning-a-view-versus-a-copy\n",
      "  final_df['fullId'] = final_df['fullId'].apply(lambda x: x.replace('wss.', ''))\n",
      "/Users/rishabhrao/Documents/VSCode/multimodal-3d-gen/create_dataset.py:64: SettingWithCopyWarning: \n",
      "A value is trying to be set on a copy of a slice from a DataFrame.\n",
      "Try using .loc[row_indexer,col_indexer] = value instead\n",
      "\n",
      "See the caveats in the documentation: https://pandas.pydata.org/pandas-docs/stable/user_guide/indexing.html#returning-a-view-versus-a-copy\n",
      "  df['template1_desc'] = df.apply(lambda row: apply_template(row, template1), axis=1)\n",
      "/Users/rishabhrao/Documents/VSCode/multimodal-3d-gen/create_dataset.py:65: SettingWithCopyWarning: \n",
      "A value is trying to be set on a copy of a slice from a DataFrame.\n",
      "Try using .loc[row_indexer,col_indexer] = value instead\n",
      "\n",
      "See the caveats in the documentation: https://pandas.pydata.org/pandas-docs/stable/user_guide/indexing.html#returning-a-view-versus-a-copy\n",
      "  df['template2_desc'] = df.apply(lambda row: apply_template(row, template2), axis=1)\n",
      "/Users/rishabhrao/Documents/VSCode/multimodal-3d-gen/create_dataset.py:66: SettingWithCopyWarning: \n",
      "A value is trying to be set on a copy of a slice from a DataFrame.\n",
      "Try using .loc[row_indexer,col_indexer] = value instead\n",
      "\n",
      "See the caveats in the documentation: https://pandas.pydata.org/pandas-docs/stable/user_guide/indexing.html#returning-a-view-versus-a-copy\n",
      "  df['template3_desc'] = df.apply(lambda row: apply_template(row, template3), axis=1)\n"
     ]
    }
   ],
   "source": [
    "final_df = create_simple_subset(50, 20)"
   ]
  },
  {
   "cell_type": "code",
   "execution_count": 7,
   "metadata": {},
   "outputs": [
    {
     "data": {
      "text/html": [
       "<div>\n",
       "<style scoped>\n",
       "    .dataframe tbody tr th:only-of-type {\n",
       "        vertical-align: middle;\n",
       "    }\n",
       "\n",
       "    .dataframe tbody tr th {\n",
       "        vertical-align: top;\n",
       "    }\n",
       "\n",
       "    .dataframe thead th {\n",
       "        text-align: right;\n",
       "    }\n",
       "</style>\n",
       "<table border=\"1\" class=\"dataframe\">\n",
       "  <thead>\n",
       "    <tr style=\"text-align: right;\">\n",
       "      <th></th>\n",
       "      <th>fullId</th>\n",
       "      <th>category</th>\n",
       "      <th>name</th>\n",
       "      <th>tags</th>\n",
       "      <th>synset words</th>\n",
       "      <th>synset gloss</th>\n",
       "      <th>template1_desc</th>\n",
       "      <th>template2_desc</th>\n",
       "      <th>template3_desc</th>\n",
       "    </tr>\n",
       "  </thead>\n",
       "  <tbody>\n",
       "    <tr>\n",
       "      <th>0</th>\n",
       "      <td>dccb04ee585d9d10cf065d4b58dc3084</td>\n",
       "      <td>Couch</td>\n",
       "      <td>futon</td>\n",
       "      <td>futon</td>\n",
       "      <td>[sofa,couch,lounge]</td>\n",
       "      <td>[an upholstered seat for more than one person]</td>\n",
       "      <td>A futon which is commonly known as futon. It i...</td>\n",
       "      <td>The futon is a sofa,couch,lounge often used fo...</td>\n",
       "      <td>futon is a sofa,couch,lounge designed for futo...</td>\n",
       "    </tr>\n",
       "    <tr>\n",
       "      <th>1</th>\n",
       "      <td>d8e1f6781276eb1af34e56d1d9ad8c65</td>\n",
       "      <td>Couch</td>\n",
       "      <td>brown couch with extension</td>\n",
       "      <td>brown,canape,couch,extension</td>\n",
       "      <td>[sofa,couch,lounge]</td>\n",
       "      <td>[an upholstered seat for more than one person]</td>\n",
       "      <td>A brown couch with extension which is commonly...</td>\n",
       "      <td>The brown couch with extension is a sofa,couch...</td>\n",
       "      <td>brown couch with extension is a sofa,couch,lou...</td>\n",
       "    </tr>\n",
       "    <tr>\n",
       "      <th>2</th>\n",
       "      <td>f563b39b846922f22ea98d69e91ba870</td>\n",
       "      <td>Couch</td>\n",
       "      <td>thos  moser vita   place sofa</td>\n",
       "      <td>*</td>\n",
       "      <td>[sofa,couch,lounge]</td>\n",
       "      <td>[an upholstered seat for more than one person]</td>\n",
       "      <td>A thos  moser vita   place sofa which is commo...</td>\n",
       "      <td>The thos  moser vita   place sofa is a sofa,co...</td>\n",
       "      <td>thos  moser vita   place sofa is a sofa,couch,...</td>\n",
       "    </tr>\n",
       "    <tr>\n",
       "      <th>3</th>\n",
       "      <td>770bf9d88c7f039227eb00c151c6f711</td>\n",
       "      <td>Couch</td>\n",
       "      <td>chair</td>\n",
       "      <td>chair,chair to match sofa,comfortable chair,co...</td>\n",
       "      <td>[sofa,couch,lounge]</td>\n",
       "      <td>[an upholstered seat for more than one person]</td>\n",
       "      <td>A chair which is commonly known as chair,chair...</td>\n",
       "      <td>The chair is a sofa,couch,lounge often used fo...</td>\n",
       "      <td>chair is a sofa,couch,lounge designed for chai...</td>\n",
       "    </tr>\n",
       "    <tr>\n",
       "      <th>4</th>\n",
       "      <td>31b5cb5dfaa253b3df85db41e3677c28</td>\n",
       "      <td>Couch</td>\n",
       "      <td>sofa</td>\n",
       "      <td>chair,sofa</td>\n",
       "      <td>[sofa,couch,lounge]</td>\n",
       "      <td>[an upholstered seat for more than one person]</td>\n",
       "      <td>A sofa which is commonly known as chair,sofa. ...</td>\n",
       "      <td>The sofa is a sofa,couch,lounge often used for...</td>\n",
       "      <td>sofa is a sofa,couch,lounge designed for chair...</td>\n",
       "    </tr>\n",
       "  </tbody>\n",
       "</table>\n",
       "</div>"
      ],
      "text/plain": [
       "                             fullId category                           name  \\\n",
       "0  dccb04ee585d9d10cf065d4b58dc3084    Couch                          futon   \n",
       "1  d8e1f6781276eb1af34e56d1d9ad8c65    Couch     brown couch with extension   \n",
       "2  f563b39b846922f22ea98d69e91ba870    Couch  thos  moser vita   place sofa   \n",
       "3  770bf9d88c7f039227eb00c151c6f711    Couch                          chair   \n",
       "4  31b5cb5dfaa253b3df85db41e3677c28    Couch                           sofa   \n",
       "\n",
       "                                                tags         synset words  \\\n",
       "0                                              futon  [sofa,couch,lounge]   \n",
       "1                       brown,canape,couch,extension  [sofa,couch,lounge]   \n",
       "2                                                  *  [sofa,couch,lounge]   \n",
       "3  chair,chair to match sofa,comfortable chair,co...  [sofa,couch,lounge]   \n",
       "4                                         chair,sofa  [sofa,couch,lounge]   \n",
       "\n",
       "                                     synset gloss  \\\n",
       "0  [an upholstered seat for more than one person]   \n",
       "1  [an upholstered seat for more than one person]   \n",
       "2  [an upholstered seat for more than one person]   \n",
       "3  [an upholstered seat for more than one person]   \n",
       "4  [an upholstered seat for more than one person]   \n",
       "\n",
       "                                      template1_desc  \\\n",
       "0  A futon which is commonly known as futon. It i...   \n",
       "1  A brown couch with extension which is commonly...   \n",
       "2  A thos  moser vita   place sofa which is commo...   \n",
       "3  A chair which is commonly known as chair,chair...   \n",
       "4  A sofa which is commonly known as chair,sofa. ...   \n",
       "\n",
       "                                      template2_desc  \\\n",
       "0  The futon is a sofa,couch,lounge often used fo...   \n",
       "1  The brown couch with extension is a sofa,couch...   \n",
       "2  The thos  moser vita   place sofa is a sofa,co...   \n",
       "3  The chair is a sofa,couch,lounge often used fo...   \n",
       "4  The sofa is a sofa,couch,lounge often used for...   \n",
       "\n",
       "                                      template3_desc  \n",
       "0  futon is a sofa,couch,lounge designed for futo...  \n",
       "1  brown couch with extension is a sofa,couch,lou...  \n",
       "2  thos  moser vita   place sofa is a sofa,couch,...  \n",
       "3  chair is a sofa,couch,lounge designed for chai...  \n",
       "4  sofa is a sofa,couch,lounge designed for chair...  "
      ]
     },
     "execution_count": 7,
     "metadata": {},
     "output_type": "execute_result"
    }
   ],
   "source": [
    "final_df.head()"
   ]
  },
  {
   "cell_type": "code",
   "execution_count": 10,
   "metadata": {},
   "outputs": [
    {
     "data": {
      "text/plain": [
       "(array(['Couch', 'Chair', 'TV', 'PottedPlant', 'Desk', 'Vase', 'Cabinet',\n",
       "        'ChestOfDrawers', 'Monitor', 'CellPhone', 'TrashBin', 'Plant',\n",
       "        'ToyFigure', 'Bench', 'Book', 'Table', 'Pencil', 'Speaker',\n",
       "        'Refrigerator', 'Camera', 'Guitar', 'WallArt', 'MediaPlayer',\n",
       "        'FoodItem', 'PersonStanding', 'Piano', 'Curtain', 'Candle', 'Gun',\n",
       "        'Ipod', 'Rug', 'ChessBoard', 'Mirror', 'SodaCan', 'Bottle',\n",
       "        'Printer', 'Sword', 'USBStick', 'Telephone', 'Sink', 'FlagPole',\n",
       "        'Fireplace', 'LightSwitch', 'Oven', 'Airplane', 'Lamp', 'Toilet',\n",
       "        'Calculator', 'Stapler', 'PaperBox'], dtype=object),\n",
       " (1000, 9))"
      ]
     },
     "execution_count": 10,
     "metadata": {},
     "output_type": "execute_result"
    }
   ],
   "source": [
    "final_df['category'].unique(), final_df.shape"
   ]
  },
  {
   "cell_type": "code",
   "execution_count": 11,
   "metadata": {},
   "outputs": [],
   "source": [
    "final_df.to_csv('Data/ShapeNetSem/Datasets/final_template_1k.csv', index=False)"
   ]
  },
  {
   "cell_type": "code",
   "execution_count": 9,
   "metadata": {},
   "outputs": [],
   "source": [
    "import pandas as pd\n",
    "from sklearn.model_selection import train_test_split"
   ]
  },
  {
   "cell_type": "code",
   "execution_count": 10,
   "metadata": {},
   "outputs": [],
   "source": [
    "import pandas as pd\n",
    "from sklearn.model_selection import train_test_split\n",
    "\n",
    "# Assuming df is your dataframe\n",
    "# Step 1: Split into train (80%) and temp (20%)\n",
    "train_df, temp_df = train_test_split(desc_df, test_size=0.2, stratify=sampled_df['category'], random_state=42)\n",
    "\n",
    "# Step 2: Split temp into validation (50% of temp, which is 10% of the original) and test (50% of temp, which is 10% of the original)\n",
    "val_df, test_df = train_test_split(temp_df, test_size=0.5, stratify=temp_df['category'], random_state=42)\n",
    "\n",
    "# Step 3: Check if the category proportions are the same across all splits\n",
    "train_dist = train_df['category'].value_counts(normalize=True)\n",
    "val_dist = val_df['category'].value_counts(normalize=True)\n",
    "test_dist = test_df['category'].value_counts(normalize=True)"
   ]
  },
  {
   "cell_type": "code",
   "execution_count": 11,
   "metadata": {},
   "outputs": [
    {
     "data": {
      "text/plain": [
       "((1200, 9), (150, 9), (150, 9))"
      ]
     },
     "execution_count": 11,
     "metadata": {},
     "output_type": "execute_result"
    }
   ],
   "source": [
    "train_df.shape, val_df.shape, test_df.shape"
   ]
  },
  {
   "cell_type": "code",
   "execution_count": 12,
   "metadata": {},
   "outputs": [],
   "source": [
    "train_path = \"Data/ShapeNetSem/Datasets/final_template_30cat_train.csv\"\n",
    "val_path = \"Data/ShapeNetSem/Datasets/final_template_30cat_val.csv\"\n",
    "test_path = \"Data/ShapeNetSem/Datasets/final_template_30cat_test.csv\"\n",
    "\n",
    "train_df.to_csv(train_path, index=False)\n",
    "val_df.to_csv(val_path, index=False)\n",
    "test_df.to_csv(test_path, index=False)"
   ]
  },
  {
   "cell_type": "code",
   "execution_count": 13,
   "metadata": {},
   "outputs": [
    {
     "data": {
      "text/plain": [
       "30"
      ]
     },
     "execution_count": 13,
     "metadata": {},
     "output_type": "execute_result"
    }
   ],
   "source": [
    "train_df['category'].nunique()"
   ]
  },
  {
   "cell_type": "code",
   "execution_count": 2,
   "metadata": {},
   "outputs": [],
   "source": [
    "from dataset import *\n",
    "from open_clip import image_transform"
   ]
  },
  {
   "cell_type": "code",
   "execution_count": 8,
   "metadata": {},
   "outputs": [],
   "source": [
    "class TextImageDepthMap(Dataset):\n",
    "    \"\"\"Creates a paired modality dataset that returns text prompt, image and depth map using index\n",
    "\n",
    "    Args:\n",
    "        Dataset (_type_): _description_\n",
    "    \"\"\"\n",
    "    def __init__(self, dataset_path, image_dir, depth_dir, max_length=77, transform=None, num_points=1024, image_size=(224, 224)):\n",
    "        super().__init__()\n",
    "        # For Text\n",
    "        self.dataframe = pd.read_csv(dataset_path)\n",
    "        self.tokenizer = open_clip.tokenize  # Use OpenCLIP's built-in tokenizer\n",
    "        self.max_length = max_length\n",
    "\n",
    "        # For image\n",
    "        self.image_dir = image_dir\n",
    "        self.mesh_ids = self.dataframe['fullId'].to_list()\n",
    "        self.transform = transform if transform else transforms.Compose([\n",
    "            transforms.Resize((518, 518)),  # Resize to DINO's expected input size\n",
    "            transforms.ToTensor(),\n",
    "            transforms.Normalize(mean=[0.485, 0.456, 0.406], std=[0.229, 0.224, 0.225])  # DINOv2 normalization\n",
    "        ])\n",
    "        self.preprocess_dmap = image_transform(\n",
    "            image_size,  # Correct image size for CLIP # clip_encoder.visual.image_size\n",
    "            is_train=False  # Ensures we use inference preprocessing\n",
    "        )\n",
    "        # For PC\n",
    "        self.depth_dir = depth_dir\n",
    "        self.num_points = num_points\n",
    "\n",
    "    \n",
    "    def __len__(self):\n",
    "        return len(self.dataframe)\n",
    "    \n",
    "    def __getitem__(self, idx):\n",
    "        \"\"\"\n",
    "        Returns:\n",
    "            idx (int): Index\n",
    "            tokenized_text (torch.Tensor): Tokenized text for CLIP (B, 77)\n",
    "            image_tensor (torch.Tensor): preprocessed image for Dinov2 (B, 3, 518, 518)\n",
    "            point_cloud (torch.Tensor): point cloud of mesh (B, 1024, 3)\n",
    "        \"\"\"\n",
    "        mesh_id = self.dataframe.loc[idx, 'fullId']\n",
    "\n",
    "        # Choose a random template description\n",
    "        templates = self.dataframe.loc[idx, ['template1_desc', 'template2_desc', 'template3_desc']]\n",
    "        text_prompt = random.choice(templates.dropna().tolist())  # Drop NaN values safely\n",
    "\n",
    "        # Tokenize using OpenCLIP tokenizer (returns a tensor)\n",
    "        tokenized_text = self.tokenizer([text_prompt])  # Shape: [1, 77]\n",
    "\n",
    "        # Get image views        \n",
    "        image_views_dir = os.path.join(self.image_dir, mesh_id)\n",
    "        image_views = [os.path.join(image_views_dir, f) for f in os.listdir(image_views_dir) if os.path.isfile(os.path.join(image_views_dir, f))]\n",
    "        \n",
    "        # If no image views\n",
    "        if not image_views:\n",
    "            print(f\"No views for for {image_views_dir} returning empty tensors\")\n",
    "            return idx, mesh_id, torch.zeros((3, 518, 518))\n",
    "        \n",
    "        # Select one view from all\n",
    "        image_path = random.choice(image_views)\n",
    "        image = Image.open(image_path).convert('RGB')\n",
    "        image_tensor = self.transform(image) \n",
    "\n",
    "        # Get image views        \n",
    "        dmap_views_dir = os.path.join(self.depth_dir, mesh_id)\n",
    "        dmap_views = [os.path.join(dmap_views_dir, f) for f in os.listdir(dmap_views_dir) if os.path.isfile(os.path.join(dmap_views_dir, f))]\n",
    "        \n",
    "        # If no image views\n",
    "        if not dmap_views:\n",
    "            print(f\"No depth map views for for {dmap_views_dir} returning empty tensors\")\n",
    "            return idx, mesh_id, torch.zeros((3, 518, 518))\n",
    "        \n",
    "        # Select one view from all\n",
    "        dmap_path = random.choice(dmap_views)\n",
    "        dmap = Image.open(dmap_path)\n",
    "        dmap_tensor = self.preprocess_dmap(dmap)\n",
    "        \n",
    "        return idx, tokenized_text.squeeze(0), image_tensor, dmap_tensor"
   ]
  },
  {
   "cell_type": "code",
   "execution_count": 7,
   "metadata": {},
   "outputs": [],
   "source": [
    "from torch.utils.data import DataLoader"
   ]
  },
  {
   "cell_type": "code",
   "execution_count": 12,
   "metadata": {},
   "outputs": [
    {
     "name": "stdout",
     "output_type": "stream",
     "text": [
      "tensor([ 54, 340,   9, 620, 792, 272, 641, 642])\n",
      "Tokenized Text: torch.Size([8, 77]), <class 'torch.Tensor'>\n",
      "Image Tensor: torch.Size([8, 3, 518, 518]), <class 'torch.Tensor'>\n",
      "Point Cloud: torch.Size([8, 3, 224, 224]), <class 'torch.Tensor'>\n"
     ]
    }
   ],
   "source": [
    "train_dataset_path = \"Data/ShapeNetSem/Datasets/final_template_1k_train.csv\"\n",
    "val_dataset_path = \"Data/ShapeNetSem/Datasets/final_template_1k_val.csv\"\n",
    "test_dataset_path = \"Data/ShapeNetSem/Datasets/final_template_1k_test.csv\"\n",
    "\n",
    "image_dir = \"Data/ShapeNetSem/Images/final_subset_1k/\"\n",
    "depth_dir = \"Data/ProcessedData/CachedDepthMaps/\"\n",
    "\n",
    "dataset = TextImageDepthMap(train_dataset_path, image_dir, depth_dir,)\n",
    "dataloader = DataLoader(dataset, batch_size=8, shuffle=True)\n",
    "\n",
    "for idx, token_text, image_tensor, point_cloud in dataloader:\n",
    "    print(idx)\n",
    "    print(f\"Tokenized Text: {token_text.shape}, {type(token_text)}\")\n",
    "    print(f\"Image Tensor: {image_tensor.shape}, {type(image_tensor)}\")\n",
    "    print(f\"Point Cloud: {point_cloud.shape}, {type(point_cloud)}\")\n",
    "    break"
   ]
  },
  {
   "cell_type": "code",
   "execution_count": 40,
   "metadata": {},
   "outputs": [
    {
     "data": {
      "text/plain": [
       "((1500, 9), 30)"
      ]
     },
     "execution_count": 40,
     "metadata": {},
     "output_type": "execute_result"
    }
   ],
   "source": [
    "import pandas as pd\n",
    "\n",
    "sampled_df = pd.read_csv(\"Data/ShapeNetSem/Datasets/final_template_30cat.csv\")\n",
    "sampled_df.shape, sampled_df['category'].nunique()"
   ]
  },
  {
   "cell_type": "code",
   "execution_count": 41,
   "metadata": {},
   "outputs": [
    {
     "data": {
      "text/plain": [
       "array(['WallArt', 'Speaker', 'ChestOfDrawers', 'Chair', 'Plant',\n",
       "       'PersonStanding', 'Couch', 'Candle', 'Desk', 'Bench', 'TV',\n",
       "       'TrashBin', 'Book', 'Monitor', 'Pencil', 'Camera', 'Table',\n",
       "       'PottedPlant', 'Gun', 'Cabinet', 'Vase', 'ToyFigure', 'CellPhone',\n",
       "       'FoodItem', 'Refrigerator', 'Piano', 'Guitar', 'MediaPlayer',\n",
       "       'Curtain', 'Ipod'], dtype=object)"
      ]
     },
     "execution_count": 41,
     "metadata": {},
     "output_type": "execute_result"
    }
   ],
   "source": [
    "sampled_df['category'].unique()"
   ]
  },
  {
   "cell_type": "code",
   "execution_count": 56,
   "metadata": {},
   "outputs": [
    {
     "name": "stdout",
     "output_type": "stream",
     "text": [
      "(50, 9)\n"
     ]
    }
   ],
   "source": [
    "import pandas as pd\n",
    "\n",
    "# Read the dataset\n",
    "sampled_df = pd.read_csv(\"Data/ShapeNetSem/Datasets/final_template_30cat.csv\")\n",
    "\n",
    "# Strip leading and trailing whitespaces from the 'category' column\n",
    "# sampled_df['category'] = sampled_df['category'].str.strip()\n",
    "\n",
    "# Check if 'TrashBin' is present\n",
    "\n",
    "print(sampled_df[sampled_df['category'] == \"TrashBin\"].shape)\n"
   ]
  },
  {
   "cell_type": "code",
   "execution_count": 64,
   "metadata": {},
   "outputs": [
    {
     "data": {
      "text/plain": [
       "((1500, 9), 30)"
      ]
     },
     "execution_count": 64,
     "metadata": {},
     "output_type": "execute_result"
    }
   ],
   "source": [
    "import pandas as pd\n",
    "\n",
    "sampled_df = pd.read_csv(\"Data/ShapeNetSem/Datasets/final_template_30cat.csv\")\n",
    "sampled_df.shape, sampled_df['category'].nunique()"
   ]
  },
  {
   "cell_type": "code",
   "execution_count": 65,
   "metadata": {},
   "outputs": [
    {
     "name": "stdout",
     "output_type": "stream",
     "text": [
      "20 20\n",
      "Matching categories: ['Speaker', 'ChestOfDrawers', 'Chair', 'Plant', 'PersonStanding', 'Couch', 'Desk', 'Monitor', 'Pencil', 'Vase', 'Guitar', 'Piano', 'Refrigerator', 'Table', 'TrashBin', 'Book', 'Gun', 'ToyFigure', 'Ipod', 'Curtain']\n",
      "(1000, 9) 20\n"
     ]
    }
   ],
   "source": [
    "cats = ['Speaker', 'ChestOfDrawers', 'Chair', 'Plant', 'PersonStanding', 'Couch', 'Desk', \n",
    "            'Monitor', 'Pencil', 'Vase', 'Guitar', 'Piano', 'Refrigerator', 'Table', 'TrashBin', 'Book', 'Gun', 'ToyFigure', 'Ipod', 'Curtain']\n",
    "\n",
    "print(len(cats), len(set(cats)))\n",
    "# Check categories present in the dataset\n",
    "matching_categories = [cat for cat in cats if cat in sampled_df['category'].unique()]\n",
    "print(f\"Matching categories: {matching_categories}\")\n",
    "\n",
    "# Filter the DataFrame by the matching categories\n",
    "sampled_df = sampled_df[sampled_df['category'].isin(matching_categories)]\n",
    "\n",
    "# Output the new shape and the number of unique categories\n",
    "print(sampled_df.shape, sampled_df['category'].nunique())"
   ]
  },
  {
   "cell_type": "code",
   "execution_count": 66,
   "metadata": {},
   "outputs": [],
   "source": [
    "sampled_df.to_csv(\"Data/ShapeNetSem/Datasets/final_template_20cat.csv\", index=False)"
   ]
  },
  {
   "cell_type": "code",
   "execution_count": 68,
   "metadata": {},
   "outputs": [
    {
     "data": {
      "text/plain": [
       "(1000, 9)"
      ]
     },
     "execution_count": 68,
     "metadata": {},
     "output_type": "execute_result"
    }
   ],
   "source": [
    "import pandas as pd\n",
    "\n",
    "sampled_df = pd.read_csv(\"Data/ShapeNetSem/Datasets/final_template_20cat.csv\")\n",
    "sampled_df.shape"
   ]
  },
  {
   "cell_type": "code",
   "execution_count": 70,
   "metadata": {},
   "outputs": [
    {
     "name": "stdout",
     "output_type": "stream",
     "text": [
      "(800, 9) (100, 9) (100, 9)\n"
     ]
    }
   ],
   "source": [
    "import pandas as pd\n",
    "from sklearn.model_selection import train_test_split\n",
    "\n",
    "# Assuming df is your dataframe\n",
    "# Step 1: Split into train (80%) and temp (20%)\n",
    "train_df, temp_df = train_test_split(sampled_df, test_size=0.2, stratify=sampled_df['category'], random_state=42)\n",
    "\n",
    "# Step 2: Split temp into validation (50% of temp, which is 10% of the original) and test (50% of temp, which is 10% of the original)\n",
    "val_df, test_df = train_test_split(temp_df, test_size=0.5, stratify=temp_df['category'], random_state=42)\n",
    "print(train_df.shape, val_df.shape, test_df.shape)"
   ]
  },
  {
   "cell_type": "code",
   "execution_count": 71,
   "metadata": {},
   "outputs": [],
   "source": [
    "train_path = \"Data/ShapeNetSem/Datasets/final_template_20cat_train.csv\"\n",
    "val_path = \"Data/ShapeNetSem/Datasets/final_template_20cat_val.csv\"\n",
    "test_path = \"Data/ShapeNetSem/Datasets/final_template_20cat_test.csv\"\n",
    "\n",
    "train_df.to_csv(train_path, index=False)\n",
    "val_df.to_csv(val_path, index=False)\n",
    "test_df.to_csv(test_path, index=False)"
   ]
  },
  {
   "cell_type": "code",
   "execution_count": 3,
   "metadata": {},
   "outputs": [
    {
     "data": {
      "text/plain": [
       "(1500, 30)"
      ]
     },
     "execution_count": 3,
     "metadata": {},
     "output_type": "execute_result"
    }
   ],
   "source": [
    "import pandas as pd\n",
    "\n",
    "df = pd.read_csv(\"Data/ShapeNetSem/Datasets/final_template_30cat.csv\")\n",
    "df['fullId'].nunique(), df['category'].nunique()"
   ]
  },
  {
   "cell_type": "code",
   "execution_count": 5,
   "metadata": {},
   "outputs": [
    {
     "name": "stdout",
     "output_type": "stream",
     "text": [
      "['WallArt', 'Speaker', 'ChestOfDrawers', 'Chair', 'Plant', 'PersonStanding', 'Couch', 'Candle', 'Desk', 'Bench', 'TV', 'TrashBin', 'Book', 'Monitor', 'Pencil', 'Camera', 'Table', 'PottedPlant', 'Gun', 'Cabinet', 'Vase', 'ToyFigure', 'CellPhone', 'FoodItem', 'Refrigerator', 'Piano', 'Guitar', 'MediaPlayer', 'Curtain', 'Ipod']\n"
     ]
    }
   ],
   "source": [
    "print(df['category'].unique().tolist())"
   ]
  },
  {
   "cell_type": "code",
   "execution_count": null,
   "metadata": {},
   "outputs": [],
   "source": []
  }
 ],
 "metadata": {
  "kernelspec": {
   "display_name": "env",
   "language": "python",
   "name": "python3"
  },
  "language_info": {
   "codemirror_mode": {
    "name": "ipython",
    "version": 3
   },
   "file_extension": ".py",
   "mimetype": "text/x-python",
   "name": "python",
   "nbconvert_exporter": "python",
   "pygments_lexer": "ipython3",
   "version": "3.12.4"
  }
 },
 "nbformat": 4,
 "nbformat_minor": 2
}
