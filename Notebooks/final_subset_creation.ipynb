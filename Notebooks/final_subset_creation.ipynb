{
 "cells": [
  {
   "cell_type": "code",
   "execution_count": 1,
   "metadata": {},
   "outputs": [],
   "source": [
    "from create_dataset import *"
   ]
  },
  {
   "cell_type": "code",
   "execution_count": 2,
   "metadata": {},
   "outputs": [],
   "source": [
    "# create_snapshots_for_dataset(dataset_path, mesh_dir, img_dir, num_views)"
   ]
  },
  {
   "cell_type": "code",
   "execution_count": 15,
   "metadata": {},
   "outputs": [
    {
     "name": "stderr",
     "output_type": "stream",
     "text": [
      "/Users/rishabhrao/Documents/VSCode/multimodal-3d-gen/create_dataset.py:139: SettingWithCopyWarning: \n",
      "A value is trying to be set on a copy of a slice from a DataFrame.\n",
      "Try using .loc[row_indexer,col_indexer] = value instead\n",
      "\n",
      "See the caveats in the documentation: https://pandas.pydata.org/pandas-docs/stable/user_guide/indexing.html#returning-a-view-versus-a-copy\n",
      "  final_df['fullId'] = final_df['fullId'].apply(lambda x: x.replace('wss.', ''))\n",
      "/Users/rishabhrao/Documents/VSCode/multimodal-3d-gen/create_dataset.py:64: SettingWithCopyWarning: \n",
      "A value is trying to be set on a copy of a slice from a DataFrame.\n",
      "Try using .loc[row_indexer,col_indexer] = value instead\n",
      "\n",
      "See the caveats in the documentation: https://pandas.pydata.org/pandas-docs/stable/user_guide/indexing.html#returning-a-view-versus-a-copy\n",
      "  df['template1_desc'] = df.apply(lambda row: apply_template(row, template1), axis=1)\n",
      "/Users/rishabhrao/Documents/VSCode/multimodal-3d-gen/create_dataset.py:65: SettingWithCopyWarning: \n",
      "A value is trying to be set on a copy of a slice from a DataFrame.\n",
      "Try using .loc[row_indexer,col_indexer] = value instead\n",
      "\n",
      "See the caveats in the documentation: https://pandas.pydata.org/pandas-docs/stable/user_guide/indexing.html#returning-a-view-versus-a-copy\n",
      "  df['template2_desc'] = df.apply(lambda row: apply_template(row, template2), axis=1)\n",
      "/Users/rishabhrao/Documents/VSCode/multimodal-3d-gen/create_dataset.py:66: SettingWithCopyWarning: \n",
      "A value is trying to be set on a copy of a slice from a DataFrame.\n",
      "Try using .loc[row_indexer,col_indexer] = value instead\n",
      "\n",
      "See the caveats in the documentation: https://pandas.pydata.org/pandas-docs/stable/user_guide/indexing.html#returning-a-view-versus-a-copy\n",
      "  df['template3_desc'] = df.apply(lambda row: apply_template(row, template3), axis=1)\n"
     ]
    },
    {
     "data": {
      "text/plain": [
       "(2000, 9)"
      ]
     },
     "execution_count": 15,
     "metadata": {},
     "output_type": "execute_result"
    }
   ],
   "source": [
    "df = create_subset_by_random_sampling(num_cat_sample = 40, meshes_per_cat = 50)\n",
    "df.shape"
   ]
  },
  {
   "cell_type": "code",
   "execution_count": null,
   "metadata": {},
   "outputs": [],
   "source": [
    "# #df.to_csv('Data/ShapeNetSem/Datasets/final_template_2k.csv')"
   ]
  },
  {
   "cell_type": "code",
   "execution_count": 3,
   "metadata": {},
   "outputs": [],
   "source": [
    "dataset_path = 'Data/ShapeNetSem/Datasets/final_template_2k.csv'\n",
    "mesh_dir = 'Data/ShapeNetSem/Files/models-OBJ/models/'\n",
    "img_dir = 'Data/ShapeNetSem/Images/final_2k/'"
   ]
  },
  {
   "cell_type": "code",
   "execution_count": null,
   "metadata": {},
   "outputs": [
    {
     "name": "stderr",
     "output_type": "stream",
     "text": [
      "Context leak detected, msgtracer returned -1\n",
      "Context leak detected, msgtracer returned -1\n",
      "Context leak detected, msgtracer returned -1\n",
      "Context leak detected, msgtracer returned -1\n",
      "Context leak detected, msgtracer returned -1\n",
      "Context leak detected, msgtracer returned -1\n",
      "Context leak detected, msgtracer returned -1\n",
      "Context leak detected, msgtracer returned -1\n",
      "Context leak detected, msgtracer returned -1\n",
      "Context leak detected, msgtracer returned -1\n",
      "Context leak detected, msgtracer returned -1\n",
      "Context leak detected, msgtracer returned -1\n",
      "Context leak detected, msgtracer returned -1\n",
      "Context leak detected, msgtracer returned -1\n",
      "Context leak detected, msgtracer returned -1\n",
      "Context leak detected, msgtracer returned -1\n",
      "Context leak detected, msgtracer returned -1\n",
      "Context leak detected, msgtracer returned -1\n"
     ]
    }
   ],
   "source": [
    "# create_snapshots_for_dataset(dataset_path, mesh_dir, img_dir, 4)"
   ]
  },
  {
   "cell_type": "code",
   "execution_count": 17,
   "metadata": {},
   "outputs": [
    {
     "data": {
      "text/plain": [
       "0"
      ]
     },
     "execution_count": 17,
     "metadata": {},
     "output_type": "execute_result"
    }
   ],
   "source": [
    "len([f for f in os.listdir(img_dir) if os.path.isfile(os.path.join(img_dir, f))])"
   ]
  },
  {
   "cell_type": "code",
   "execution_count": 28,
   "metadata": {},
   "outputs": [
    {
     "data": {
      "text/plain": [
       "1908"
      ]
     },
     "execution_count": 28,
     "metadata": {},
     "output_type": "execute_result"
    }
   ],
   "source": [
    "df = pd.read_csv('Data/ShapeNetSem/Datasets/final_template_2k.csv')\n",
    "df = df.drop(columns=['Unnamed: 0'])\n",
    "len(set(df['fullId'].to_list()))"
   ]
  },
  {
   "cell_type": "code",
   "execution_count": 27,
   "metadata": {},
   "outputs": [
    {
     "name": "stdout",
     "output_type": "stream",
     "text": [
      "1908\n"
     ]
    }
   ],
   "source": [
    "print(df['fullId'].nunique()) "
   ]
  },
  {
   "cell_type": "code",
   "execution_count": 29,
   "metadata": {},
   "outputs": [
    {
     "data": {
      "text/plain": [
       "(1908, 9)"
      ]
     },
     "execution_count": 29,
     "metadata": {},
     "output_type": "execute_result"
    }
   ],
   "source": [
    "df = df.drop_duplicates(subset='fullId', keep='first')\n",
    "df.shape"
   ]
  },
  {
   "cell_type": "code",
   "execution_count": 31,
   "metadata": {},
   "outputs": [],
   "source": [
    "df.to_csv('Data/ShapeNetSem/Datasets/final_template.csv', index=False)"
   ]
  },
  {
   "cell_type": "code",
   "execution_count": 35,
   "metadata": {},
   "outputs": [
    {
     "data": {
      "text/plain": [
       "True"
      ]
     },
     "execution_count": 35,
     "metadata": {},
     "output_type": "execute_result"
    }
   ],
   "source": [
    "dataset_path = 'Data/ShapeNetSem/Datasets/final_template.csv'\n",
    "img_dir = 'Data/ShapeNetSem/Images/final_subset/'\n",
    "\n",
    "df = pd.read_csv(dataset_path)\n",
    "\n",
    "img_id = [f for f in os.listdir(img_dir) if os.path.isdir(os.path.join(img_dir, f))]\n",
    "df_id = df['fullId'].to_list()\n",
    "\n",
    "are_equal = sorted(img_id) == sorted(df_id)\n",
    "are_equal"
   ]
  },
  {
   "cell_type": "code",
   "execution_count": null,
   "metadata": {},
   "outputs": [],
   "source": [
    "\"\"\" \n",
    "Run for generation of images in iterative loop to prevent memory crashes\n",
    "\n",
    "if __name__ == \"__main__\":\n",
    "    dataset_path = 'Data/ShapeNetSem/Datasets/final_template_2k.csv'\n",
    "    mesh_dir = 'Data/ShapeNetSem/Files/models-OBJ/models/'\n",
    "    img_dir = 'Data/ShapeNetSem/Images/final_2k/'\n",
    "    df = pd.read_csv(dataset_path)\n",
    "    mesh_ids = df['fullId'].to_list()\n",
    "    co = 0\n",
    "    already_processed = [f for f in os.listdir(img_dir) if os.path.isdir(os.path.join(img_dir, f))]\n",
    "    print(len(mesh_ids), len(already_processed))\n",
    "    no_errors = 0\n",
    "    errored_meshes = []\n",
    "    print(len(already_processed))\n",
    "    for mesh_id in mesh_ids:\n",
    "        if f\"{mesh_id}\" not in already_processed:\n",
    "            try:\n",
    "                angle_step_snapshots(mesh_id, mesh_dir, img_dir, 4)\n",
    "                co += 1\n",
    "            except Exception as e:\n",
    "                no_errors += 1\n",
    "                errored_meshes.append(mesh_id)\n",
    "                print(e)\n",
    "                continue\n",
    "        if co == 200:\n",
    "            break\n",
    "    print(co)\n",
    "    print(errored_meshes)\n",
    "\"\"\""
   ]
  }
 ],
 "metadata": {
  "kernelspec": {
   "display_name": "env",
   "language": "python",
   "name": "python3"
  },
  "language_info": {
   "codemirror_mode": {
    "name": "ipython",
    "version": 3
   },
   "file_extension": ".py",
   "mimetype": "text/x-python",
   "name": "python",
   "nbconvert_exporter": "python",
   "pygments_lexer": "ipython3",
   "version": "3.12.4"
  }
 },
 "nbformat": 4,
 "nbformat_minor": 2
}
